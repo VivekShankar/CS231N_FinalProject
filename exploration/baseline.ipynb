{
 "cells": [
  {
   "cell_type": "markdown",
   "metadata": {},
   "source": [
    "# Data Preprocessing"
   ]
  },
  {
   "cell_type": "code",
   "execution_count": 2,
   "metadata": {},
   "outputs": [
    {
     "name": "stdout",
     "output_type": "stream",
     "text": [
      "cuda\n"
     ]
    }
   ],
   "source": [
    "# Imports\n",
    "import matplotlib.pyplot as plt\n",
    "import numpy as np\n",
    "import os\n",
    "from PIL import Image\n",
    "import sys\n",
    "import torch\n",
    "import torch.nn as nn\n",
    "import torch.nn.functional as F\n",
    "import torch.optim as optim\n",
    "from torchvision import models, transforms, datasets\n",
    "import torchvision.transforms as T\n",
    "from torch.utils.data import Dataset, DataLoader, sampler\n",
    "# from skimage import io, transform \n",
    "\n",
    "USE_GPU = True\n",
    "dtype = torch.float32\n",
    "if USE_GPU and torch.cuda.is_available():\n",
    "    device = torch.device('cuda')\n",
    "else:\n",
    "    device = torch.device('cpu')\n",
    "print(device)"
   ]
  },
  {
   "cell_type": "code",
   "execution_count": 2,
   "metadata": {},
   "outputs": [],
   "source": [
    "# Global constants\n",
    "DATA_DIR = \"VireoFood172\"\n",
    "LABELS_DIR = DATA_DIR + \"/SplitAndIngreLabel\" # VireoFood172/SplitAndIngreLabel\n",
    "EXAMPLES_DIR = DATA_DIR + \"/ready_chinese_food\" # VireoFood172/ready_chinese_food\n",
    "\n",
    "FOOD_LIST_PATH = LABELS_DIR + \"/FoodList.txt\" # VireoFood172/SplitAndIngreLabel/FoodList.txt\n",
    "INGREDIENT_LIST_PATH = LABELS_DIR + \"/IngredientList.txt\" # VireoFood172/SplitAndIngreLabel/IngredientList.txt\n",
    "INGRE_LABEL_PATH = LABELS_DIR + \"/IngreLabel.txt\"\n",
    "\n",
    "NORMALIZE_ON = True # Enable data normalization\n",
    "TRANSFORM_ON = True # Enable data transformations."
   ]
  },
  {
   "cell_type": "code",
   "execution_count": 3,
   "metadata": {},
   "outputs": [
    {
     "name": "stdout",
     "output_type": "stream",
     "text": [
      "Number of food labels 172\n",
      "Number of ingredient labels 353\n"
     ]
    }
   ],
   "source": [
    "food_names = [] # List of length 172 where index is the food label, and value is the food name.\n",
    "with open(FOOD_LIST_PATH) as fp:\n",
    "    food_names = fp.read().splitlines()\n",
    "\n",
    "ingredient_names = [] # List of length 353 where index is the ingredient label, and value is the ingredient name.\n",
    "with open(INGREDIENT_LIST_PATH) as fp:\n",
    "    ingredient_names = fp.read().splitlines()\n",
    "\n",
    "print(\"Number of food labels {}\".format(len(food_names)))\n",
    "print(\"Number of ingredient labels {}\".format(len(ingredient_names)))"
   ]
  },
  {
   "cell_type": "code",
   "execution_count": 4,
   "metadata": {},
   "outputs": [],
   "source": [
    "# General Data Utils\n",
    "\n",
    "def get_food_label(image_path):\n",
    "    ''' Takes in a path of the form: \"VireoFood172/ready_chinese_food/100/xiachufang_1.jpg\"\n",
    "        and returns the label 99 (since we'll use 0-indexed labels). '''\n",
    "    split_path = image_path.split(\"/\")\n",
    "    assert(len(split_path) == 4)\n",
    "    return int(split_path[2]) - 1\n",
    "\n",
    "def get_relative_image_path(path):\n",
    "    ''' Takes in a path of the form: /100/xiachufang_1.jpg\n",
    "        and returns the relative path to the image: \n",
    "        \"VireoFood172/ready_chinese_food/100/xiachufang_1.jpg\" '''\n",
    "    return EXAMPLES_DIR + path"
   ]
  },
  {
   "cell_type": "code",
   "execution_count": 5,
   "metadata": {},
   "outputs": [],
   "source": [
    "# Data Utils to extract data from the files in SplitAndIngreLabel/ directory.\n",
    "\n",
    "def get_ingre_label_annotations(ingre_label_file):\n",
    "    ''' Input: ingre_label_file: \"VireoFood172/SplitAndIngreLabel/IngreLabel.txt\"\n",
    "        Returns image_paths: a list of all the 110241 image paths.\n",
    "        Returns image_data_map: a dictionary of the form: {image_path : image_data}.\n",
    "        image_data is another map containing data about the image (such as the food label and ingredient label)'''\n",
    "    image_paths = []\n",
    "    image_data_map = dict()\n",
    "    with open(ingre_label_file) as fp:\n",
    "        for line in fp.readlines():\n",
    "            line = line.split()\n",
    "            path, ingredient_label = line[0], list(map(int, line[1:]))\n",
    "            image_path = get_relative_image_path(path)\n",
    "            food_label = get_food_label(image_path)\n",
    "            \n",
    "            image_data = dict()\n",
    "            image_data[\"food_label\"] = food_label\n",
    "            image_data[\"image_path\"] = image_path\n",
    "            image_data[\"ingredient_label\"] = ingredient_label\n",
    "            image_data_map[image_path] = image_data\n",
    "            \n",
    "            image_paths.append(image_path)\n",
    "            \n",
    "    return image_paths, image_data_map\n",
    "\n",
    "def get_file_annotations(mode):\n",
    "    ''' Input: mode (one of \"TR\", \"VAL\", or \"TE\")\n",
    "        Returns image_paths: a list of all the training, validation, or testing image paths (depending\n",
    "        on the specified \"mode\").\n",
    "    '''\n",
    "    assert(mode == \"TR\" or mode == \"VAL\" or mode == \"TE\")\n",
    "    file = LABELS_DIR + \"/{}.txt\".format(mode)\n",
    "    image_paths = []\n",
    "    with open(file) as fp:\n",
    "        for line in fp.readlines():\n",
    "            image_path = get_relative_image_path(line.strip())\n",
    "            image_paths.append(image_path)\n",
    "    return image_paths"
   ]
  },
  {
   "cell_type": "code",
   "execution_count": 6,
   "metadata": {},
   "outputs": [
    {
     "name": "stdout",
     "output_type": "stream",
     "text": [
      "Number of Training examples: 66071\n",
      "Number of Validation examples: 11016\n",
      "Number of Testing examples: 33154\n",
      "Number of Total examples: 110241\n"
     ]
    }
   ],
   "source": [
    "# Print out statistics about the extracted data.\n",
    "\n",
    "train_image_paths = get_file_annotations(\"TR\")    \n",
    "val_image_paths = get_file_annotations(\"VAL\")            \n",
    "test_image_paths = get_file_annotations(\"TE\")\n",
    "(all_image_paths, image_data_map) = get_ingre_label_annotations(INGRE_LABEL_PATH)\n",
    "\n",
    "print(\"Number of Training examples: {}\".format(len(train_image_paths)))\n",
    "print(\"Number of Validation examples: {}\".format(len(val_image_paths)))\n",
    "print(\"Number of Testing examples: {}\".format(len(test_image_paths)))\n",
    "print(\"Number of Total examples: {}\".format(len(all_image_paths)))\n",
    "\n",
    "assert(len(all_image_paths) == len(image_data_map))"
   ]
  },
  {
   "cell_type": "code",
   "execution_count": 7,
   "metadata": {},
   "outputs": [
    {
     "name": "stdout",
     "output_type": "stream",
     "text": [
      "VireoFood172/ready_chinese_food/100/xiachufang_1.jpg - food label: 99\n",
      "VireoFood172/ready_chinese_food/100/xiachufang_1.jpg - ingredient label: [1, -1, -1, -1, -1, -1, -1, -1, -1, -1, -1, -1, -1, -1, -1, -1, -1, -1, -1, -1, -1, -1, -1, -1, -1, -1, -1, -1, -1, -1, -1, -1, -1, -1, -1, -1, -1, -1, -1, -1, -1, -1, -1, -1, -1, -1, -1, -1, -1, -1, -1, -1, -1, -1, -1, -1, -1, -1, -1, -1, -1, -1, -1, -1, -1, -1, -1, -1, -1, 1, -1, -1, -1, -1, -1, -1, -1, -1, -1, -1, -1, -1, -1, -1, -1, -1, -1, -1, -1, -1, -1, -1, -1, -1, -1, -1, -1, -1, -1, -1, -1, -1, -1, -1, -1, -1, -1, -1, -1, -1, -1, -1, -1, -1, -1, -1, -1, -1, -1, -1, -1, -1, -1, -1, -1, -1, -1, -1, -1, -1, -1, -1, -1, -1, -1, -1, -1, -1, -1, -1, -1, -1, -1, -1, -1, -1, -1, -1, -1, -1, -1, -1, -1, -1, -1, -1, -1, -1, -1, -1, -1, -1, -1, -1, -1, -1, -1, -1, -1, -1, -1, -1, -1, -1, -1, -1, -1, -1, -1, -1, -1, -1, -1, -1, -1, -1, -1, -1, -1, -1, -1, -1, -1, -1, -1, -1, -1, -1, -1, -1, -1, -1, -1, -1, -1, -1, -1, -1, -1, -1, -1, -1, -1, -1, -1, -1, -1, -1, -1, -1, -1, -1, -1, -1, -1, -1, -1, -1, -1, -1, -1, -1, -1, -1, -1, -1, -1, -1, -1, -1, -1, -1, -1, -1, -1, -1, -1, -1, -1, -1, -1, -1, -1, -1, -1, -1, -1, -1, -1, -1, -1, -1, -1, -1, -1, -1, -1, -1, -1, -1, -1, -1, -1, -1, -1, -1, -1, -1, -1, -1, -1, -1, -1, -1, -1, -1, -1, -1, -1, -1, -1, -1, -1, -1, -1, -1, -1, -1, -1, -1, -1, -1, -1, -1, -1, -1, -1, -1, -1, -1, -1, -1, -1, -1, -1, -1, -1, -1, -1, -1, -1, -1, -1, -1, -1, -1, -1, -1, -1, -1, -1, -1, -1, -1, -1, -1, -1, -1, -1, -1, -1, -1, -1, -1, -1, -1, -1, -1, -1, -1, -1, -1, -1]\n"
     ]
    }
   ],
   "source": [
    "# Examine the data stored in image_data_map.\n",
    "\n",
    "for image_path in image_data_map:\n",
    "    image_data = image_data_map[image_path]\n",
    "    print(\"{} - food label: {}\".format(image_path, image_data[\"food_label\"]))\n",
    "    print(\"{} - ingredient label: {}\".format(image_path, image_data[\"ingredient_label\"]))\n",
    "    break"
   ]
  },
  {
   "cell_type": "code",
   "execution_count": 8,
   "metadata": {},
   "outputs": [],
   "source": [
    "# Build a Custom Dataset\n",
    "\n",
    "class FoodImagesDataset(Dataset):\n",
    "\n",
    "    def __init__(self, ingre_label_file, mode=None, transform=None):\n",
    "        self.ingre_label_file = ingre_label_file\n",
    "        self.mode = mode\n",
    "        (self.all_image_paths, self.image_data_map) = get_ingre_label_annotations(ingre_label_file)\n",
    "        if mode is not None:\n",
    "            self.image_paths = get_file_annotations(mode)\n",
    "        self.mode = mode\n",
    "        self.transform = transform\n",
    "  \n",
    "    def __len__(self):\n",
    "        if self.mode is not None:\n",
    "            return len(self.image_paths)\n",
    "        return len(self.all_image_paths)\n",
    "\n",
    "    def __getitem__(self, idx):\n",
    "        if self.mode is not None:\n",
    "            image_path = self.image_paths[idx]\n",
    "        else:\n",
    "            image_path = self.all_image_paths[idx]\n",
    "        \n",
    "        image_data = self.image_data_map[image_path]\n",
    "        label = image_data[\"food_label\"]\n",
    "        if TRANSFORM_ON:\n",
    "            image = Image.open(image_path)\n",
    "            image = image.convert(\"RGB\") # Some images are (256, 256, 3), others are (256, 256)\n",
    "            sample = {'image': image, 'label': label, 'path': image_path}\n",
    "        else:\n",
    "            sample = {'image': plt.imread(image_path).copy(), 'label': label, 'path': image_path}\n",
    "        \n",
    "        if self.transform:\n",
    "            sample['image'] = self.transform(sample['image'])\n",
    "\n",
    "        return sample"
   ]
  },
  {
   "cell_type": "code",
   "execution_count": 9,
   "metadata": {},
   "outputs": [],
   "source": [
    "# Here we set up a transform to preprocess the data by subtracting the mean RGB value and dividing by the\n",
    "# standard deviation of each RGB value; we've hardcoded the mean and std.\n",
    "\n",
    "transform = None\n",
    "if TRANSFORM_ON:\n",
    "    transform = T.Compose([T.ToTensor()])\n",
    "    \n",
    "    if NORMALIZE_ON:\n",
    "        transform = T.Compose([\n",
    "                    T.ToTensor(),\n",
    "                    # per-channel mean and standard deviation are computed below.\n",
    "                    T.Normalize((0.6007, 0.5071, 0.3860), (0.2766, 0.2894, 0.3107))\n",
    "                ])\n",
    "\n",
    "# Build Custom Dataset objects for the full dataset, and training/validation/testing splits.\n",
    "train_dataset = FoodImagesDataset(INGRE_LABEL_PATH, mode=\"TR\", transform=transform)\n",
    "val_dataset = FoodImagesDataset(INGRE_LABEL_PATH, mode=\"VAL\", transform=transform)\n",
    "test_dataset = FoodImagesDataset(INGRE_LABEL_PATH, mode=\"TE\", transform=transform)\n",
    "full_dataset = FoodImagesDataset(INGRE_LABEL_PATH, transform=transform)"
   ]
  },
  {
   "cell_type": "code",
   "execution_count": 10,
   "metadata": {},
   "outputs": [
    {
     "name": "stdout",
     "output_type": "stream",
     "text": [
      "Number of Training examples: 66071\n",
      "Number of Validation examples: 11016\n",
      "Number of Testing examples: 33154\n",
      "Number of Total examples: 110241\n"
     ]
    }
   ],
   "source": [
    "# Print out basic statistics about the custom datasets.\n",
    "\n",
    "print(\"Number of Training examples: {}\".format(len(train_dataset)))\n",
    "print(\"Number of Validation examples: {}\".format(len(val_dataset)))\n",
    "print(\"Number of Testing examples: {}\".format(len(test_dataset)))\n",
    "print(\"Number of Total examples: {}\".format(len(full_dataset)))"
   ]
  },
  {
   "cell_type": "code",
   "execution_count": 11,
   "metadata": {},
   "outputs": [
    {
     "name": "stdout",
     "output_type": "stream",
     "text": [
      "Sample image path: VireoFood172/ready_chinese_food/1/21_20.jpg\n",
      "Sample image shape: torch.Size([3, 256, 256])\n",
      "Sample image food label: 0, Braised Pork\n"
     ]
    },
    {
     "data": {
      "image/png": "[encoded data removed]",
      "text/plain": [
       "<Figure size 432x288 with 1 Axes>"
      ]
     },
     "metadata": {
      "needs_background": "light"
     },
     "output_type": "display_data"
    }
   ],
   "source": [
    "# Examine one of the examples in the training dataset.\n",
    "for i in range(len(train_dataset)):\n",
    "    sample = train_dataset[i]\n",
    "    print(\"Sample image path: {}\".format(sample[\"path\"]))\n",
    "    print(\"Sample image shape: {}\".format(sample[\"image\"].shape))\n",
    "    print(\"Sample image food label: {}, {}\".format(sample[\"label\"], food_names[sample[\"label\"]]))\n",
    "    \n",
    "    image = sample[\"image\"]\n",
    "    \n",
    "    if NORMALIZE_ON:\n",
    "        image = image.permute(1, 2, 0)\n",
    "        mean = np.array([0.6007, 0.5071, 0.3860])\n",
    "        std_dev = np.array([0.2766, 0.2894, 0.3107])\n",
    "        image = np.clip(std_dev * image.numpy() + mean, 0, 1)\n",
    "    plt.imshow(image)\n",
    "    # plt.imshow(sample[\"image\"].astype('uint8'))\n",
    "    break"
   ]
  },
  {
   "cell_type": "code",
   "execution_count": 201,
   "metadata": {},
   "outputs": [
    {
     "name": "stdout",
     "output_type": "stream",
     "text": [
      "Images seen so far: 0\n",
      "Images seen so far: 10000\n",
      "Images seen so far: 20000\n",
      "Images seen so far: 30000\n",
      "Images seen so far: 40000\n",
      "Images seen so far: 50000\n",
      "Images seen so far: 60000\n"
     ]
    }
   ],
   "source": [
    "# Examine shapes in training/validation/testing datasets.\n",
    "\n",
    "def examine_shapes(dataset):\n",
    "    expected_shape = (3, 256, 256) if TRANSFORM_ON else (256, 256, 3)\n",
    "    count = 0\n",
    "    for i in range(len(dataset)):\n",
    "        if count % 10000 == 0:\n",
    "            print(\"Images seen so far: {}\".format(count))\n",
    "        sample = train_dataset[i]\n",
    "        if sample[\"image\"].shape != expected_shape:\n",
    "            print(\"{} has shape{}\".format(sample[\"path\"], sample[\"image\"].shape))\n",
    "        count += 1\n",
    "\n",
    "examine_shapes(train_dataset)\n",
    "# examine_shapes(val_dataset)\n",
    "# examine_shapes(test_dataset)"
   ]
  },
  {
   "cell_type": "code",
   "execution_count": 12,
   "metadata": {},
   "outputs": [],
   "source": [
    "train_dataloader = DataLoader(train_dataset, batch_size=64, shuffle=True)"
   ]
  },
  {
   "cell_type": "code",
   "execution_count": 13,
   "metadata": {},
   "outputs": [
    {
     "name": "stdout",
     "output_type": "stream",
     "text": [
      "torch.Size([64, 3, 256, 256]) tensor([ 25,  42,  65,  31,   2,  16, 163,  28, 100,   0,  27, 137,  59,  75,\n",
      "         99,  42,  80, 168, 159, 156,  58, 135, 149,  71,  26,  83,  33,  12,\n",
      "        149,  71, 148,  75, 160,   5,  96,  69,  73,  12, 163, 169,  54,  58,\n",
      "         85,  27,  74, 140,  55, 122,  70, 112,   9, 134, 150, 116, 140, 127,\n",
      "         52,  27,   9, 101,  68,  33, 167, 120])\n"
     ]
    }
   ],
   "source": [
    "# Get a batch of data in the train_dataloader.\n",
    "for i, example_dict in enumerate(train_dataloader):\n",
    "    print(example_dict['image'].shape, example_dict['label'])\n",
    "    break"
   ]
  },
  {
   "cell_type": "code",
   "execution_count": 14,
   "metadata": {},
   "outputs": [],
   "source": [
    "full_dataloader = DataLoader(full_dataset, batch_size=64, shuffle=True)\n",
    "val_dataloader = DataLoader(val_dataset, batch_size=64, shuffle=True)\n",
    "test_dataloader = DataLoader(test_dataset, batch_size=64, shuffle=True)"
   ]
  },
  {
   "cell_type": "markdown",
   "metadata": {},
   "source": [
    "## Computing Per-Channel Mean"
   ]
  },
  {
   "cell_type": "code",
   "execution_count": 15,
   "metadata": {},
   "outputs": [
    {
     "name": "stdout",
     "output_type": "stream",
     "text": [
      "Mean R/G/B:  tensor([ 1.2937e-04, -2.2601e-05,  5.0625e-05])\n",
      "Standard Deviation R/G/B:  tensor([1.0001, 1.0001, 1.0001])\n"
     ]
    }
   ],
   "source": [
    "def compute_per_channel_stats(dataloader):\n",
    "    N = 0 # number of examples\n",
    "    means = torch.zeros(3) # [mu_R, mu_G, mu_B]\n",
    "    means_sq = torch.zeros(3) # [sigma_R, sigma_G, sigma_B]\n",
    "    for i, example_dict in enumerate(dataloader):\n",
    "        image_batch = example_dict['image']\n",
    "        batch_size = image_batch.shape[0]\n",
    "        N += batch_size\n",
    "        \n",
    "        batch_mean = image_batch.mean(axis=(0,2,3))\n",
    "        batch_mean_sq = (image_batch ** 2).mean(axis=(0,2,3))\n",
    "        means += batch_size * batch_mean\n",
    "        means_sq += batch_size * batch_mean_sq\n",
    "        \n",
    "    means = means / N\n",
    "    means_sq = means_sq / N\n",
    "    stds = torch.sqrt(means_sq - means**2)\n",
    "    return (means, stds)\n",
    "\n",
    "train_dataloader = DataLoader(train_dataset, batch_size=64, shuffle=False)\n",
    "means, stds = compute_per_channel_stats(train_dataloader)\n",
    "print(\"Mean R/G/B: \", means)\n",
    "print(\"Standard Deviation R/G/B: \", stds)"
   ]
  },
  {
   "cell_type": "code",
   "execution_count": 16,
   "metadata": {},
   "outputs": [
    {
     "name": "stdout",
     "output_type": "stream",
     "text": [
      "Image Batch Statistics... (BEFORE NORMALIZATION)\n",
      "Image Batch Shape:  torch.Size([64, 3, 256, 256])\n",
      "Image Batch Mean:  tensor([-0.0640, -0.2043, -0.0791])\n",
      "Image Batch Standard Deviation:  tensor([1.0381, 1.1009, 1.0441])\n",
      "\n",
      "Computed Statistics...\n",
      "Computed Mean R/G/B:  tensor([-0.0640, -0.2043, -0.0791])\n",
      "Computed Standard Deviation R/G/B:  tensor([1.0381, 1.1009, 1.0441])\n",
      "\n",
      "Image Batch Statistics... (AFTER NORMALIZATION)\n",
      "Normalized Image Batch Mean tensor([-2.1420e-08, -1.3039e-08, -2.7940e-09])\n",
      "Normalized Image Batch Standard Deviation tensor([1.0000, 1.0000, 1.0000])\n"
     ]
    }
   ],
   "source": [
    "# TESTING Mean/Standard Deviation calculation\n",
    "\n",
    "# Compute mean and std dev across R/G/B channels for a SINGLE batch.\n",
    "all_training_dataloader = DataLoader(train_dataset, batch_size=64, shuffle=False)\n",
    "num_examples = 0\n",
    "means = torch.zeros(3)\n",
    "means_sq = torch.zeros(3)\n",
    "for i, example_dict in enumerate(all_training_dataloader):\n",
    "    image_batch = example_dict['image']\n",
    "    batch_size = image_batch.shape[0]\n",
    "    num_examples += batch_size\n",
    "    mean_i = image_batch.mean(axis=(0,2,3))\n",
    "    mean_sq_i = (image_batch ** 2).mean(axis=(0,2,3))\n",
    "    means += batch_size * mean_i\n",
    "    means_sq += batch_size * mean_sq_i\n",
    "    break\n",
    "\n",
    "means = means / num_examples\n",
    "means_sq = means_sq / num_examples\n",
    "stds = torch.sqrt(means_sq - means**2)\n",
    "\n",
    "print(\"Image Batch Statistics... (BEFORE NORMALIZATION)\")\n",
    "print(\"Image Batch Shape: \", image_batch.shape)\n",
    "print(\"Image Batch Mean: \", image_batch.mean(axis=(0,2,3)))\n",
    "print(\"Image Batch Standard Deviation: \", image_batch.std(axis=(0,2,3)))\n",
    "print(\"\")\n",
    "\n",
    "print(\"Computed Statistics...\")\n",
    "print(\"Computed Mean R/G/B: \", means)\n",
    "print(\"Computed Standard Deviation R/G/B: \", stds)\n",
    "print(\"\")\n",
    "\n",
    "# Normalize all the images using the computed mean/standard deviation.\n",
    "norm_image_batch = (image_batch.permute(0, 2, 3, 1) - means) / stds\n",
    "\n",
    "# Compute the mean and standard deviation across the normalized images.\n",
    "# These should now be 0-mean, unit-variance.\n",
    "print(\"Image Batch Statistics... (AFTER NORMALIZATION)\")\n",
    "print(\"Normalized Image Batch Mean\", norm_image_batch.mean(axis=(0,1,2)))\n",
    "print(\"Normalized Image Batch Standard Deviation\", norm_image_batch.std(axis=(0,1,2)))"
   ]
  },
  {
   "cell_type": "markdown",
   "metadata": {},
   "source": [
    "# Baseline Model"
   ]
  },
  {
   "cell_type": "code",
   "execution_count": 17,
   "metadata": {},
   "outputs": [
    {
     "name": "stderr",
     "output_type": "stream",
     "text": [
      "Downloading: \"https://download.pytorch.org/models/vgg16-397923af.pth\" to /home/vivekshankar/.cache/torch/hub/checkpoints/vgg16-397923af.pth\n"
     ]
    },
    {
     "data": {
      "application/vnd.jupyter.widget-view+json": {
       "model_id": "16450d7a12ce4231b8f7630b193b1749",
       "version_major": 2,
       "version_minor": 0
      },
      "text/plain": [
       "  0%|          | 0.00/528M [00:00<?, ?B/s]"
      ]
     },
     "metadata": {},
     "output_type": "display_data"
    }
   ],
   "source": [
    "model_vgg = models.vgg16(pretrained=True)"
   ]
  },
  {
   "cell_type": "code",
   "execution_count": 18,
   "metadata": {},
   "outputs": [
    {
     "name": "stdout",
     "output_type": "stream",
     "text": [
      "VGG(\n",
      "  (features): Sequential(\n",
      "    (0): Conv2d(3, 64, kernel_size=(3, 3), stride=(1, 1), padding=(1, 1))\n",
      "    (1): ReLU(inplace=True)\n",
      "    (2): Conv2d(64, 64, kernel_size=(3, 3), stride=(1, 1), padding=(1, 1))\n",
      "    (3): ReLU(inplace=True)\n",
      "    (4): MaxPool2d(kernel_size=2, stride=2, padding=0, dilation=1, ceil_mode=False)\n",
      "    (5): Conv2d(64, 128, kernel_size=(3, 3), stride=(1, 1), padding=(1, 1))\n",
      "    (6): ReLU(inplace=True)\n",
      "    (7): Conv2d(128, 128, kernel_size=(3, 3), stride=(1, 1), padding=(1, 1))\n",
      "    (8): ReLU(inplace=True)\n",
      "    (9): MaxPool2d(kernel_size=2, stride=2, padding=0, dilation=1, ceil_mode=False)\n",
      "    (10): Conv2d(128, 256, kernel_size=(3, 3), stride=(1, 1), padding=(1, 1))\n",
      "    (11): ReLU(inplace=True)\n",
      "    (12): Conv2d(256, 256, kernel_size=(3, 3), stride=(1, 1), padding=(1, 1))\n",
      "    (13): ReLU(inplace=True)\n",
      "    (14): Conv2d(256, 256, kernel_size=(3, 3), stride=(1, 1), padding=(1, 1))\n",
      "    (15): ReLU(inplace=True)\n",
      "    (16): MaxPool2d(kernel_size=2, stride=2, padding=0, dilation=1, ceil_mode=False)\n",
      "    (17): Conv2d(256, 512, kernel_size=(3, 3), stride=(1, 1), padding=(1, 1))\n",
      "    (18): ReLU(inplace=True)\n",
      "    (19): Conv2d(512, 512, kernel_size=(3, 3), stride=(1, 1), padding=(1, 1))\n",
      "    (20): ReLU(inplace=True)\n",
      "    (21): Conv2d(512, 512, kernel_size=(3, 3), stride=(1, 1), padding=(1, 1))\n",
      "    (22): ReLU(inplace=True)\n",
      "    (23): MaxPool2d(kernel_size=2, stride=2, padding=0, dilation=1, ceil_mode=False)\n",
      "    (24): Conv2d(512, 512, kernel_size=(3, 3), stride=(1, 1), padding=(1, 1))\n",
      "    (25): ReLU(inplace=True)\n",
      "    (26): Conv2d(512, 512, kernel_size=(3, 3), stride=(1, 1), padding=(1, 1))\n",
      "    (27): ReLU(inplace=True)\n",
      "    (28): Conv2d(512, 512, kernel_size=(3, 3), stride=(1, 1), padding=(1, 1))\n",
      "    (29): ReLU(inplace=True)\n",
      "    (30): MaxPool2d(kernel_size=2, stride=2, padding=0, dilation=1, ceil_mode=False)\n",
      "  )\n",
      "  (avgpool): AdaptiveAvgPool2d(output_size=(7, 7))\n",
      "  (classifier): Sequential(\n",
      "    (0): Linear(in_features=25088, out_features=4096, bias=True)\n",
      "    (1): ReLU(inplace=True)\n",
      "    (2): Dropout(p=0.5, inplace=False)\n",
      "    (3): Linear(in_features=4096, out_features=4096, bias=True)\n",
      "    (4): ReLU(inplace=True)\n",
      "    (5): Dropout(p=0.5, inplace=False)\n",
      "    (6): Linear(in_features=4096, out_features=1000, bias=True)\n",
      "  )\n",
      ")\n"
     ]
    }
   ],
   "source": [
    "print(model_vgg)"
   ]
  },
  {
   "cell_type": "code",
   "execution_count": 269,
   "metadata": {},
   "outputs": [],
   "source": [
    "def train_part34(model, optimizer, epochs=1):\n",
    "    \"\"\"\n",
    "    Train a model on CIFAR-10 using the PyTorch Module API.\n",
    "    \n",
    "    Inputs:\n",
    "    - model: A PyTorch Module giving the model to train.\n",
    "    - optimizer: An Optimizer object we will use to train the model\n",
    "    - epochs: (Optional) A Python integer giving the number of epochs to train for\n",
    "    \n",
    "    Returns: Nothing, but prints model accuracies during training.\n",
    "    \"\"\"\n",
    "    model = model.to(device=device)  # move the model parameters to CPU/GPU\n",
    "    for e in range(epochs):\n",
    "        for t, example_dict in enumerate(dl):\n",
    "            print(t)\n",
    "            x = example_dict[\"image\"]\n",
    "            # print(x.shape)\n",
    "            y = example_dict[\"label\"]\n",
    "            # print(y.shape)\n",
    "            model.train()  # put model to training mode\n",
    "            x = x.to(device=device, dtype=dtype)  # move to device, e.g. GPU\n",
    "            y = y.to(device=device, dtype=torch.long)\n",
    "\n",
    "            scores = model(x)\n",
    "            print(scores.shape)\n",
    "            loss = F.cross_entropy(scores, y)\n",
    "\n",
    "            # Zero out all of the gradients for the variables which the optimizer\n",
    "            # will update.\n",
    "            optimizer.zero_grad()\n",
    "\n",
    "            # This is the backwards pass: compute the gradient of the loss with\n",
    "            # respect to each  parameter of the model.\n",
    "            loss.backward()\n",
    "\n",
    "            # Actually update the parameters of the model using the gradients\n",
    "            # computed by the backwards pass.\n",
    "            optimizer.step()\n",
    "\n",
    "            if t % print_every == 0:\n",
    "                print('Iteration %d, loss = %.4f' % (t, loss.item()))\n",
    "                # check_accuracy_part34(dl, model)\n",
    "                print()"
   ]
  },
  {
   "cell_type": "code",
   "execution_count": 270,
   "metadata": {},
   "outputs": [],
   "source": [
    "def check_accuracy_part34(loader, model): \n",
    "    num_correct = 0\n",
    "    num_samples = 0\n",
    "    model.eval()  # set model to evaluation mode\n",
    "    with torch.no_grad():\n",
    "        for x, y in loader:\n",
    "            x = x.to(device=device, dtype=dtype)  # move to device, e.g. GPU\n",
    "            y = y.to(device=device, dtype=torch.long)\n",
    "            scores = model(x)\n",
    "            _, preds = scores.max(1)\n",
    "            num_correct += (preds == y).sum()\n",
    "            num_samples += preds.size(0)\n",
    "        acc = float(num_correct) / num_samples\n",
    "        print('Got %d / %d correct (%.2f)' % (num_correct, num_samples, 100 * acc))"
   ]
  },
  {
   "cell_type": "code",
   "execution_count": 271,
   "metadata": {},
   "outputs": [],
   "source": [
    "channel_1 = 32\n",
    "channel_2 = 16\n",
    "learning_rate = 1e-2\n",
    "\n",
    "def flatten(x):\n",
    "    N = x.shape[0] # read in N, C, H, W\n",
    "    return x.view(N, -1)  # \"flatten\" the C * H * W values into a single vector per image\n",
    "\n",
    "class Flatten(nn.Module):\n",
    "    def forward(self, x):\n",
    "        return flatten(x)\n",
    "    \n",
    "model = nn.Sequential(\n",
    "    nn.Conv2d(3, channel_1, kernel_size=5, padding=2, bias=True),\n",
    "    nn.ReLU(),\n",
    "    nn.Conv2d(channel_1, channel_2, kernel_size=3, padding=1, bias=True),\n",
    "    nn.ReLU(),\n",
    "    Flatten(),\n",
    "    nn.Linear(channel_2 * 256 * 256, 172),\n",
    ")\n",
    "\n",
    "optimizer = optim.SGD(model.parameters(), lr=learning_rate,\n",
    "                     momentum=0.9, nesterov=True)"
   ]
  },
  {
   "cell_type": "code",
   "execution_count": 272,
   "metadata": {},
   "outputs": [
    {
     "name": "stdout",
     "output_type": "stream",
     "text": [
      "torch.Size([64, 3, 256, 256])\n",
      "torch.Size([64])\n",
      "torch.Size([64, 172])\n",
      "Iteration 0, loss = 5.2081\n",
      "\n",
      "torch.Size([64, 3, 256, 256])\n",
      "torch.Size([64])\n",
      "torch.Size([64, 172])\n",
      "torch.Size([64, 3, 256, 256])\n",
      "torch.Size([64])\n",
      "torch.Size([64, 172])\n",
      "torch.Size([64, 3, 256, 256])\n",
      "torch.Size([64])\n",
      "torch.Size([64, 172])\n",
      "torch.Size([64, 3, 256, 256])\n",
      "torch.Size([64])\n",
      "torch.Size([64, 172])\n",
      "torch.Size([64, 3, 256, 256])\n",
      "torch.Size([64])\n",
      "torch.Size([64, 172])\n",
      "torch.Size([64, 3, 256, 256])\n",
      "torch.Size([64])\n",
      "torch.Size([64, 172])\n",
      "torch.Size([64, 3, 256, 256])\n",
      "torch.Size([64])\n",
      "torch.Size([64, 172])\n",
      "torch.Size([64, 3, 256, 256])\n",
      "torch.Size([64])\n",
      "torch.Size([64, 172])\n",
      "torch.Size([64, 3, 256, 256])\n",
      "torch.Size([64])\n",
      "torch.Size([64, 172])\n",
      "torch.Size([64, 3, 256, 256])\n",
      "torch.Size([64])\n",
      "torch.Size([64, 172])\n",
      "Iteration 0, loss = 5.2498\n",
      "\n",
      "torch.Size([64, 3, 256, 256])\n",
      "torch.Size([64])\n",
      "torch.Size([64, 172])\n",
      "torch.Size([64, 3, 256, 256])\n",
      "torch.Size([64])\n",
      "torch.Size([64, 172])\n",
      "torch.Size([64, 3, 256, 256])\n",
      "torch.Size([64])\n",
      "torch.Size([64, 172])\n",
      "torch.Size([64, 3, 256, 256])\n",
      "torch.Size([64])\n",
      "torch.Size([64, 172])\n",
      "torch.Size([64, 3, 256, 256])\n",
      "torch.Size([64])\n",
      "torch.Size([64, 172])\n",
      "torch.Size([64, 3, 256, 256])\n",
      "torch.Size([64])\n",
      "torch.Size([64, 172])\n",
      "torch.Size([64, 3, 256, 256])\n",
      "torch.Size([64])\n",
      "torch.Size([64, 172])\n",
      "torch.Size([64, 3, 256, 256])\n",
      "torch.Size([64])\n",
      "torch.Size([64, 172])\n",
      "torch.Size([64, 3, 256, 256])\n",
      "torch.Size([64])\n",
      "torch.Size([64, 172])\n",
      "torch.Size([64, 3, 256, 256])\n",
      "torch.Size([64])\n",
      "torch.Size([64, 172])\n",
      "Iteration 0, loss = 3.9943\n",
      "\n",
      "torch.Size([64, 3, 256, 256])\n",
      "torch.Size([64])\n",
      "torch.Size([64, 172])\n",
      "torch.Size([64, 3, 256, 256])\n",
      "torch.Size([64])\n",
      "torch.Size([64, 172])\n",
      "torch.Size([64, 3, 256, 256])\n",
      "torch.Size([64])\n",
      "torch.Size([64, 172])\n",
      "torch.Size([64, 3, 256, 256])\n",
      "torch.Size([64])\n",
      "torch.Size([64, 172])\n",
      "torch.Size([64, 3, 256, 256])\n",
      "torch.Size([64])\n",
      "torch.Size([64, 172])\n",
      "torch.Size([64, 3, 256, 256])\n",
      "torch.Size([64])\n",
      "torch.Size([64, 172])\n",
      "torch.Size([64, 3, 256, 256])\n",
      "torch.Size([64])\n",
      "torch.Size([64, 172])\n",
      "torch.Size([64, 3, 256, 256])\n",
      "torch.Size([64])\n",
      "torch.Size([64, 172])\n",
      "torch.Size([64, 3, 256, 256])\n",
      "torch.Size([64])\n",
      "torch.Size([64, 172])\n",
      "torch.Size([64, 3, 256, 256])\n",
      "torch.Size([64])\n",
      "torch.Size([64, 172])\n",
      "Iteration 0, loss = 3.1904\n",
      "\n",
      "torch.Size([64, 3, 256, 256])\n",
      "torch.Size([64])\n",
      "torch.Size([64, 172])\n",
      "torch.Size([64, 3, 256, 256])\n",
      "torch.Size([64])\n",
      "torch.Size([64, 172])\n",
      "torch.Size([64, 3, 256, 256])\n",
      "torch.Size([64])\n",
      "torch.Size([64, 172])\n"
     ]
    },
    {
     "name": "stderr",
     "output_type": "stream",
     "text": [
      "ERROR:root:Internal Python error in the inspect module.\n",
      "Below is the traceback from this internal error.\n",
      "\n"
     ]
    },
    {
     "name": "stdout",
     "output_type": "stream",
     "text": [
      "Traceback (most recent call last):\n",
      "  File \"/Users/vivekshankar/opt/anaconda3/envs/cs231n/lib/python3.7/site-packages/IPython/core/interactiveshell.py\", line 3296, in run_code\n",
      "    exec(code_obj, self.user_global_ns, self.user_ns)\n",
      "  File \"<ipython-input-272-d58fc851f07b>\", line 3, in <module>\n",
      "    train_part34(model, optimizer, epochs=10)\n",
      "  File \"<ipython-input-269-e0c879a3eca7>\", line 33, in train_part34\n",
      "    loss.backward()\n",
      "  File \"/Users/vivekshankar/opt/anaconda3/envs/cs231n/lib/python3.7/site-packages/torch/tensor.py\", line 245, in backward\n",
      "    torch.autograd.backward(self, gradient, retain_graph, create_graph, inputs=inputs)\n",
      "  File \"/Users/vivekshankar/opt/anaconda3/envs/cs231n/lib/python3.7/site-packages/torch/autograd/__init__.py\", line 147, in backward\n",
      "    allow_unreachable=True, accumulate_grad=True)  # allow_unreachable flag\n",
      "KeyboardInterrupt\n",
      "\n",
      "During handling of the above exception, another exception occurred:\n",
      "\n",
      "Traceback (most recent call last):\n",
      "  File \"/Users/vivekshankar/opt/anaconda3/envs/cs231n/lib/python3.7/site-packages/IPython/core/interactiveshell.py\", line 2033, in showtraceback\n",
      "    stb = value._render_traceback_()\n",
      "AttributeError: 'KeyboardInterrupt' object has no attribute '_render_traceback_'\n",
      "\n",
      "During handling of the above exception, another exception occurred:\n",
      "\n",
      "Traceback (most recent call last):\n",
      "  File \"/Users/vivekshankar/opt/anaconda3/envs/cs231n/lib/python3.7/site-packages/IPython/core/ultratb.py\", line 1095, in get_records\n",
      "    return _fixed_getinnerframes(etb, number_of_lines_of_context, tb_offset)\n",
      "  File \"/Users/vivekshankar/opt/anaconda3/envs/cs231n/lib/python3.7/site-packages/IPython/core/ultratb.py\", line 313, in wrapped\n",
      "    return f(*args, **kwargs)\n",
      "  File \"/Users/vivekshankar/opt/anaconda3/envs/cs231n/lib/python3.7/site-packages/IPython/core/ultratb.py\", line 347, in _fixed_getinnerframes\n",
      "    records = fix_frame_records_filenames(inspect.getinnerframes(etb, context))\n",
      "  File \"/Users/vivekshankar/opt/anaconda3/envs/cs231n/lib/python3.7/inspect.py\", line 1502, in getinnerframes\n",
      "    frameinfo = (tb.tb_frame,) + getframeinfo(tb, context)\n",
      "  File \"/Users/vivekshankar/opt/anaconda3/envs/cs231n/lib/python3.7/inspect.py\", line 1460, in getframeinfo\n",
      "    filename = getsourcefile(frame) or getfile(frame)\n",
      "  File \"/Users/vivekshankar/opt/anaconda3/envs/cs231n/lib/python3.7/inspect.py\", line 696, in getsourcefile\n",
      "    if getattr(getmodule(object, filename), '__loader__', None) is not None:\n",
      "  File \"/Users/vivekshankar/opt/anaconda3/envs/cs231n/lib/python3.7/inspect.py\", line 733, in getmodule\n",
      "    if ismodule(module) and hasattr(module, '__file__'):\n",
      "KeyboardInterrupt\n"
     ]
    },
    {
     "ename": "KeyboardInterrupt",
     "evalue": "",
     "output_type": "error",
     "traceback": [
      "\u001b[0;31m---------------------------------------------------------------------------\u001b[0m"
     ]
    }
   ],
   "source": [
    "print_every = 10\n",
    "dl = DataLoader(train_dataset, batch_size=64, sampler=sampler.SubsetRandomSampler(range(640)))\n",
    "train_part34(model, optimizer, epochs=10)"
   ]
  },
  {
   "cell_type": "markdown",
   "metadata": {},
   "source": [
    "# Miscellaneous / Testing"
   ]
  },
  {
   "cell_type": "code",
   "execution_count": null,
   "metadata": {},
   "outputs": [],
   "source": [
    "# TODO:\n",
    "\n",
    "# 1) Read through the custom datasets links.\n",
    "# 2) Add a transform to convert the data to Pytorch tensors (DONE)\n",
    "# 3) Fix the data: there are some (256, 256, 4) and (256, 256) numpy arrays (DONE)"
   ]
  },
  {
   "cell_type": "code",
   "execution_count": 205,
   "metadata": {},
   "outputs": [
    {
     "name": "stdout",
     "output_type": "stream",
     "text": [
      "(256, 256, 4)\n",
      "<class 'numpy.ndarray'>\n",
      "(256, 256, 3)\n",
      "57 57 57\n"
     ]
    }
   ],
   "source": [
    "# Processing an image that is (256, 256, 4) (includes a transparency channel)\n",
    "\n",
    "image = Image.open(\"VireoFood172/ready_chinese_food/13/3_32.jpg\")\n",
    "print(array.shape)\n",
    "print(type(array.copy()))\n",
    "image = image.convert(\"RGB\")\n",
    "print(np.asarray(image).shape)\n",
    "image_array = np.asarray(image)\n",
    "print(image_array[0][0][1], image_array[0][0][0], image_array[0][0][2])"
   ]
  },
  {
   "cell_type": "code",
   "execution_count": 254,
   "metadata": {},
   "outputs": [
    {
     "name": "stdout",
     "output_type": "stream",
     "text": [
      "torch.Size([64, 3, 256, 256]) tensor([142,  72,  83, 111,  53,  34, 141,  84,  40, 148,  67, 132, 157, 145,\n",
      "        155,  78,  84,  68, 135,  48, 116,  74,  43,  24,  42,  45, 120,  87,\n",
      "         76,  68,   1,  53,  31, 132,  88, 164,  88, 106, 121,  63, 146, 138,\n",
      "        109, 140, 112,  51, 139,  32, 147,  43,   4,  31,   2,  69,  14,  42,\n",
      "         11,  66, 121, 149,  17, 126,  34,  43])\n"
     ]
    }
   ],
   "source": [
    "for i, example_dict in enumerate(train_dataloader):\n",
    "    print(example_dict['image'].shape, example_dict['label'])\n",
    "    break"
   ]
  },
  {
   "cell_type": "code",
   "execution_count": null,
   "metadata": {},
   "outputs": [],
   "source": []
  }
 ],
 "metadata": {
  "kernelspec": {
   "display_name": "Python 3",
   "language": "python",
   "name": "python3"
  },
  "language_info": {
   "codemirror_mode": {
    "name": "ipython",
    "version": 3
   },
   "file_extension": ".py",
   "mimetype": "text/x-python",
   "name": "python",
   "nbconvert_exporter": "python",
   "pygments_lexer": "ipython3",
   "version": "3.7.10"
  }
 },
 "nbformat": 4,
 "nbformat_minor": 4
}
