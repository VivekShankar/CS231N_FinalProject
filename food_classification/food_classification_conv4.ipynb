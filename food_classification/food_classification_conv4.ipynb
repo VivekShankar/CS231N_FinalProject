{
 "cells": [
  {
   "cell_type": "markdown",
   "metadata": {},
   "source": [
    "## Imports"
   ]
  },
  {
   "cell_type": "code",
   "execution_count": 1,
   "metadata": {},
   "outputs": [],
   "source": [
    "# Add parent directory to path for local imports\n",
    "import os,sys,inspect\n",
    "currentdir = os.path.dirname(os.path.abspath(inspect.getfile(inspect.currentframe())))\n",
    "parentdir = os.path.dirname(currentdir)\n",
    "sys.path.insert(0,parentdir) \n",
    "\n",
    "from PIL import Image\n",
    "import numpy as np\n",
    "import matplotlib.pyplot as plt\n",
    "import os\n",
    "import torch\n",
    "import torch.nn as nn\n",
    "import torch.nn.functional as F\n",
    "import torch.optim as optim\n",
    "import torchvision\n",
    "import torchvision.datasets as dset\n",
    "import torchvision.models as models\n",
    "import torchvision.transforms as T\n",
    "import bcolz\n",
    "import time\n",
    "from torch.utils.data import Dataset, DataLoader, sampler\n",
    "%matplotlib inline"
   ]
  },
  {
   "cell_type": "code",
   "execution_count": 2,
   "metadata": {},
   "outputs": [
    {
     "name": "stdout",
     "output_type": "stream",
     "text": [
      "Using gpu: True \n"
     ]
    }
   ],
   "source": [
    "use_gpu = torch.cuda.is_available()\n",
    "print('Using gpu: %s ' % use_gpu)\n",
    "\n",
    "def gpu(x,use_gpu=use_gpu):\n",
    "    if use_gpu:\n",
    "        return x.cuda()\n",
    "    else:\n",
    "        return x"
   ]
  },
  {
   "cell_type": "markdown",
   "metadata": {},
   "source": [
    "## Data processing"
   ]
  },
  {
   "cell_type": "code",
   "execution_count": 3,
   "metadata": {},
   "outputs": [],
   "source": [
    "transform = T.Compose([\n",
    "    T.CenterCrop(224),\n",
    "    T.ToTensor(),\n",
    "    T.Normalize(mean=[0.485, 0.456, 0.406], std=[0.229, 0.224, 0.225]),\n",
    "])\n",
    "\n",
    "train_dataset = dset.ImageFolder('../Dataset/train', transform=transform)\n",
    "val_dataset = dset.ImageFolder('../Dataset/val', transform=transform)\n",
    "test_dataset = dset.ImageFolder('../Dataset/test', transform=transform)"
   ]
  },
  {
   "cell_type": "code",
   "execution_count": 4,
   "metadata": {},
   "outputs": [
    {
     "name": "stdout",
     "output_type": "stream",
     "text": [
      "Number of training examples 66071, validation examples 11016, testing examples 33154\n"
     ]
    }
   ],
   "source": [
    "train_size = len(train_dataset)\n",
    "val_size = len(val_dataset)\n",
    "test_size = len(test_dataset)\n",
    "print(\"Number of training examples {}, validation examples {}, testing examples {}\".format(train_size, val_size, test_size))"
   ]
  },
  {
   "cell_type": "code",
   "execution_count": 5,
   "metadata": {},
   "outputs": [
    {
     "name": "stderr",
     "output_type": "stream",
     "text": [
      "/opt/conda/lib/python3.7/site-packages/torch/utils/data/dataloader.py:477: UserWarning: This DataLoader will create 6 worker processes in total. Our suggested max number of worker in current system is 2, which is smaller than what this DataLoader is going to create. Please be aware that excessive worker creation might get DataLoader running slow or even freeze, lower the worker number to avoid potential slowness/freeze if necessary.\n",
      "  cpuset_checked))\n"
     ]
    }
   ],
   "source": [
    "train_dataloader = DataLoader(train_dataset, batch_size=64, shuffle=True, num_workers=6)\n",
    "val_dataloader = DataLoader(val_dataset, batch_size=64, shuffle=False, num_workers=6)\n",
    "test_dataloader = DataLoader(test_dataset, batch_size=64, shuffle=False, num_workers=6)"
   ]
  },
  {
   "cell_type": "markdown",
   "metadata": {},
   "source": [
    "## Creating Model"
   ]
  },
  {
   "cell_type": "code",
   "execution_count": 6,
   "metadata": {},
   "outputs": [],
   "source": [
    "channel_1 = 64\n",
    "channel_2 = 64\n",
    "channel_3 = 32\n",
    "channel_4 = 16\n",
    "\n",
    "fc_hidden_size= 1000\n",
    "\n",
    "model = nn.Sequential(\n",
    "    nn.Conv2d(3, channel_1, 3, padding=1, bias=True),\n",
    "    nn.BatchNorm2d(channel_1),\n",
    "    nn.ReLU(),\n",
    "    nn.MaxPool2d(2, stride=2),\n",
    "    nn.Conv2d(channel_1, channel_2, 3, padding=1, bias=True),\n",
    "    nn.BatchNorm2d(channel_2),\n",
    "    nn.ReLU(),\n",
    "    nn.MaxPool2d(2, stride=2),\n",
    "    nn.Conv2d(channel_2, channel_3, 3, padding=1, bias=True),\n",
    "    nn.BatchNorm2d(channel_3),\n",
    "    nn.ReLU(),\n",
    "    nn.MaxPool2d(2, stride=2),\n",
    "    nn.Conv2d(channel_3, channel_4, 3, padding=1, bias=True),\n",
    "    nn.BatchNorm2d(channel_4),\n",
    "    nn.ReLU(),\n",
    "    nn.MaxPool2d(2, stride=2),\n",
    "    nn.Flatten(),\n",
    "    nn.Linear(channel_4*14*14, 172, bias=True),\n",
    ")"
   ]
  },
  {
   "cell_type": "markdown",
   "metadata": {},
   "source": [
    "## Training fully connected module"
   ]
  },
  {
   "cell_type": "markdown",
   "metadata": {},
   "source": [
    "### Loading Preconvoluted features"
   ]
  },
  {
   "cell_type": "code",
   "execution_count": 7,
   "metadata": {},
   "outputs": [],
   "source": [
    "optimizer = optim.Adam(model.parameters())"
   ]
  },
  {
   "cell_type": "markdown",
   "metadata": {},
   "source": [
    "### Training the model"
   ]
  },
  {
   "cell_type": "code",
   "execution_count": 8,
   "metadata": {},
   "outputs": [],
   "source": [
    "def train_model(model, optimizer, train_dataset, val_dataset, epochs=1):\n",
    "    train_loss_history = []\n",
    "    train_accuracy_history = []\n",
    "    val_loss_history = []\n",
    "    val_accuracy_history = []\n",
    "    for epoch in range(epochs):\n",
    "        model.train()\n",
    "        num_correct, num_samples, total_loss = 0, 0, 0\n",
    "        running_corrects = 0\n",
    "        for x, y in train_dataset:\n",
    "            x, y = gpu(x), gpu(y)\n",
    "            scores = model(x)\n",
    "            loss = F.cross_entropy(scores, y)           \n",
    "            optimizer.zero_grad()\n",
    "            loss.backward()\n",
    "            optimizer.step()\n",
    "            _,preds = torch.max(scores.data,1)\n",
    "            total_loss += loss.data.item()\n",
    "            num_correct += torch.sum(preds == y.data)\n",
    "            num_samples += preds.size(0)\n",
    "        average_loss = total_loss / num_samples\n",
    "        acc = num_correct / num_samples\n",
    "        train_loss_history.append(average_loss)\n",
    "        train_accuracy_history.append(acc)\n",
    "        print('Epoch: {} Training Loss: {:.4f} Got {} / {} correct. Acc: {:.2f}%'.format(\n",
    "                     epoch + 1, average_loss, num_correct, num_samples, 100 * acc))\n",
    "        \n",
    "        check_accuracy(model, val_dataset, val_loss_history, val_accuracy_history, epoch)\n",
    "    return train_loss_history, train_accuracy_history, val_loss_history, val_accuracy_history\n",
    "\n",
    "def check_accuracy(model, dataset, val_loss_history, val_accuracy_history, epoch):\n",
    "    num_correct, num_samples, total_loss = 0, 0, 0\n",
    "    model.eval()\n",
    "    with torch.no_grad():\n",
    "        for x, y in dataset:\n",
    "            x, y = gpu(x), gpu(y)\n",
    "            scores = model(x)\n",
    "            loss = F.cross_entropy(scores, y) \n",
    "            _, preds = torch.max(scores.data, 1)\n",
    "            total_loss += loss.data.item()\n",
    "            num_correct += torch.sum(preds == y.data)\n",
    "            num_samples += preds.size(0)\n",
    "        average_loss = total_loss / num_samples\n",
    "        acc = num_correct / num_samples\n",
    "    val_loss_history.append(average_loss)\n",
    "    val_accuracy_history.append(acc)\n",
    "    print('Epoch: {} Validation Loss: {:.4f} Got {} / {} correct {:.2f}%'.format(\n",
    "        epoch + 1, average_loss, num_correct, num_samples, 100 * acc))\n",
    "        "
   ]
  },
  {
   "cell_type": "code",
   "execution_count": 9,
   "metadata": {},
   "outputs": [
    {
     "name": "stdout",
     "output_type": "stream",
     "text": [
      "Epoch: 1 Training Loss: 0.0613 Got 9272 / 66071 correct. Acc: 14.03%\n",
      "Epoch: 1 Validation Loss: 0.0522 Got 2505 / 11016 correct 22.74%\n",
      "Epoch: 2 Training Loss: 0.0463 Got 19747 / 66071 correct. Acc: 29.89%\n",
      "Epoch: 2 Validation Loss: 0.0469 Got 3264 / 11016 correct 29.63%\n",
      "Epoch: 3 Training Loss: 0.0368 Got 27945 / 66071 correct. Acc: 42.30%\n",
      "Epoch: 3 Validation Loss: 0.0457 Got 3532 / 11016 correct 32.06%\n",
      "Epoch: 4 Training Loss: 0.0294 Got 34761 / 66071 correct. Acc: 52.61%\n",
      "Epoch: 4 Validation Loss: 0.0457 Got 3687 / 11016 correct 33.47%\n",
      "Epoch: 5 Training Loss: 0.0234 Got 40488 / 66071 correct. Acc: 61.28%\n",
      "Epoch: 5 Validation Loss: 0.0484 Got 3609 / 11016 correct 32.76%\n",
      "Epoch: 6 Training Loss: 0.0187 Got 45178 / 66071 correct. Acc: 68.38%\n",
      "Epoch: 6 Validation Loss: 0.0535 Got 3461 / 11016 correct 31.42%\n",
      "Epoch: 7 Training Loss: 0.0149 Got 48948 / 66071 correct. Acc: 74.08%\n",
      "Epoch: 7 Validation Loss: 0.0591 Got 3239 / 11016 correct 29.40%\n",
      "Epoch: 8 Training Loss: 0.0120 Got 52220 / 66071 correct. Acc: 79.04%\n",
      "Epoch: 8 Validation Loss: 0.0632 Got 3312 / 11016 correct 30.07%\n",
      "Epoch: 9 Training Loss: 0.0097 Got 54616 / 66071 correct. Acc: 82.66%\n",
      "Epoch: 9 Validation Loss: 0.0663 Got 3397 / 11016 correct 30.84%\n",
      "Epoch: 10 Training Loss: 0.0079 Got 56616 / 66071 correct. Acc: 85.69%\n",
      "Epoch: 10 Validation Loss: 0.0755 Got 3222 / 11016 correct 29.25%\n",
      "CPU times: user 45min 22s, sys: 14min 35s, total: 59min 58s\n",
      "Wall time: 1h 4min 21s\n"
     ]
    }
   ],
   "source": [
    "%%time\n",
    "LOSS, ACC, LOSS_V, ACC_V = train_model(gpu(model), optimizer, train_dataloader, val_dataloader, epochs=10)"
   ]
  },
  {
   "cell_type": "code",
   "execution_count": 21,
   "metadata": {},
   "outputs": [],
   "source": [
    "torch.save(model.state_dict(), '../saved_models/food/conv4/baseline.pt')\n",
    "torch.save({'loss': LOSS, 'acc': ACC, 'loss_v': LOSS_V, 'acc_v': ACC_V}, '../saved_models/food/conv4/baseline-history.pt')"
   ]
  },
  {
   "cell_type": "code",
   "execution_count": 7,
   "metadata": {},
   "outputs": [],
   "source": [
    "model.load_state_dict(torch.load('../saved_models/food/conv4/baseline.pt'))\n",
    "model = gpu(model)\n",
    "model.eval()\n",
    "\n",
    "history_convbaseline = torch.load('../saved_models/food/conv4/baseline-history.pt')\n",
    "LOSS, ACC, LOSS_V, ACC_V = (history_convbaseline['loss'], history_convbaseline['acc'], \n",
    "                                                history_convbaseline['loss_v'], history_convbaseline['acc_v'])"
   ]
  },
  {
   "cell_type": "code",
   "execution_count": 9,
   "metadata": {},
   "outputs": [
    {
     "data": {
      "image/png": "[encoded data removed]",
      "text/plain": [
       "<Figure size 432x288 with 1 Axes>"
      ]
     },
     "metadata": {
      "needs_background": "light"
     },
     "output_type": "display_data"
    },
    {
     "data": {
      "image/png": "[encoded data removed]",
      "text/plain": [
       "<Figure size 432x288 with 1 Axes>"
      ]
     },
     "metadata": {
      "needs_background": "light"
     },
     "output_type": "display_data"
    }
   ],
   "source": [
    "# Loss and Accuracy Curves\n",
    "from utils.plots import plot_loss_and_accuracy_curves\n",
    "plot_loss_and_accuracy_curves('Conv-4', LOSS, ACC, LOSS_V, ACC_V)"
   ]
  },
  {
   "cell_type": "code",
   "execution_count": 12,
   "metadata": {},
   "outputs": [
    {
     "name": "stdout",
     "output_type": "stream",
     "text": [
      "Accuracy of the network on the all test images: 28.88 %\n"
     ]
    }
   ],
   "source": [
    "correct = 0\n",
    "total = 0\n",
    "with torch.no_grad():\n",
    "    for data in test_dataloader:\n",
    "        images, labels = data\n",
    "        images = gpu(images)\n",
    "        labels = gpu(labels)\n",
    "        outputs = model(images)\n",
    "        _, predicted = torch.max(outputs.data, 1)\n",
    "        total += labels.size(0)\n",
    "        correct += (predicted == labels).sum().item()\n",
    "\n",
    "print('Accuracy of the network on the all test images: %.2f %%' % (\n",
    "    100 * correct / total))"
   ]
  },
  {
   "cell_type": "code",
   "execution_count": 13,
   "metadata": {},
   "outputs": [
    {
     "name": "stdout",
     "output_type": "stream",
     "text": [
      "Top 5 Accuracy of the network on the all test images: 54.87 %\n"
     ]
    }
   ],
   "source": [
    "def compute_top_5_accuracy(model):\n",
    "    correct = 0\n",
    "    total = 0\n",
    "    with torch.no_grad():\n",
    "        model.eval()\n",
    "        for data in test_dataloader:\n",
    "            images, labels = data\n",
    "            images = gpu(images)\n",
    "            labels = gpu(labels)\n",
    "            outputs = model(images)\n",
    "            _, predicted = torch.topk(outputs.data, 5, dim=1)\n",
    "            total += labels.size(0)\n",
    "            for i in range(predicted.shape[0]):\n",
    "                top_5_predictions = predicted[i]\n",
    "                label = labels[i]\n",
    "                if label in top_5_predictions:\n",
    "                    correct += 1\n",
    "    print('Top 5 Accuracy of the network on the all test images: %.2f %%' % (\n",
    "        100 * correct / total))\n",
    "    \n",
    "compute_top_5_accuracy(model)"
   ]
  },
  {
   "cell_type": "code",
   "execution_count": null,
   "metadata": {},
   "outputs": [],
   "source": []
  }
 ],
 "metadata": {
  "kernelspec": {
   "display_name": "Python 3",
   "language": "python",
   "name": "python3"
  },
  "language_info": {
   "codemirror_mode": {
    "name": "ipython",
    "version": 3
   },
   "file_extension": ".py",
   "mimetype": "text/x-python",
   "name": "python",
   "nbconvert_exporter": "python",
   "pygments_lexer": "ipython3",
   "version": "3.7.10"
  }
 },
 "nbformat": 4,
 "nbformat_minor": 2
}
