{
 "cells": [
  {
   "cell_type": "markdown",
   "metadata": {},
   "source": [
    "## Imports"
   ]
  },
  {
   "cell_type": "code",
   "execution_count": 1,
   "metadata": {},
   "outputs": [],
   "source": [
    "# Add parent directory to path for local imports\n",
    "import os,sys,inspect\n",
    "currentdir = os.path.dirname(os.path.abspath(inspect.getfile(inspect.currentframe())))\n",
    "parentdir = os.path.dirname(currentdir)\n",
    "sys.path.insert(0,parentdir) \n",
    "\n",
    "from PIL import Image\n",
    "import numpy as np\n",
    "import matplotlib.pyplot as plt\n",
    "import os\n",
    "import torch\n",
    "import torch.nn as nn\n",
    "import torch.nn.functional as F\n",
    "import torch.optim as optim\n",
    "import torchvision\n",
    "import torchvision.datasets as dset\n",
    "import torchvision.models as models\n",
    "import torchvision.transforms as T\n",
    "import bcolz\n",
    "import time\n",
    "from torch.utils.data import Dataset, DataLoader, sampler\n",
    "from sklearn.metrics import *\n",
    "%matplotlib inline"
   ]
  },
  {
   "cell_type": "code",
   "execution_count": 2,
   "metadata": {},
   "outputs": [
    {
     "name": "stdout",
     "output_type": "stream",
     "text": [
      "Using gpu: True \n"
     ]
    }
   ],
   "source": [
    "use_gpu = torch.cuda.is_available()\n",
    "print('Using gpu: %s ' % use_gpu)\n",
    "\n",
    "def gpu(x,use_gpu=use_gpu):\n",
    "    if use_gpu:\n",
    "        return x.cuda()\n",
    "    else:\n",
    "        return x"
   ]
  },
  {
   "cell_type": "markdown",
   "metadata": {},
   "source": [
    "## Data processing"
   ]
  },
  {
   "cell_type": "code",
   "execution_count": 3,
   "metadata": {},
   "outputs": [],
   "source": [
    "transform = T.Compose([\n",
    "    T.CenterCrop(224),\n",
    "    T.ToTensor(),\n",
    "    T.Normalize(mean=[0.485, 0.456, 0.406], std=[0.229, 0.224, 0.225]),\n",
    "])\n",
    "\n",
    "class ImageFolderWithPaths(dset.ImageFolder):\n",
    "    \"\"\"Custom dataset that includes image file paths. Extends\n",
    "    torchvision.datasets.ImageFolder\n",
    "    \"\"\"\n",
    "    # override the __getitem__ method. this is the method dataloader calls\n",
    "    def __getitem__(self, index):\n",
    "        # this is what ImageFolder normally returns \n",
    "        original_tuple = super(ImageFolderWithPaths, self).__getitem__(index)\n",
    "        # the image file path\n",
    "        path = self.imgs[index][0]\n",
    "        # make a new tuple that includes original and the path\n",
    "        tuple_with_path = (original_tuple + (path,))\n",
    "        return tuple_with_path\n",
    "\n",
    "train_dataset = ImageFolderWithPaths('../Dataset/train', transform=transform)\n",
    "val_dataset = ImageFolderWithPaths('../Dataset/val', transform=transform)\n",
    "test_dataset = ImageFolderWithPaths('../Dataset/test', transform=transform)"
   ]
  },
  {
   "cell_type": "code",
   "execution_count": 4,
   "metadata": {},
   "outputs": [
    {
     "name": "stdout",
     "output_type": "stream",
     "text": [
      "Number of training examples 66071, validation examples 11016, testing examples 33154\n"
     ]
    }
   ],
   "source": [
    "train_size = len(train_dataset)\n",
    "val_size = len(val_dataset)\n",
    "test_size = len(test_dataset)\n",
    "print(\"Number of training examples {}, validation examples {}, testing examples {}\".format(train_size, val_size, test_size))"
   ]
  },
  {
   "cell_type": "code",
   "execution_count": 5,
   "metadata": {},
   "outputs": [
    {
     "name": "stderr",
     "output_type": "stream",
     "text": [
      "/opt/conda/lib/python3.7/site-packages/torch/utils/data/dataloader.py:477: UserWarning: This DataLoader will create 6 worker processes in total. Our suggested max number of worker in current system is 2, which is smaller than what this DataLoader is going to create. Please be aware that excessive worker creation might get DataLoader running slow or even freeze, lower the worker number to avoid potential slowness/freeze if necessary.\n",
      "  cpuset_checked))\n"
     ]
    }
   ],
   "source": [
    "train_dataloader = DataLoader(train_dataset, batch_size=64, shuffle=True, num_workers=6)\n",
    "val_dataloader = DataLoader(val_dataset, batch_size=64, shuffle=False, num_workers=6)\n",
    "test_dataloader = DataLoader(test_dataset, batch_size=64, shuffle=False, num_workers=6)"
   ]
  },
  {
   "cell_type": "code",
   "execution_count": 6,
   "metadata": {},
   "outputs": [],
   "source": [
    "IngreLabel = open('../VireoFood172/SplitAndIngreLabel/IngreLabel.txt', 'r').read().split('\\n')[:-1]  # list of str\n",
    "path_to_ingredients = dict()\n",
    "for i in range(len(IngreLabel)):\n",
    "    path_and_ingredients = IngreLabel[i].split()\n",
    "    path, ingredients = path_and_ingredients[0], [0 if int(label) == -1 else int(label) for label in path_and_ingredients[1:]]\n",
    "    path_to_ingredients[path] = np.array(ingredients)"
   ]
  },
  {
   "cell_type": "code",
   "execution_count": 7,
   "metadata": {},
   "outputs": [],
   "source": [
    "def get_ingredients(path):\n",
    "    split_path = path.split(\"/\")\n",
    "    key = '/' + '/'.join(split_path[3:])\n",
    "    ingredients = path_to_ingredients[key]\n",
    "    return ingredients"
   ]
  },
  {
   "cell_type": "code",
   "execution_count": 40,
   "metadata": {},
   "outputs": [
    {
     "name": "stdout",
     "output_type": "stream",
     "text": [
      "353\n"
     ]
    }
   ],
   "source": [
    "IngreList = open('../VireoFood172/SplitAndIngreLabel/IngredientList.txt', 'r').read().split('\\n')[:-1]  # list of str\n",
    "print(len(IngreList))"
   ]
  },
  {
   "cell_type": "markdown",
   "metadata": {},
   "source": [
    "## Creating ResNet model"
   ]
  },
  {
   "cell_type": "code",
   "execution_count": 8,
   "metadata": {},
   "outputs": [
    {
     "name": "stdout",
     "output_type": "stream",
     "text": [
      "ResNet(\n",
      "  (conv1): Conv2d(3, 64, kernel_size=(7, 7), stride=(2, 2), padding=(3, 3), bias=False)\n",
      "  (bn1): BatchNorm2d(64, eps=1e-05, momentum=0.1, affine=True, track_running_stats=True)\n",
      "  (relu): ReLU(inplace=True)\n",
      "  (maxpool): MaxPool2d(kernel_size=3, stride=2, padding=1, dilation=1, ceil_mode=False)\n",
      "  (layer1): Sequential(\n",
      "    (0): BasicBlock(\n",
      "      (conv1): Conv2d(64, 64, kernel_size=(3, 3), stride=(1, 1), padding=(1, 1), bias=False)\n",
      "      (bn1): BatchNorm2d(64, eps=1e-05, momentum=0.1, affine=True, track_running_stats=True)\n",
      "      (relu): ReLU(inplace=True)\n",
      "      (conv2): Conv2d(64, 64, kernel_size=(3, 3), stride=(1, 1), padding=(1, 1), bias=False)\n",
      "      (bn2): BatchNorm2d(64, eps=1e-05, momentum=0.1, affine=True, track_running_stats=True)\n",
      "    )\n",
      "    (1): BasicBlock(\n",
      "      (conv1): Conv2d(64, 64, kernel_size=(3, 3), stride=(1, 1), padding=(1, 1), bias=False)\n",
      "      (bn1): BatchNorm2d(64, eps=1e-05, momentum=0.1, affine=True, track_running_stats=True)\n",
      "      (relu): ReLU(inplace=True)\n",
      "      (conv2): Conv2d(64, 64, kernel_size=(3, 3), stride=(1, 1), padding=(1, 1), bias=False)\n",
      "      (bn2): BatchNorm2d(64, eps=1e-05, momentum=0.1, affine=True, track_running_stats=True)\n",
      "    )\n",
      "  )\n",
      "  (layer2): Sequential(\n",
      "    (0): BasicBlock(\n",
      "      (conv1): Conv2d(64, 128, kernel_size=(3, 3), stride=(2, 2), padding=(1, 1), bias=False)\n",
      "      (bn1): BatchNorm2d(128, eps=1e-05, momentum=0.1, affine=True, track_running_stats=True)\n",
      "      (relu): ReLU(inplace=True)\n",
      "      (conv2): Conv2d(128, 128, kernel_size=(3, 3), stride=(1, 1), padding=(1, 1), bias=False)\n",
      "      (bn2): BatchNorm2d(128, eps=1e-05, momentum=0.1, affine=True, track_running_stats=True)\n",
      "      (downsample): Sequential(\n",
      "        (0): Conv2d(64, 128, kernel_size=(1, 1), stride=(2, 2), bias=False)\n",
      "        (1): BatchNorm2d(128, eps=1e-05, momentum=0.1, affine=True, track_running_stats=True)\n",
      "      )\n",
      "    )\n",
      "    (1): BasicBlock(\n",
      "      (conv1): Conv2d(128, 128, kernel_size=(3, 3), stride=(1, 1), padding=(1, 1), bias=False)\n",
      "      (bn1): BatchNorm2d(128, eps=1e-05, momentum=0.1, affine=True, track_running_stats=True)\n",
      "      (relu): ReLU(inplace=True)\n",
      "      (conv2): Conv2d(128, 128, kernel_size=(3, 3), stride=(1, 1), padding=(1, 1), bias=False)\n",
      "      (bn2): BatchNorm2d(128, eps=1e-05, momentum=0.1, affine=True, track_running_stats=True)\n",
      "    )\n",
      "  )\n",
      "  (layer3): Sequential(\n",
      "    (0): BasicBlock(\n",
      "      (conv1): Conv2d(128, 256, kernel_size=(3, 3), stride=(2, 2), padding=(1, 1), bias=False)\n",
      "      (bn1): BatchNorm2d(256, eps=1e-05, momentum=0.1, affine=True, track_running_stats=True)\n",
      "      (relu): ReLU(inplace=True)\n",
      "      (conv2): Conv2d(256, 256, kernel_size=(3, 3), stride=(1, 1), padding=(1, 1), bias=False)\n",
      "      (bn2): BatchNorm2d(256, eps=1e-05, momentum=0.1, affine=True, track_running_stats=True)\n",
      "      (downsample): Sequential(\n",
      "        (0): Conv2d(128, 256, kernel_size=(1, 1), stride=(2, 2), bias=False)\n",
      "        (1): BatchNorm2d(256, eps=1e-05, momentum=0.1, affine=True, track_running_stats=True)\n",
      "      )\n",
      "    )\n",
      "    (1): BasicBlock(\n",
      "      (conv1): Conv2d(256, 256, kernel_size=(3, 3), stride=(1, 1), padding=(1, 1), bias=False)\n",
      "      (bn1): BatchNorm2d(256, eps=1e-05, momentum=0.1, affine=True, track_running_stats=True)\n",
      "      (relu): ReLU(inplace=True)\n",
      "      (conv2): Conv2d(256, 256, kernel_size=(3, 3), stride=(1, 1), padding=(1, 1), bias=False)\n",
      "      (bn2): BatchNorm2d(256, eps=1e-05, momentum=0.1, affine=True, track_running_stats=True)\n",
      "    )\n",
      "  )\n",
      "  (layer4): Sequential(\n",
      "    (0): BasicBlock(\n",
      "      (conv1): Conv2d(256, 512, kernel_size=(3, 3), stride=(2, 2), padding=(1, 1), bias=False)\n",
      "      (bn1): BatchNorm2d(512, eps=1e-05, momentum=0.1, affine=True, track_running_stats=True)\n",
      "      (relu): ReLU(inplace=True)\n",
      "      (conv2): Conv2d(512, 512, kernel_size=(3, 3), stride=(1, 1), padding=(1, 1), bias=False)\n",
      "      (bn2): BatchNorm2d(512, eps=1e-05, momentum=0.1, affine=True, track_running_stats=True)\n",
      "      (downsample): Sequential(\n",
      "        (0): Conv2d(256, 512, kernel_size=(1, 1), stride=(2, 2), bias=False)\n",
      "        (1): BatchNorm2d(512, eps=1e-05, momentum=0.1, affine=True, track_running_stats=True)\n",
      "      )\n",
      "    )\n",
      "    (1): BasicBlock(\n",
      "      (conv1): Conv2d(512, 512, kernel_size=(3, 3), stride=(1, 1), padding=(1, 1), bias=False)\n",
      "      (bn1): BatchNorm2d(512, eps=1e-05, momentum=0.1, affine=True, track_running_stats=True)\n",
      "      (relu): ReLU(inplace=True)\n",
      "      (conv2): Conv2d(512, 512, kernel_size=(3, 3), stride=(1, 1), padding=(1, 1), bias=False)\n",
      "      (bn2): BatchNorm2d(512, eps=1e-05, momentum=0.1, affine=True, track_running_stats=True)\n",
      "    )\n",
      "  )\n",
      "  (avgpool): AdaptiveAvgPool2d(output_size=(1, 1))\n",
      "  (fc): Linear(in_features=512, out_features=1000, bias=True)\n",
      ")\n"
     ]
    }
   ],
   "source": [
    "model = models.resnet18(pretrained=True)\n",
    "for param in model.parameters():\n",
    "    param.requires_grad = False\n",
    "print(model)"
   ]
  },
  {
   "cell_type": "code",
   "execution_count": 9,
   "metadata": {},
   "outputs": [
    {
     "name": "stdout",
     "output_type": "stream",
     "text": [
      "ResNet(\n",
      "  (conv1): Conv2d(3, 64, kernel_size=(7, 7), stride=(2, 2), padding=(3, 3), bias=False)\n",
      "  (bn1): BatchNorm2d(64, eps=1e-05, momentum=0.1, affine=True, track_running_stats=True)\n",
      "  (relu): ReLU(inplace=True)\n",
      "  (maxpool): MaxPool2d(kernel_size=3, stride=2, padding=1, dilation=1, ceil_mode=False)\n",
      "  (layer1): Sequential(\n",
      "    (0): BasicBlock(\n",
      "      (conv1): Conv2d(64, 64, kernel_size=(3, 3), stride=(1, 1), padding=(1, 1), bias=False)\n",
      "      (bn1): BatchNorm2d(64, eps=1e-05, momentum=0.1, affine=True, track_running_stats=True)\n",
      "      (relu): ReLU(inplace=True)\n",
      "      (conv2): Conv2d(64, 64, kernel_size=(3, 3), stride=(1, 1), padding=(1, 1), bias=False)\n",
      "      (bn2): BatchNorm2d(64, eps=1e-05, momentum=0.1, affine=True, track_running_stats=True)\n",
      "    )\n",
      "    (1): BasicBlock(\n",
      "      (conv1): Conv2d(64, 64, kernel_size=(3, 3), stride=(1, 1), padding=(1, 1), bias=False)\n",
      "      (bn1): BatchNorm2d(64, eps=1e-05, momentum=0.1, affine=True, track_running_stats=True)\n",
      "      (relu): ReLU(inplace=True)\n",
      "      (conv2): Conv2d(64, 64, kernel_size=(3, 3), stride=(1, 1), padding=(1, 1), bias=False)\n",
      "      (bn2): BatchNorm2d(64, eps=1e-05, momentum=0.1, affine=True, track_running_stats=True)\n",
      "    )\n",
      "  )\n",
      "  (layer2): Sequential(\n",
      "    (0): BasicBlock(\n",
      "      (conv1): Conv2d(64, 128, kernel_size=(3, 3), stride=(2, 2), padding=(1, 1), bias=False)\n",
      "      (bn1): BatchNorm2d(128, eps=1e-05, momentum=0.1, affine=True, track_running_stats=True)\n",
      "      (relu): ReLU(inplace=True)\n",
      "      (conv2): Conv2d(128, 128, kernel_size=(3, 3), stride=(1, 1), padding=(1, 1), bias=False)\n",
      "      (bn2): BatchNorm2d(128, eps=1e-05, momentum=0.1, affine=True, track_running_stats=True)\n",
      "      (downsample): Sequential(\n",
      "        (0): Conv2d(64, 128, kernel_size=(1, 1), stride=(2, 2), bias=False)\n",
      "        (1): BatchNorm2d(128, eps=1e-05, momentum=0.1, affine=True, track_running_stats=True)\n",
      "      )\n",
      "    )\n",
      "    (1): BasicBlock(\n",
      "      (conv1): Conv2d(128, 128, kernel_size=(3, 3), stride=(1, 1), padding=(1, 1), bias=False)\n",
      "      (bn1): BatchNorm2d(128, eps=1e-05, momentum=0.1, affine=True, track_running_stats=True)\n",
      "      (relu): ReLU(inplace=True)\n",
      "      (conv2): Conv2d(128, 128, kernel_size=(3, 3), stride=(1, 1), padding=(1, 1), bias=False)\n",
      "      (bn2): BatchNorm2d(128, eps=1e-05, momentum=0.1, affine=True, track_running_stats=True)\n",
      "    )\n",
      "  )\n",
      "  (layer3): Sequential(\n",
      "    (0): BasicBlock(\n",
      "      (conv1): Conv2d(128, 256, kernel_size=(3, 3), stride=(2, 2), padding=(1, 1), bias=False)\n",
      "      (bn1): BatchNorm2d(256, eps=1e-05, momentum=0.1, affine=True, track_running_stats=True)\n",
      "      (relu): ReLU(inplace=True)\n",
      "      (conv2): Conv2d(256, 256, kernel_size=(3, 3), stride=(1, 1), padding=(1, 1), bias=False)\n",
      "      (bn2): BatchNorm2d(256, eps=1e-05, momentum=0.1, affine=True, track_running_stats=True)\n",
      "      (downsample): Sequential(\n",
      "        (0): Conv2d(128, 256, kernel_size=(1, 1), stride=(2, 2), bias=False)\n",
      "        (1): BatchNorm2d(256, eps=1e-05, momentum=0.1, affine=True, track_running_stats=True)\n",
      "      )\n",
      "    )\n",
      "    (1): BasicBlock(\n",
      "      (conv1): Conv2d(256, 256, kernel_size=(3, 3), stride=(1, 1), padding=(1, 1), bias=False)\n",
      "      (bn1): BatchNorm2d(256, eps=1e-05, momentum=0.1, affine=True, track_running_stats=True)\n",
      "      (relu): ReLU(inplace=True)\n",
      "      (conv2): Conv2d(256, 256, kernel_size=(3, 3), stride=(1, 1), padding=(1, 1), bias=False)\n",
      "      (bn2): BatchNorm2d(256, eps=1e-05, momentum=0.1, affine=True, track_running_stats=True)\n",
      "    )\n",
      "  )\n",
      "  (layer4): Sequential(\n",
      "    (0): BasicBlock(\n",
      "      (conv1): Conv2d(256, 512, kernel_size=(3, 3), stride=(2, 2), padding=(1, 1), bias=False)\n",
      "      (bn1): BatchNorm2d(512, eps=1e-05, momentum=0.1, affine=True, track_running_stats=True)\n",
      "      (relu): ReLU(inplace=True)\n",
      "      (conv2): Conv2d(512, 512, kernel_size=(3, 3), stride=(1, 1), padding=(1, 1), bias=False)\n",
      "      (bn2): BatchNorm2d(512, eps=1e-05, momentum=0.1, affine=True, track_running_stats=True)\n",
      "      (downsample): Sequential(\n",
      "        (0): Conv2d(256, 512, kernel_size=(1, 1), stride=(2, 2), bias=False)\n",
      "        (1): BatchNorm2d(512, eps=1e-05, momentum=0.1, affine=True, track_running_stats=True)\n",
      "      )\n",
      "    )\n",
      "    (1): BasicBlock(\n",
      "      (conv1): Conv2d(512, 512, kernel_size=(3, 3), stride=(1, 1), padding=(1, 1), bias=False)\n",
      "      (bn1): BatchNorm2d(512, eps=1e-05, momentum=0.1, affine=True, track_running_stats=True)\n",
      "      (relu): ReLU(inplace=True)\n",
      "      (conv2): Conv2d(512, 512, kernel_size=(3, 3), stride=(1, 1), padding=(1, 1), bias=False)\n",
      "      (bn2): BatchNorm2d(512, eps=1e-05, momentum=0.1, affine=True, track_running_stats=True)\n",
      "    )\n",
      "  )\n",
      "  (avgpool): AdaptiveAvgPool2d(output_size=(1, 1))\n",
      "  (fc): Sequential(\n",
      "    (0): Linear(in_features=512, out_features=353, bias=True)\n",
      "    (1): Sigmoid()\n",
      "  )\n",
      ")\n"
     ]
    }
   ],
   "source": [
    "model.fc = nn.Sequential(nn.Linear(512, 353), nn.Sigmoid())\n",
    "print(model)"
   ]
  },
  {
   "cell_type": "code",
   "execution_count": 10,
   "metadata": {},
   "outputs": [],
   "source": [
    "model = gpu(model)"
   ]
  },
  {
   "cell_type": "markdown",
   "metadata": {},
   "source": [
    "## Training fully connected module"
   ]
  },
  {
   "cell_type": "code",
   "execution_count": 11,
   "metadata": {},
   "outputs": [],
   "source": [
    "optimizer = optim.Adam(model.parameters())\n",
    "criterion = nn.BCELoss()"
   ]
  },
  {
   "cell_type": "markdown",
   "metadata": {},
   "source": [
    "### Training the model"
   ]
  },
  {
   "cell_type": "code",
   "execution_count": 12,
   "metadata": {},
   "outputs": [],
   "source": [
    "# Use threshold to define predicted labels and invoke sklearn's metrics with different averaging strategies.\n",
    "def calculate_metrics(pred, target, threshold=0.5):\n",
    "    pred = np.array(pred > threshold, dtype=float)\n",
    "    return {'micro/precision': precision_score(y_true=target, y_pred=pred, average='micro'),\n",
    "            'micro/recall': recall_score(y_true=target, y_pred=pred, average='micro'),\n",
    "            'micro/f1': f1_score(y_true=target, y_pred=pred, average='micro'),\n",
    "            'macro/precision': precision_score(y_true=target, y_pred=pred, average='macro'),\n",
    "            'macro/recall': recall_score(y_true=target, y_pred=pred, average='macro'),\n",
    "            'macro/f1': f1_score(y_true=target, y_pred=pred, average='macro'),\n",
    "            'samples/precision': precision_score(y_true=target, y_pred=pred, average='samples'),\n",
    "            'samples/recall': recall_score(y_true=target, y_pred=pred, average='samples'),\n",
    "            'samples/f1': f1_score(y_true=target, y_pred=pred, average='samples'),\n",
    "            }"
   ]
  },
  {
   "cell_type": "code",
   "execution_count": 13,
   "metadata": {},
   "outputs": [],
   "source": [
    "def build_results(loss_history, accuracy_history, micro_f1_history, macro_f1_history, samples_f1_history):\n",
    "    results = dict()\n",
    "    results['loss_history'] = loss_history\n",
    "    results['accuracy_history'] = accuracy_history\n",
    "    results['micro_f1_history'] = micro_f1_history\n",
    "    results['macro_f1_history'] = macro_f1_history\n",
    "    results['samples_f1_history'] = samples_f1_history\n",
    "    return results"
   ]
  },
  {
   "cell_type": "code",
   "execution_count": 14,
   "metadata": {},
   "outputs": [],
   "source": [
    "def train_model(model, optimizer, epochs=1):\n",
    "    train_loss_history, train_accuracy_history = [], []\n",
    "    train_micro_f1_history, train_macro_f1_history, train_samples_f1_history = [], [], []\n",
    "    val_loss_history, val_accuracy_history = [], []\n",
    "    val_micro_f1_history, val_macro_f1_history, val_samples_f1_history = [], [], []\n",
    "    for epoch in range(epochs):\n",
    "        model.train()\n",
    "        batches = train_dataloader\n",
    "        num_correct, num_samples, total_loss = 0, 0, 0\n",
    "        i = 0\n",
    "        model_result = []\n",
    "        targets = []\n",
    "        for x, food_labels, paths in batches:\n",
    "            y = np.array([get_ingredients(path) for path in paths])\n",
    "            x, y = gpu(x), gpu(torch.from_numpy(y)).to(torch.float32)\n",
    "            scores = model(x)\n",
    "            loss = criterion(scores, y)           \n",
    "            optimizer.zero_grad()\n",
    "            loss.backward()\n",
    "            optimizer.step()\n",
    "            total_loss += loss.data.item()\n",
    "            num_correct += get_num_correct(scores, y)\n",
    "            num_samples += x.size(0)\n",
    "            i += 1\n",
    "            \n",
    "            model_result.extend(scores.detach().cpu().numpy())\n",
    "            targets.extend(y.detach().cpu().numpy())\n",
    "        result = calculate_metrics(np.array(model_result), np.array(targets))\n",
    "        micro_f1, macro_f1, samples_f1 = result['micro/f1'], result['macro/f1'], result['samples/f1']\n",
    "        print(\"Epoch:{:2d} Training: \"\n",
    "              \"Micro F1: {:.3f} \"\n",
    "              \"Macro F1: {:.3f} \"\n",
    "              \"Samples F1: {:.3f}\".format(epoch + 1, micro_f1, macro_f1, samples_f1))\n",
    "        average_loss = total_loss / num_samples\n",
    "        acc = num_correct / num_samples\n",
    "        train_loss_history.append(average_loss)\n",
    "        train_accuracy_history.append(acc)\n",
    "        train_micro_f1_history.append(micro_f1)\n",
    "        train_macro_f1_history.append(macro_f1)\n",
    "        train_samples_f1_history.append(samples_f1)\n",
    "        print('Epoch: {} Training Loss: {:.8f} Got {} / {} correct. Acc: {:.2f}%'.format(\n",
    "                     epoch + 1, average_loss, num_correct, num_samples, 100 * acc))\n",
    "        \n",
    "        check_accuracy(model, val_loss_history, val_accuracy_history, \n",
    "                       val_micro_f1_history, val_macro_f1_history, val_samples_f1_history,\n",
    "                       epoch)\n",
    "    train_results = build_results(train_loss_history, train_accuracy_history,\n",
    "                                  train_micro_f1_history, train_macro_f1_history, train_samples_f1_history)\n",
    "    val_results = build_results(val_loss_history, val_accuracy_history,\n",
    "                                val_micro_f1_history, val_macro_f1_history, val_samples_f1_history)\n",
    "    results = dict()\n",
    "    results['train'] = train_results\n",
    "    results['val'] = val_results\n",
    "    return results\n",
    "\n",
    "def check_accuracy(model, val_loss_history, val_accuracy_history, \n",
    "                   val_micro_f1_history, val_macro_f1_history, val_samples_f1_history,\n",
    "                   epoch):\n",
    "    num_correct, num_samples, total_loss = 0, 0, 0\n",
    "    model.eval()\n",
    "    batches = val_dataloader\n",
    "    with torch.no_grad():\n",
    "        model_result = []\n",
    "        targets = []\n",
    "        for x, food_labels, paths in batches:\n",
    "            y = np.array([get_ingredients(path) for path in paths])\n",
    "            x, y = gpu(x), gpu(torch.from_numpy(y)).to(torch.float32)\n",
    "            scores = model(x)\n",
    "            loss = criterion(scores, y) \n",
    "            total_loss += loss.data.item()\n",
    "            num_correct += get_num_correct(scores, y)\n",
    "            num_samples += x.size(0)\n",
    "            \n",
    "            model_result.extend(scores.cpu().numpy())\n",
    "            targets.extend(y.cpu().numpy())\n",
    "        result = calculate_metrics(np.array(model_result), np.array(targets))\n",
    "        micro_f1, macro_f1, samples_f1 = result['micro/f1'], result['macro/f1'], result['samples/f1']\n",
    "        print(\"Epoch:{:2d} Validation: \"\n",
    "              \"Micro F1: {:.3f} \"\n",
    "              \"Macro F1: {:.3f} \"\n",
    "              \"Samples F1: {:.3f}\".format(epoch + 1,\n",
    "                                          result['micro/f1'],\n",
    "                                          result['macro/f1'],\n",
    "                                          result['samples/f1']))\n",
    "        average_loss = total_loss / num_samples\n",
    "        acc = num_correct / num_samples\n",
    "    val_loss_history.append(average_loss)\n",
    "    val_accuracy_history.append(acc)\n",
    "    val_micro_f1_history.append(micro_f1)\n",
    "    val_macro_f1_history.append(macro_f1)\n",
    "    val_samples_f1_history.append(samples_f1)\n",
    "    print('Epoch: {} Validation Loss: {:.8f} Got {} / {} correct {:.2f}%'.format(\n",
    "        epoch + 1, average_loss, num_correct, num_samples, 100 * acc))\n",
    "\n",
    "def get_num_correct(scores, y):\n",
    "    scores[scores >= 0.5] = 1\n",
    "    scores[scores < 0.5] = 0\n",
    "    num_correct = (scores == y).all(dim=1).sum().item()\n",
    "    return num_correct"
   ]
  },
  {
   "cell_type": "code",
   "execution_count": 15,
   "metadata": {},
   "outputs": [
    {
     "name": "stderr",
     "output_type": "stream",
     "text": [
      "/opt/conda/lib/python3.7/site-packages/sklearn/metrics/_classification.py:1245: UndefinedMetricWarning: Precision is ill-defined and being set to 0.0 in labels with no predicted samples. Use `zero_division` parameter to control this behavior.\n",
      "  _warn_prf(average, modifier, msg_start, len(result))\n",
      "/opt/conda/lib/python3.7/site-packages/sklearn/metrics/_classification.py:1245: UndefinedMetricWarning: Precision is ill-defined and being set to 0.0 in samples with no predicted labels. Use `zero_division` parameter to control this behavior.\n",
      "  _warn_prf(average, modifier, msg_start, len(result))\n"
     ]
    },
    {
     "name": "stdout",
     "output_type": "stream",
     "text": [
      "Epoch: 1 Training: Micro F1: 0.286 Macro F1: 0.117 Samples F1: 0.226\n",
      "Epoch: 1 Training Loss: 0.00047063 Got 3425 / 66071 correct. Acc: 5.18%\n"
     ]
    },
    {
     "name": "stderr",
     "output_type": "stream",
     "text": [
      "/opt/conda/lib/python3.7/site-packages/torch/utils/data/dataloader.py:477: UserWarning: This DataLoader will create 6 worker processes in total. Our suggested max number of worker in current system is 2, which is smaller than what this DataLoader is going to create. Please be aware that excessive worker creation might get DataLoader running slow or even freeze, lower the worker number to avoid potential slowness/freeze if necessary.\n",
      "  cpuset_checked))\n",
      "/opt/conda/lib/python3.7/site-packages/sklearn/metrics/_classification.py:1245: UndefinedMetricWarning: Precision is ill-defined and being set to 0.0 in labels with no predicted samples. Use `zero_division` parameter to control this behavior.\n",
      "  _warn_prf(average, modifier, msg_start, len(result))\n",
      "/opt/conda/lib/python3.7/site-packages/sklearn/metrics/_classification.py:1245: UndefinedMetricWarning: Recall is ill-defined and being set to 0.0 in labels with no true samples. Use `zero_division` parameter to control this behavior.\n",
      "  _warn_prf(average, modifier, msg_start, len(result))\n",
      "/opt/conda/lib/python3.7/site-packages/sklearn/metrics/_classification.py:1493: UndefinedMetricWarning: F-score is ill-defined and being set to 0.0 in labels with no true nor predicted samples. Use `zero_division` parameter to control this behavior.\n",
      "  average, \"true nor predicted\", 'F-score is', len(true_sum)\n",
      "/opt/conda/lib/python3.7/site-packages/sklearn/metrics/_classification.py:1245: UndefinedMetricWarning: Precision is ill-defined and being set to 0.0 in samples with no predicted labels. Use `zero_division` parameter to control this behavior.\n",
      "  _warn_prf(average, modifier, msg_start, len(result))\n"
     ]
    },
    {
     "name": "stdout",
     "output_type": "stream",
     "text": [
      "Epoch: 1 Validation: Micro F1: 0.436 Macro F1: 0.207 Samples F1: 0.363\n",
      "Epoch: 1 Validation Loss: 0.00038826 Got 1128 / 11016 correct 10.24%\n"
     ]
    },
    {
     "name": "stderr",
     "output_type": "stream",
     "text": [
      "/opt/conda/lib/python3.7/site-packages/torch/utils/data/dataloader.py:477: UserWarning: This DataLoader will create 6 worker processes in total. Our suggested max number of worker in current system is 2, which is smaller than what this DataLoader is going to create. Please be aware that excessive worker creation might get DataLoader running slow or even freeze, lower the worker number to avoid potential slowness/freeze if necessary.\n",
      "  cpuset_checked))\n",
      "/opt/conda/lib/python3.7/site-packages/sklearn/metrics/_classification.py:1245: UndefinedMetricWarning: Precision is ill-defined and being set to 0.0 in labels with no predicted samples. Use `zero_division` parameter to control this behavior.\n",
      "  _warn_prf(average, modifier, msg_start, len(result))\n",
      "/opt/conda/lib/python3.7/site-packages/sklearn/metrics/_classification.py:1245: UndefinedMetricWarning: Precision is ill-defined and being set to 0.0 in samples with no predicted labels. Use `zero_division` parameter to control this behavior.\n",
      "  _warn_prf(average, modifier, msg_start, len(result))\n"
     ]
    },
    {
     "name": "stdout",
     "output_type": "stream",
     "text": [
      "Epoch: 2 Training: Micro F1: 0.532 Macro F1: 0.291 Samples F1: 0.456\n",
      "Epoch: 2 Training Loss: 0.00030855 Got 9838 / 66071 correct. Acc: 14.89%\n"
     ]
    },
    {
     "name": "stderr",
     "output_type": "stream",
     "text": [
      "/opt/conda/lib/python3.7/site-packages/torch/utils/data/dataloader.py:477: UserWarning: This DataLoader will create 6 worker processes in total. Our suggested max number of worker in current system is 2, which is smaller than what this DataLoader is going to create. Please be aware that excessive worker creation might get DataLoader running slow or even freeze, lower the worker number to avoid potential slowness/freeze if necessary.\n",
      "  cpuset_checked))\n",
      "/opt/conda/lib/python3.7/site-packages/sklearn/metrics/_classification.py:1245: UndefinedMetricWarning: Precision is ill-defined and being set to 0.0 in labels with no predicted samples. Use `zero_division` parameter to control this behavior.\n",
      "  _warn_prf(average, modifier, msg_start, len(result))\n",
      "/opt/conda/lib/python3.7/site-packages/sklearn/metrics/_classification.py:1245: UndefinedMetricWarning: Recall is ill-defined and being set to 0.0 in labels with no true samples. Use `zero_division` parameter to control this behavior.\n",
      "  _warn_prf(average, modifier, msg_start, len(result))\n",
      "/opt/conda/lib/python3.7/site-packages/sklearn/metrics/_classification.py:1493: UndefinedMetricWarning: F-score is ill-defined and being set to 0.0 in labels with no true nor predicted samples. Use `zero_division` parameter to control this behavior.\n",
      "  average, \"true nor predicted\", 'F-score is', len(true_sum)\n",
      "/opt/conda/lib/python3.7/site-packages/sklearn/metrics/_classification.py:1245: UndefinedMetricWarning: Precision is ill-defined and being set to 0.0 in samples with no predicted labels. Use `zero_division` parameter to control this behavior.\n",
      "  _warn_prf(average, modifier, msg_start, len(result))\n"
     ]
    },
    {
     "name": "stdout",
     "output_type": "stream",
     "text": [
      "Epoch: 2 Validation: Micro F1: 0.541 Macro F1: 0.307 Samples F1: 0.478\n",
      "Epoch: 2 Validation Loss: 0.00032020 Got 1696 / 11016 correct 15.40%\n"
     ]
    },
    {
     "name": "stderr",
     "output_type": "stream",
     "text": [
      "/opt/conda/lib/python3.7/site-packages/torch/utils/data/dataloader.py:477: UserWarning: This DataLoader will create 6 worker processes in total. Our suggested max number of worker in current system is 2, which is smaller than what this DataLoader is going to create. Please be aware that excessive worker creation might get DataLoader running slow or even freeze, lower the worker number to avoid potential slowness/freeze if necessary.\n",
      "  cpuset_checked))\n",
      "/opt/conda/lib/python3.7/site-packages/sklearn/metrics/_classification.py:1245: UndefinedMetricWarning: Precision is ill-defined and being set to 0.0 in labels with no predicted samples. Use `zero_division` parameter to control this behavior.\n",
      "  _warn_prf(average, modifier, msg_start, len(result))\n",
      "/opt/conda/lib/python3.7/site-packages/sklearn/metrics/_classification.py:1245: UndefinedMetricWarning: Precision is ill-defined and being set to 0.0 in samples with no predicted labels. Use `zero_division` parameter to control this behavior.\n",
      "  _warn_prf(average, modifier, msg_start, len(result))\n"
     ]
    },
    {
     "name": "stdout",
     "output_type": "stream",
     "text": [
      "Epoch: 3 Training: Micro F1: 0.626 Macro F1: 0.378 Samples F1: 0.563\n",
      "Epoch: 3 Training Loss: 0.00025596 Got 14243 / 66071 correct. Acc: 21.56%\n"
     ]
    },
    {
     "name": "stderr",
     "output_type": "stream",
     "text": [
      "/opt/conda/lib/python3.7/site-packages/torch/utils/data/dataloader.py:477: UserWarning: This DataLoader will create 6 worker processes in total. Our suggested max number of worker in current system is 2, which is smaller than what this DataLoader is going to create. Please be aware that excessive worker creation might get DataLoader running slow or even freeze, lower the worker number to avoid potential slowness/freeze if necessary.\n",
      "  cpuset_checked))\n",
      "/opt/conda/lib/python3.7/site-packages/sklearn/metrics/_classification.py:1245: UndefinedMetricWarning: Precision is ill-defined and being set to 0.0 in labels with no predicted samples. Use `zero_division` parameter to control this behavior.\n",
      "  _warn_prf(average, modifier, msg_start, len(result))\n",
      "/opt/conda/lib/python3.7/site-packages/sklearn/metrics/_classification.py:1245: UndefinedMetricWarning: Recall is ill-defined and being set to 0.0 in labels with no true samples. Use `zero_division` parameter to control this behavior.\n",
      "  _warn_prf(average, modifier, msg_start, len(result))\n",
      "/opt/conda/lib/python3.7/site-packages/sklearn/metrics/_classification.py:1493: UndefinedMetricWarning: F-score is ill-defined and being set to 0.0 in labels with no true nor predicted samples. Use `zero_division` parameter to control this behavior.\n",
      "  average, \"true nor predicted\", 'F-score is', len(true_sum)\n",
      "/opt/conda/lib/python3.7/site-packages/sklearn/metrics/_classification.py:1245: UndefinedMetricWarning: Precision is ill-defined and being set to 0.0 in samples with no predicted labels. Use `zero_division` parameter to control this behavior.\n",
      "  _warn_prf(average, modifier, msg_start, len(result))\n"
     ]
    },
    {
     "name": "stdout",
     "output_type": "stream",
     "text": [
      "Epoch: 3 Validation: Micro F1: 0.607 Macro F1: 0.360 Samples F1: 0.546\n",
      "Epoch: 3 Validation Loss: 0.00028712 Got 2140 / 11016 correct 19.43%\n"
     ]
    },
    {
     "name": "stderr",
     "output_type": "stream",
     "text": [
      "/opt/conda/lib/python3.7/site-packages/torch/utils/data/dataloader.py:477: UserWarning: This DataLoader will create 6 worker processes in total. Our suggested max number of worker in current system is 2, which is smaller than what this DataLoader is going to create. Please be aware that excessive worker creation might get DataLoader running slow or even freeze, lower the worker number to avoid potential slowness/freeze if necessary.\n",
      "  cpuset_checked))\n",
      "/opt/conda/lib/python3.7/site-packages/sklearn/metrics/_classification.py:1245: UndefinedMetricWarning: Precision is ill-defined and being set to 0.0 in labels with no predicted samples. Use `zero_division` parameter to control this behavior.\n",
      "  _warn_prf(average, modifier, msg_start, len(result))\n",
      "/opt/conda/lib/python3.7/site-packages/sklearn/metrics/_classification.py:1245: UndefinedMetricWarning: Precision is ill-defined and being set to 0.0 in samples with no predicted labels. Use `zero_division` parameter to control this behavior.\n",
      "  _warn_prf(average, modifier, msg_start, len(result))\n"
     ]
    },
    {
     "name": "stdout",
     "output_type": "stream",
     "text": [
      "Epoch: 4 Training: Micro F1: 0.688 Macro F1: 0.437 Samples F1: 0.637\n",
      "Epoch: 4 Training Loss: 0.00021769 Got 17764 / 66071 correct. Acc: 26.89%\n"
     ]
    },
    {
     "name": "stderr",
     "output_type": "stream",
     "text": [
      "/opt/conda/lib/python3.7/site-packages/torch/utils/data/dataloader.py:477: UserWarning: This DataLoader will create 6 worker processes in total. Our suggested max number of worker in current system is 2, which is smaller than what this DataLoader is going to create. Please be aware that excessive worker creation might get DataLoader running slow or even freeze, lower the worker number to avoid potential slowness/freeze if necessary.\n",
      "  cpuset_checked))\n",
      "/opt/conda/lib/python3.7/site-packages/sklearn/metrics/_classification.py:1245: UndefinedMetricWarning: Precision is ill-defined and being set to 0.0 in labels with no predicted samples. Use `zero_division` parameter to control this behavior.\n",
      "  _warn_prf(average, modifier, msg_start, len(result))\n",
      "/opt/conda/lib/python3.7/site-packages/sklearn/metrics/_classification.py:1245: UndefinedMetricWarning: Recall is ill-defined and being set to 0.0 in labels with no true samples. Use `zero_division` parameter to control this behavior.\n",
      "  _warn_prf(average, modifier, msg_start, len(result))\n",
      "/opt/conda/lib/python3.7/site-packages/sklearn/metrics/_classification.py:1493: UndefinedMetricWarning: F-score is ill-defined and being set to 0.0 in labels with no true nor predicted samples. Use `zero_division` parameter to control this behavior.\n",
      "  average, \"true nor predicted\", 'F-score is', len(true_sum)\n",
      "/opt/conda/lib/python3.7/site-packages/sklearn/metrics/_classification.py:1245: UndefinedMetricWarning: Precision is ill-defined and being set to 0.0 in samples with no predicted labels. Use `zero_division` parameter to control this behavior.\n",
      "  _warn_prf(average, modifier, msg_start, len(result))\n"
     ]
    },
    {
     "name": "stdout",
     "output_type": "stream",
     "text": [
      "Epoch: 4 Validation: Micro F1: 0.634 Macro F1: 0.393 Samples F1: 0.582\n",
      "Epoch: 4 Validation Loss: 0.00027261 Got 2506 / 11016 correct 22.75%\n"
     ]
    },
    {
     "name": "stderr",
     "output_type": "stream",
     "text": [
      "/opt/conda/lib/python3.7/site-packages/torch/utils/data/dataloader.py:477: UserWarning: This DataLoader will create 6 worker processes in total. Our suggested max number of worker in current system is 2, which is smaller than what this DataLoader is going to create. Please be aware that excessive worker creation might get DataLoader running slow or even freeze, lower the worker number to avoid potential slowness/freeze if necessary.\n",
      "  cpuset_checked))\n",
      "/opt/conda/lib/python3.7/site-packages/sklearn/metrics/_classification.py:1245: UndefinedMetricWarning: Precision is ill-defined and being set to 0.0 in labels with no predicted samples. Use `zero_division` parameter to control this behavior.\n",
      "  _warn_prf(average, modifier, msg_start, len(result))\n",
      "/opt/conda/lib/python3.7/site-packages/sklearn/metrics/_classification.py:1245: UndefinedMetricWarning: Precision is ill-defined and being set to 0.0 in samples with no predicted labels. Use `zero_division` parameter to control this behavior.\n",
      "  _warn_prf(average, modifier, msg_start, len(result))\n"
     ]
    },
    {
     "name": "stdout",
     "output_type": "stream",
     "text": [
      "Epoch: 5 Training: Micro F1: 0.737 Macro F1: 0.490 Samples F1: 0.698\n",
      "Epoch: 5 Training Loss: 0.00018502 Got 21083 / 66071 correct. Acc: 31.91%\n"
     ]
    },
    {
     "name": "stderr",
     "output_type": "stream",
     "text": [
      "/opt/conda/lib/python3.7/site-packages/torch/utils/data/dataloader.py:477: UserWarning: This DataLoader will create 6 worker processes in total. Our suggested max number of worker in current system is 2, which is smaller than what this DataLoader is going to create. Please be aware that excessive worker creation might get DataLoader running slow or even freeze, lower the worker number to avoid potential slowness/freeze if necessary.\n",
      "  cpuset_checked))\n",
      "/opt/conda/lib/python3.7/site-packages/sklearn/metrics/_classification.py:1245: UndefinedMetricWarning: Precision is ill-defined and being set to 0.0 in labels with no predicted samples. Use `zero_division` parameter to control this behavior.\n",
      "  _warn_prf(average, modifier, msg_start, len(result))\n",
      "/opt/conda/lib/python3.7/site-packages/sklearn/metrics/_classification.py:1245: UndefinedMetricWarning: Recall is ill-defined and being set to 0.0 in labels with no true samples. Use `zero_division` parameter to control this behavior.\n",
      "  _warn_prf(average, modifier, msg_start, len(result))\n",
      "/opt/conda/lib/python3.7/site-packages/sklearn/metrics/_classification.py:1493: UndefinedMetricWarning: F-score is ill-defined and being set to 0.0 in labels with no true nor predicted samples. Use `zero_division` parameter to control this behavior.\n",
      "  average, \"true nor predicted\", 'F-score is', len(true_sum)\n",
      "/opt/conda/lib/python3.7/site-packages/sklearn/metrics/_classification.py:1245: UndefinedMetricWarning: Precision is ill-defined and being set to 0.0 in samples with no predicted labels. Use `zero_division` parameter to control this behavior.\n",
      "  _warn_prf(average, modifier, msg_start, len(result))\n"
     ]
    },
    {
     "name": "stdout",
     "output_type": "stream",
     "text": [
      "Epoch: 5 Validation: Micro F1: 0.649 Macro F1: 0.411 Samples F1: 0.604\n",
      "Epoch: 5 Validation Loss: 0.00026299 Got 2794 / 11016 correct 25.36%\n"
     ]
    },
    {
     "name": "stderr",
     "output_type": "stream",
     "text": [
      "/opt/conda/lib/python3.7/site-packages/torch/utils/data/dataloader.py:477: UserWarning: This DataLoader will create 6 worker processes in total. Our suggested max number of worker in current system is 2, which is smaller than what this DataLoader is going to create. Please be aware that excessive worker creation might get DataLoader running slow or even freeze, lower the worker number to avoid potential slowness/freeze if necessary.\n",
      "  cpuset_checked))\n",
      "/opt/conda/lib/python3.7/site-packages/sklearn/metrics/_classification.py:1245: UndefinedMetricWarning: Precision is ill-defined and being set to 0.0 in labels with no predicted samples. Use `zero_division` parameter to control this behavior.\n",
      "  _warn_prf(average, modifier, msg_start, len(result))\n",
      "/opt/conda/lib/python3.7/site-packages/sklearn/metrics/_classification.py:1245: UndefinedMetricWarning: Precision is ill-defined and being set to 0.0 in samples with no predicted labels. Use `zero_division` parameter to control this behavior.\n",
      "  _warn_prf(average, modifier, msg_start, len(result))\n"
     ]
    },
    {
     "name": "stdout",
     "output_type": "stream",
     "text": [
      "Epoch: 6 Training: Micro F1: 0.779 Macro F1: 0.543 Samples F1: 0.751\n",
      "Epoch: 6 Training Loss: 0.00015642 Got 24651 / 66071 correct. Acc: 37.31%\n"
     ]
    },
    {
     "name": "stderr",
     "output_type": "stream",
     "text": [
      "/opt/conda/lib/python3.7/site-packages/torch/utils/data/dataloader.py:477: UserWarning: This DataLoader will create 6 worker processes in total. Our suggested max number of worker in current system is 2, which is smaller than what this DataLoader is going to create. Please be aware that excessive worker creation might get DataLoader running slow or even freeze, lower the worker number to avoid potential slowness/freeze if necessary.\n",
      "  cpuset_checked))\n",
      "/opt/conda/lib/python3.7/site-packages/sklearn/metrics/_classification.py:1245: UndefinedMetricWarning: Precision is ill-defined and being set to 0.0 in labels with no predicted samples. Use `zero_division` parameter to control this behavior.\n",
      "  _warn_prf(average, modifier, msg_start, len(result))\n",
      "/opt/conda/lib/python3.7/site-packages/sklearn/metrics/_classification.py:1245: UndefinedMetricWarning: Recall is ill-defined and being set to 0.0 in labels with no true samples. Use `zero_division` parameter to control this behavior.\n",
      "  _warn_prf(average, modifier, msg_start, len(result))\n",
      "/opt/conda/lib/python3.7/site-packages/sklearn/metrics/_classification.py:1493: UndefinedMetricWarning: F-score is ill-defined and being set to 0.0 in labels with no true nor predicted samples. Use `zero_division` parameter to control this behavior.\n",
      "  average, \"true nor predicted\", 'F-score is', len(true_sum)\n",
      "/opt/conda/lib/python3.7/site-packages/sklearn/metrics/_classification.py:1245: UndefinedMetricWarning: Precision is ill-defined and being set to 0.0 in samples with no predicted labels. Use `zero_division` parameter to control this behavior.\n",
      "  _warn_prf(average, modifier, msg_start, len(result))\n"
     ]
    },
    {
     "name": "stdout",
     "output_type": "stream",
     "text": [
      "Epoch: 6 Validation: Micro F1: 0.653 Macro F1: 0.430 Samples F1: 0.612\n",
      "Epoch: 6 Validation Loss: 0.00026819 Got 2769 / 11016 correct 25.14%\n"
     ]
    },
    {
     "name": "stderr",
     "output_type": "stream",
     "text": [
      "/opt/conda/lib/python3.7/site-packages/torch/utils/data/dataloader.py:477: UserWarning: This DataLoader will create 6 worker processes in total. Our suggested max number of worker in current system is 2, which is smaller than what this DataLoader is going to create. Please be aware that excessive worker creation might get DataLoader running slow or even freeze, lower the worker number to avoid potential slowness/freeze if necessary.\n",
      "  cpuset_checked))\n",
      "/opt/conda/lib/python3.7/site-packages/sklearn/metrics/_classification.py:1245: UndefinedMetricWarning: Precision is ill-defined and being set to 0.0 in labels with no predicted samples. Use `zero_division` parameter to control this behavior.\n",
      "  _warn_prf(average, modifier, msg_start, len(result))\n",
      "/opt/conda/lib/python3.7/site-packages/sklearn/metrics/_classification.py:1245: UndefinedMetricWarning: Precision is ill-defined and being set to 0.0 in samples with no predicted labels. Use `zero_division` parameter to control this behavior.\n",
      "  _warn_prf(average, modifier, msg_start, len(result))\n"
     ]
    },
    {
     "name": "stdout",
     "output_type": "stream",
     "text": [
      "Epoch: 7 Training: Micro F1: 0.815 Macro F1: 0.592 Samples F1: 0.794\n",
      "Epoch: 7 Training Loss: 0.00013186 Got 28444 / 66071 correct. Acc: 43.05%\n"
     ]
    },
    {
     "name": "stderr",
     "output_type": "stream",
     "text": [
      "/opt/conda/lib/python3.7/site-packages/torch/utils/data/dataloader.py:477: UserWarning: This DataLoader will create 6 worker processes in total. Our suggested max number of worker in current system is 2, which is smaller than what this DataLoader is going to create. Please be aware that excessive worker creation might get DataLoader running slow or even freeze, lower the worker number to avoid potential slowness/freeze if necessary.\n",
      "  cpuset_checked))\n",
      "/opt/conda/lib/python3.7/site-packages/sklearn/metrics/_classification.py:1245: UndefinedMetricWarning: Precision is ill-defined and being set to 0.0 in labels with no predicted samples. Use `zero_division` parameter to control this behavior.\n",
      "  _warn_prf(average, modifier, msg_start, len(result))\n",
      "/opt/conda/lib/python3.7/site-packages/sklearn/metrics/_classification.py:1245: UndefinedMetricWarning: Recall is ill-defined and being set to 0.0 in labels with no true samples. Use `zero_division` parameter to control this behavior.\n",
      "  _warn_prf(average, modifier, msg_start, len(result))\n",
      "/opt/conda/lib/python3.7/site-packages/sklearn/metrics/_classification.py:1493: UndefinedMetricWarning: F-score is ill-defined and being set to 0.0 in labels with no true nor predicted samples. Use `zero_division` parameter to control this behavior.\n",
      "  average, \"true nor predicted\", 'F-score is', len(true_sum)\n",
      "/opt/conda/lib/python3.7/site-packages/sklearn/metrics/_classification.py:1245: UndefinedMetricWarning: Precision is ill-defined and being set to 0.0 in samples with no predicted labels. Use `zero_division` parameter to control this behavior.\n",
      "  _warn_prf(average, modifier, msg_start, len(result))\n"
     ]
    },
    {
     "name": "stdout",
     "output_type": "stream",
     "text": [
      "Epoch: 7 Validation: Micro F1: 0.621 Macro F1: 0.402 Samples F1: 0.584\n",
      "Epoch: 7 Validation Loss: 0.00033126 Got 2595 / 11016 correct 23.56%\n"
     ]
    },
    {
     "name": "stderr",
     "output_type": "stream",
     "text": [
      "/opt/conda/lib/python3.7/site-packages/torch/utils/data/dataloader.py:477: UserWarning: This DataLoader will create 6 worker processes in total. Our suggested max number of worker in current system is 2, which is smaller than what this DataLoader is going to create. Please be aware that excessive worker creation might get DataLoader running slow or even freeze, lower the worker number to avoid potential slowness/freeze if necessary.\n",
      "  cpuset_checked))\n",
      "/opt/conda/lib/python3.7/site-packages/sklearn/metrics/_classification.py:1245: UndefinedMetricWarning: Precision is ill-defined and being set to 0.0 in labels with no predicted samples. Use `zero_division` parameter to control this behavior.\n",
      "  _warn_prf(average, modifier, msg_start, len(result))\n",
      "/opt/conda/lib/python3.7/site-packages/sklearn/metrics/_classification.py:1245: UndefinedMetricWarning: Precision is ill-defined and being set to 0.0 in samples with no predicted labels. Use `zero_division` parameter to control this behavior.\n",
      "  _warn_prf(average, modifier, msg_start, len(result))\n"
     ]
    },
    {
     "name": "stdout",
     "output_type": "stream",
     "text": [
      "Epoch: 8 Training: Micro F1: 0.846 Macro F1: 0.640 Samples F1: 0.832\n",
      "Epoch: 8 Training Loss: 0.00010971 Got 32214 / 66071 correct. Acc: 48.76%\n"
     ]
    },
    {
     "name": "stderr",
     "output_type": "stream",
     "text": [
      "/opt/conda/lib/python3.7/site-packages/torch/utils/data/dataloader.py:477: UserWarning: This DataLoader will create 6 worker processes in total. Our suggested max number of worker in current system is 2, which is smaller than what this DataLoader is going to create. Please be aware that excessive worker creation might get DataLoader running slow or even freeze, lower the worker number to avoid potential slowness/freeze if necessary.\n",
      "  cpuset_checked))\n",
      "/opt/conda/lib/python3.7/site-packages/sklearn/metrics/_classification.py:1245: UndefinedMetricWarning: Precision is ill-defined and being set to 0.0 in labels with no predicted samples. Use `zero_division` parameter to control this behavior.\n",
      "  _warn_prf(average, modifier, msg_start, len(result))\n",
      "/opt/conda/lib/python3.7/site-packages/sklearn/metrics/_classification.py:1245: UndefinedMetricWarning: Recall is ill-defined and being set to 0.0 in labels with no true samples. Use `zero_division` parameter to control this behavior.\n",
      "  _warn_prf(average, modifier, msg_start, len(result))\n",
      "/opt/conda/lib/python3.7/site-packages/sklearn/metrics/_classification.py:1493: UndefinedMetricWarning: F-score is ill-defined and being set to 0.0 in labels with no true nor predicted samples. Use `zero_division` parameter to control this behavior.\n",
      "  average, \"true nor predicted\", 'F-score is', len(true_sum)\n",
      "/opt/conda/lib/python3.7/site-packages/sklearn/metrics/_classification.py:1245: UndefinedMetricWarning: Precision is ill-defined and being set to 0.0 in samples with no predicted labels. Use `zero_division` parameter to control this behavior.\n",
      "  _warn_prf(average, modifier, msg_start, len(result))\n"
     ]
    },
    {
     "name": "stdout",
     "output_type": "stream",
     "text": [
      "Epoch: 8 Validation: Micro F1: 0.648 Macro F1: 0.433 Samples F1: 0.617\n",
      "Epoch: 8 Validation Loss: 0.00030635 Got 2815 / 11016 correct 25.55%\n"
     ]
    },
    {
     "name": "stderr",
     "output_type": "stream",
     "text": [
      "/opt/conda/lib/python3.7/site-packages/torch/utils/data/dataloader.py:477: UserWarning: This DataLoader will create 6 worker processes in total. Our suggested max number of worker in current system is 2, which is smaller than what this DataLoader is going to create. Please be aware that excessive worker creation might get DataLoader running slow or even freeze, lower the worker number to avoid potential slowness/freeze if necessary.\n",
      "  cpuset_checked))\n",
      "/opt/conda/lib/python3.7/site-packages/sklearn/metrics/_classification.py:1245: UndefinedMetricWarning: Precision is ill-defined and being set to 0.0 in labels with no predicted samples. Use `zero_division` parameter to control this behavior.\n",
      "  _warn_prf(average, modifier, msg_start, len(result))\n",
      "/opt/conda/lib/python3.7/site-packages/sklearn/metrics/_classification.py:1245: UndefinedMetricWarning: Precision is ill-defined and being set to 0.0 in samples with no predicted labels. Use `zero_division` parameter to control this behavior.\n",
      "  _warn_prf(average, modifier, msg_start, len(result))\n"
     ]
    },
    {
     "name": "stdout",
     "output_type": "stream",
     "text": [
      "Epoch: 9 Training: Micro F1: 0.871 Macro F1: 0.688 Samples F1: 0.861\n",
      "Epoch: 9 Training Loss: 0.00009214 Got 35775 / 66071 correct. Acc: 54.15%\n"
     ]
    },
    {
     "name": "stderr",
     "output_type": "stream",
     "text": [
      "/opt/conda/lib/python3.7/site-packages/torch/utils/data/dataloader.py:477: UserWarning: This DataLoader will create 6 worker processes in total. Our suggested max number of worker in current system is 2, which is smaller than what this DataLoader is going to create. Please be aware that excessive worker creation might get DataLoader running slow or even freeze, lower the worker number to avoid potential slowness/freeze if necessary.\n",
      "  cpuset_checked))\n",
      "/opt/conda/lib/python3.7/site-packages/sklearn/metrics/_classification.py:1245: UndefinedMetricWarning: Precision is ill-defined and being set to 0.0 in labels with no predicted samples. Use `zero_division` parameter to control this behavior.\n",
      "  _warn_prf(average, modifier, msg_start, len(result))\n",
      "/opt/conda/lib/python3.7/site-packages/sklearn/metrics/_classification.py:1245: UndefinedMetricWarning: Recall is ill-defined and being set to 0.0 in labels with no true samples. Use `zero_division` parameter to control this behavior.\n",
      "  _warn_prf(average, modifier, msg_start, len(result))\n",
      "/opt/conda/lib/python3.7/site-packages/sklearn/metrics/_classification.py:1493: UndefinedMetricWarning: F-score is ill-defined and being set to 0.0 in labels with no true nor predicted samples. Use `zero_division` parameter to control this behavior.\n",
      "  average, \"true nor predicted\", 'F-score is', len(true_sum)\n",
      "/opt/conda/lib/python3.7/site-packages/sklearn/metrics/_classification.py:1245: UndefinedMetricWarning: Precision is ill-defined and being set to 0.0 in samples with no predicted labels. Use `zero_division` parameter to control this behavior.\n",
      "  _warn_prf(average, modifier, msg_start, len(result))\n"
     ]
    },
    {
     "name": "stdout",
     "output_type": "stream",
     "text": [
      "Epoch: 9 Validation: Micro F1: 0.666 Macro F1: 0.447 Samples F1: 0.634\n",
      "Epoch: 9 Validation Loss: 0.00030372 Got 2992 / 11016 correct 27.16%\n"
     ]
    },
    {
     "name": "stderr",
     "output_type": "stream",
     "text": [
      "/opt/conda/lib/python3.7/site-packages/torch/utils/data/dataloader.py:477: UserWarning: This DataLoader will create 6 worker processes in total. Our suggested max number of worker in current system is 2, which is smaller than what this DataLoader is going to create. Please be aware that excessive worker creation might get DataLoader running slow or even freeze, lower the worker number to avoid potential slowness/freeze if necessary.\n",
      "  cpuset_checked))\n",
      "/opt/conda/lib/python3.7/site-packages/sklearn/metrics/_classification.py:1245: UndefinedMetricWarning: Precision is ill-defined and being set to 0.0 in labels with no predicted samples. Use `zero_division` parameter to control this behavior.\n",
      "  _warn_prf(average, modifier, msg_start, len(result))\n",
      "/opt/conda/lib/python3.7/site-packages/sklearn/metrics/_classification.py:1245: UndefinedMetricWarning: Precision is ill-defined and being set to 0.0 in samples with no predicted labels. Use `zero_division` parameter to control this behavior.\n",
      "  _warn_prf(average, modifier, msg_start, len(result))\n"
     ]
    },
    {
     "name": "stdout",
     "output_type": "stream",
     "text": [
      "Epoch:10 Training: Micro F1: 0.892 Macro F1: 0.737 Samples F1: 0.884\n",
      "Epoch: 10 Training Loss: 0.00007727 Got 39031 / 66071 correct. Acc: 59.07%\n"
     ]
    },
    {
     "name": "stderr",
     "output_type": "stream",
     "text": [
      "/opt/conda/lib/python3.7/site-packages/torch/utils/data/dataloader.py:477: UserWarning: This DataLoader will create 6 worker processes in total. Our suggested max number of worker in current system is 2, which is smaller than what this DataLoader is going to create. Please be aware that excessive worker creation might get DataLoader running slow or even freeze, lower the worker number to avoid potential slowness/freeze if necessary.\n",
      "  cpuset_checked))\n",
      "/opt/conda/lib/python3.7/site-packages/sklearn/metrics/_classification.py:1245: UndefinedMetricWarning: Precision is ill-defined and being set to 0.0 in labels with no predicted samples. Use `zero_division` parameter to control this behavior.\n",
      "  _warn_prf(average, modifier, msg_start, len(result))\n",
      "/opt/conda/lib/python3.7/site-packages/sklearn/metrics/_classification.py:1245: UndefinedMetricWarning: Recall is ill-defined and being set to 0.0 in labels with no true samples. Use `zero_division` parameter to control this behavior.\n",
      "  _warn_prf(average, modifier, msg_start, len(result))\n",
      "/opt/conda/lib/python3.7/site-packages/sklearn/metrics/_classification.py:1493: UndefinedMetricWarning: F-score is ill-defined and being set to 0.0 in labels with no true nor predicted samples. Use `zero_division` parameter to control this behavior.\n",
      "  average, \"true nor predicted\", 'F-score is', len(true_sum)\n",
      "/opt/conda/lib/python3.7/site-packages/sklearn/metrics/_classification.py:1245: UndefinedMetricWarning: Precision is ill-defined and being set to 0.0 in samples with no predicted labels. Use `zero_division` parameter to control this behavior.\n",
      "  _warn_prf(average, modifier, msg_start, len(result))\n"
     ]
    },
    {
     "name": "stdout",
     "output_type": "stream",
     "text": [
      "Epoch:10 Validation: Micro F1: 0.646 Macro F1: 0.457 Samples F1: 0.614\n",
      "Epoch: 10 Validation Loss: 0.00033903 Got 2820 / 11016 correct 25.60%\n"
     ]
    },
    {
     "name": "stderr",
     "output_type": "stream",
     "text": [
      "/opt/conda/lib/python3.7/site-packages/torch/utils/data/dataloader.py:477: UserWarning: This DataLoader will create 6 worker processes in total. Our suggested max number of worker in current system is 2, which is smaller than what this DataLoader is going to create. Please be aware that excessive worker creation might get DataLoader running slow or even freeze, lower the worker number to avoid potential slowness/freeze if necessary.\n",
      "  cpuset_checked))\n",
      "/opt/conda/lib/python3.7/site-packages/sklearn/metrics/_classification.py:1245: UndefinedMetricWarning: Precision is ill-defined and being set to 0.0 in labels with no predicted samples. Use `zero_division` parameter to control this behavior.\n",
      "  _warn_prf(average, modifier, msg_start, len(result))\n",
      "/opt/conda/lib/python3.7/site-packages/sklearn/metrics/_classification.py:1245: UndefinedMetricWarning: Precision is ill-defined and being set to 0.0 in samples with no predicted labels. Use `zero_division` parameter to control this behavior.\n",
      "  _warn_prf(average, modifier, msg_start, len(result))\n"
     ]
    },
    {
     "name": "stdout",
     "output_type": "stream",
     "text": [
      "Epoch:11 Training: Micro F1: 0.909 Macro F1: 0.771 Samples F1: 0.905\n",
      "Epoch: 11 Training Loss: 0.00006531 Got 42189 / 66071 correct. Acc: 63.85%\n"
     ]
    },
    {
     "name": "stderr",
     "output_type": "stream",
     "text": [
      "/opt/conda/lib/python3.7/site-packages/torch/utils/data/dataloader.py:477: UserWarning: This DataLoader will create 6 worker processes in total. Our suggested max number of worker in current system is 2, which is smaller than what this DataLoader is going to create. Please be aware that excessive worker creation might get DataLoader running slow or even freeze, lower the worker number to avoid potential slowness/freeze if necessary.\n",
      "  cpuset_checked))\n",
      "/opt/conda/lib/python3.7/site-packages/sklearn/metrics/_classification.py:1245: UndefinedMetricWarning: Precision is ill-defined and being set to 0.0 in labels with no predicted samples. Use `zero_division` parameter to control this behavior.\n",
      "  _warn_prf(average, modifier, msg_start, len(result))\n",
      "/opt/conda/lib/python3.7/site-packages/sklearn/metrics/_classification.py:1245: UndefinedMetricWarning: Recall is ill-defined and being set to 0.0 in labels with no true samples. Use `zero_division` parameter to control this behavior.\n",
      "  _warn_prf(average, modifier, msg_start, len(result))\n",
      "/opt/conda/lib/python3.7/site-packages/sklearn/metrics/_classification.py:1493: UndefinedMetricWarning: F-score is ill-defined and being set to 0.0 in labels with no true nor predicted samples. Use `zero_division` parameter to control this behavior.\n",
      "  average, \"true nor predicted\", 'F-score is', len(true_sum)\n",
      "/opt/conda/lib/python3.7/site-packages/sklearn/metrics/_classification.py:1245: UndefinedMetricWarning: Precision is ill-defined and being set to 0.0 in samples with no predicted labels. Use `zero_division` parameter to control this behavior.\n",
      "  _warn_prf(average, modifier, msg_start, len(result))\n"
     ]
    },
    {
     "name": "stdout",
     "output_type": "stream",
     "text": [
      "Epoch:11 Validation: Micro F1: 0.648 Macro F1: 0.442 Samples F1: 0.617\n",
      "Epoch: 11 Validation Loss: 0.00036267 Got 2869 / 11016 correct 26.04%\n"
     ]
    },
    {
     "name": "stderr",
     "output_type": "stream",
     "text": [
      "/opt/conda/lib/python3.7/site-packages/torch/utils/data/dataloader.py:477: UserWarning: This DataLoader will create 6 worker processes in total. Our suggested max number of worker in current system is 2, which is smaller than what this DataLoader is going to create. Please be aware that excessive worker creation might get DataLoader running slow or even freeze, lower the worker number to avoid potential slowness/freeze if necessary.\n",
      "  cpuset_checked))\n",
      "/opt/conda/lib/python3.7/site-packages/sklearn/metrics/_classification.py:1245: UndefinedMetricWarning: Precision is ill-defined and being set to 0.0 in samples with no predicted labels. Use `zero_division` parameter to control this behavior.\n",
      "  _warn_prf(average, modifier, msg_start, len(result))\n"
     ]
    },
    {
     "name": "stdout",
     "output_type": "stream",
     "text": [
      "Epoch:12 Training: Micro F1: 0.921 Macro F1: 0.815 Samples F1: 0.917\n",
      "Epoch: 12 Training Loss: 0.00005686 Got 44541 / 66071 correct. Acc: 67.41%\n"
     ]
    },
    {
     "name": "stderr",
     "output_type": "stream",
     "text": [
      "/opt/conda/lib/python3.7/site-packages/torch/utils/data/dataloader.py:477: UserWarning: This DataLoader will create 6 worker processes in total. Our suggested max number of worker in current system is 2, which is smaller than what this DataLoader is going to create. Please be aware that excessive worker creation might get DataLoader running slow or even freeze, lower the worker number to avoid potential slowness/freeze if necessary.\n",
      "  cpuset_checked))\n",
      "/opt/conda/lib/python3.7/site-packages/sklearn/metrics/_classification.py:1245: UndefinedMetricWarning: Precision is ill-defined and being set to 0.0 in labels with no predicted samples. Use `zero_division` parameter to control this behavior.\n",
      "  _warn_prf(average, modifier, msg_start, len(result))\n",
      "/opt/conda/lib/python3.7/site-packages/sklearn/metrics/_classification.py:1245: UndefinedMetricWarning: Recall is ill-defined and being set to 0.0 in labels with no true samples. Use `zero_division` parameter to control this behavior.\n",
      "  _warn_prf(average, modifier, msg_start, len(result))\n",
      "/opt/conda/lib/python3.7/site-packages/sklearn/metrics/_classification.py:1493: UndefinedMetricWarning: F-score is ill-defined and being set to 0.0 in labels with no true nor predicted samples. Use `zero_division` parameter to control this behavior.\n",
      "  average, \"true nor predicted\", 'F-score is', len(true_sum)\n",
      "/opt/conda/lib/python3.7/site-packages/sklearn/metrics/_classification.py:1245: UndefinedMetricWarning: Precision is ill-defined and being set to 0.0 in samples with no predicted labels. Use `zero_division` parameter to control this behavior.\n",
      "  _warn_prf(average, modifier, msg_start, len(result))\n"
     ]
    },
    {
     "name": "stdout",
     "output_type": "stream",
     "text": [
      "Epoch:12 Validation: Micro F1: 0.653 Macro F1: 0.465 Samples F1: 0.620\n",
      "Epoch: 12 Validation Loss: 0.00036505 Got 2935 / 11016 correct 26.64%\n"
     ]
    },
    {
     "name": "stderr",
     "output_type": "stream",
     "text": [
      "/opt/conda/lib/python3.7/site-packages/torch/utils/data/dataloader.py:477: UserWarning: This DataLoader will create 6 worker processes in total. Our suggested max number of worker in current system is 2, which is smaller than what this DataLoader is going to create. Please be aware that excessive worker creation might get DataLoader running slow or even freeze, lower the worker number to avoid potential slowness/freeze if necessary.\n",
      "  cpuset_checked))\n",
      "/opt/conda/lib/python3.7/site-packages/sklearn/metrics/_classification.py:1245: UndefinedMetricWarning: Precision is ill-defined and being set to 0.0 in samples with no predicted labels. Use `zero_division` parameter to control this behavior.\n",
      "  _warn_prf(average, modifier, msg_start, len(result))\n"
     ]
    },
    {
     "name": "stdout",
     "output_type": "stream",
     "text": [
      "Epoch:13 Training: Micro F1: 0.933 Macro F1: 0.846 Samples F1: 0.928\n",
      "Epoch: 13 Training Loss: 0.00004900 Got 46802 / 66071 correct. Acc: 70.84%\n"
     ]
    },
    {
     "name": "stderr",
     "output_type": "stream",
     "text": [
      "/opt/conda/lib/python3.7/site-packages/torch/utils/data/dataloader.py:477: UserWarning: This DataLoader will create 6 worker processes in total. Our suggested max number of worker in current system is 2, which is smaller than what this DataLoader is going to create. Please be aware that excessive worker creation might get DataLoader running slow or even freeze, lower the worker number to avoid potential slowness/freeze if necessary.\n",
      "  cpuset_checked))\n",
      "/opt/conda/lib/python3.7/site-packages/sklearn/metrics/_classification.py:1245: UndefinedMetricWarning: Precision is ill-defined and being set to 0.0 in labels with no predicted samples. Use `zero_division` parameter to control this behavior.\n",
      "  _warn_prf(average, modifier, msg_start, len(result))\n",
      "/opt/conda/lib/python3.7/site-packages/sklearn/metrics/_classification.py:1245: UndefinedMetricWarning: Recall is ill-defined and being set to 0.0 in labels with no true samples. Use `zero_division` parameter to control this behavior.\n",
      "  _warn_prf(average, modifier, msg_start, len(result))\n",
      "/opt/conda/lib/python3.7/site-packages/sklearn/metrics/_classification.py:1493: UndefinedMetricWarning: F-score is ill-defined and being set to 0.0 in labels with no true nor predicted samples. Use `zero_division` parameter to control this behavior.\n",
      "  average, \"true nor predicted\", 'F-score is', len(true_sum)\n",
      "/opt/conda/lib/python3.7/site-packages/sklearn/metrics/_classification.py:1245: UndefinedMetricWarning: Precision is ill-defined and being set to 0.0 in samples with no predicted labels. Use `zero_division` parameter to control this behavior.\n",
      "  _warn_prf(average, modifier, msg_start, len(result))\n"
     ]
    },
    {
     "name": "stdout",
     "output_type": "stream",
     "text": [
      "Epoch:13 Validation: Micro F1: 0.660 Macro F1: 0.467 Samples F1: 0.629\n",
      "Epoch: 13 Validation Loss: 0.00037544 Got 2971 / 11016 correct 26.97%\n"
     ]
    },
    {
     "name": "stderr",
     "output_type": "stream",
     "text": [
      "/opt/conda/lib/python3.7/site-packages/torch/utils/data/dataloader.py:477: UserWarning: This DataLoader will create 6 worker processes in total. Our suggested max number of worker in current system is 2, which is smaller than what this DataLoader is going to create. Please be aware that excessive worker creation might get DataLoader running slow or even freeze, lower the worker number to avoid potential slowness/freeze if necessary.\n",
      "  cpuset_checked))\n",
      "/opt/conda/lib/python3.7/site-packages/sklearn/metrics/_classification.py:1245: UndefinedMetricWarning: Precision is ill-defined and being set to 0.0 in samples with no predicted labels. Use `zero_division` parameter to control this behavior.\n",
      "  _warn_prf(average, modifier, msg_start, len(result))\n"
     ]
    },
    {
     "name": "stdout",
     "output_type": "stream",
     "text": [
      "Epoch:14 Training: Micro F1: 0.939 Macro F1: 0.866 Samples F1: 0.935\n",
      "Epoch: 14 Training Loss: 0.00004452 Got 48317 / 66071 correct. Acc: 73.13%\n"
     ]
    },
    {
     "name": "stderr",
     "output_type": "stream",
     "text": [
      "/opt/conda/lib/python3.7/site-packages/torch/utils/data/dataloader.py:477: UserWarning: This DataLoader will create 6 worker processes in total. Our suggested max number of worker in current system is 2, which is smaller than what this DataLoader is going to create. Please be aware that excessive worker creation might get DataLoader running slow or even freeze, lower the worker number to avoid potential slowness/freeze if necessary.\n",
      "  cpuset_checked))\n",
      "/opt/conda/lib/python3.7/site-packages/sklearn/metrics/_classification.py:1245: UndefinedMetricWarning: Precision is ill-defined and being set to 0.0 in labels with no predicted samples. Use `zero_division` parameter to control this behavior.\n",
      "  _warn_prf(average, modifier, msg_start, len(result))\n",
      "/opt/conda/lib/python3.7/site-packages/sklearn/metrics/_classification.py:1245: UndefinedMetricWarning: Recall is ill-defined and being set to 0.0 in labels with no true samples. Use `zero_division` parameter to control this behavior.\n",
      "  _warn_prf(average, modifier, msg_start, len(result))\n",
      "/opt/conda/lib/python3.7/site-packages/sklearn/metrics/_classification.py:1493: UndefinedMetricWarning: F-score is ill-defined and being set to 0.0 in labels with no true nor predicted samples. Use `zero_division` parameter to control this behavior.\n",
      "  average, \"true nor predicted\", 'F-score is', len(true_sum)\n",
      "/opt/conda/lib/python3.7/site-packages/sklearn/metrics/_classification.py:1245: UndefinedMetricWarning: Precision is ill-defined and being set to 0.0 in samples with no predicted labels. Use `zero_division` parameter to control this behavior.\n",
      "  _warn_prf(average, modifier, msg_start, len(result))\n"
     ]
    },
    {
     "name": "stdout",
     "output_type": "stream",
     "text": [
      "Epoch:14 Validation: Micro F1: 0.666 Macro F1: 0.472 Samples F1: 0.639\n",
      "Epoch: 14 Validation Loss: 0.00038619 Got 3039 / 11016 correct 27.59%\n"
     ]
    },
    {
     "name": "stderr",
     "output_type": "stream",
     "text": [
      "/opt/conda/lib/python3.7/site-packages/torch/utils/data/dataloader.py:477: UserWarning: This DataLoader will create 6 worker processes in total. Our suggested max number of worker in current system is 2, which is smaller than what this DataLoader is going to create. Please be aware that excessive worker creation might get DataLoader running slow or even freeze, lower the worker number to avoid potential slowness/freeze if necessary.\n",
      "  cpuset_checked))\n",
      "/opt/conda/lib/python3.7/site-packages/sklearn/metrics/_classification.py:1245: UndefinedMetricWarning: Precision is ill-defined and being set to 0.0 in samples with no predicted labels. Use `zero_division` parameter to control this behavior.\n",
      "  _warn_prf(average, modifier, msg_start, len(result))\n"
     ]
    },
    {
     "name": "stdout",
     "output_type": "stream",
     "text": [
      "Epoch:15 Training: Micro F1: 0.946 Macro F1: 0.886 Samples F1: 0.943\n",
      "Epoch: 15 Training Loss: 0.00003960 Got 49828 / 66071 correct. Acc: 75.42%\n"
     ]
    },
    {
     "name": "stderr",
     "output_type": "stream",
     "text": [
      "/opt/conda/lib/python3.7/site-packages/torch/utils/data/dataloader.py:477: UserWarning: This DataLoader will create 6 worker processes in total. Our suggested max number of worker in current system is 2, which is smaller than what this DataLoader is going to create. Please be aware that excessive worker creation might get DataLoader running slow or even freeze, lower the worker number to avoid potential slowness/freeze if necessary.\n",
      "  cpuset_checked))\n",
      "/opt/conda/lib/python3.7/site-packages/sklearn/metrics/_classification.py:1245: UndefinedMetricWarning: Precision is ill-defined and being set to 0.0 in labels with no predicted samples. Use `zero_division` parameter to control this behavior.\n",
      "  _warn_prf(average, modifier, msg_start, len(result))\n",
      "/opt/conda/lib/python3.7/site-packages/sklearn/metrics/_classification.py:1245: UndefinedMetricWarning: Recall is ill-defined and being set to 0.0 in labels with no true samples. Use `zero_division` parameter to control this behavior.\n",
      "  _warn_prf(average, modifier, msg_start, len(result))\n",
      "/opt/conda/lib/python3.7/site-packages/sklearn/metrics/_classification.py:1493: UndefinedMetricWarning: F-score is ill-defined and being set to 0.0 in labels with no true nor predicted samples. Use `zero_division` parameter to control this behavior.\n",
      "  average, \"true nor predicted\", 'F-score is', len(true_sum)\n",
      "/opt/conda/lib/python3.7/site-packages/sklearn/metrics/_classification.py:1245: UndefinedMetricWarning: Precision is ill-defined and being set to 0.0 in samples with no predicted labels. Use `zero_division` parameter to control this behavior.\n",
      "  _warn_prf(average, modifier, msg_start, len(result))\n"
     ]
    },
    {
     "name": "stdout",
     "output_type": "stream",
     "text": [
      "Epoch:15 Validation: Micro F1: 0.653 Macro F1: 0.466 Samples F1: 0.623\n",
      "Epoch: 15 Validation Loss: 0.00041436 Got 2889 / 11016 correct 26.23%\n"
     ]
    },
    {
     "name": "stderr",
     "output_type": "stream",
     "text": [
      "/opt/conda/lib/python3.7/site-packages/torch/utils/data/dataloader.py:477: UserWarning: This DataLoader will create 6 worker processes in total. Our suggested max number of worker in current system is 2, which is smaller than what this DataLoader is going to create. Please be aware that excessive worker creation might get DataLoader running slow or even freeze, lower the worker number to avoid potential slowness/freeze if necessary.\n",
      "  cpuset_checked))\n",
      "/opt/conda/lib/python3.7/site-packages/sklearn/metrics/_classification.py:1245: UndefinedMetricWarning: Precision is ill-defined and being set to 0.0 in samples with no predicted labels. Use `zero_division` parameter to control this behavior.\n",
      "  _warn_prf(average, modifier, msg_start, len(result))\n"
     ]
    },
    {
     "name": "stdout",
     "output_type": "stream",
     "text": [
      "Epoch:16 Training: Micro F1: 0.952 Macro F1: 0.905 Samples F1: 0.949\n",
      "Epoch: 16 Training Loss: 0.00003568 Got 51243 / 66071 correct. Acc: 77.56%\n"
     ]
    },
    {
     "name": "stderr",
     "output_type": "stream",
     "text": [
      "/opt/conda/lib/python3.7/site-packages/torch/utils/data/dataloader.py:477: UserWarning: This DataLoader will create 6 worker processes in total. Our suggested max number of worker in current system is 2, which is smaller than what this DataLoader is going to create. Please be aware that excessive worker creation might get DataLoader running slow or even freeze, lower the worker number to avoid potential slowness/freeze if necessary.\n",
      "  cpuset_checked))\n",
      "/opt/conda/lib/python3.7/site-packages/sklearn/metrics/_classification.py:1245: UndefinedMetricWarning: Precision is ill-defined and being set to 0.0 in labels with no predicted samples. Use `zero_division` parameter to control this behavior.\n",
      "  _warn_prf(average, modifier, msg_start, len(result))\n",
      "/opt/conda/lib/python3.7/site-packages/sklearn/metrics/_classification.py:1245: UndefinedMetricWarning: Recall is ill-defined and being set to 0.0 in labels with no true samples. Use `zero_division` parameter to control this behavior.\n",
      "  _warn_prf(average, modifier, msg_start, len(result))\n",
      "/opt/conda/lib/python3.7/site-packages/sklearn/metrics/_classification.py:1493: UndefinedMetricWarning: F-score is ill-defined and being set to 0.0 in labels with no true nor predicted samples. Use `zero_division` parameter to control this behavior.\n",
      "  average, \"true nor predicted\", 'F-score is', len(true_sum)\n",
      "/opt/conda/lib/python3.7/site-packages/sklearn/metrics/_classification.py:1245: UndefinedMetricWarning: Precision is ill-defined and being set to 0.0 in samples with no predicted labels. Use `zero_division` parameter to control this behavior.\n",
      "  _warn_prf(average, modifier, msg_start, len(result))\n"
     ]
    },
    {
     "name": "stdout",
     "output_type": "stream",
     "text": [
      "Epoch:16 Validation: Micro F1: 0.659 Macro F1: 0.475 Samples F1: 0.627\n",
      "Epoch: 16 Validation Loss: 0.00040826 Got 3025 / 11016 correct 27.46%\n"
     ]
    },
    {
     "name": "stderr",
     "output_type": "stream",
     "text": [
      "/opt/conda/lib/python3.7/site-packages/torch/utils/data/dataloader.py:477: UserWarning: This DataLoader will create 6 worker processes in total. Our suggested max number of worker in current system is 2, which is smaller than what this DataLoader is going to create. Please be aware that excessive worker creation might get DataLoader running slow or even freeze, lower the worker number to avoid potential slowness/freeze if necessary.\n",
      "  cpuset_checked))\n",
      "/opt/conda/lib/python3.7/site-packages/sklearn/metrics/_classification.py:1245: UndefinedMetricWarning: Precision is ill-defined and being set to 0.0 in samples with no predicted labels. Use `zero_division` parameter to control this behavior.\n",
      "  _warn_prf(average, modifier, msg_start, len(result))\n"
     ]
    },
    {
     "name": "stdout",
     "output_type": "stream",
     "text": [
      "Epoch:17 Training: Micro F1: 0.957 Macro F1: 0.918 Samples F1: 0.955\n",
      "Epoch: 17 Training Loss: 0.00003204 Got 52566 / 66071 correct. Acc: 79.56%\n"
     ]
    },
    {
     "name": "stderr",
     "output_type": "stream",
     "text": [
      "/opt/conda/lib/python3.7/site-packages/torch/utils/data/dataloader.py:477: UserWarning: This DataLoader will create 6 worker processes in total. Our suggested max number of worker in current system is 2, which is smaller than what this DataLoader is going to create. Please be aware that excessive worker creation might get DataLoader running slow or even freeze, lower the worker number to avoid potential slowness/freeze if necessary.\n",
      "  cpuset_checked))\n",
      "/opt/conda/lib/python3.7/site-packages/sklearn/metrics/_classification.py:1245: UndefinedMetricWarning: Precision is ill-defined and being set to 0.0 in labels with no predicted samples. Use `zero_division` parameter to control this behavior.\n",
      "  _warn_prf(average, modifier, msg_start, len(result))\n",
      "/opt/conda/lib/python3.7/site-packages/sklearn/metrics/_classification.py:1245: UndefinedMetricWarning: Recall is ill-defined and being set to 0.0 in labels with no true samples. Use `zero_division` parameter to control this behavior.\n",
      "  _warn_prf(average, modifier, msg_start, len(result))\n",
      "/opt/conda/lib/python3.7/site-packages/sklearn/metrics/_classification.py:1493: UndefinedMetricWarning: F-score is ill-defined and being set to 0.0 in labels with no true nor predicted samples. Use `zero_division` parameter to control this behavior.\n",
      "  average, \"true nor predicted\", 'F-score is', len(true_sum)\n",
      "/opt/conda/lib/python3.7/site-packages/sklearn/metrics/_classification.py:1245: UndefinedMetricWarning: Precision is ill-defined and being set to 0.0 in samples with no predicted labels. Use `zero_division` parameter to control this behavior.\n",
      "  _warn_prf(average, modifier, msg_start, len(result))\n"
     ]
    },
    {
     "name": "stdout",
     "output_type": "stream",
     "text": [
      "Epoch:17 Validation: Micro F1: 0.665 Macro F1: 0.473 Samples F1: 0.633\n",
      "Epoch: 17 Validation Loss: 0.00042029 Got 3071 / 11016 correct 27.88%\n"
     ]
    },
    {
     "name": "stderr",
     "output_type": "stream",
     "text": [
      "/opt/conda/lib/python3.7/site-packages/torch/utils/data/dataloader.py:477: UserWarning: This DataLoader will create 6 worker processes in total. Our suggested max number of worker in current system is 2, which is smaller than what this DataLoader is going to create. Please be aware that excessive worker creation might get DataLoader running slow or even freeze, lower the worker number to avoid potential slowness/freeze if necessary.\n",
      "  cpuset_checked))\n",
      "/opt/conda/lib/python3.7/site-packages/sklearn/metrics/_classification.py:1245: UndefinedMetricWarning: Precision is ill-defined and being set to 0.0 in samples with no predicted labels. Use `zero_division` parameter to control this behavior.\n",
      "  _warn_prf(average, modifier, msg_start, len(result))\n"
     ]
    },
    {
     "name": "stdout",
     "output_type": "stream",
     "text": [
      "Epoch:18 Training: Micro F1: 0.959 Macro F1: 0.923 Samples F1: 0.956\n",
      "Epoch: 18 Training Loss: 0.00003097 Got 53022 / 66071 correct. Acc: 80.25%\n"
     ]
    },
    {
     "name": "stderr",
     "output_type": "stream",
     "text": [
      "/opt/conda/lib/python3.7/site-packages/torch/utils/data/dataloader.py:477: UserWarning: This DataLoader will create 6 worker processes in total. Our suggested max number of worker in current system is 2, which is smaller than what this DataLoader is going to create. Please be aware that excessive worker creation might get DataLoader running slow or even freeze, lower the worker number to avoid potential slowness/freeze if necessary.\n",
      "  cpuset_checked))\n",
      "/opt/conda/lib/python3.7/site-packages/sklearn/metrics/_classification.py:1245: UndefinedMetricWarning: Precision is ill-defined and being set to 0.0 in labels with no predicted samples. Use `zero_division` parameter to control this behavior.\n",
      "  _warn_prf(average, modifier, msg_start, len(result))\n",
      "/opt/conda/lib/python3.7/site-packages/sklearn/metrics/_classification.py:1245: UndefinedMetricWarning: Recall is ill-defined and being set to 0.0 in labels with no true samples. Use `zero_division` parameter to control this behavior.\n",
      "  _warn_prf(average, modifier, msg_start, len(result))\n",
      "/opt/conda/lib/python3.7/site-packages/sklearn/metrics/_classification.py:1493: UndefinedMetricWarning: F-score is ill-defined and being set to 0.0 in labels with no true nor predicted samples. Use `zero_division` parameter to control this behavior.\n",
      "  average, \"true nor predicted\", 'F-score is', len(true_sum)\n",
      "/opt/conda/lib/python3.7/site-packages/sklearn/metrics/_classification.py:1245: UndefinedMetricWarning: Precision is ill-defined and being set to 0.0 in samples with no predicted labels. Use `zero_division` parameter to control this behavior.\n",
      "  _warn_prf(average, modifier, msg_start, len(result))\n"
     ]
    },
    {
     "name": "stdout",
     "output_type": "stream",
     "text": [
      "Epoch:18 Validation: Micro F1: 0.653 Macro F1: 0.460 Samples F1: 0.621\n",
      "Epoch: 18 Validation Loss: 0.00042792 Got 2945 / 11016 correct 26.73%\n"
     ]
    },
    {
     "name": "stderr",
     "output_type": "stream",
     "text": [
      "/opt/conda/lib/python3.7/site-packages/torch/utils/data/dataloader.py:477: UserWarning: This DataLoader will create 6 worker processes in total. Our suggested max number of worker in current system is 2, which is smaller than what this DataLoader is going to create. Please be aware that excessive worker creation might get DataLoader running slow or even freeze, lower the worker number to avoid potential slowness/freeze if necessary.\n",
      "  cpuset_checked))\n",
      "/opt/conda/lib/python3.7/site-packages/sklearn/metrics/_classification.py:1245: UndefinedMetricWarning: Precision is ill-defined and being set to 0.0 in samples with no predicted labels. Use `zero_division` parameter to control this behavior.\n",
      "  _warn_prf(average, modifier, msg_start, len(result))\n"
     ]
    },
    {
     "name": "stdout",
     "output_type": "stream",
     "text": [
      "Epoch:19 Training: Micro F1: 0.961 Macro F1: 0.930 Samples F1: 0.958\n",
      "Epoch: 19 Training Loss: 0.00002931 Got 53586 / 66071 correct. Acc: 81.10%\n"
     ]
    },
    {
     "name": "stderr",
     "output_type": "stream",
     "text": [
      "/opt/conda/lib/python3.7/site-packages/torch/utils/data/dataloader.py:477: UserWarning: This DataLoader will create 6 worker processes in total. Our suggested max number of worker in current system is 2, which is smaller than what this DataLoader is going to create. Please be aware that excessive worker creation might get DataLoader running slow or even freeze, lower the worker number to avoid potential slowness/freeze if necessary.\n",
      "  cpuset_checked))\n",
      "/opt/conda/lib/python3.7/site-packages/sklearn/metrics/_classification.py:1245: UndefinedMetricWarning: Precision is ill-defined and being set to 0.0 in labels with no predicted samples. Use `zero_division` parameter to control this behavior.\n",
      "  _warn_prf(average, modifier, msg_start, len(result))\n",
      "/opt/conda/lib/python3.7/site-packages/sklearn/metrics/_classification.py:1245: UndefinedMetricWarning: Recall is ill-defined and being set to 0.0 in labels with no true samples. Use `zero_division` parameter to control this behavior.\n",
      "  _warn_prf(average, modifier, msg_start, len(result))\n",
      "/opt/conda/lib/python3.7/site-packages/sklearn/metrics/_classification.py:1493: UndefinedMetricWarning: F-score is ill-defined and being set to 0.0 in labels with no true nor predicted samples. Use `zero_division` parameter to control this behavior.\n",
      "  average, \"true nor predicted\", 'F-score is', len(true_sum)\n",
      "/opt/conda/lib/python3.7/site-packages/sklearn/metrics/_classification.py:1245: UndefinedMetricWarning: Precision is ill-defined and being set to 0.0 in samples with no predicted labels. Use `zero_division` parameter to control this behavior.\n",
      "  _warn_prf(average, modifier, msg_start, len(result))\n"
     ]
    },
    {
     "name": "stdout",
     "output_type": "stream",
     "text": [
      "Epoch:19 Validation: Micro F1: 0.664 Macro F1: 0.475 Samples F1: 0.636\n",
      "Epoch: 19 Validation Loss: 0.00045655 Got 3048 / 11016 correct 27.67%\n"
     ]
    },
    {
     "name": "stderr",
     "output_type": "stream",
     "text": [
      "/opt/conda/lib/python3.7/site-packages/torch/utils/data/dataloader.py:477: UserWarning: This DataLoader will create 6 worker processes in total. Our suggested max number of worker in current system is 2, which is smaller than what this DataLoader is going to create. Please be aware that excessive worker creation might get DataLoader running slow or even freeze, lower the worker number to avoid potential slowness/freeze if necessary.\n",
      "  cpuset_checked))\n",
      "/opt/conda/lib/python3.7/site-packages/sklearn/metrics/_classification.py:1245: UndefinedMetricWarning: Precision is ill-defined and being set to 0.0 in samples with no predicted labels. Use `zero_division` parameter to control this behavior.\n",
      "  _warn_prf(average, modifier, msg_start, len(result))\n"
     ]
    },
    {
     "name": "stdout",
     "output_type": "stream",
     "text": [
      "Epoch:20 Training: Micro F1: 0.966 Macro F1: 0.941 Samples F1: 0.963\n",
      "Epoch: 20 Training Loss: 0.00002660 Got 54845 / 66071 correct. Acc: 83.01%\n"
     ]
    },
    {
     "name": "stderr",
     "output_type": "stream",
     "text": [
      "/opt/conda/lib/python3.7/site-packages/torch/utils/data/dataloader.py:477: UserWarning: This DataLoader will create 6 worker processes in total. Our suggested max number of worker in current system is 2, which is smaller than what this DataLoader is going to create. Please be aware that excessive worker creation might get DataLoader running slow or even freeze, lower the worker number to avoid potential slowness/freeze if necessary.\n",
      "  cpuset_checked))\n",
      "/opt/conda/lib/python3.7/site-packages/sklearn/metrics/_classification.py:1245: UndefinedMetricWarning: Precision is ill-defined and being set to 0.0 in labels with no predicted samples. Use `zero_division` parameter to control this behavior.\n",
      "  _warn_prf(average, modifier, msg_start, len(result))\n",
      "/opt/conda/lib/python3.7/site-packages/sklearn/metrics/_classification.py:1245: UndefinedMetricWarning: Recall is ill-defined and being set to 0.0 in labels with no true samples. Use `zero_division` parameter to control this behavior.\n",
      "  _warn_prf(average, modifier, msg_start, len(result))\n",
      "/opt/conda/lib/python3.7/site-packages/sklearn/metrics/_classification.py:1493: UndefinedMetricWarning: F-score is ill-defined and being set to 0.0 in labels with no true nor predicted samples. Use `zero_division` parameter to control this behavior.\n",
      "  average, \"true nor predicted\", 'F-score is', len(true_sum)\n",
      "/opt/conda/lib/python3.7/site-packages/sklearn/metrics/_classification.py:1245: UndefinedMetricWarning: Precision is ill-defined and being set to 0.0 in samples with no predicted labels. Use `zero_division` parameter to control this behavior.\n",
      "  _warn_prf(average, modifier, msg_start, len(result))\n"
     ]
    },
    {
     "name": "stdout",
     "output_type": "stream",
     "text": [
      "Epoch:20 Validation: Micro F1: 0.640 Macro F1: 0.453 Samples F1: 0.607\n",
      "Epoch: 20 Validation Loss: 0.00051371 Got 2826 / 11016 correct 25.65%\n",
      "CPU times: user 2h 1min 19s, sys: 32min 23s, total: 2h 33min 43s\n",
      "Wall time: 2h 43min 59s\n"
     ]
    }
   ],
   "source": [
    "%%time\n",
    "num_epochs = 20\n",
    "results = train_model(gpu(model), optimizer, epochs=num_epochs)"
   ]
  },
  {
   "cell_type": "code",
   "execution_count": 17,
   "metadata": {},
   "outputs": [],
   "source": [
    "# Save the model.\n",
    "PATH = \"../saved_models/ingredients/res18/res18.dat\"\n",
    "torch.save(model, PATH)\n",
    "torch.save(results, '../saved_models/ingredients/res18/res18-results.pt')"
   ]
  },
  {
   "cell_type": "markdown",
   "metadata": {},
   "source": [
    "## Evaluation"
   ]
  },
  {
   "cell_type": "code",
   "execution_count": 8,
   "metadata": {},
   "outputs": [],
   "source": [
    "# Load the model.\n",
    "PATH = \"../saved_models/ingredients/res18/res18.dat\"\n",
    "loaded_model = torch.load(PATH)\n",
    "loaded_model = gpu(loaded_model)\n",
    "model = loaded_model\n",
    "results = torch.load('../saved_models/ingredients/res18/res18-results.pt')"
   ]
  },
  {
   "cell_type": "code",
   "execution_count": 9,
   "metadata": {},
   "outputs": [],
   "source": [
    "train_results, val_results = results['train'], results['val']\n",
    "LOSS, ACC, LOSS_V, ACC_V = (train_results['loss_history'], train_results['accuracy_history'], \n",
    "                            val_results['loss_history'], val_results['accuracy_history'])"
   ]
  },
  {
   "cell_type": "code",
   "execution_count": 10,
   "metadata": {},
   "outputs": [
    {
     "data": {
      "image/png": "[encoded data removed]",
      "text/plain": [
       "<Figure size 432x288 with 1 Axes>"
      ]
     },
     "metadata": {
      "needs_background": "light"
     },
     "output_type": "display_data"
    },
    {
     "data": {
      "image/png": "[encoded data removed]",
      "text/plain": [
       "<Figure size 432x288 with 1 Axes>"
      ]
     },
     "metadata": {
      "needs_background": "light"
     },
     "output_type": "display_data"
    }
   ],
   "source": [
    "# Loss and Accuracy Curves\n",
    "from utils.plots import plot_loss_and_accuracy_curves\n",
    "plot_loss_and_accuracy_curves('Res-18', LOSS, ACC, LOSS_V, ACC_V)"
   ]
  },
  {
   "cell_type": "code",
   "execution_count": 21,
   "metadata": {},
   "outputs": [
    {
     "name": "stderr",
     "output_type": "stream",
     "text": [
      "/opt/conda/lib/python3.7/site-packages/torch/utils/data/dataloader.py:477: UserWarning: This DataLoader will create 6 worker processes in total. Our suggested max number of worker in current system is 2, which is smaller than what this DataLoader is going to create. Please be aware that excessive worker creation might get DataLoader running slow or even freeze, lower the worker number to avoid potential slowness/freeze if necessary.\n",
      "  cpuset_checked))\n",
      "/opt/conda/lib/python3.7/site-packages/sklearn/metrics/_classification.py:1245: UndefinedMetricWarning: Precision is ill-defined and being set to 0.0 in labels with no predicted samples. Use `zero_division` parameter to control this behavior.\n",
      "  _warn_prf(average, modifier, msg_start, len(result))\n",
      "/opt/conda/lib/python3.7/site-packages/sklearn/metrics/_classification.py:1245: UndefinedMetricWarning: Precision is ill-defined and being set to 0.0 in samples with no predicted labels. Use `zero_division` parameter to control this behavior.\n",
      "  _warn_prf(average, modifier, msg_start, len(result))\n"
     ]
    },
    {
     "name": "stdout",
     "output_type": "stream",
     "text": [
      "Testing: Micro F1: 0.640 Macro F1: 0.458 Samples F1: 0.604\n",
      "Accuracy of the network on the all test images: 26.01%\n"
     ]
    }
   ],
   "source": [
    "# Evaluation: Compute Accuracy and Micro F1, Macro F1, Samples F1 scores\n",
    "\n",
    "def compute_accuracy(model):\n",
    "    num_correct, num_samples, total_loss = 0, 0, 0\n",
    "    with torch.no_grad():\n",
    "        model.eval()\n",
    "        model_result = []\n",
    "        targets = []\n",
    "        for x, food_labels, paths in test_dataloader:\n",
    "            y = np.array([get_ingredients(path) for path in paths])\n",
    "            x, y = gpu(x), gpu(torch.from_numpy(y)).to(torch.float32)\n",
    "            scores = model(x)\n",
    "            loss = criterion(scores, y) \n",
    "            total_loss += loss.data.item()\n",
    "            num_correct += get_num_correct(scores, y)\n",
    "            num_samples += x.size(0)\n",
    "            \n",
    "            model_result.extend(scores.cpu().numpy())\n",
    "            targets.extend(y.cpu().numpy())\n",
    "        result = calculate_metrics(np.array(model_result), np.array(targets))\n",
    "        micro_f1, macro_f1, samples_f1 = result['micro/f1'], result['macro/f1'], result['samples/f1']\n",
    "        print(\"Testing: \"\n",
    "              \"Micro F1: {:.3f} \"\n",
    "              \"Macro F1: {:.3f} \"\n",
    "              \"Samples F1: {:.3f}\".format(result['micro/f1'],\n",
    "                                          result['macro/f1'],\n",
    "                                          result['samples/f1']))\n",
    "        average_loss = total_loss / num_samples\n",
    "        acc = num_correct / num_samples\n",
    "\n",
    "    print('Accuracy of the network on the all test images: %.2f%%' % (\n",
    "        100 * num_correct / num_samples))\n",
    "\n",
    "compute_accuracy(model)"
   ]
  },
  {
   "cell_type": "markdown",
   "metadata": {},
   "source": [
    "## Precision + Recall Statistics"
   ]
  },
  {
   "cell_type": "markdown",
   "metadata": {},
   "source": [
    "We compute aggregate precision-recall stats as well as precision-recall stats on a per-ingredient basis.\n",
    "Store the predictions made by the model in y_score and the correct labels in y_test for all the testing examples."
   ]
  },
  {
   "cell_type": "code",
   "execution_count": 11,
   "metadata": {},
   "outputs": [
    {
     "name": "stderr",
     "output_type": "stream",
     "text": [
      "/opt/conda/lib/python3.7/site-packages/torch/utils/data/dataloader.py:477: UserWarning: This DataLoader will create 6 worker processes in total. Our suggested max number of worker in current system is 2, which is smaller than what this DataLoader is going to create. Please be aware that excessive worker creation might get DataLoader running slow or even freeze, lower the worker number to avoid potential slowness/freeze if necessary.\n",
      "  cpuset_checked))\n"
     ]
    }
   ],
   "source": [
    "y_score = []\n",
    "y_test = []\n",
    "criterion = nn.BCELoss()\n",
    "with torch.no_grad():\n",
    "    model.eval()\n",
    "    for x, food_labels, paths in test_dataloader:\n",
    "        y = np.array([get_ingredients(path) for path in paths])\n",
    "        x, y = gpu(x), gpu(torch.from_numpy(y)).to(torch.float32)\n",
    "        scores = model(x)\n",
    "        y_score.extend(scores.cpu().numpy())\n",
    "        y_test.extend(y.cpu().numpy())"
   ]
  },
  {
   "cell_type": "code",
   "execution_count": 12,
   "metadata": {},
   "outputs": [],
   "source": [
    "y_score = np.array(y_score)\n",
    "y_test = np.array(y_test)"
   ]
  },
  {
   "cell_type": "markdown",
   "metadata": {},
   "source": [
    "Store the thresholded predictions made by the model in y_pred (using a default threshold of 0.5 for each ingredient category)"
   ]
  },
  {
   "cell_type": "code",
   "execution_count": 13,
   "metadata": {},
   "outputs": [],
   "source": [
    "y_pred = np.array(y_score > 0.5, dtype=float)"
   ]
  },
  {
   "cell_type": "markdown",
   "metadata": {},
   "source": [
    "### Compute Precision/Recall for each Ingredient Manually"
   ]
  },
  {
   "cell_type": "code",
   "execution_count": 56,
   "metadata": {},
   "outputs": [],
   "source": [
    "# Manual Precision/Recall Calculations:\n",
    "from collections import defaultdict\n",
    "\n",
    "num_classes = 353\n",
    "pr_stats = dict()\n",
    "for j in range(num_classes):\n",
    "    pr_stats[j] = defaultdict(int)\n",
    "for (y_test_i, y_pred_i) in zip(y_test, y_pred):\n",
    "    for j in range(num_classes):\n",
    "        if y_test_i[j] == 0 and y_pred_i[j] == 0:\n",
    "            pr_stats[j][\"TN\"] += 1\n",
    "        elif y_test_i[j] == 1 and y_pred_i[j] == 1:\n",
    "            pr_stats[j][\"TP\"] += 1\n",
    "        elif y_test_i[j] == 1 and y_pred_i[j] == 0:\n",
    "            pr_stats[j][\"FN\"] += 1\n",
    "        elif y_test_i[j] == 0 and y_pred_i[j] == 1:\n",
    "            pr_stats[j][\"FP\"] += 1"
   ]
  },
  {
   "cell_type": "code",
   "execution_count": 86,
   "metadata": {},
   "outputs": [
    {
     "name": "stdout",
     "output_type": "stream",
     "text": [
      "Precision-Recall Statistics for each Ingredient\n",
      "---------------------------------------------------------------------------\n",
      "Ingredient                                        Precision     Recall     \n",
      "---------------------------------------------------------------------------\n",
      "Minced green onion                                   0.79        0.66      \n",
      "chiffonade of green onion                            0.62        0.58      \n",
      "Seared green onion                                   0.44        0.19      \n",
      "White onion                                          0.79        0.64      \n",
      "Brunoise diced ham                                   0.72        0.68      \n",
      "Julienned ham                                        0.50        0.30      \n",
      "Ham                                                  0.00        0.00      \n",
      "Sliced ham                                           0.57        0.09      \n",
      "Brunoise diced carrot                                0.75        0.59      \n",
      "Sliced carrot                                        0.67        0.27      \n",
      "Batonnet carrot                                      0.83        0.12      \n",
      "Julienned carrot                                     0.83        0.36      \n",
      "Hob blocks of carrot                                 0.84        0.38      \n",
      "Black sesame                                         0.69        0.45      \n",
      "White sesame                                         0.71        0.62      \n",
      "Crushed pepper                                       0.75        0.56      \n",
      "Shredded pepper                                      0.61        0.49      \n",
      "Pepper slices                                        0.59        0.65      \n",
      "Seared pepper                                        0.15        0.15      \n",
      "Pepper                                               0.46        0.17      \n",
      "Whole green pepper                                   0.89        0.72      \n",
      "Chinese Parsleycoriander                             0.77        0.66      \n",
      "Bean sprouts                                         0.75        0.53      \n",
      "Bacon                                                0.00        0.00      \n",
      "Tomato sclices                                       0.45        0.73      \n",
      "Cherry tomato slices                                 0.30        0.10      \n",
      "Cherry tomato                                        0.62        0.31      \n",
      "Green vegetables                                     0.55        0.36      \n",
      "chiffonade of green vegetables                       1.00        0.08      \n",
      "Corn kernels                                         0.89        0.62      \n",
      "Corn blocks                                          0.95        0.21      \n",
      "Bitter gourd slices                                  0.77        0.76      \n",
      "Broccoli                                             0.73        0.42      \n",
      "Cauliflower                                          0.75        0.85      \n",
      "Toast                                                0.33        0.17      \n",
      "Bread                                                0.00        0.00      \n",
      "Chinese mahogany                                     0.00        0.00      \n",
      "Crab sticks                                          0.00        0.00      \n",
      "Bamboo shoots tips                                   0.20        0.11      \n",
      "Chive pieces                                         0.73        0.65      \n",
      "Chopped chives                                       0.57        0.79      \n",
      "Chives                                               0.95        0.81      \n",
      "Shredded onion                                       0.44        0.14      \n",
      "Onion slices                                         0.31        0.14      \n",
      "Brunoise diced onion                                 0.43        0.18      \n",
      "Pumpkin blocks                                       0.69        0.43      \n",
      "Groundnut kernels                                    0.84        0.40      \n",
      "Crushed groundnut kernels                            0.40        0.09      \n",
      "Lemon                                                0.19        0.21      \n",
      "Shelled fresh shrimps                                0.55        0.71      \n",
      "Dried sea shrimp                                     0.50        0.25      \n",
      "Fresh Shrimp                                         0.70        0.58      \n",
      "Crayfish                                             0.99        0.81      \n",
      "Julienned cucumber                                   0.68        0.39      \n",
      "Batonnet cucumber                                    0.57        0.22      \n",
      "Hob blocks of cucumber                               0.90        0.43      \n",
      "Cucumber slices                                      0.81        0.39      \n",
      "Brunoise diced cucumber                              0.76        0.60      \n",
      "Crushed hot and dry chili                            0.65        0.52      \n",
      "Hot and dry pepper                                   0.66        0.31      \n",
      "Hot and dry pepper powder                            0.71        0.49      \n",
      "Chiffonade of purple cabbage                         1.00        0.04      \n",
      "Chinese cabbage                                      0.65        0.68      \n",
      "Black fungus                                         0.77        0.64      \n",
      "Perilla crispa tanaka                                0.00        0.00      \n",
      "Ginger slices                                        0.38        0.10      \n",
      "Julienned ginger                                     0.36        0.34      \n",
      "Chopped ginger                                       0.60        0.08      \n",
      "Scrambled egg                                        0.62        0.93      \n",
      "Egg cake                                             0.44        0.74      \n",
      "Crushed egg crepe                                    0.82        0.30      \n",
      "Spiced corned egg                                    0.97        0.28      \n",
      "Egg yolk                                             1.00        0.40      \n",
      "Steamed egg custard                                  0.85        0.49      \n",
      "Boild egg slices                                     0.60        0.42      \n",
      "Boild eggs                                           0.95        0.72      \n",
      "Egg drop                                             0.81        0.86      \n",
      "Shredded egg crepe                                   0.20        0.04      \n",
      "Quail eggs                                           0.00        0.00      \n",
      "Minced pork                                          0.50        0.19      \n",
      "Wolfberry                                            0.83        0.52      \n",
      "Minced pork                                          0.75        0.60      \n",
      "Shredded pork                                        0.86        0.59      \n",
      "Streaky pork slices                                  0.67        0.65      \n",
      "Pork slices                                          0.63        0.38      \n",
      "Pork chunks                                          0.56        0.53      \n",
      "Streaky pork chunks                                  0.46        0.36      \n",
      "Cured meat chunks                                    0.83        0.14      \n",
      "kale borecole                                        0.23        0.41      \n",
      "Pork intestines                                      0.91        0.72      \n",
      "Lettuce                                              0.57        0.57      \n",
      "Steamed bread                                        0.85        0.42      \n",
      "Red dates                                            0.71        0.81      \n",
      "Kiwi                                                 1.00        0.20      \n",
      "Garlic clove                                         0.72        0.10      \n",
      "Crushed garlic                                       0.63        0.40      \n",
      "Garlic bulb                                          0.61        0.64      \n",
      "Lentinus edodes                                      0.75        0.35      \n",
      "Lentinus edodes slices                               0.67        0.45      \n",
      "Brunoise diced lentinus edodes                       0.33        0.06      \n",
      "Pleurotus ostreatus                                  0.60        0.33      \n",
      "Poplar Mushroom                                      0.91        0.57      \n",
      "Dried mushroom                                       0.63        0.68      \n",
      "White beech mushroom                                 0.00        0.00      \n",
      "Yam chunks                                           0.72        0.62      \n",
      "White yam                                            0.97        0.70      \n",
      "Yam slices                                           0.00        0.00      \n",
      "Strawberry                                           0.00        0.00      \n",
      "Sea cucumber                                         0.93        0.54      \n",
      "Shanghai cabbage                                     0.97        0.40      \n",
      "Asparagus                                            0.40        0.15      \n",
      "Bamboo shoots chunks                                 0.00        0.00      \n",
      "Shredded bamboo shoots                               0.57        0.47      \n",
      "Rice                                                 0.88        0.82      \n",
      "Meat balls                                           0.93        0.57      \n",
      "Beaf balls                                           0.00        0.00      \n",
      "Shrimp balls                                         0.00        0.00      \n",
      "Fish balls                                           0.25        0.02      \n",
      "blueberry jam                                        0.97        0.70      \n",
      "Orange slices                                        0.00        0.00      \n",
      "Mango                                                0.51        0.55      \n",
      "Noodles                                              0.91        0.74      \n",
      "Beef chunks                                          0.75        0.63      \n",
      "Beef slices                                          0.70        0.48      \n",
      "Sliced Fatty Beef                                    0.81        0.86      \n",
      "Tofu chunks                                          0.79        0.53      \n",
      "Chiba beancurd                                       0.00        0.00      \n",
      "Fish bean curd                                       0.00        0.00      \n",
      "Stinky tofu                                          0.74        0.45      \n",
      "Shredded dried bean curd                             0.86        0.28      \n",
      "Hob blocks of potato                                 0.87        0.55      \n",
      "Potato slices                                        0.25        0.07      \n",
      "Shredded potato                                      0.94        0.83      \n",
      "Mashed potatoes                                      0.69        0.37      \n",
      "Batonnet potato                                      0.10        0.09      \n",
      "Chili oil                                            0.84        0.55      \n",
      "Chili saurce                                         0.61        0.45      \n",
      "Chili powder                                         0.00        0.00      \n",
      "Garlic sprout pieces                                 0.82        0.65      \n",
      "Brunoise diced garlic sprout                         1.00        0.04      \n",
      "Garlic leaves                                        0.41        0.37      \n",
      "Pickled red peppers                                  0.86        0.59      \n",
      "Pickled capsicum annum fasciculatum                  0.83        0.54      \n",
      "Minced pickled capsicum annum fasciculatum           0.56        0.29      \n",
      "Shredded kelp                                        0.91        0.80      \n",
      "kelp                                                 1.00        0.16      \n",
      "Bullfrog                                             0.83        0.48      \n",
      "Caviar                                               0.00        0.00      \n",
      "Lotus root slices                                    0.69        0.55      \n",
      "Lotus root chunks                                    0.97        0.52      \n",
      "Lotus root box                                       0.90        0.54      \n",
      "Celtuce sclices                                      0.95        0.37      \n",
      "Batonnet celtuce                                     0.27        0.15      \n",
      "Shredded celtuce                                     0.00        0.00      \n",
      "Sweet potato chunks                                  0.60        0.12      \n",
      "Sausage slices                                       0.95        0.77      \n",
      "Cabbage                                              0.75        0.65      \n",
      "chiffonade of cabbage                                0.79        0.30      \n",
      "Spareribs                                            0.79        0.44      \n",
      "Clams                                                0.84        0.66      \n",
      "Lilium brownii                                       0.40        0.05      \n",
      "Fermented vegetables                                 0.87        0.48      \n",
      "Double-side fried egg                                0.74        0.76      \n",
      "Sliced double-side fried egg                         0.75        0.21      \n",
      "Radish slices                                        0.20        0.06      \n",
      "Batonnet radish                                      0.00        0.00      \n",
      "Hob blocks of radish                                 0.20        0.15      \n",
      "Julienned radish                                     0.00        0.00      \n",
      "Mashed pickled radish                                0.50        0.06      \n",
      "Pickled radish slices                                0.67        0.25      \n",
      "flatbread                                            0.76        0.23      \n",
      "Spring rolls                                         0.96        0.55      \n",
      "Chicken chunks                                       0.79        0.47      \n",
      "Brunoise diced chicken                               0.93        0.49      \n",
      "Tentacles of Squid                                   0.79        0.56      \n",
      "Squid pieces                                         1.00        0.04      \n",
      "Squid rings                                          0.25        0.07      \n",
      "White gourd chunks                                   0.87        0.62      \n",
      "Dried pieces of bean curd                            0.89        0.33      \n",
      "Yellow peaches                                       0.56        0.72      \n",
      "Pineapple                                            0.94        0.72      \n",
      "Eggplant                                             0.81        0.57      \n",
      "Eggplant slice                                       0.80        0.15      \n",
      "Batonnet eggplant                                    0.40        0.11      \n",
      "Hob blocks of eggplant                               0.74        0.71      \n",
      "Eggplant sticks                                      0.71        0.43      \n",
      "Water mellon                                         0.00        0.00      \n",
      "Gluten                                               0.97        0.55      \n",
      "Gluten chunks                                        0.67        0.11      \n",
      "Dumplings                                            0.54        0.74      \n",
      "Fried bread stick                                    0.80        0.85      \n",
      "Chopped fried bread stick                            1.00        0.33      \n",
      "Hot pickled mustard                                  0.68        0.36      \n",
      "Sesame sauce                                         0.24        0.21      \n",
      "Soya-bean sprout                                     0.38        0.45      \n",
      "Shredded beef tripe                                  0.55        0.27      \n",
      "Water spinach                                        0.81        0.66      \n",
      "Shredded pickled Bamboo Shoots                       0.75        0.21      \n",
      "barbecued pork slices                                0.88        0.70      \n",
      "barbecued pork chunks                                0.00        0.00      \n",
      "Chicken Feet                                         0.93        0.60      \n",
      "Cold steamed rice noodles                            0.92        0.50      \n",
      "Mutton slices                                        0.65        0.44      \n",
      "Mutton chunks                                        0.39        0.22      \n",
      "Crushed Small loaf of steamed bread                  0.98        0.49      \n",
      "Small loaf of steamed bread                          0.95        0.84      \n",
      "Starch sheet                                         0.54        0.26      \n",
      "Yuba                                                 0.48        0.70      \n",
      "Okra slices                                          0.55        0.56      \n",
      "Chestnut                                             0.38        0.24      \n",
      "Preserved egg chunks                                 0.90        0.60      \n",
      "Crushed preserved egg                                0.96        0.81      \n",
      "Whole preserved egg                                  1.00        0.12      \n",
      "Laver                                                0.85        0.83      \n",
      "Fried dough twist                                    0.00        0.00      \n",
      "Longan                                               0.50        0.08      \n",
      "Stewed Pork                                          0.95        0.50      \n",
      "Beans                                                0.88        0.73      \n",
      "Minced beans                                         0.00        0.00      \n",
      "Minced pickled beans                                 0.81        0.67      \n",
      "Sweet fermented flour paste                          0.56        0.44      \n",
      "River snail                                          0.99        0.46      \n",
      "Spinach                                              0.64        0.45      \n",
      "Sea sedge                                            0.92        0.84      \n",
      "Bracken                                              0.47        0.14      \n",
      "Coprinus comatus                                     0.50        0.25      \n",
      "Lime leaves                                          0.41        0.22      \n",
      "lemongrass                                           0.00        0.00      \n",
      "Lime                                                 0.00        0.00      \n",
      "Chicken Wings                                        0.40        0.72      \n",
      "Snow peas                                            0.96        0.69      \n",
      "Pickled vegetable                                    0.56        0.16      \n",
      "Salted egg                                           0.00        0.00      \n",
      "Curry                                                0.53        0.57      \n",
      "Black pepper powder                                  1.00        0.17      \n",
      "Fried flour                                          0.70        0.74      \n",
      "Whole black chicken                                  0.60        0.33      \n",
      "Black chicken chunks                                 0.86        0.67      \n",
      "Celery stalk slices                                  0.89        0.65      \n",
      "Celery stalk                                         0.15        0.20      \n",
      "Celery leaves                                        1.00        0.11      \n",
      "Celery                                               0.58        0.32      \n",
      "Brunoise diced celery                                1.00        0.12      \n",
      "Banana slices                                        1.00        0.25      \n",
      "Apple chunks                                         0.00        0.00      \n",
      "Loofah                                               0.56        0.78      \n",
      "Fish slices                                          0.96        0.51      \n",
      "fish chunks                                          0.39        0.32      \n",
      "Fish                                                 0.84        0.71      \n",
      "zucchini slices                                      0.63        0.45      \n",
      "Boiled chicken slices                                0.92        0.53      \n",
      "Whole boiled chicken                                 0.00        0.00      \n",
      "Tenderloin slices                                    0.72        0.63      \n",
      "Tenderloin chunks                                    0.38        0.27      \n",
      "Batonnet tenderloin                                  0.75        0.52      \n",
      "White congee                                         0.94        0.90      \n",
      "Spaghetti                                            0.93        0.64      \n",
      "Steak                                                0.76        0.68      \n",
      "Cumin powder                                         0.32        0.26      \n",
      "Beef tripes                                          0.00        0.00      \n",
      "Pine nuts                                            0.91        0.88      \n",
      "Gemelli                                              0.71        0.38      \n",
      "Korean chili sauce                                   0.58        0.17      \n",
      "kidney bean                                          0.00        0.00      \n",
      "Zanthoxylum fagara                                   0.59        0.26      \n",
      "Rice noodle                                          0.84        0.38      \n",
      "Fried yuba skin                                      0.75        0.36      \n",
      "Salad dressing                                       0.86        0.33      \n",
      "Soya bean                                            0.53        0.18      \n",
      "Fern root noodles                                    0.95        0.68      \n",
      "ketchup                                              0.58        0.15      \n",
      "Mint leaf                                            0.56        0.13      \n",
      "Soy sauce                                            1.00        0.09      \n",
      "Baby Chinese Cabbage                                 0.93        0.62      \n",
      "Water                                                0.86        0.76      \n",
      "Lotus seeds                                          0.71        0.27      \n",
      "Azuki bean                                           1.00        0.08      \n",
      "Green soybean                                        0.58        0.10      \n",
      "Parsley                                              0.85        0.55      \n",
      "Duck neck                                            0.79        0.52      \n",
      "Thick broad-bean sauce                               0.00        0.00      \n",
      "Enoki mushroom                                       0.35        0.15      \n",
      "Crystal sugar                                        0.76        0.74      \n",
      "Cashew                                               0.83        0.19      \n",
      "Steamed Bun                                          1.00        0.60      \n",
      "Sour sauce                                           0.80        0.12      \n",
      "Pork leg                                             0.83        0.35      \n",
      "Bayleaf                                              0.25        0.14      \n",
      "shumai                                               0.87        0.75      \n",
      "Crap roe                                             0.49        0.91      \n",
      "Shrimp eggs                                          0.50        0.20      \n",
      "Button mushroom                                      0.59        0.19      \n",
      "Coconut water                                        0.56        0.32      \n",
      "Glutinous rice                                       0.95        0.43      \n",
      "Sweet potato starch noodles                          0.84        0.57      \n",
      "Vermicelli                                           0.81        0.75      \n",
      "Fermented soya beans                                 0.80        0.14      \n",
      "Rice dumpling                                        0.94        0.72      \n",
      "Sweetened bean paste                                 0.00        0.00      \n",
      "Sweet dumplings                                      1.00        0.68      \n",
      "Rice noodle roll                                     0.95        0.61      \n",
      "Pea                                                  0.73        0.48      \n",
      "Pork floss                                           0.53        0.24      \n",
      "Scallion pancake                                     0.77        0.57      \n",
      "Black rice                                           0.83        0.26      \n",
      "Small crispy rice                                    0.23        0.91      \n",
      "Coconut cake                                         0.91        0.67      \n",
      "Shredded coconut stuffing                            0.00        0.00      \n",
      "Mussels                                              0.00        0.00      \n",
      "Pork lungs                                           0.69        0.66      \n",
      "Crispy sausage                                       0.00        0.00      \n",
      "Codonopsis pilosula                                  0.52        0.39      \n",
      "Radix Astragali                                      0.00        0.00      \n",
      "American genseng                                     0.00        0.00      \n",
      "Cordyceps sinensis                                   1.00        0.50      \n",
      "Aniseed                                              0.39        0.21      \n",
      "Raisin                                               0.00        0.00      \n",
      "Suckling pig                                         0.90        0.57      \n",
      "Steamed twisted roll                                 0.89        0.75      \n",
      "Grape                                                0.00        0.00      \n",
      "Pork paste                                           0.93        0.71      \n",
      "Cheese                                               0.52        0.38      \n",
      "Wonton                                               0.91        0.81      \n",
      "Duck head                                            0.91        0.75      \n",
      "Chinese Kale                                         0.91        0.67      \n",
      "Chicken legs                                         0.60        0.24      \n",
      "Whole chicken                                        0.59        0.35      \n",
      "Shredded chicken                                     0.59        0.44      \n",
      "Sweet and sour sauce                                 0.68        0.69      \n",
      "Fish head                                            0.85        0.80      \n",
      "Steamed Rice Powder                                  0.90        0.65      \n",
      "Scallop                                              0.80        0.88      \n",
      "Macaroni                                             1.00        0.20      \n",
      "Ribbonfish                                           0.43        0.60      \n",
      "Tea-leaves                                           0.20        0.07      \n",
      "Millet                                               0.87        0.84      \n",
      "Preserved vegetables                                 0.90        0.69      \n",
      "CoixSeed                                             0.56        0.15      \n",
      "Green beans                                          0.89        0.73      \n",
      "White fungus                                         0.65        0.83      \n",
      "Crucian                                              0.97        0.52      \n",
      "Vinegar                                              0.14        0.05      \n",
      "Pancakes                                             0.69        0.45      \n",
      "Crispbread                                           1.00        0.14      \n",
      "Mango chunks                                         0.68        0.55      \n",
      "Crab                                                 0.96        0.75      \n",
      "Soya-bean milk                                       0.11        0.54      \n",
      "Fermented soybean paste                              0.22        0.04      \n",
      "Oyster sauce                                         0.82        0.76      \n",
      "Spare ribs chunks                                    0.85        0.59      \n",
      "Green soy beans                                      1.00        0.73      \n",
      "Cherry                                               0.80        0.16      \n",
      "Shredded pig ears                                    1.00        0.50      \n"
     ]
    }
   ],
   "source": [
    "precision = dict()\n",
    "recall = dict()\n",
    "dash = '-' * 75\n",
    "print(\"Precision-Recall Statistics for each Ingredient\")\n",
    "print(dash)\n",
    "print('{:<50s}{:^10s}{:^15s}'.format(\"Ingredient\", \"Precision\", \"Recall\"))\n",
    "print(dash)\n",
    "for j in range(num_classes):\n",
    "    if (pr_stats[j][\"TP\"] + pr_stats[j][\"FP\"]) == 0:\n",
    "        precision[j] = 0\n",
    "    else:\n",
    "        precision[j] = pr_stats[j][\"TP\"] / (pr_stats[j][\"TP\"] + pr_stats[j][\"FP\"])\n",
    "        \n",
    "    if (pr_stats[j][\"TP\"] + pr_stats[j][\"FN\"]) == 0:\n",
    "        recall[j] = 0\n",
    "    else:\n",
    "        recall[j] = pr_stats[j][\"TP\"] / (pr_stats[j][\"TP\"] + pr_stats[j][\"FN\"])\n",
    "    print('{:<50s}{:^10.2f}{:^15.2f}'.format(IngreList[j], precision[j], recall[j]))  "
   ]
  },
  {
   "cell_type": "markdown",
   "metadata": {},
   "source": [
    "### Sklearn Classification Report"
   ]
  },
  {
   "cell_type": "code",
   "execution_count": 57,
   "metadata": {},
   "outputs": [
    {
     "name": "stdout",
     "output_type": "stream",
     "text": [
      "\n",
      "Accuracy: 0.26\n",
      "\n",
      "Micro Precision: 0.74\n",
      "Micro Recall: 0.57\n",
      "Micro F1-score: 0.64\n",
      "\n"
     ]
    },
    {
     "name": "stderr",
     "output_type": "stream",
     "text": [
      "/opt/conda/lib/python3.7/site-packages/sklearn/metrics/_classification.py:1245: UndefinedMetricWarning: Precision is ill-defined and being set to 0.0 in labels with no predicted samples. Use `zero_division` parameter to control this behavior.\n",
      "  _warn_prf(average, modifier, msg_start, len(result))\n"
     ]
    },
    {
     "name": "stdout",
     "output_type": "stream",
     "text": [
      "Macro Precision: 0.62\n",
      "Macro Recall: 0.40\n",
      "Macro F1-score: 0.46\n",
      "\n"
     ]
    },
    {
     "name": "stderr",
     "output_type": "stream",
     "text": [
      "/opt/conda/lib/python3.7/site-packages/sklearn/metrics/_classification.py:1245: UndefinedMetricWarning: Precision is ill-defined and being set to 0.0 in labels with no predicted samples. Use `zero_division` parameter to control this behavior.\n",
      "  _warn_prf(average, modifier, msg_start, len(result))\n"
     ]
    },
    {
     "name": "stdout",
     "output_type": "stream",
     "text": [
      "Weighted Precision: 0.75\n",
      "Weighted Recall: 0.57\n",
      "Weighted F1-score: 0.63\n",
      "\n",
      "Classification Report\n",
      "\n",
      "                                            precision    recall  f1-score   support\n",
      "\n",
      "                        Minced green onion       0.79      0.66      0.72      6698\n",
      "                 chiffonade of green onion       0.62      0.58      0.60       666\n",
      "                        Seared green onion       0.44      0.19      0.26       731\n",
      "                               White onion       0.79      0.64      0.70       144\n",
      "                        Brunoise diced ham       0.72      0.68      0.70       435\n",
      "                             Julienned ham       0.50      0.30      0.37        10\n",
      "                                       Ham       0.00      0.00      0.00        24\n",
      "                                Sliced ham       0.57      0.09      0.15        46\n",
      "                     Brunoise diced carrot       0.75      0.59      0.66       868\n",
      "                             Sliced carrot       0.67      0.27      0.38       365\n",
      "                           Batonnet carrot       0.83      0.12      0.21        41\n",
      "                          Julienned carrot       0.83      0.36      0.50       699\n",
      "                      Hob blocks of carrot       0.84      0.38      0.53       387\n",
      "                              Black sesame       0.69      0.45      0.54      1639\n",
      "                              White sesame       0.71      0.62      0.66        76\n",
      "                            Crushed pepper       0.75      0.56      0.64      4353\n",
      "                           Shredded pepper       0.61      0.49      0.54      1138\n",
      "                             Pepper slices       0.59      0.65      0.62      1570\n",
      "                             Seared pepper       0.15      0.15      0.15        41\n",
      "                                    Pepper       0.46      0.17      0.25        99\n",
      "                        Whole green pepper       0.89      0.72      0.80       218\n",
      "                  Chinese Parsleycoriander       0.77      0.66      0.71      3886\n",
      "                              Bean sprouts       0.75      0.53      0.62       187\n",
      "                                     Bacon       0.00      0.00      0.00         7\n",
      "                            Tomato sclices       0.45      0.73      0.56       493\n",
      "                      Cherry tomato slices       0.30      0.10      0.15        78\n",
      "                             Cherry tomato       0.62      0.31      0.41       213\n",
      "                          Green vegetables       0.55      0.36      0.44      1370\n",
      "            chiffonade of green vegetables       1.00      0.08      0.15        49\n",
      "                              Corn kernels       0.89      0.62      0.73       460\n",
      "                               Corn blocks       0.95      0.21      0.34       101\n",
      "                       Bitter gourd slices       0.77      0.76      0.77       267\n",
      "                                  Broccoli       0.73      0.42      0.53       315\n",
      "                               Cauliflower       0.75      0.85      0.80       255\n",
      "                                     Toast       0.33      0.17      0.22        18\n",
      "                                     Bread       0.00      0.00      0.00         9\n",
      "                          Chinese mahogany       0.00      0.00      0.00         6\n",
      "                               Crab sticks       0.00      0.00      0.00        17\n",
      "                        Bamboo shoots tips       0.20      0.11      0.14        18\n",
      "                              Chive pieces       0.73      0.65      0.69       222\n",
      "                            Chopped chives       0.57      0.79      0.66        48\n",
      "                                    Chives       0.95      0.81      0.87       201\n",
      "                            Shredded onion       0.44      0.14      0.21        88\n",
      "                              Onion slices       0.31      0.14      0.19       303\n",
      "                      Brunoise diced onion       0.43      0.18      0.25        17\n",
      "                            Pumpkin blocks       0.69      0.43      0.53        47\n",
      "                         Groundnut kernels       0.84      0.40      0.54       970\n",
      "                 Crushed groundnut kernels       0.40      0.09      0.15        64\n",
      "                                     Lemon       0.19      0.21      0.20        86\n",
      "                     Shelled fresh shrimps       0.55      0.71      0.62       361\n",
      "                          Dried sea shrimp       0.50      0.25      0.33        16\n",
      "                              Fresh Shrimp       0.70      0.58      0.64       635\n",
      "                                  Crayfish       0.99      0.81      0.89       221\n",
      "                        Julienned cucumber       0.68      0.39      0.49       325\n",
      "                         Batonnet cucumber       0.57      0.22      0.32        95\n",
      "                    Hob blocks of cucumber       0.90      0.43      0.58       269\n",
      "                           Cucumber slices       0.81      0.39      0.53       548\n",
      "                   Brunoise diced cucumber       0.76      0.60      0.67       466\n",
      "                 Crushed hot and dry chili       0.65      0.52      0.58      3241\n",
      "                        Hot and dry pepper       0.66      0.31      0.42      1103\n",
      "                 Hot and dry pepper powder       0.71      0.49      0.58       314\n",
      "              Chiffonade of purple cabbage       1.00      0.04      0.08        24\n",
      "                           Chinese cabbage       0.65      0.68      0.66       202\n",
      "                              Black fungus       0.77      0.64      0.69      1003\n",
      "                     Perilla crispa tanaka       0.00      0.00      0.00         5\n",
      "                             Ginger slices       0.38      0.10      0.16       154\n",
      "                          Julienned ginger       0.36      0.34      0.35       171\n",
      "                            Chopped ginger       0.60      0.08      0.14        39\n",
      "                             Scrambled egg       0.62      0.93      0.74      1684\n",
      "                                  Egg cake       0.44      0.74      0.55       125\n",
      "                         Crushed egg crepe       0.82      0.30      0.43        61\n",
      "                         Spiced corned egg       0.97      0.28      0.44       138\n",
      "                                  Egg yolk       1.00      0.40      0.57         5\n",
      "                       Steamed egg custard       0.85      0.49      0.62       249\n",
      "                          Boild egg slices       0.60      0.42      0.50       196\n",
      "                                Boild eggs       0.95      0.72      0.82       221\n",
      "                                  Egg drop       0.81      0.86      0.84       145\n",
      "                        Shredded egg crepe       0.20      0.04      0.07        25\n",
      "                                Quail eggs       0.00      0.00      0.00         9\n",
      "                               Minced pork       0.50      0.19      0.27        16\n",
      "                                 Wolfberry       0.83      0.52      0.64       305\n",
      "                               Minced pork       0.75      0.60      0.67      1415\n",
      "                             Shredded pork       0.86      0.59      0.70      1147\n",
      "                       Streaky pork slices       0.67      0.65      0.66      1669\n",
      "                               Pork slices       0.63      0.38      0.48       795\n",
      "                               Pork chunks       0.56      0.53      0.55       337\n",
      "                       Streaky pork chunks       0.46      0.36      0.40       132\n",
      "                         Cured meat chunks       0.83      0.14      0.24        36\n",
      "                             kale borecole       0.23      0.41      0.30        22\n",
      "                           Pork intestines       0.91      0.72      0.80       179\n",
      "                                   Lettuce       0.57      0.57      0.57       680\n",
      "                             Steamed bread       0.85      0.42      0.57        40\n",
      "                                 Red dates       0.71      0.81      0.75       317\n",
      "                                      Kiwi       1.00      0.20      0.33         5\n",
      "                              Garlic clove       0.72      0.10      0.18       554\n",
      "                            Crushed garlic       0.63      0.40      0.49      1936\n",
      "                               Garlic bulb       0.61      0.64      0.62        47\n",
      "                           Lentinus edodes       0.75      0.35      0.48       326\n",
      "                    Lentinus edodes slices       0.67      0.45      0.54       209\n",
      "            Brunoise diced lentinus edodes       0.33      0.06      0.10        33\n",
      "                       Pleurotus ostreatus       0.60      0.33      0.43         9\n",
      "                           Poplar Mushroom       0.91      0.57      0.70       197\n",
      "                            Dried mushroom       0.63      0.68      0.65       210\n",
      "                      White beech mushroom       0.00      0.00      0.00         3\n",
      "                               Yam chunks        0.72      0.62      0.67       120\n",
      "                                 White yam       0.97      0.70      0.81        93\n",
      "                                Yam slices       0.00      0.00      0.00         2\n",
      "                                Strawberry       0.00      0.00      0.00        17\n",
      "                              Sea cucumber       0.93      0.54      0.68       171\n",
      "                          Shanghai cabbage       0.97      0.40      0.57       342\n",
      "                                 Asparagus       0.40      0.15      0.22        13\n",
      "                      Bamboo shoots chunks       0.00      0.00      0.00         9\n",
      "                    Shredded bamboo shoots       0.57      0.47      0.51       138\n",
      "                                      Rice       0.88      0.82      0.85      1817\n",
      "                                Meat balls       0.93      0.57      0.71       135\n",
      "                                Beaf balls       0.00      0.00      0.00         4\n",
      "                              Shrimp balls       0.00      0.00      0.00         4\n",
      "                                Fish balls       0.25      0.02      0.04        43\n",
      "                             blueberry jam       0.97      0.70      0.81        93\n",
      "                             Orange slices       0.00      0.00      0.00        14\n",
      "                                     Mango       0.51      0.55      0.53        66\n",
      "                                   Noodles       0.91      0.74      0.82      1051\n",
      "                               Beef chunks       0.75      0.63      0.69      1130\n",
      "                               Beef slices       0.70      0.48      0.57       309\n",
      "                         Sliced Fatty Beef       0.81      0.86      0.83       174\n",
      "                               Tofu chunks       0.79      0.53      0.64      1113\n",
      "                            Chiba beancurd       0.00      0.00      0.00        16\n",
      "                            Fish bean curd       0.00      0.00      0.00        11\n",
      "                               Stinky tofu       0.74      0.45      0.56       241\n",
      "                  Shredded dried bean curd       0.86      0.28      0.42       156\n",
      "                      Hob blocks of potato       0.87      0.55      0.67      1009\n",
      "                             Potato slices       0.25      0.07      0.11        43\n",
      "                           Shredded potato       0.94      0.83      0.88       281\n",
      "                           Mashed potatoes       0.69      0.37      0.48       257\n",
      "                           Batonnet potato       0.10      0.09      0.09        46\n",
      "                                 Chili oil       0.84      0.55      0.67      2134\n",
      "                              Chili saurce       0.61      0.45      0.52       443\n",
      "                              Chili powder       0.00      0.00      0.00        33\n",
      "                      Garlic sprout pieces       0.82      0.65      0.72       343\n",
      "              Brunoise diced garlic sprout       1.00      0.04      0.08        23\n",
      "                             Garlic leaves       0.41      0.37      0.39       289\n",
      "                       Pickled red peppers       0.86      0.59      0.70       206\n",
      "       Pickled capsicum annum fasciculatum       0.83      0.54      0.65       218\n",
      "Minced pickled capsicum annum fasciculatum       0.56      0.29      0.38        85\n",
      "                             Shredded kelp       0.91      0.80      0.85       173\n",
      "                                      kelp       1.00      0.16      0.27        38\n",
      "                                  Bullfrog       0.83      0.48      0.61       419\n",
      "                                    Caviar       0.00      0.00      0.00         5\n",
      "                         Lotus root slices       0.69      0.55      0.62       217\n",
      "                         Lotus root chunks       0.97      0.52      0.68       193\n",
      "                            Lotus root box       0.90      0.54      0.67       106\n",
      "                           Celtuce sclices       0.95      0.37      0.53       143\n",
      "                          Batonnet celtuce       0.27      0.15      0.20        39\n",
      "                          Shredded celtuce       0.00      0.00      0.00         2\n",
      "                       Sweet potato chunks       0.60      0.12      0.21        24\n",
      "                            Sausage slices       0.95      0.77      0.85       163\n",
      "                                   Cabbage       0.75      0.65      0.70       330\n",
      "                     chiffonade of cabbage       0.79      0.30      0.44        90\n",
      "                                 Spareribs       0.79      0.44      0.57       848\n",
      "                                     Clams       0.84      0.66      0.74       176\n",
      "                            Lilium brownii       0.40      0.05      0.09        40\n",
      "                      Fermented vegetables       0.87      0.48      0.62       300\n",
      "                     Double-side fried egg       0.74      0.76      0.75       454\n",
      "              Sliced double-side fried egg       0.75      0.21      0.33        14\n",
      "                             Radish slices       0.20      0.06      0.10        31\n",
      "                          Batonnet radish        0.00      0.00      0.00         3\n",
      "                      Hob blocks of radish       0.20      0.15      0.17        13\n",
      "                          Julienned radish       0.00      0.00      0.00         2\n",
      "                     Mashed pickled radish       0.50      0.06      0.11        17\n",
      "                     Pickled radish slices       0.67      0.25      0.36         8\n",
      "                                 flatbread       0.76      0.23      0.35        57\n",
      "                              Spring rolls       0.96      0.55      0.70       172\n",
      "                            Chicken chunks       0.79      0.47      0.59       966\n",
      "                    Brunoise diced chicken       0.93      0.49      0.64       503\n",
      "                       Tentacles of Squid        0.79      0.56      0.66       243\n",
      "                              Squid pieces       1.00      0.04      0.08        25\n",
      "                               Squid rings       0.25      0.07      0.11        14\n",
      "                        White gourd chunks       0.87      0.62      0.72       205\n",
      "                 Dried pieces of bean curd       0.89      0.33      0.48       237\n",
      "                            Yellow peaches       0.56      0.72      0.63        25\n",
      "                                 Pineapple       0.94      0.72      0.82       230\n",
      "                                  Eggplant       0.81      0.57      0.67       194\n",
      "                            Eggplant slice       0.80      0.15      0.26        26\n",
      "                         Batonnet eggplant       0.40      0.11      0.17        19\n",
      "                    Hob blocks of eggplant       0.74      0.71      0.72       454\n",
      "                           Eggplant sticks       0.71      0.43      0.54       109\n",
      "                              Water mellon       0.00      0.00      0.00         2\n",
      "                                    Gluten       0.97      0.55      0.70       119\n",
      "                             Gluten chunks       0.67      0.11      0.19        74\n",
      "                                 Dumplings       0.54      0.74      0.62       233\n",
      "                         Fried bread stick       0.80      0.85      0.83       209\n",
      "                 Chopped fried bread stick       1.00      0.33      0.50         3\n",
      "                       Hot pickled mustard       0.68      0.36      0.47       138\n",
      "                             Sesame sauce        0.24      0.21      0.23        33\n",
      "                          Soya-bean sprout       0.38      0.45      0.41        38\n",
      "                       Shredded beef tripe       0.55      0.27      0.36       157\n",
      "                             Water spinach       0.81      0.66      0.73       253\n",
      "            Shredded pickled Bamboo Shoots       0.75      0.21      0.33        99\n",
      "                     barbecued pork slices       0.88      0.70      0.78       164\n",
      "                     barbecued pork chunks       0.00      0.00      0.00         4\n",
      "                              Chicken Feet       0.93      0.60      0.73       304\n",
      "                 Cold steamed rice noodles       0.92      0.50      0.65       185\n",
      "                             Mutton slices       0.65      0.44      0.53       250\n",
      "                             Mutton chunks       0.39      0.22      0.28       110\n",
      "       Crushed Small loaf of steamed bread       0.98      0.49      0.65       102\n",
      "               Small loaf of steamed bread       0.95      0.84      0.89       258\n",
      "                              Starch sheet       0.54      0.26      0.35        27\n",
      "                                      Yuba       0.48      0.70      0.57       211\n",
      "                               Okra slices       0.55      0.56      0.55       108\n",
      "                                  Chestnut       0.38      0.24      0.29        25\n",
      "                     Preserved egg chunks        0.90      0.60      0.72       397\n",
      "                     Crushed preserved egg       0.96      0.81      0.88       248\n",
      "                       Whole preserved egg       1.00      0.12      0.22        16\n",
      "                                     Laver       0.85      0.83      0.84       149\n",
      "                         Fried dough twist       0.00      0.00      0.00         5\n",
      "                                    Longan       0.50      0.08      0.14        12\n",
      "                               Stewed Pork       0.95      0.50      0.65       111\n",
      "                                     Beans       0.88      0.73      0.79       423\n",
      "                              Minced beans       0.00      0.00      0.00         4\n",
      "                      Minced pickled beans       0.81      0.67      0.73       218\n",
      "               Sweet fermented flour paste       0.56      0.44      0.49        57\n",
      "                               River snail       0.99      0.46      0.63       199\n",
      "                                   Spinach       0.64      0.45      0.53        80\n",
      "                                 Sea sedge       0.92      0.84      0.88       285\n",
      "                                   Bracken       0.47      0.14      0.21        51\n",
      "                          Coprinus comatus       0.50      0.25      0.33         4\n",
      "                               Lime leaves       0.41      0.22      0.29        32\n",
      "                                lemongrass       0.00      0.00      0.00        13\n",
      "                                      Lime       0.00      0.00      0.00         2\n",
      "                             Chicken Wings       0.40      0.72      0.51       461\n",
      "                                 Snow peas       0.96      0.69      0.80       169\n",
      "                         Pickled vegetable       0.56      0.16      0.25        31\n",
      "                                Salted egg       0.00      0.00      0.00         9\n",
      "                                     Curry       0.53      0.57      0.55       243\n",
      "                       Black pepper powder       1.00      0.17      0.29         6\n",
      "                               Fried flour       0.70      0.74      0.72       986\n",
      "                       Whole black chicken       0.60      0.33      0.43        36\n",
      "                      Black chicken chunks       0.86      0.67      0.75       199\n",
      "                       Celery stalk slices       0.89      0.65      0.75       187\n",
      "                              Celery stalk       0.15      0.20      0.17        20\n",
      "                             Celery leaves       1.00      0.11      0.19        19\n",
      "                                    Celery       0.58      0.32      0.41       370\n",
      "                     Brunoise diced celery       1.00      0.12      0.21        17\n",
      "                             Banana slices       1.00      0.25      0.40         4\n",
      "                              Apple chunks       0.00      0.00      0.00         1\n",
      "                                    Loofah       0.56      0.78      0.65       138\n",
      "                               Fish slices       0.96      0.51      0.67       574\n",
      "                               fish chunks       0.39      0.32      0.35        68\n",
      "                                      Fish       0.84      0.71      0.77       751\n",
      "                           zucchini slices       0.63      0.45      0.52        65\n",
      "                     Boiled chicken slices       0.92      0.53      0.67       525\n",
      "                      Whole boiled chicken       0.00      0.00      0.00         7\n",
      "                         Tenderloin slices       0.72      0.63      0.67       300\n",
      "                         Tenderloin chunks       0.38      0.27      0.31        60\n",
      "                       Batonnet tenderloin       0.75      0.52      0.61       354\n",
      "                              White congee       0.94      0.90      0.92       243\n",
      "                                 Spaghetti       0.93      0.64      0.76       184\n",
      "                                     Steak       0.76      0.68      0.72       283\n",
      "                              Cumin powder       0.32      0.26      0.29       102\n",
      "                               Beef tripes       0.00      0.00      0.00         4\n",
      "                                 Pine nuts       0.91      0.88      0.89       205\n",
      "                                   Gemelli       0.71      0.38      0.49        32\n",
      "                        Korean chili sauce       0.58      0.17      0.27        40\n",
      "                               kidney bean       0.00      0.00      0.00         7\n",
      "                        Zanthoxylum fagara       0.59      0.26      0.37       429\n",
      "                               Rice noodle       0.84      0.38      0.52       109\n",
      "                           Fried yuba skin       0.75      0.36      0.49       107\n",
      "                            Salad dressing       0.86      0.33      0.48       146\n",
      "                                 Soya bean       0.53      0.18      0.27        56\n",
      "                         Fern root noodles       0.95      0.68      0.79       156\n",
      "                                   ketchup       0.58      0.15      0.24        73\n",
      "                                 Mint leaf       0.56      0.13      0.21       147\n",
      "                                 Soy sauce       1.00      0.09      0.16        34\n",
      "                      Baby Chinese Cabbage       0.93      0.62      0.75       130\n",
      "                                     Water       0.86      0.76      0.80      2078\n",
      "                               Lotus seeds       0.71      0.27      0.40        73\n",
      "                               Azuki bean        1.00      0.08      0.15        12\n",
      "                             Green soybean       0.58      0.10      0.18        68\n",
      "                                   Parsley       0.85      0.55      0.67      1230\n",
      "                                 Duck neck       0.79      0.52      0.62       124\n",
      "                    Thick broad-bean sauce       0.00      0.00      0.00         2\n",
      "                            Enoki mushroom       0.35      0.15      0.21        99\n",
      "                             Crystal sugar       0.76      0.74      0.75       103\n",
      "                                    Cashew       0.83      0.19      0.32        77\n",
      "                               Steamed Bun       1.00      0.60      0.75       287\n",
      "                                Sour sauce       0.80      0.12      0.21        67\n",
      "                                  Pork leg       0.83      0.35      0.50       298\n",
      "                                   Bayleaf       0.25      0.14      0.18         7\n",
      "                                    shumai       0.87      0.75      0.81       256\n",
      "                                  Crap roe       0.49      0.91      0.64        56\n",
      "                               Shrimp eggs       0.50      0.20      0.29         5\n",
      "                           Button mushroom       0.59      0.19      0.28        54\n",
      "                             Coconut water       0.56      0.32      0.41        91\n",
      "                            Glutinous rice       0.95      0.43      0.59        94\n",
      "               Sweet potato starch noodles       0.84      0.57      0.68       427\n",
      "                                Vermicelli       0.81      0.75      0.78       685\n",
      "                      Fermented soya beans       0.80      0.14      0.24       115\n",
      "                             Rice dumpling       0.94      0.72      0.82       152\n",
      "                      Sweetened bean paste       0.00      0.00      0.00         4\n",
      "                           Sweet dumplings       1.00      0.68      0.81       148\n",
      "                          Rice noodle roll       0.95      0.61      0.74       137\n",
      "                                       Pea       0.73      0.48      0.58       350\n",
      "                                Pork floss       0.53      0.24      0.34        94\n",
      "                          Scallion pancake       0.77      0.57      0.66       187\n",
      "                                Black rice       0.83      0.26      0.40        19\n",
      "                         Small crispy rice       0.23      0.91      0.37        23\n",
      "                              Coconut cake       0.91      0.67      0.77        60\n",
      "                 Shredded coconut stuffing       0.00      0.00      0.00         9\n",
      "                                   Mussels       0.00      0.00      0.00         2\n",
      "                                Pork lungs       0.69      0.66      0.68       176\n",
      "                            Crispy sausage       0.00      0.00      0.00         9\n",
      "                       Codonopsis pilosula       0.52      0.39      0.45        33\n",
      "                           Radix Astragali       0.00      0.00      0.00         9\n",
      "                          American genseng       0.00      0.00      0.00         8\n",
      "                        Cordyceps sinensis       1.00      0.50      0.67         2\n",
      "                                   Aniseed       0.39      0.21      0.27        76\n",
      "                                    Raisin       0.00      0.00      0.00         8\n",
      "                              Suckling pig       0.90      0.57      0.70       114\n",
      "                      Steamed twisted roll       0.89      0.75      0.82       159\n",
      "                                     Grape       0.00      0.00      0.00         4\n",
      "                                Pork paste       0.93      0.71      0.81       140\n",
      "                                    Cheese       0.52      0.38      0.44        29\n",
      "                                    Wonton       0.91      0.81      0.86       168\n",
      "                                 Duck head       0.91      0.75      0.82       147\n",
      "                              Chinese Kale       0.91      0.67      0.77       286\n",
      "                              Chicken legs       0.60      0.24      0.34       228\n",
      "                             Whole chicken       0.59      0.35      0.44       157\n",
      "                          Shredded chicken       0.59      0.44      0.50       267\n",
      "                      Sweet and sour sauce       0.68      0.69      0.69       707\n",
      "                                 Fish head       0.85      0.80      0.82       305\n",
      "                       Steamed Rice Powder       0.90      0.65      0.75       238\n",
      "                                   Scallop       0.80      0.88      0.84       256\n",
      "                                  Macaroni       1.00      0.20      0.33         5\n",
      "                                Ribbonfish       0.43      0.60      0.50       262\n",
      "                                Tea-leaves       0.20      0.07      0.10        15\n",
      "                                    Millet       0.87      0.84      0.86       162\n",
      "                      Preserved vegetables       0.90      0.69      0.78       300\n",
      "                                  CoixSeed       0.56      0.15      0.23        34\n",
      "                               Green beans       0.89      0.73      0.80       224\n",
      "                              White fungus       0.65      0.83      0.73       175\n",
      "                                   Crucian       0.97      0.52      0.68       175\n",
      "                                   Vinegar       0.14      0.05      0.08        19\n",
      "                                  Pancakes       0.69      0.45      0.54        92\n",
      "                                Crispbread       1.00      0.14      0.25        28\n",
      "                              Mango chunks       0.68      0.55      0.61        97\n",
      "                                      Crab       0.96      0.75      0.85       219\n",
      "                            Soya-bean milk       0.11      0.54      0.18        13\n",
      "                   Fermented soybean paste       0.22      0.04      0.07        48\n",
      "                              Oyster sauce       0.82      0.76      0.79       191\n",
      "                         Spare ribs chunks       0.85      0.59      0.70       214\n",
      "                           Green soy beans       1.00      0.73      0.85       143\n",
      "                                    Cherry       0.80      0.16      0.27        25\n",
      "                         Shredded pig ears       1.00      0.50      0.67         2\n",
      "\n",
      "                                 micro avg       0.74      0.57      0.64     99692\n",
      "                                 macro avg       0.62      0.40      0.46     99692\n",
      "                              weighted avg       0.75      0.57      0.63     99692\n",
      "                               samples avg       0.68      0.58      0.60     99692\n",
      "\n"
     ]
    },
    {
     "name": "stderr",
     "output_type": "stream",
     "text": [
      "/opt/conda/lib/python3.7/site-packages/sklearn/metrics/_classification.py:1245: UndefinedMetricWarning: Precision and F-score are ill-defined and being set to 0.0 in labels with no predicted samples. Use `zero_division` parameter to control this behavior.\n",
      "  _warn_prf(average, modifier, msg_start, len(result))\n",
      "/opt/conda/lib/python3.7/site-packages/sklearn/metrics/_classification.py:1245: UndefinedMetricWarning: Precision and F-score are ill-defined and being set to 0.0 in samples with no predicted labels. Use `zero_division` parameter to control this behavior.\n",
      "  _warn_prf(average, modifier, msg_start, len(result))\n"
     ]
    }
   ],
   "source": [
    "# Evaluation: Compute several statistics such as accuracy, precision, F1-score, and produce a classification report\n",
    "    \n",
    "print('\\nAccuracy: {:.2f}\\n'.format(accuracy_score(y_test, y_pred)))\n",
    "\n",
    "print('Micro Precision: {:.2f}'.format(precision_score(y_test, y_pred, average='micro')))\n",
    "print('Micro Recall: {:.2f}'.format(recall_score(y_test, y_pred, average='micro')))\n",
    "print('Micro F1-score: {:.2f}\\n'.format(f1_score(y_test, y_pred, average='micro')))\n",
    "\n",
    "print('Macro Precision: {:.2f}'.format(precision_score(y_test, y_pred, average='macro')))\n",
    "print('Macro Recall: {:.2f}'.format(recall_score(y_test, y_pred, average='macro')))\n",
    "print('Macro F1-score: {:.2f}\\n'.format(f1_score(y_test, y_pred, average='macro')))\n",
    "\n",
    "print('Weighted Precision: {:.2f}'.format(precision_score(y_test, y_pred, average='weighted')))\n",
    "print('Weighted Recall: {:.2f}'.format(recall_score(y_test, y_pred, average='weighted')))\n",
    "print('Weighted F1-score: {:.2f}'.format(f1_score(y_test, y_pred, average='weighted')))\n",
    "\n",
    "from sklearn.metrics import classification_report\n",
    "print('\\nClassification Report\\n')\n",
    "print(classification_report(y_test, y_pred, target_names=IngreList))"
   ]
  },
  {
   "cell_type": "markdown",
   "metadata": {},
   "source": [
    "## Precision-Recall Curves (to investigate the effect of different thresholds)"
   ]
  },
  {
   "cell_type": "markdown",
   "metadata": {},
   "source": [
    "Note: this code was modified from https://scikit-learn.org/stable/auto_examples/model_selection/plot_precision_recall.html"
   ]
  },
  {
   "cell_type": "code",
   "execution_count": 19,
   "metadata": {},
   "outputs": [
    {
     "name": "stdout",
     "output_type": "stream",
     "text": [
      "Average precision score, micro-averaged over all classes: 0.67\n"
     ]
    }
   ],
   "source": [
    "from sklearn.metrics import precision_recall_curve\n",
    "from sklearn.metrics import average_precision_score\n",
    "\n",
    "# For each class\n",
    "precision = dict()\n",
    "recall = dict()\n",
    "average_precision = dict()\n",
    "n_classes = 353\n",
    "thresholds = dict()\n",
    "for i in range(n_classes):\n",
    "    precision[i], recall[i], thresholds[i] = precision_recall_curve(y_test[:, i],\n",
    "                                                        y_score[:, i])\n",
    "    average_precision[i] = average_precision_score(y_test[:, i], y_score[:, i])\n",
    "\n",
    "# A \"micro-average\": quantifying score on all classes jointly\n",
    "precision[\"micro\"], recall[\"micro\"], _ = precision_recall_curve(y_test.ravel(),\n",
    "    y_score.ravel())\n",
    "average_precision[\"micro\"] = average_precision_score(y_test, y_score,\n",
    "                                                     average=\"micro\")\n",
    "print('Average precision score, micro-averaged over all classes: {0:0.2f}'\n",
    "      .format(average_precision[\"micro\"]))"
   ]
  },
  {
   "cell_type": "code",
   "execution_count": 15,
   "metadata": {},
   "outputs": [
    {
     "data": {
      "text/plain": [
       "Text(0.5, 1.0, 'Average precision score, micro-averaged over all classes: AP=0.67')"
      ]
     },
     "execution_count": 15,
     "metadata": {},
     "output_type": "execute_result"
    },
    {
     "data": {
      "image/png": "[encoded data removed]",
      "text/plain": [
       "<Figure size 432x288 with 1 Axes>"
      ]
     },
     "metadata": {
      "needs_background": "light"
     },
     "output_type": "display_data"
    }
   ],
   "source": [
    "plt.figure()\n",
    "plt.step(recall['micro'], precision['micro'], where='post')\n",
    "\n",
    "plt.xlabel('Recall')\n",
    "plt.ylabel('Precision')\n",
    "plt.ylim([0.0, 1.05])\n",
    "plt.xlim([0.0, 1.0])\n",
    "plt.title(\n",
    "    'Average precision score, micro-averaged over all classes: AP={0:0.2f}'\n",
    "    .format(average_precision[\"micro\"]))"
   ]
  },
  {
   "cell_type": "code",
   "execution_count": 49,
   "metadata": {},
   "outputs": [
    {
     "data": {
      "image/png": "[encoded data removed]",
      "text/plain": [
       "<Figure size 720x792 with 1 Axes>"
      ]
     },
     "metadata": {
      "needs_background": "light"
     },
     "output_type": "display_data"
    }
   ],
   "source": [
    "from itertools import cycle\n",
    "# setup plot details\n",
    "num_classes = 5\n",
    "colors = cycle(['navy', 'turquoise', 'darkorange', 'cornflowerblue', 'teal'])\n",
    "\n",
    "plt.figure(figsize=(10, 11))\n",
    "f_scores = np.linspace(0.2, 0.8, num=4)\n",
    "lines = []\n",
    "labels = []\n",
    "for f_score in f_scores:\n",
    "    x = np.linspace(0.01, 1)\n",
    "    y = f_score * x / (2 * x - f_score)\n",
    "    l, = plt.plot(x[y >= 0], y[y >= 0], color='gray', alpha=0.2)\n",
    "    plt.annotate('f1={0:0.1f}'.format(f_score), xy=(0.9, y[45] + 0.02))\n",
    "\n",
    "lines.append(l)\n",
    "labels.append('iso-f1 curves')\n",
    "l, = plt.plot(recall[\"micro\"], precision[\"micro\"], color='gold', lw=2)\n",
    "lines.append(l)\n",
    "labels.append('micro-average Precision-recall (area = {0:0.2f})'\n",
    "              ''.format(average_precision[\"micro\"]))\n",
    "\n",
    "for i, color in zip(range(num_classes), colors):\n",
    "    l, = plt.plot(recall[i], precision[i], color=color, lw=2)\n",
    "    lines.append(l)\n",
    "    labels.append('Precision-recall for class: {0} (area = {1:0.2f})'\n",
    "                  ''.format(IngreList[i], average_precision[i]))\n",
    "\n",
    "fig = plt.gcf()\n",
    "fig.subplots_adjust(bottom=0.25)\n",
    "plt.xlim([0.0, 1.0])\n",
    "plt.ylim([0.0, 1.05])\n",
    "plt.xlabel('Recall')\n",
    "plt.ylabel('Precision')\n",
    "plt.title('Precision-Recall curves for Individual Ingredients')\n",
    "plt.legend(lines, labels, loc=(0, -.38), prop=dict(size=14))\n",
    "\n",
    "\n",
    "plt.show()"
   ]
  },
  {
   "cell_type": "markdown",
   "metadata": {},
   "source": [
    "## Investigate one of the ingredients with 0 Precision and Recall (e.g.: ham)"
   ]
  },
  {
   "cell_type": "code",
   "execution_count": 93,
   "metadata": {},
   "outputs": [
    {
     "name": "stdout",
     "output_type": "stream",
     "text": [
      "Number of testing examples with ham as an ingredient: 24\n",
      "Number of testing examples where the model predicted ham as an ingredient: 0\n"
     ]
    }
   ],
   "source": [
    "ham_index = 6\n",
    "ham_pred, ham_test = 0, 0\n",
    "for (y_test_i, y_pred_i) in zip(y_test, y_pred):\n",
    "    if y_test_i[ham_index] == 1:\n",
    "        ham_test += 1\n",
    "    if y_pred_i[ham_index] == 1:\n",
    "        ham_pred += 1\n",
    "print(\"Number of testing examples with ham as an ingredient: {}\".format(ham_test))\n",
    "print(\"Number of testing examples where the model predicted ham as an ingredient: {}\".format(ham_pred))"
   ]
  },
  {
   "cell_type": "code",
   "execution_count": null,
   "metadata": {},
   "outputs": [],
   "source": []
  }
 ],
 "metadata": {
  "kernelspec": {
   "display_name": "Python 3",
   "language": "python",
   "name": "python3"
  },
  "language_info": {
   "codemirror_mode": {
    "name": "ipython",
    "version": 3
   },
   "file_extension": ".py",
   "mimetype": "text/x-python",
   "name": "python",
   "nbconvert_exporter": "python",
   "pygments_lexer": "ipython3",
   "version": "3.7.10"
  }
 },
 "nbformat": 4,
 "nbformat_minor": 2
}
