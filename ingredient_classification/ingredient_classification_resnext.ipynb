{
 "cells": [
  {
   "cell_type": "markdown",
   "metadata": {},
   "source": [
    "## Imports"
   ]
  },
  {
   "cell_type": "code",
   "execution_count": 1,
   "metadata": {},
   "outputs": [],
   "source": [
    "# Add parent directory to path for local imports\n",
    "import os,sys,inspect\n",
    "currentdir = os.path.dirname(os.path.abspath(inspect.getfile(inspect.currentframe())))\n",
    "parentdir = os.path.dirname(currentdir)\n",
    "sys.path.insert(0,parentdir) \n",
    "\n",
    "from PIL import Image\n",
    "import numpy as np\n",
    "import matplotlib.pyplot as plt\n",
    "import os\n",
    "import torch\n",
    "import torch.nn as nn\n",
    "import torch.nn.functional as F\n",
    "import torch.optim as optim\n",
    "import torchvision\n",
    "import torchvision.datasets as dset\n",
    "import torchvision.models as models\n",
    "import torchvision.transforms as T\n",
    "import bcolz\n",
    "import time\n",
    "from torch.utils.data import Dataset, DataLoader, sampler\n",
    "from sklearn.metrics import *\n",
    "%matplotlib inline"
   ]
  },
  {
   "cell_type": "code",
   "execution_count": 2,
   "metadata": {},
   "outputs": [
    {
     "name": "stdout",
     "output_type": "stream",
     "text": [
      "Using gpu: True \n"
     ]
    }
   ],
   "source": [
    "use_gpu = torch.cuda.is_available()\n",
    "print('Using gpu: %s ' % use_gpu)\n",
    "\n",
    "def gpu(x,use_gpu=use_gpu):\n",
    "    if use_gpu:\n",
    "        return x.cuda()\n",
    "    else:\n",
    "        return x"
   ]
  },
  {
   "cell_type": "markdown",
   "metadata": {},
   "source": [
    "## Data processing"
   ]
  },
  {
   "cell_type": "code",
   "execution_count": 3,
   "metadata": {},
   "outputs": [],
   "source": [
    "transform = T.Compose([\n",
    "    T.CenterCrop(224),\n",
    "    T.ToTensor(),\n",
    "    T.Normalize(mean=[0.485, 0.456, 0.406], std=[0.229, 0.224, 0.225]),\n",
    "])\n",
    "\n",
    "class ImageFolderWithPaths(dset.ImageFolder):\n",
    "    \"\"\"Custom dataset that includes image file paths. Extends\n",
    "    torchvision.datasets.ImageFolder\n",
    "    \"\"\"\n",
    "    # override the __getitem__ method. this is the method dataloader calls\n",
    "    def __getitem__(self, index):\n",
    "        # this is what ImageFolder normally returns \n",
    "        original_tuple = super(ImageFolderWithPaths, self).__getitem__(index)\n",
    "        # the image file path\n",
    "        path = self.imgs[index][0]\n",
    "        # make a new tuple that includes original and the path\n",
    "        tuple_with_path = (original_tuple + (path,))\n",
    "        return tuple_with_path\n",
    "\n",
    "train_dataset = ImageFolderWithPaths('../Dataset/train', transform=transform)\n",
    "val_dataset = ImageFolderWithPaths('../Dataset/val', transform=transform)\n",
    "test_dataset = ImageFolderWithPaths('../Dataset/test', transform=transform)"
   ]
  },
  {
   "cell_type": "code",
   "execution_count": 4,
   "metadata": {},
   "outputs": [
    {
     "name": "stdout",
     "output_type": "stream",
     "text": [
      "Number of training examples 66071, validation examples 11016, testing examples 33154\n"
     ]
    }
   ],
   "source": [
    "train_size = len(train_dataset)\n",
    "val_size = len(val_dataset)\n",
    "test_size = len(test_dataset)\n",
    "print(\"Number of training examples {}, validation examples {}, testing examples {}\".format(train_size, val_size, test_size))"
   ]
  },
  {
   "cell_type": "code",
   "execution_count": 5,
   "metadata": {},
   "outputs": [
    {
     "name": "stderr",
     "output_type": "stream",
     "text": [
      "/opt/conda/lib/python3.7/site-packages/torch/utils/data/dataloader.py:477: UserWarning: This DataLoader will create 6 worker processes in total. Our suggested max number of worker in current system is 2, which is smaller than what this DataLoader is going to create. Please be aware that excessive worker creation might get DataLoader running slow or even freeze, lower the worker number to avoid potential slowness/freeze if necessary.\n",
      "  cpuset_checked))\n"
     ]
    }
   ],
   "source": [
    "train_dataloader = DataLoader(train_dataset, batch_size=64, shuffle=True, num_workers=6)\n",
    "val_dataloader = DataLoader(val_dataset, batch_size=64, shuffle=False, num_workers=6)\n",
    "test_dataloader = DataLoader(test_dataset, batch_size=64, shuffle=False, num_workers=6)"
   ]
  },
  {
   "cell_type": "code",
   "execution_count": 6,
   "metadata": {},
   "outputs": [],
   "source": [
    "IngreLabel = open('../VireoFood172/SplitAndIngreLabel/IngreLabel.txt', 'r').read().split('\\n')[:-1]  # list of str\n",
    "path_to_ingredients = dict()\n",
    "for i in range(len(IngreLabel)):\n",
    "    path_and_ingredients = IngreLabel[i].split()\n",
    "    path, ingredients = path_and_ingredients[0], [0 if int(label) == -1 else int(label) for label in path_and_ingredients[1:]]\n",
    "    path_to_ingredients[path] = np.array(ingredients)"
   ]
  },
  {
   "cell_type": "code",
   "execution_count": 7,
   "metadata": {},
   "outputs": [],
   "source": [
    "def get_ingredients(path):\n",
    "    split_path = path.split(\"/\")\n",
    "    key = '/' + '/'.join(split_path[3:])\n",
    "    ingredients = path_to_ingredients[key]\n",
    "    return ingredients"
   ]
  },
  {
   "cell_type": "code",
   "execution_count": 8,
   "metadata": {},
   "outputs": [
    {
     "name": "stdout",
     "output_type": "stream",
     "text": [
      "353\n"
     ]
    }
   ],
   "source": [
    "IngreList = open('../VireoFood172/SplitAndIngreLabel/IngredientList.txt', 'r').read().split('\\n')[:-1]  # list of str\n",
    "print(len(IngreList))"
   ]
  },
  {
   "cell_type": "markdown",
   "metadata": {},
   "source": [
    "## Creating ResNext model"
   ]
  },
  {
   "cell_type": "code",
   "execution_count": 9,
   "metadata": {},
   "outputs": [
    {
     "name": "stdout",
     "output_type": "stream",
     "text": [
      "ResNet(\n",
      "  (conv1): Conv2d(3, 64, kernel_size=(7, 7), stride=(2, 2), padding=(3, 3), bias=False)\n",
      "  (bn1): BatchNorm2d(64, eps=1e-05, momentum=0.1, affine=True, track_running_stats=True)\n",
      "  (relu): ReLU(inplace=True)\n",
      "  (maxpool): MaxPool2d(kernel_size=3, stride=2, padding=1, dilation=1, ceil_mode=False)\n",
      "  (layer1): Sequential(\n",
      "    (0): Bottleneck(\n",
      "      (conv1): Conv2d(64, 128, kernel_size=(1, 1), stride=(1, 1), bias=False)\n",
      "      (bn1): BatchNorm2d(128, eps=1e-05, momentum=0.1, affine=True, track_running_stats=True)\n",
      "      (conv2): Conv2d(128, 128, kernel_size=(3, 3), stride=(1, 1), padding=(1, 1), groups=32, bias=False)\n",
      "      (bn2): BatchNorm2d(128, eps=1e-05, momentum=0.1, affine=True, track_running_stats=True)\n",
      "      (conv3): Conv2d(128, 256, kernel_size=(1, 1), stride=(1, 1), bias=False)\n",
      "      (bn3): BatchNorm2d(256, eps=1e-05, momentum=0.1, affine=True, track_running_stats=True)\n",
      "      (relu): ReLU(inplace=True)\n",
      "      (downsample): Sequential(\n",
      "        (0): Conv2d(64, 256, kernel_size=(1, 1), stride=(1, 1), bias=False)\n",
      "        (1): BatchNorm2d(256, eps=1e-05, momentum=0.1, affine=True, track_running_stats=True)\n",
      "      )\n",
      "    )\n",
      "    (1): Bottleneck(\n",
      "      (conv1): Conv2d(256, 128, kernel_size=(1, 1), stride=(1, 1), bias=False)\n",
      "      (bn1): BatchNorm2d(128, eps=1e-05, momentum=0.1, affine=True, track_running_stats=True)\n",
      "      (conv2): Conv2d(128, 128, kernel_size=(3, 3), stride=(1, 1), padding=(1, 1), groups=32, bias=False)\n",
      "      (bn2): BatchNorm2d(128, eps=1e-05, momentum=0.1, affine=True, track_running_stats=True)\n",
      "      (conv3): Conv2d(128, 256, kernel_size=(1, 1), stride=(1, 1), bias=False)\n",
      "      (bn3): BatchNorm2d(256, eps=1e-05, momentum=0.1, affine=True, track_running_stats=True)\n",
      "      (relu): ReLU(inplace=True)\n",
      "    )\n",
      "    (2): Bottleneck(\n",
      "      (conv1): Conv2d(256, 128, kernel_size=(1, 1), stride=(1, 1), bias=False)\n",
      "      (bn1): BatchNorm2d(128, eps=1e-05, momentum=0.1, affine=True, track_running_stats=True)\n",
      "      (conv2): Conv2d(128, 128, kernel_size=(3, 3), stride=(1, 1), padding=(1, 1), groups=32, bias=False)\n",
      "      (bn2): BatchNorm2d(128, eps=1e-05, momentum=0.1, affine=True, track_running_stats=True)\n",
      "      (conv3): Conv2d(128, 256, kernel_size=(1, 1), stride=(1, 1), bias=False)\n",
      "      (bn3): BatchNorm2d(256, eps=1e-05, momentum=0.1, affine=True, track_running_stats=True)\n",
      "      (relu): ReLU(inplace=True)\n",
      "    )\n",
      "  )\n",
      "  (layer2): Sequential(\n",
      "    (0): Bottleneck(\n",
      "      (conv1): Conv2d(256, 256, kernel_size=(1, 1), stride=(1, 1), bias=False)\n",
      "      (bn1): BatchNorm2d(256, eps=1e-05, momentum=0.1, affine=True, track_running_stats=True)\n",
      "      (conv2): Conv2d(256, 256, kernel_size=(3, 3), stride=(2, 2), padding=(1, 1), groups=32, bias=False)\n",
      "      (bn2): BatchNorm2d(256, eps=1e-05, momentum=0.1, affine=True, track_running_stats=True)\n",
      "      (conv3): Conv2d(256, 512, kernel_size=(1, 1), stride=(1, 1), bias=False)\n",
      "      (bn3): BatchNorm2d(512, eps=1e-05, momentum=0.1, affine=True, track_running_stats=True)\n",
      "      (relu): ReLU(inplace=True)\n",
      "      (downsample): Sequential(\n",
      "        (0): Conv2d(256, 512, kernel_size=(1, 1), stride=(2, 2), bias=False)\n",
      "        (1): BatchNorm2d(512, eps=1e-05, momentum=0.1, affine=True, track_running_stats=True)\n",
      "      )\n",
      "    )\n",
      "    (1): Bottleneck(\n",
      "      (conv1): Conv2d(512, 256, kernel_size=(1, 1), stride=(1, 1), bias=False)\n",
      "      (bn1): BatchNorm2d(256, eps=1e-05, momentum=0.1, affine=True, track_running_stats=True)\n",
      "      (conv2): Conv2d(256, 256, kernel_size=(3, 3), stride=(1, 1), padding=(1, 1), groups=32, bias=False)\n",
      "      (bn2): BatchNorm2d(256, eps=1e-05, momentum=0.1, affine=True, track_running_stats=True)\n",
      "      (conv3): Conv2d(256, 512, kernel_size=(1, 1), stride=(1, 1), bias=False)\n",
      "      (bn3): BatchNorm2d(512, eps=1e-05, momentum=0.1, affine=True, track_running_stats=True)\n",
      "      (relu): ReLU(inplace=True)\n",
      "    )\n",
      "    (2): Bottleneck(\n",
      "      (conv1): Conv2d(512, 256, kernel_size=(1, 1), stride=(1, 1), bias=False)\n",
      "      (bn1): BatchNorm2d(256, eps=1e-05, momentum=0.1, affine=True, track_running_stats=True)\n",
      "      (conv2): Conv2d(256, 256, kernel_size=(3, 3), stride=(1, 1), padding=(1, 1), groups=32, bias=False)\n",
      "      (bn2): BatchNorm2d(256, eps=1e-05, momentum=0.1, affine=True, track_running_stats=True)\n",
      "      (conv3): Conv2d(256, 512, kernel_size=(1, 1), stride=(1, 1), bias=False)\n",
      "      (bn3): BatchNorm2d(512, eps=1e-05, momentum=0.1, affine=True, track_running_stats=True)\n",
      "      (relu): ReLU(inplace=True)\n",
      "    )\n",
      "    (3): Bottleneck(\n",
      "      (conv1): Conv2d(512, 256, kernel_size=(1, 1), stride=(1, 1), bias=False)\n",
      "      (bn1): BatchNorm2d(256, eps=1e-05, momentum=0.1, affine=True, track_running_stats=True)\n",
      "      (conv2): Conv2d(256, 256, kernel_size=(3, 3), stride=(1, 1), padding=(1, 1), groups=32, bias=False)\n",
      "      (bn2): BatchNorm2d(256, eps=1e-05, momentum=0.1, affine=True, track_running_stats=True)\n",
      "      (conv3): Conv2d(256, 512, kernel_size=(1, 1), stride=(1, 1), bias=False)\n",
      "      (bn3): BatchNorm2d(512, eps=1e-05, momentum=0.1, affine=True, track_running_stats=True)\n",
      "      (relu): ReLU(inplace=True)\n",
      "    )\n",
      "  )\n",
      "  (layer3): Sequential(\n",
      "    (0): Bottleneck(\n",
      "      (conv1): Conv2d(512, 512, kernel_size=(1, 1), stride=(1, 1), bias=False)\n",
      "      (bn1): BatchNorm2d(512, eps=1e-05, momentum=0.1, affine=True, track_running_stats=True)\n",
      "      (conv2): Conv2d(512, 512, kernel_size=(3, 3), stride=(2, 2), padding=(1, 1), groups=32, bias=False)\n",
      "      (bn2): BatchNorm2d(512, eps=1e-05, momentum=0.1, affine=True, track_running_stats=True)\n",
      "      (conv3): Conv2d(512, 1024, kernel_size=(1, 1), stride=(1, 1), bias=False)\n",
      "      (bn3): BatchNorm2d(1024, eps=1e-05, momentum=0.1, affine=True, track_running_stats=True)\n",
      "      (relu): ReLU(inplace=True)\n",
      "      (downsample): Sequential(\n",
      "        (0): Conv2d(512, 1024, kernel_size=(1, 1), stride=(2, 2), bias=False)\n",
      "        (1): BatchNorm2d(1024, eps=1e-05, momentum=0.1, affine=True, track_running_stats=True)\n",
      "      )\n",
      "    )\n",
      "    (1): Bottleneck(\n",
      "      (conv1): Conv2d(1024, 512, kernel_size=(1, 1), stride=(1, 1), bias=False)\n",
      "      (bn1): BatchNorm2d(512, eps=1e-05, momentum=0.1, affine=True, track_running_stats=True)\n",
      "      (conv2): Conv2d(512, 512, kernel_size=(3, 3), stride=(1, 1), padding=(1, 1), groups=32, bias=False)\n",
      "      (bn2): BatchNorm2d(512, eps=1e-05, momentum=0.1, affine=True, track_running_stats=True)\n",
      "      (conv3): Conv2d(512, 1024, kernel_size=(1, 1), stride=(1, 1), bias=False)\n",
      "      (bn3): BatchNorm2d(1024, eps=1e-05, momentum=0.1, affine=True, track_running_stats=True)\n",
      "      (relu): ReLU(inplace=True)\n",
      "    )\n",
      "    (2): Bottleneck(\n",
      "      (conv1): Conv2d(1024, 512, kernel_size=(1, 1), stride=(1, 1), bias=False)\n",
      "      (bn1): BatchNorm2d(512, eps=1e-05, momentum=0.1, affine=True, track_running_stats=True)\n",
      "      (conv2): Conv2d(512, 512, kernel_size=(3, 3), stride=(1, 1), padding=(1, 1), groups=32, bias=False)\n",
      "      (bn2): BatchNorm2d(512, eps=1e-05, momentum=0.1, affine=True, track_running_stats=True)\n",
      "      (conv3): Conv2d(512, 1024, kernel_size=(1, 1), stride=(1, 1), bias=False)\n",
      "      (bn3): BatchNorm2d(1024, eps=1e-05, momentum=0.1, affine=True, track_running_stats=True)\n",
      "      (relu): ReLU(inplace=True)\n",
      "    )\n",
      "    (3): Bottleneck(\n",
      "      (conv1): Conv2d(1024, 512, kernel_size=(1, 1), stride=(1, 1), bias=False)\n",
      "      (bn1): BatchNorm2d(512, eps=1e-05, momentum=0.1, affine=True, track_running_stats=True)\n",
      "      (conv2): Conv2d(512, 512, kernel_size=(3, 3), stride=(1, 1), padding=(1, 1), groups=32, bias=False)\n",
      "      (bn2): BatchNorm2d(512, eps=1e-05, momentum=0.1, affine=True, track_running_stats=True)\n",
      "      (conv3): Conv2d(512, 1024, kernel_size=(1, 1), stride=(1, 1), bias=False)\n",
      "      (bn3): BatchNorm2d(1024, eps=1e-05, momentum=0.1, affine=True, track_running_stats=True)\n",
      "      (relu): ReLU(inplace=True)\n",
      "    )\n",
      "    (4): Bottleneck(\n",
      "      (conv1): Conv2d(1024, 512, kernel_size=(1, 1), stride=(1, 1), bias=False)\n",
      "      (bn1): BatchNorm2d(512, eps=1e-05, momentum=0.1, affine=True, track_running_stats=True)\n",
      "      (conv2): Conv2d(512, 512, kernel_size=(3, 3), stride=(1, 1), padding=(1, 1), groups=32, bias=False)\n",
      "      (bn2): BatchNorm2d(512, eps=1e-05, momentum=0.1, affine=True, track_running_stats=True)\n",
      "      (conv3): Conv2d(512, 1024, kernel_size=(1, 1), stride=(1, 1), bias=False)\n",
      "      (bn3): BatchNorm2d(1024, eps=1e-05, momentum=0.1, affine=True, track_running_stats=True)\n",
      "      (relu): ReLU(inplace=True)\n",
      "    )\n",
      "    (5): Bottleneck(\n",
      "      (conv1): Conv2d(1024, 512, kernel_size=(1, 1), stride=(1, 1), bias=False)\n",
      "      (bn1): BatchNorm2d(512, eps=1e-05, momentum=0.1, affine=True, track_running_stats=True)\n",
      "      (conv2): Conv2d(512, 512, kernel_size=(3, 3), stride=(1, 1), padding=(1, 1), groups=32, bias=False)\n",
      "      (bn2): BatchNorm2d(512, eps=1e-05, momentum=0.1, affine=True, track_running_stats=True)\n",
      "      (conv3): Conv2d(512, 1024, kernel_size=(1, 1), stride=(1, 1), bias=False)\n",
      "      (bn3): BatchNorm2d(1024, eps=1e-05, momentum=0.1, affine=True, track_running_stats=True)\n",
      "      (relu): ReLU(inplace=True)\n",
      "    )\n",
      "  )\n",
      "  (layer4): Sequential(\n",
      "    (0): Bottleneck(\n",
      "      (conv1): Conv2d(1024, 1024, kernel_size=(1, 1), stride=(1, 1), bias=False)\n",
      "      (bn1): BatchNorm2d(1024, eps=1e-05, momentum=0.1, affine=True, track_running_stats=True)\n",
      "      (conv2): Conv2d(1024, 1024, kernel_size=(3, 3), stride=(2, 2), padding=(1, 1), groups=32, bias=False)\n",
      "      (bn2): BatchNorm2d(1024, eps=1e-05, momentum=0.1, affine=True, track_running_stats=True)\n",
      "      (conv3): Conv2d(1024, 2048, kernel_size=(1, 1), stride=(1, 1), bias=False)\n",
      "      (bn3): BatchNorm2d(2048, eps=1e-05, momentum=0.1, affine=True, track_running_stats=True)\n",
      "      (relu): ReLU(inplace=True)\n",
      "      (downsample): Sequential(\n",
      "        (0): Conv2d(1024, 2048, kernel_size=(1, 1), stride=(2, 2), bias=False)\n",
      "        (1): BatchNorm2d(2048, eps=1e-05, momentum=0.1, affine=True, track_running_stats=True)\n",
      "      )\n",
      "    )\n",
      "    (1): Bottleneck(\n",
      "      (conv1): Conv2d(2048, 1024, kernel_size=(1, 1), stride=(1, 1), bias=False)\n",
      "      (bn1): BatchNorm2d(1024, eps=1e-05, momentum=0.1, affine=True, track_running_stats=True)\n",
      "      (conv2): Conv2d(1024, 1024, kernel_size=(3, 3), stride=(1, 1), padding=(1, 1), groups=32, bias=False)\n",
      "      (bn2): BatchNorm2d(1024, eps=1e-05, momentum=0.1, affine=True, track_running_stats=True)\n",
      "      (conv3): Conv2d(1024, 2048, kernel_size=(1, 1), stride=(1, 1), bias=False)\n",
      "      (bn3): BatchNorm2d(2048, eps=1e-05, momentum=0.1, affine=True, track_running_stats=True)\n",
      "      (relu): ReLU(inplace=True)\n",
      "    )\n",
      "    (2): Bottleneck(\n",
      "      (conv1): Conv2d(2048, 1024, kernel_size=(1, 1), stride=(1, 1), bias=False)\n",
      "      (bn1): BatchNorm2d(1024, eps=1e-05, momentum=0.1, affine=True, track_running_stats=True)\n",
      "      (conv2): Conv2d(1024, 1024, kernel_size=(3, 3), stride=(1, 1), padding=(1, 1), groups=32, bias=False)\n",
      "      (bn2): BatchNorm2d(1024, eps=1e-05, momentum=0.1, affine=True, track_running_stats=True)\n",
      "      (conv3): Conv2d(1024, 2048, kernel_size=(1, 1), stride=(1, 1), bias=False)\n",
      "      (bn3): BatchNorm2d(2048, eps=1e-05, momentum=0.1, affine=True, track_running_stats=True)\n",
      "      (relu): ReLU(inplace=True)\n",
      "    )\n",
      "  )\n",
      "  (avgpool): AdaptiveAvgPool2d(output_size=(1, 1))\n",
      "  (fc): Sequential(\n",
      "    (0): Linear(in_features=2048, out_features=353, bias=True)\n",
      "    (1): Sigmoid()\n",
      "  )\n",
      ")\n"
     ]
    }
   ],
   "source": [
    "model = models.resnext50_32x4d(pretrained=True)\n",
    "for param in model.parameters():\n",
    "    param.requires_grad = False\n",
    "for param in model.layer4.parameters():\n",
    "    param.requires_grad = True\n",
    "model.fc = nn.Sequential(nn.Linear(2048, 353), nn.Sigmoid())\n",
    "optimizer = optim.Adam(model.parameters())\n",
    "print(model)\n",
    "model = gpu(model)\n",
    "optimizer = optim.Adam(model.parameters())\n",
    "criterion = nn.BCELoss()"
   ]
  },
  {
   "cell_type": "code",
   "execution_count": 20,
   "metadata": {},
   "outputs": [],
   "source": [
    "model = gpu(model)\n",
    "optimizer = optim.Adam(model.parameters())\n",
    "criterion = nn.BCELoss()"
   ]
  },
  {
   "cell_type": "markdown",
   "metadata": {},
   "source": [
    "## Training fully connected module"
   ]
  },
  {
   "cell_type": "markdown",
   "metadata": {},
   "source": [
    "### Training the model"
   ]
  },
  {
   "cell_type": "code",
   "execution_count": 21,
   "metadata": {},
   "outputs": [],
   "source": [
    "# Use threshold to define predicted labels and invoke sklearn's metrics with different averaging strategies.\n",
    "def calculate_metrics(pred, target, threshold=0.5):\n",
    "    pred = np.array(pred > threshold, dtype=float)\n",
    "    return {'micro/precision': precision_score(y_true=target, y_pred=pred, average='micro'),\n",
    "            'micro/recall': recall_score(y_true=target, y_pred=pred, average='micro'),\n",
    "            'micro/f1': f1_score(y_true=target, y_pred=pred, average='micro'),\n",
    "            'macro/precision': precision_score(y_true=target, y_pred=pred, average='macro'),\n",
    "            'macro/recall': recall_score(y_true=target, y_pred=pred, average='macro'),\n",
    "            'macro/f1': f1_score(y_true=target, y_pred=pred, average='macro'),\n",
    "            'samples/precision': precision_score(y_true=target, y_pred=pred, average='samples'),\n",
    "            'samples/recall': recall_score(y_true=target, y_pred=pred, average='samples'),\n",
    "            'samples/f1': f1_score(y_true=target, y_pred=pred, average='samples'),\n",
    "            }"
   ]
  },
  {
   "cell_type": "code",
   "execution_count": 22,
   "metadata": {},
   "outputs": [],
   "source": [
    "def build_results(loss_history, accuracy_history, micro_f1_history, macro_f1_history, samples_f1_history):\n",
    "    results = dict()\n",
    "    results['loss_history'] = loss_history\n",
    "    results['accuracy_history'] = accuracy_history\n",
    "    results['micro_f1_history'] = micro_f1_history\n",
    "    results['macro_f1_history'] = macro_f1_history\n",
    "    results['samples_f1_history'] = samples_f1_history\n",
    "    return results"
   ]
  },
  {
   "cell_type": "code",
   "execution_count": 23,
   "metadata": {},
   "outputs": [],
   "source": [
    "def train_model(model, optimizer, epochs=1):\n",
    "    train_loss_history, train_accuracy_history = [], []\n",
    "    train_micro_f1_history, train_macro_f1_history, train_samples_f1_history = [], [], []\n",
    "    val_loss_history, val_accuracy_history = [], []\n",
    "    val_micro_f1_history, val_macro_f1_history, val_samples_f1_history = [], [], []\n",
    "    for epoch in range(epochs):\n",
    "        model.train()\n",
    "        batches = train_dataloader\n",
    "        num_correct, num_samples, total_loss = 0, 0, 0\n",
    "        i = 0\n",
    "        model_result = []\n",
    "        targets = []\n",
    "        for x, food_labels, paths in batches:\n",
    "            if i % 100 == 0:\n",
    "                print(\"Iteration {}\".format(i))\n",
    "            y = np.array([get_ingredients(path) for path in paths])\n",
    "            x, y = gpu(x), gpu(torch.from_numpy(y)).to(torch.float32)\n",
    "            scores = model(x)\n",
    "            loss = criterion(scores, y)           \n",
    "            optimizer.zero_grad()\n",
    "            loss.backward()\n",
    "            optimizer.step()\n",
    "            total_loss += loss.data.item()\n",
    "            num_correct += get_num_correct(scores, y)\n",
    "            num_samples += x.size(0)\n",
    "            i += 1\n",
    "            \n",
    "            model_result.extend(scores.detach().cpu().numpy())\n",
    "            targets.extend(y.detach().cpu().numpy())\n",
    "        result = calculate_metrics(np.array(model_result), np.array(targets))\n",
    "        micro_f1, macro_f1, samples_f1 = result['micro/f1'], result['macro/f1'], result['samples/f1']\n",
    "        print(\"Epoch:{:2d} Training: \"\n",
    "              \"Micro F1: {:.3f} \"\n",
    "              \"Macro F1: {:.3f} \"\n",
    "              \"Samples F1: {:.3f}\".format(epoch + 1, micro_f1, macro_f1, samples_f1))\n",
    "        average_loss = total_loss / num_samples\n",
    "        acc = num_correct / num_samples\n",
    "        train_loss_history.append(average_loss)\n",
    "        train_accuracy_history.append(acc)\n",
    "        train_micro_f1_history.append(micro_f1)\n",
    "        train_macro_f1_history.append(macro_f1)\n",
    "        train_samples_f1_history.append(samples_f1)\n",
    "        print('Epoch: {} Training Loss: {:.8f} Got {} / {} correct. Acc: {:.2f}%'.format(\n",
    "                     epoch + 1, average_loss, num_correct, num_samples, 100 * acc))\n",
    "        \n",
    "        check_accuracy(model, val_loss_history, val_accuracy_history, \n",
    "                       val_micro_f1_history, val_macro_f1_history, val_samples_f1_history,\n",
    "                       epoch)\n",
    "    train_results = build_results(train_loss_history, train_accuracy_history,\n",
    "                                  train_micro_f1_history, train_macro_f1_history, train_samples_f1_history)\n",
    "    val_results = build_results(val_loss_history, val_accuracy_history,\n",
    "                                val_micro_f1_history, val_macro_f1_history, val_samples_f1_history)\n",
    "    results = dict()\n",
    "    results['train'] = train_results\n",
    "    results['val'] = val_results\n",
    "    return results\n",
    "\n",
    "def check_accuracy(model, val_loss_history, val_accuracy_history, \n",
    "                   val_micro_f1_history, val_macro_f1_history, val_samples_f1_history,\n",
    "                   epoch):\n",
    "    num_correct, num_samples, total_loss = 0, 0, 0\n",
    "    model.eval()\n",
    "    batches = val_dataloader\n",
    "    with torch.no_grad():\n",
    "        model_result = []\n",
    "        targets = []\n",
    "        for x, food_labels, paths in batches:\n",
    "            y = np.array([get_ingredients(path) for path in paths])\n",
    "            x, y = gpu(x), gpu(torch.from_numpy(y)).to(torch.float32)\n",
    "            scores = model(x)\n",
    "            loss = criterion(scores, y) \n",
    "            total_loss += loss.data.item()\n",
    "            num_correct += get_num_correct(scores, y)\n",
    "            num_samples += x.size(0)\n",
    "            \n",
    "            model_result.extend(scores.cpu().numpy())\n",
    "            targets.extend(y.cpu().numpy())\n",
    "        result = calculate_metrics(np.array(model_result), np.array(targets))\n",
    "        micro_f1, macro_f1, samples_f1 = result['micro/f1'], result['macro/f1'], result['samples/f1']\n",
    "        print(\"Epoch:{:2d} Validation: \"\n",
    "              \"Micro F1: {:.3f} \"\n",
    "              \"Macro F1: {:.3f} \"\n",
    "              \"Samples F1: {:.3f}\".format(epoch + 1,\n",
    "                                          result['micro/f1'],\n",
    "                                          result['macro/f1'],\n",
    "                                          result['samples/f1']))\n",
    "        average_loss = total_loss / num_samples\n",
    "        acc = num_correct / num_samples\n",
    "    val_loss_history.append(average_loss)\n",
    "    val_accuracy_history.append(acc)\n",
    "    val_micro_f1_history.append(micro_f1)\n",
    "    val_macro_f1_history.append(macro_f1)\n",
    "    val_samples_f1_history.append(samples_f1)\n",
    "    print('Epoch: {} Validation Loss: {:.8f} Got {} / {} correct {:.2f}%'.format(\n",
    "        epoch + 1, average_loss, num_correct, num_samples, 100 * acc))\n",
    "\n",
    "def get_num_correct(scores, y):\n",
    "    scores[scores >= 0.5] = 1\n",
    "    scores[scores < 0.5] = 0\n",
    "    num_correct = (scores == y).all(dim=1).sum().item()\n",
    "    return num_correct"
   ]
  },
  {
   "cell_type": "code",
   "execution_count": 24,
   "metadata": {},
   "outputs": [
    {
     "name": "stderr",
     "output_type": "stream",
     "text": [
      "/opt/conda/lib/python3.7/site-packages/torch/utils/data/dataloader.py:477: UserWarning: This DataLoader will create 6 worker processes in total. Our suggested max number of worker in current system is 2, which is smaller than what this DataLoader is going to create. Please be aware that excessive worker creation might get DataLoader running slow or even freeze, lower the worker number to avoid potential slowness/freeze if necessary.\n",
      "  cpuset_checked))\n"
     ]
    },
    {
     "name": "stdout",
     "output_type": "stream",
     "text": [
      "Iteration 0\n",
      "Iteration 100\n",
      "Iteration 200\n",
      "Iteration 300\n",
      "Iteration 400\n",
      "Iteration 500\n",
      "Iteration 600\n",
      "Iteration 700\n",
      "Iteration 800\n",
      "Iteration 900\n",
      "Iteration 1000\n"
     ]
    },
    {
     "name": "stderr",
     "output_type": "stream",
     "text": [
      "/opt/conda/lib/python3.7/site-packages/sklearn/metrics/_classification.py:1245: UndefinedMetricWarning: Precision is ill-defined and being set to 0.0 in labels with no predicted samples. Use `zero_division` parameter to control this behavior.\n",
      "  _warn_prf(average, modifier, msg_start, len(result))\n",
      "/opt/conda/lib/python3.7/site-packages/sklearn/metrics/_classification.py:1245: UndefinedMetricWarning: Precision is ill-defined and being set to 0.0 in samples with no predicted labels. Use `zero_division` parameter to control this behavior.\n",
      "  _warn_prf(average, modifier, msg_start, len(result))\n"
     ]
    },
    {
     "name": "stdout",
     "output_type": "stream",
     "text": [
      "Epoch: 1 Training: Micro F1: 0.869 Macro F1: 0.652 Samples F1: 0.865\n",
      "Epoch: 1 Training Loss: 0.00009561 Got 35480 / 66071 correct. Acc: 53.70%\n"
     ]
    },
    {
     "name": "stderr",
     "output_type": "stream",
     "text": [
      "/opt/conda/lib/python3.7/site-packages/torch/utils/data/dataloader.py:477: UserWarning: This DataLoader will create 6 worker processes in total. Our suggested max number of worker in current system is 2, which is smaller than what this DataLoader is going to create. Please be aware that excessive worker creation might get DataLoader running slow or even freeze, lower the worker number to avoid potential slowness/freeze if necessary.\n",
      "  cpuset_checked))\n",
      "/opt/conda/lib/python3.7/site-packages/sklearn/metrics/_classification.py:1245: UndefinedMetricWarning: Precision is ill-defined and being set to 0.0 in labels with no predicted samples. Use `zero_division` parameter to control this behavior.\n",
      "  _warn_prf(average, modifier, msg_start, len(result))\n",
      "/opt/conda/lib/python3.7/site-packages/sklearn/metrics/_classification.py:1245: UndefinedMetricWarning: Recall is ill-defined and being set to 0.0 in labels with no true samples. Use `zero_division` parameter to control this behavior.\n",
      "  _warn_prf(average, modifier, msg_start, len(result))\n",
      "/opt/conda/lib/python3.7/site-packages/sklearn/metrics/_classification.py:1493: UndefinedMetricWarning: F-score is ill-defined and being set to 0.0 in labels with no true nor predicted samples. Use `zero_division` parameter to control this behavior.\n",
      "  average, \"true nor predicted\", 'F-score is', len(true_sum)\n",
      "/opt/conda/lib/python3.7/site-packages/sklearn/metrics/_classification.py:1245: UndefinedMetricWarning: Precision is ill-defined and being set to 0.0 in samples with no predicted labels. Use `zero_division` parameter to control this behavior.\n",
      "  _warn_prf(average, modifier, msg_start, len(result))\n"
     ]
    },
    {
     "name": "stdout",
     "output_type": "stream",
     "text": [
      "Epoch: 1 Validation: Micro F1: 0.724 Macro F1: 0.520 Samples F1: 0.705\n",
      "Epoch: 1 Validation Loss: 0.00024622 Got 3613 / 11016 correct 32.80%\n"
     ]
    },
    {
     "name": "stderr",
     "output_type": "stream",
     "text": [
      "/opt/conda/lib/python3.7/site-packages/torch/utils/data/dataloader.py:477: UserWarning: This DataLoader will create 6 worker processes in total. Our suggested max number of worker in current system is 2, which is smaller than what this DataLoader is going to create. Please be aware that excessive worker creation might get DataLoader running slow or even freeze, lower the worker number to avoid potential slowness/freeze if necessary.\n",
      "  cpuset_checked))\n"
     ]
    },
    {
     "name": "stdout",
     "output_type": "stream",
     "text": [
      "Iteration 0\n",
      "Iteration 100\n",
      "Iteration 200\n",
      "Iteration 300\n",
      "Iteration 400\n",
      "Iteration 500\n",
      "Iteration 600\n",
      "Iteration 700\n",
      "Iteration 800\n",
      "Iteration 900\n",
      "Iteration 1000\n"
     ]
    },
    {
     "name": "stderr",
     "output_type": "stream",
     "text": [
      "/opt/conda/lib/python3.7/site-packages/sklearn/metrics/_classification.py:1245: UndefinedMetricWarning: Precision is ill-defined and being set to 0.0 in labels with no predicted samples. Use `zero_division` parameter to control this behavior.\n",
      "  _warn_prf(average, modifier, msg_start, len(result))\n",
      "/opt/conda/lib/python3.7/site-packages/sklearn/metrics/_classification.py:1245: UndefinedMetricWarning: Precision is ill-defined and being set to 0.0 in samples with no predicted labels. Use `zero_division` parameter to control this behavior.\n",
      "  _warn_prf(average, modifier, msg_start, len(result))\n"
     ]
    },
    {
     "name": "stdout",
     "output_type": "stream",
     "text": [
      "Epoch: 2 Training: Micro F1: 0.903 Macro F1: 0.724 Samples F1: 0.902\n",
      "Epoch: 2 Training Loss: 0.00007059 Got 41292 / 66071 correct. Acc: 62.50%\n"
     ]
    },
    {
     "name": "stderr",
     "output_type": "stream",
     "text": [
      "/opt/conda/lib/python3.7/site-packages/torch/utils/data/dataloader.py:477: UserWarning: This DataLoader will create 6 worker processes in total. Our suggested max number of worker in current system is 2, which is smaller than what this DataLoader is going to create. Please be aware that excessive worker creation might get DataLoader running slow or even freeze, lower the worker number to avoid potential slowness/freeze if necessary.\n",
      "  cpuset_checked))\n",
      "/opt/conda/lib/python3.7/site-packages/sklearn/metrics/_classification.py:1245: UndefinedMetricWarning: Precision is ill-defined and being set to 0.0 in labels with no predicted samples. Use `zero_division` parameter to control this behavior.\n",
      "  _warn_prf(average, modifier, msg_start, len(result))\n",
      "/opt/conda/lib/python3.7/site-packages/sklearn/metrics/_classification.py:1245: UndefinedMetricWarning: Recall is ill-defined and being set to 0.0 in labels with no true samples. Use `zero_division` parameter to control this behavior.\n",
      "  _warn_prf(average, modifier, msg_start, len(result))\n",
      "/opt/conda/lib/python3.7/site-packages/sklearn/metrics/_classification.py:1493: UndefinedMetricWarning: F-score is ill-defined and being set to 0.0 in labels with no true nor predicted samples. Use `zero_division` parameter to control this behavior.\n",
      "  average, \"true nor predicted\", 'F-score is', len(true_sum)\n",
      "/opt/conda/lib/python3.7/site-packages/sklearn/metrics/_classification.py:1245: UndefinedMetricWarning: Precision is ill-defined and being set to 0.0 in samples with no predicted labels. Use `zero_division` parameter to control this behavior.\n",
      "  _warn_prf(average, modifier, msg_start, len(result))\n"
     ]
    },
    {
     "name": "stdout",
     "output_type": "stream",
     "text": [
      "Epoch: 2 Validation: Micro F1: 0.730 Macro F1: 0.527 Samples F1: 0.716\n",
      "Epoch: 2 Validation Loss: 0.00026356 Got 3671 / 11016 correct 33.32%\n"
     ]
    },
    {
     "name": "stderr",
     "output_type": "stream",
     "text": [
      "/opt/conda/lib/python3.7/site-packages/torch/utils/data/dataloader.py:477: UserWarning: This DataLoader will create 6 worker processes in total. Our suggested max number of worker in current system is 2, which is smaller than what this DataLoader is going to create. Please be aware that excessive worker creation might get DataLoader running slow or even freeze, lower the worker number to avoid potential slowness/freeze if necessary.\n",
      "  cpuset_checked))\n"
     ]
    },
    {
     "name": "stdout",
     "output_type": "stream",
     "text": [
      "Iteration 0\n",
      "Iteration 100\n",
      "Iteration 200\n",
      "Iteration 300\n",
      "Iteration 400\n",
      "Iteration 500\n",
      "Iteration 600\n",
      "Iteration 700\n",
      "Iteration 800\n",
      "Iteration 900\n",
      "Iteration 1000\n"
     ]
    },
    {
     "name": "stderr",
     "output_type": "stream",
     "text": [
      "/opt/conda/lib/python3.7/site-packages/sklearn/metrics/_classification.py:1245: UndefinedMetricWarning: Precision is ill-defined and being set to 0.0 in labels with no predicted samples. Use `zero_division` parameter to control this behavior.\n",
      "  _warn_prf(average, modifier, msg_start, len(result))\n",
      "/opt/conda/lib/python3.7/site-packages/sklearn/metrics/_classification.py:1245: UndefinedMetricWarning: Precision is ill-defined and being set to 0.0 in samples with no predicted labels. Use `zero_division` parameter to control this behavior.\n",
      "  _warn_prf(average, modifier, msg_start, len(result))\n"
     ]
    },
    {
     "name": "stdout",
     "output_type": "stream",
     "text": [
      "Epoch: 3 Training: Micro F1: 0.922 Macro F1: 0.781 Samples F1: 0.921\n",
      "Epoch: 3 Training Loss: 0.00005764 Got 44757 / 66071 correct. Acc: 67.74%\n"
     ]
    },
    {
     "name": "stderr",
     "output_type": "stream",
     "text": [
      "/opt/conda/lib/python3.7/site-packages/torch/utils/data/dataloader.py:477: UserWarning: This DataLoader will create 6 worker processes in total. Our suggested max number of worker in current system is 2, which is smaller than what this DataLoader is going to create. Please be aware that excessive worker creation might get DataLoader running slow or even freeze, lower the worker number to avoid potential slowness/freeze if necessary.\n",
      "  cpuset_checked))\n",
      "/opt/conda/lib/python3.7/site-packages/sklearn/metrics/_classification.py:1245: UndefinedMetricWarning: Precision is ill-defined and being set to 0.0 in labels with no predicted samples. Use `zero_division` parameter to control this behavior.\n",
      "  _warn_prf(average, modifier, msg_start, len(result))\n",
      "/opt/conda/lib/python3.7/site-packages/sklearn/metrics/_classification.py:1245: UndefinedMetricWarning: Recall is ill-defined and being set to 0.0 in labels with no true samples. Use `zero_division` parameter to control this behavior.\n",
      "  _warn_prf(average, modifier, msg_start, len(result))\n",
      "/opt/conda/lib/python3.7/site-packages/sklearn/metrics/_classification.py:1493: UndefinedMetricWarning: F-score is ill-defined and being set to 0.0 in labels with no true nor predicted samples. Use `zero_division` parameter to control this behavior.\n",
      "  average, \"true nor predicted\", 'F-score is', len(true_sum)\n",
      "/opt/conda/lib/python3.7/site-packages/sklearn/metrics/_classification.py:1245: UndefinedMetricWarning: Precision is ill-defined and being set to 0.0 in samples with no predicted labels. Use `zero_division` parameter to control this behavior.\n",
      "  _warn_prf(average, modifier, msg_start, len(result))\n"
     ]
    },
    {
     "name": "stdout",
     "output_type": "stream",
     "text": [
      "Epoch: 3 Validation: Micro F1: 0.729 Macro F1: 0.534 Samples F1: 0.712\n",
      "Epoch: 3 Validation Loss: 0.00027363 Got 3681 / 11016 correct 33.42%\n"
     ]
    },
    {
     "name": "stderr",
     "output_type": "stream",
     "text": [
      "/opt/conda/lib/python3.7/site-packages/torch/utils/data/dataloader.py:477: UserWarning: This DataLoader will create 6 worker processes in total. Our suggested max number of worker in current system is 2, which is smaller than what this DataLoader is going to create. Please be aware that excessive worker creation might get DataLoader running slow or even freeze, lower the worker number to avoid potential slowness/freeze if necessary.\n",
      "  cpuset_checked))\n"
     ]
    },
    {
     "name": "stdout",
     "output_type": "stream",
     "text": [
      "Iteration 0\n",
      "Iteration 100\n",
      "Iteration 200\n",
      "Iteration 300\n",
      "Iteration 400\n",
      "Iteration 500\n",
      "Iteration 600\n",
      "Iteration 700\n",
      "Iteration 800\n",
      "Iteration 900\n",
      "Iteration 1000\n"
     ]
    },
    {
     "name": "stderr",
     "output_type": "stream",
     "text": [
      "/opt/conda/lib/python3.7/site-packages/sklearn/metrics/_classification.py:1245: UndefinedMetricWarning: Precision is ill-defined and being set to 0.0 in samples with no predicted labels. Use `zero_division` parameter to control this behavior.\n",
      "  _warn_prf(average, modifier, msg_start, len(result))\n"
     ]
    },
    {
     "name": "stdout",
     "output_type": "stream",
     "text": [
      "Epoch: 4 Training: Micro F1: 0.936 Macro F1: 0.821 Samples F1: 0.936\n",
      "Epoch: 4 Training Loss: 0.00004754 Got 47671 / 66071 correct. Acc: 72.15%\n"
     ]
    },
    {
     "name": "stderr",
     "output_type": "stream",
     "text": [
      "/opt/conda/lib/python3.7/site-packages/torch/utils/data/dataloader.py:477: UserWarning: This DataLoader will create 6 worker processes in total. Our suggested max number of worker in current system is 2, which is smaller than what this DataLoader is going to create. Please be aware that excessive worker creation might get DataLoader running slow or even freeze, lower the worker number to avoid potential slowness/freeze if necessary.\n",
      "  cpuset_checked))\n",
      "/opt/conda/lib/python3.7/site-packages/sklearn/metrics/_classification.py:1245: UndefinedMetricWarning: Precision is ill-defined and being set to 0.0 in labels with no predicted samples. Use `zero_division` parameter to control this behavior.\n",
      "  _warn_prf(average, modifier, msg_start, len(result))\n",
      "/opt/conda/lib/python3.7/site-packages/sklearn/metrics/_classification.py:1245: UndefinedMetricWarning: Recall is ill-defined and being set to 0.0 in labels with no true samples. Use `zero_division` parameter to control this behavior.\n",
      "  _warn_prf(average, modifier, msg_start, len(result))\n",
      "/opt/conda/lib/python3.7/site-packages/sklearn/metrics/_classification.py:1493: UndefinedMetricWarning: F-score is ill-defined and being set to 0.0 in labels with no true nor predicted samples. Use `zero_division` parameter to control this behavior.\n",
      "  average, \"true nor predicted\", 'F-score is', len(true_sum)\n",
      "/opt/conda/lib/python3.7/site-packages/sklearn/metrics/_classification.py:1245: UndefinedMetricWarning: Precision is ill-defined and being set to 0.0 in samples with no predicted labels. Use `zero_division` parameter to control this behavior.\n",
      "  _warn_prf(average, modifier, msg_start, len(result))\n"
     ]
    },
    {
     "name": "stdout",
     "output_type": "stream",
     "text": [
      "Epoch: 4 Validation: Micro F1: 0.721 Macro F1: 0.528 Samples F1: 0.705\n",
      "Epoch: 4 Validation Loss: 0.00029789 Got 3612 / 11016 correct 32.79%\n"
     ]
    },
    {
     "name": "stderr",
     "output_type": "stream",
     "text": [
      "/opt/conda/lib/python3.7/site-packages/torch/utils/data/dataloader.py:477: UserWarning: This DataLoader will create 6 worker processes in total. Our suggested max number of worker in current system is 2, which is smaller than what this DataLoader is going to create. Please be aware that excessive worker creation might get DataLoader running slow or even freeze, lower the worker number to avoid potential slowness/freeze if necessary.\n",
      "  cpuset_checked))\n"
     ]
    },
    {
     "name": "stdout",
     "output_type": "stream",
     "text": [
      "Iteration 0\n",
      "Iteration 100\n",
      "Iteration 200\n",
      "Iteration 300\n",
      "Iteration 400\n",
      "Iteration 500\n",
      "Iteration 600\n",
      "Iteration 700\n",
      "Iteration 800\n",
      "Iteration 900\n",
      "Iteration 1000\n"
     ]
    },
    {
     "name": "stderr",
     "output_type": "stream",
     "text": [
      "/opt/conda/lib/python3.7/site-packages/sklearn/metrics/_classification.py:1245: UndefinedMetricWarning: Precision is ill-defined and being set to 0.0 in labels with no predicted samples. Use `zero_division` parameter to control this behavior.\n",
      "  _warn_prf(average, modifier, msg_start, len(result))\n",
      "/opt/conda/lib/python3.7/site-packages/sklearn/metrics/_classification.py:1245: UndefinedMetricWarning: Precision is ill-defined and being set to 0.0 in samples with no predicted labels. Use `zero_division` parameter to control this behavior.\n",
      "  _warn_prf(average, modifier, msg_start, len(result))\n"
     ]
    },
    {
     "name": "stdout",
     "output_type": "stream",
     "text": [
      "Epoch: 5 Training: Micro F1: 0.946 Macro F1: 0.857 Samples F1: 0.945\n",
      "Epoch: 5 Training Loss: 0.00004074 Got 49829 / 66071 correct. Acc: 75.42%\n"
     ]
    },
    {
     "name": "stderr",
     "output_type": "stream",
     "text": [
      "/opt/conda/lib/python3.7/site-packages/torch/utils/data/dataloader.py:477: UserWarning: This DataLoader will create 6 worker processes in total. Our suggested max number of worker in current system is 2, which is smaller than what this DataLoader is going to create. Please be aware that excessive worker creation might get DataLoader running slow or even freeze, lower the worker number to avoid potential slowness/freeze if necessary.\n",
      "  cpuset_checked))\n",
      "/opt/conda/lib/python3.7/site-packages/sklearn/metrics/_classification.py:1245: UndefinedMetricWarning: Precision is ill-defined and being set to 0.0 in labels with no predicted samples. Use `zero_division` parameter to control this behavior.\n",
      "  _warn_prf(average, modifier, msg_start, len(result))\n",
      "/opt/conda/lib/python3.7/site-packages/sklearn/metrics/_classification.py:1245: UndefinedMetricWarning: Recall is ill-defined and being set to 0.0 in labels with no true samples. Use `zero_division` parameter to control this behavior.\n",
      "  _warn_prf(average, modifier, msg_start, len(result))\n",
      "/opt/conda/lib/python3.7/site-packages/sklearn/metrics/_classification.py:1493: UndefinedMetricWarning: F-score is ill-defined and being set to 0.0 in labels with no true nor predicted samples. Use `zero_division` parameter to control this behavior.\n",
      "  average, \"true nor predicted\", 'F-score is', len(true_sum)\n",
      "/opt/conda/lib/python3.7/site-packages/sklearn/metrics/_classification.py:1245: UndefinedMetricWarning: Precision is ill-defined and being set to 0.0 in samples with no predicted labels. Use `zero_division` parameter to control this behavior.\n",
      "  _warn_prf(average, modifier, msg_start, len(result))\n"
     ]
    },
    {
     "name": "stdout",
     "output_type": "stream",
     "text": [
      "Epoch: 5 Validation: Micro F1: 0.719 Macro F1: 0.532 Samples F1: 0.703\n",
      "Epoch: 5 Validation Loss: 0.00031779 Got 3646 / 11016 correct 33.10%\n",
      "CPU times: user 1h 6min 33s, sys: 19min 21s, total: 1h 25min 54s\n",
      "Wall time: 1h 28min 52s\n"
     ]
    }
   ],
   "source": [
    "%%time\n",
    "num_epochs = 5\n",
    "results = train_model(gpu(model), optimizer, epochs=num_epochs)"
   ]
  },
  {
   "cell_type": "code",
   "execution_count": 25,
   "metadata": {},
   "outputs": [],
   "source": [
    "# Save the model.\n",
    "PATH = \"../saved_models/ingredients/resnext/resnext.dat\"\n",
    "torch.save(model, PATH)\n",
    "torch.save(results, '../saved_models/ingredients/resnext/resnext-results-2.pt')"
   ]
  },
  {
   "cell_type": "markdown",
   "metadata": {},
   "source": [
    "## Evaluation"
   ]
  },
  {
   "cell_type": "code",
   "execution_count": 17,
   "metadata": {},
   "outputs": [],
   "source": [
    "# Load the model.\n",
    "PATH = \"../saved_models/ingredients/resnext/resnext.dat\"\n",
    "loaded_model = torch.load(PATH)\n",
    "loaded_model = gpu(loaded_model)\n",
    "model = loaded_model\n",
    "results1 = torch.load('../saved_models/ingredients/resnext/resnext-results-1.pt')\n",
    "results2 = torch.load('../saved_models/ingredients/resnext/resnext-results-2.pt')"
   ]
  },
  {
   "cell_type": "code",
   "execution_count": 26,
   "metadata": {},
   "outputs": [],
   "source": [
    "results1 = torch.load('../saved_models/ingredients/resnext/resnext-results-1.pt')\n",
    "results2 = torch.load('../saved_models/ingredients/resnext/resnext-results-2.pt')\n",
    "\n",
    "train_results1, val_results1 = results1['train'], results1['val']\n",
    "train_results2, val_results2 = results2['train'], results2['val']\n",
    "\n",
    "LOSS1, ACC1, LOSS_V1, ACC_V1 = (train_results1['loss_history'], train_results1['accuracy_history'], \n",
    "                                val_results1['loss_history'], val_results1['accuracy_history'])\n",
    "LOSS2, ACC2, LOSS_V2, ACC_V2 = (train_results2['loss_history'], train_results2['accuracy_history'], \n",
    "                                val_results2['loss_history'], val_results2['accuracy_history'])\n",
    "\n",
    "LOSS = LOSS1 + LOSS2\n",
    "ACC = ACC1 + ACC2\n",
    "LOSS_V = LOSS_V1 + LOSS_V2\n",
    "ACC_V = ACC_V1 + ACC_V2"
   ]
  },
  {
   "cell_type": "code",
   "execution_count": 27,
   "metadata": {},
   "outputs": [
    {
     "data": {
      "image/png": "[encoded data removed]",
      "text/plain": [
       "<Figure size 432x288 with 1 Axes>"
      ]
     },
     "metadata": {
      "needs_background": "light"
     },
     "output_type": "display_data"
    },
    {
     "data": {
      "image/png": "[encoded data removed]",
      "text/plain": [
       "<Figure size 432x288 with 1 Axes>"
      ]
     },
     "metadata": {
      "needs_background": "light"
     },
     "output_type": "display_data"
    }
   ],
   "source": [
    "# Loss and Accuracy Curves\n",
    "from utils.plots import plot_loss_and_accuracy_curves\n",
    "plot_loss_and_accuracy_curves('ResNext', LOSS, ACC, LOSS_V, ACC_V)"
   ]
  },
  {
   "cell_type": "code",
   "execution_count": 28,
   "metadata": {},
   "outputs": [
    {
     "name": "stderr",
     "output_type": "stream",
     "text": [
      "/opt/conda/lib/python3.7/site-packages/torch/utils/data/dataloader.py:477: UserWarning: This DataLoader will create 6 worker processes in total. Our suggested max number of worker in current system is 2, which is smaller than what this DataLoader is going to create. Please be aware that excessive worker creation might get DataLoader running slow or even freeze, lower the worker number to avoid potential slowness/freeze if necessary.\n",
      "  cpuset_checked))\n",
      "/opt/conda/lib/python3.7/site-packages/sklearn/metrics/_classification.py:1245: UndefinedMetricWarning: Precision is ill-defined and being set to 0.0 in labels with no predicted samples. Use `zero_division` parameter to control this behavior.\n",
      "  _warn_prf(average, modifier, msg_start, len(result))\n",
      "/opt/conda/lib/python3.7/site-packages/sklearn/metrics/_classification.py:1245: UndefinedMetricWarning: Precision is ill-defined and being set to 0.0 in samples with no predicted labels. Use `zero_division` parameter to control this behavior.\n",
      "  _warn_prf(average, modifier, msg_start, len(result))\n"
     ]
    },
    {
     "name": "stdout",
     "output_type": "stream",
     "text": [
      "Testing: Micro F1: 0.715 Macro F1: 0.536 Samples F1: 0.697\n",
      "Accuracy of the network on the all test images: 32.70%\n"
     ]
    }
   ],
   "source": [
    "# Evaluation: Compute Accuracy and Micro F1, Macro F1, Samples F1 scores\n",
    "\n",
    "def compute_accuracy(model):\n",
    "    num_correct, num_samples, total_loss = 0, 0, 0\n",
    "    with torch.no_grad():\n",
    "        model.eval()\n",
    "        model_result = []\n",
    "        targets = []\n",
    "        for x, food_labels, paths in test_dataloader:\n",
    "            y = np.array([get_ingredients(path) for path in paths])\n",
    "            x, y = gpu(x), gpu(torch.from_numpy(y)).to(torch.float32)\n",
    "            scores = model(x)\n",
    "            loss = criterion(scores, y) \n",
    "            total_loss += loss.data.item()\n",
    "            num_correct += get_num_correct(scores, y)\n",
    "            num_samples += x.size(0)\n",
    "            \n",
    "            model_result.extend(scores.cpu().numpy())\n",
    "            targets.extend(y.cpu().numpy())\n",
    "        result = calculate_metrics(np.array(model_result), np.array(targets))\n",
    "        micro_f1, macro_f1, samples_f1 = result['micro/f1'], result['macro/f1'], result['samples/f1']\n",
    "        print(\"Testing: \"\n",
    "              \"Micro F1: {:.3f} \"\n",
    "              \"Macro F1: {:.3f} \"\n",
    "              \"Samples F1: {:.3f}\".format(result['micro/f1'],\n",
    "                                          result['macro/f1'],\n",
    "                                          result['samples/f1']))\n",
    "        average_loss = total_loss / num_samples\n",
    "        acc = num_correct / num_samples\n",
    "\n",
    "    print('Accuracy of the network on the all test images: %.2f%%' % (\n",
    "        100 * num_correct / num_samples))\n",
    "\n",
    "compute_accuracy(model)"
   ]
  },
  {
   "cell_type": "markdown",
   "metadata": {},
   "source": [
    "## Precision + Recall Statistics"
   ]
  },
  {
   "cell_type": "markdown",
   "metadata": {},
   "source": [
    "We compute aggregate precision-recall stats as well as precision-recall stats on a per-ingredient basis.\n",
    "Store the predictions made by the model in y_score and the correct labels in y_test for all the testing examples."
   ]
  },
  {
   "cell_type": "code",
   "execution_count": 29,
   "metadata": {},
   "outputs": [
    {
     "name": "stderr",
     "output_type": "stream",
     "text": [
      "/opt/conda/lib/python3.7/site-packages/torch/utils/data/dataloader.py:477: UserWarning: This DataLoader will create 6 worker processes in total. Our suggested max number of worker in current system is 2, which is smaller than what this DataLoader is going to create. Please be aware that excessive worker creation might get DataLoader running slow or even freeze, lower the worker number to avoid potential slowness/freeze if necessary.\n",
      "  cpuset_checked))\n"
     ]
    }
   ],
   "source": [
    "y_score = []\n",
    "y_test = []\n",
    "criterion = nn.BCELoss()\n",
    "with torch.no_grad():\n",
    "    model.eval()\n",
    "    for x, food_labels, paths in test_dataloader:\n",
    "        y = np.array([get_ingredients(path) for path in paths])\n",
    "        x, y = gpu(x), gpu(torch.from_numpy(y)).to(torch.float32)\n",
    "        scores = model(x)\n",
    "        y_score.extend(scores.cpu().numpy())\n",
    "        y_test.extend(y.cpu().numpy())"
   ]
  },
  {
   "cell_type": "code",
   "execution_count": 30,
   "metadata": {},
   "outputs": [],
   "source": [
    "y_score = np.array(y_score)\n",
    "y_test = np.array(y_test)"
   ]
  },
  {
   "cell_type": "markdown",
   "metadata": {},
   "source": [
    "Store the thresholded predictions made by the model in y_pred (using a default threshold of 0.5 for each ingredient category)"
   ]
  },
  {
   "cell_type": "code",
   "execution_count": 31,
   "metadata": {},
   "outputs": [],
   "source": [
    "y_pred = np.array(y_score > 0.5, dtype=float)"
   ]
  },
  {
   "cell_type": "markdown",
   "metadata": {},
   "source": [
    "### Compute Precision/Recall for each Ingredient Manually"
   ]
  },
  {
   "cell_type": "code",
   "execution_count": 32,
   "metadata": {},
   "outputs": [],
   "source": [
    "# Manual Precision/Recall Calculations:\n",
    "from collections import defaultdict\n",
    "\n",
    "num_classes = 353\n",
    "pr_stats = dict()\n",
    "for j in range(num_classes):\n",
    "    pr_stats[j] = defaultdict(int)\n",
    "for (y_test_i, y_pred_i) in zip(y_test, y_pred):\n",
    "    for j in range(num_classes):\n",
    "        if y_test_i[j] == 0 and y_pred_i[j] == 0:\n",
    "            pr_stats[j][\"TN\"] += 1\n",
    "        elif y_test_i[j] == 1 and y_pred_i[j] == 1:\n",
    "            pr_stats[j][\"TP\"] += 1\n",
    "        elif y_test_i[j] == 1 and y_pred_i[j] == 0:\n",
    "            pr_stats[j][\"FN\"] += 1\n",
    "        elif y_test_i[j] == 0 and y_pred_i[j] == 1:\n",
    "            pr_stats[j][\"FP\"] += 1"
   ]
  },
  {
   "cell_type": "code",
   "execution_count": 33,
   "metadata": {},
   "outputs": [
    {
     "name": "stdout",
     "output_type": "stream",
     "text": [
      "Precision-Recall Statistics for each Ingredient\n",
      "---------------------------------------------------------------------------\n",
      "Ingredient                                        Precision     Recall     \n",
      "---------------------------------------------------------------------------\n",
      "Minced green onion                                   0.81        0.69      \n",
      "chiffonade of green onion                            0.70        0.67      \n",
      "Seared green onion                                   0.63        0.20      \n",
      "White onion                                          0.76        0.83      \n",
      "Brunoise diced ham                                   0.77        0.72      \n",
      "Julienned ham                                        0.36        0.50      \n",
      "Ham                                                  0.18        0.25      \n",
      "Sliced ham                                           0.09        0.35      \n",
      "Brunoise diced carrot                                0.78        0.61      \n",
      "Sliced carrot                                        0.56        0.51      \n",
      "Batonnet carrot                                      0.40        0.10      \n",
      "Julienned carrot                                     0.82        0.45      \n",
      "Hob blocks of carrot                                 0.73        0.52      \n",
      "Black sesame                                         0.58        0.66      \n",
      "White sesame                                         0.85        0.58      \n",
      "Crushed pepper                                       0.83        0.53      \n",
      "Shredded pepper                                      0.62        0.63      \n",
      "Pepper slices                                        0.63        0.70      \n",
      "Seared pepper                                        0.36        0.10      \n",
      "Pepper                                               0.44        0.15      \n",
      "Whole green pepper                                   0.82        0.84      \n",
      "Chinese Parsleycoriander                             0.81        0.73      \n",
      "Bean sprouts                                         0.82        0.46      \n",
      "Bacon                                                0.00        0.00      \n",
      "Tomato sclices                                       0.81        0.69      \n",
      "Cherry tomato slices                                 0.29        0.15      \n",
      "Cherry tomato                                        0.68        0.39      \n",
      "Green vegetables                                     0.56        0.48      \n",
      "chiffonade of green vegetables                       0.57        0.08      \n",
      "Corn kernels                                         0.90        0.77      \n",
      "Corn blocks                                          0.93        0.51      \n",
      "Bitter gourd slices                                  0.85        0.85      \n",
      "Broccoli                                             0.76        0.58      \n",
      "Cauliflower                                          0.94        0.86      \n",
      "Toast                                                0.50        0.11      \n",
      "Bread                                                0.00        0.00      \n",
      "Chinese mahogany                                     0.00        0.00      \n",
      "Crab sticks                                          0.33        0.06      \n",
      "Bamboo shoots tips                                   0.18        0.17      \n",
      "Chive pieces                                         0.92        0.59      \n",
      "Chopped chives                                       0.58        0.67      \n",
      "Chives                                               0.97        0.85      \n",
      "Shredded onion                                       0.46        0.18      \n",
      "Onion slices                                         0.46        0.31      \n",
      "Brunoise diced onion                                 0.50        0.12      \n",
      "Pumpkin blocks                                       0.75        0.45      \n",
      "Groundnut kernels                                    0.81        0.54      \n",
      "Crushed groundnut kernels                            1.00        0.03      \n",
      "Lemon                                                0.37        0.26      \n",
      "Shelled fresh shrimps                                0.84        0.63      \n",
      "Dried sea shrimp                                     0.50        0.19      \n",
      "Fresh Shrimp                                         0.76        0.77      \n",
      "Crayfish                                             0.99        0.96      \n",
      "Julienned cucumber                                   0.85        0.45      \n",
      "Batonnet cucumber                                    0.68        0.27      \n",
      "Hob blocks of cucumber                               0.90        0.75      \n",
      "Cucumber slices                                      0.72        0.57      \n",
      "Brunoise diced cucumber                              0.77        0.67      \n",
      "Crushed hot and dry chili                            0.63        0.63      \n",
      "Hot and dry pepper                                   0.62        0.44      \n",
      "Hot and dry pepper powder                            0.71        0.60      \n",
      "Chiffonade of purple cabbage                         0.67        0.08      \n",
      "Chinese cabbage                                      0.76        0.84      \n",
      "Black fungus                                         0.82        0.74      \n",
      "Perilla crispa tanaka                                0.00        0.00      \n",
      "Ginger slices                                        0.35        0.12      \n",
      "Julienned ginger                                     0.58        0.25      \n",
      "Chopped ginger                                       0.32        0.28      \n",
      "Scrambled egg                                        0.89        0.88      \n",
      "Egg cake                                             0.70        0.68      \n",
      "Crushed egg crepe                                    0.59        0.36      \n",
      "Spiced corned egg                                    0.78        0.63      \n",
      "Egg yolk                                             0.50        0.60      \n",
      "Steamed egg custard                                  0.82        0.77      \n",
      "Boild egg slices                                     0.78        0.62      \n",
      "Boild eggs                                           0.80        0.99      \n",
      "Egg drop                                             0.98        0.88      \n",
      "Shredded egg crepe                                   0.00        0.00      \n",
      "Quail eggs                                           0.00        0.00      \n",
      "Minced pork                                          0.40        0.12      \n",
      "Wolfberry                                            0.74        0.76      \n",
      "Minced pork                                          0.83        0.64      \n",
      "Shredded pork                                        0.93        0.60      \n",
      "Streaky pork slices                                  0.75        0.74      \n",
      "Pork slices                                          0.65        0.44      \n",
      "Pork chunks                                          0.80        0.60      \n",
      "Streaky pork chunks                                  0.43        0.41      \n",
      "Cured meat chunks                                    0.39        0.47      \n",
      "kale borecole                                        0.71        0.23      \n",
      "Pork intestines                                      0.70        0.87      \n",
      "Lettuce                                              0.65        0.64      \n",
      "Steamed bread                                        0.74        0.57      \n",
      "Red dates                                            0.76        0.86      \n",
      "Kiwi                                                 0.00        0.00      \n",
      "Garlic clove                                         0.56        0.32      \n",
      "Crushed garlic                                       0.75        0.43      \n",
      "Garlic bulb                                          0.85        0.74      \n",
      "Lentinus edodes                                      0.70        0.57      \n",
      "Lentinus edodes slices                               0.76        0.44      \n",
      "Brunoise diced lentinus edodes                       0.24        0.18      \n",
      "Pleurotus ostreatus                                  0.50        0.22      \n",
      "Poplar Mushroom                                      0.86        0.77      \n",
      "Dried mushroom                                       0.82        0.66      \n",
      "White beech mushroom                                 0.00        0.00      \n",
      "Yam chunks                                           0.94        0.75      \n",
      "White yam                                            0.94        0.95      \n",
      "Yam slices                                           1.00        0.50      \n",
      "Strawberry                                           0.00        0.00      \n",
      "Sea cucumber                                         0.89        0.78      \n",
      "Shanghai cabbage                                     0.90        0.67      \n",
      "Asparagus                                            1.00        0.15      \n",
      "Bamboo shoots chunks                                 0.00        0.00      \n",
      "Shredded bamboo shoots                               0.77        0.33      \n",
      "Rice                                                 0.95        0.83      \n",
      "Meat balls                                           0.85        0.79      \n",
      "Beaf balls                                           0.00        0.00      \n",
      "Shrimp balls                                         0.00        0.00      \n",
      "Fish balls                                           0.48        0.26      \n",
      "blueberry jam                                        0.95        0.95      \n",
      "Orange slices                                        0.00        0.00      \n",
      "Mango                                                0.59        0.50      \n",
      "Noodles                                              0.89        0.85      \n",
      "Beef chunks                                          0.69        0.78      \n",
      "Beef slices                                          0.74        0.59      \n",
      "Sliced Fatty Beef                                    0.87        0.83      \n",
      "Tofu chunks                                          0.85        0.70      \n",
      "Chiba beancurd                                       0.00        0.00      \n",
      "Fish bean curd                                       1.00        0.09      \n",
      "Stinky tofu                                          0.74        0.68      \n",
      "Shredded dried bean curd                             0.88        0.48      \n",
      "Hob blocks of potato                                 0.87        0.70      \n",
      "Potato slices                                        0.22        0.05      \n",
      "Shredded potato                                      0.96        0.93      \n",
      "Mashed potatoes                                      0.84        0.55      \n",
      "Batonnet potato                                      1.00        0.07      \n",
      "Chili oil                                            0.83        0.64      \n",
      "Chili saurce                                         0.62        0.49      \n",
      "Chili powder                                         0.33        0.03      \n",
      "Garlic sprout pieces                                 0.90        0.72      \n",
      "Brunoise diced garlic sprout                         0.00        0.00      \n",
      "Garlic leaves                                        0.63        0.36      \n",
      "Pickled red peppers                                  0.90        0.58      \n",
      "Pickled capsicum annum fasciculatum                  0.84        0.68      \n",
      "Minced pickled capsicum annum fasciculatum           0.72        0.31      \n",
      "Shredded kelp                                        0.87        0.86      \n",
      "kelp                                                 0.41        0.34      \n",
      "Bullfrog                                             0.87        0.63      \n",
      "Caviar                                               0.00        0.00      \n",
      "Lotus root slices                                    0.83        0.72      \n",
      "Lotus root chunks                                    0.93        0.89      \n",
      "Lotus root box                                       0.76        0.88      \n",
      "Celtuce sclices                                      0.83        0.64      \n",
      "Batonnet celtuce                                     0.33        0.03      \n",
      "Shredded celtuce                                     0.00        0.00      \n",
      "Sweet potato chunks                                  0.71        0.21      \n",
      "Sausage slices                                       0.93        0.87      \n",
      "Cabbage                                              0.82        0.75      \n",
      "chiffonade of cabbage                                0.95        0.23      \n",
      "Spareribs                                            0.91        0.64      \n",
      "Clams                                                0.91        0.84      \n",
      "Lilium brownii                                       0.54        0.35      \n",
      "Fermented vegetables                                 0.94        0.54      \n",
      "Double-side fried egg                                0.91        0.77      \n",
      "Sliced double-side fried egg                         0.38        0.21      \n",
      "Radish slices                                        0.67        0.06      \n",
      "Batonnet radish                                      0.00        0.00      \n",
      "Hob blocks of radish                                 0.47        0.54      \n",
      "Julienned radish                                     0.00        0.00      \n",
      "Mashed pickled radish                                0.04        0.06      \n",
      "Pickled radish slices                                0.40        0.25      \n",
      "flatbread                                            0.48        0.53      \n",
      "Spring rolls                                         0.99        0.55      \n",
      "Chicken chunks                                       0.81        0.71      \n",
      "Brunoise diced chicken                               0.78        0.78      \n",
      "Tentacles of Squid                                   0.91        0.61      \n",
      "Squid pieces                                         0.50        0.08      \n",
      "Squid rings                                          0.25        0.14      \n",
      "White gourd chunks                                   0.87        0.85      \n",
      "Dried pieces of bean curd                            0.86        0.51      \n",
      "Yellow peaches                                       0.40        0.76      \n",
      "Pineapple                                            0.96        0.83      \n",
      "Eggplant                                             0.97        0.72      \n",
      "Eggplant slice                                       0.47        0.27      \n",
      "Batonnet eggplant                                    0.62        0.26      \n",
      "Hob blocks of eggplant                               0.90        0.64      \n",
      "Eggplant sticks                                      0.96        0.39      \n",
      "Water mellon                                         0.00        0.00      \n",
      "Gluten                                               0.93        0.84      \n",
      "Gluten chunks                                        0.50        0.35      \n",
      "Dumplings                                            0.94        0.76      \n",
      "Fried bread stick                                    0.78        0.95      \n",
      "Chopped fried bread stick                            0.00        0.00      \n",
      "Hot pickled mustard                                  0.59        0.47      \n",
      "Sesame sauce                                         0.15        0.06      \n",
      "Soya-bean sprout                                     0.58        0.18      \n",
      "Shredded beef tripe                                  0.60        0.57      \n",
      "Water spinach                                        0.90        0.67      \n",
      "Shredded pickled Bamboo Shoots                       0.82        0.41      \n",
      "barbecued pork slices                                0.89        0.85      \n",
      "barbecued pork chunks                                0.00        0.00      \n",
      "Chicken Feet                                         0.99        0.76      \n",
      "Cold steamed rice noodles                            0.99        0.64      \n",
      "Mutton slices                                        0.61        0.54      \n",
      "Mutton chunks                                        0.46        0.36      \n",
      "Crushed Small loaf of steamed bread                  0.96        0.71      \n",
      "Small loaf of steamed bread                          0.97        0.95      \n",
      "Starch sheet                                         0.60        0.22      \n",
      "Yuba                                                 0.79        0.76      \n",
      "Okra slices                                          0.92        0.66      \n",
      "Chestnut                                             0.50        0.28      \n",
      "Preserved egg chunks                                 0.93        0.79      \n",
      "Crushed preserved egg                                0.95        0.91      \n",
      "Whole preserved egg                                  0.75        0.38      \n",
      "Laver                                                0.98        0.85      \n",
      "Fried dough twist                                    0.00        0.00      \n",
      "Longan                                               0.50        0.08      \n",
      "Stewed Pork                                          0.87        0.72      \n",
      "Beans                                                0.88        0.83      \n",
      "Minced beans                                         0.00        0.00      \n",
      "Minced pickled beans                                 0.94        0.60      \n",
      "Sweet fermented flour paste                          0.45        0.67      \n",
      "River snail                                          0.96        0.89      \n",
      "Spinach                                              0.55        0.62      \n",
      "Sea sedge                                            0.96        0.87      \n",
      "Bracken                                              0.90        0.18      \n",
      "Coprinus comatus                                     1.00        0.25      \n",
      "Lime leaves                                          0.39        0.38      \n",
      "lemongrass                                           0.33        0.08      \n",
      "Lime                                                 0.00        0.00      \n",
      "Chicken Wings                                        0.75        0.62      \n",
      "Snow peas                                            0.90        0.83      \n",
      "Pickled vegetable                                    0.26        0.48      \n",
      "Salted egg                                           0.00        0.00      \n",
      "Curry                                                0.83        0.42      \n",
      "Black pepper powder                                  0.00        0.00      \n",
      "Fried flour                                          0.84        0.75      \n",
      "Whole black chicken                                  0.71        0.14      \n",
      "Black chicken chunks                                 0.85        0.82      \n",
      "Celery stalk slices                                  0.90        0.73      \n",
      "Celery stalk                                         0.33        0.25      \n",
      "Celery leaves                                        0.14        0.16      \n",
      "Celery                                               0.77        0.38      \n",
      "Brunoise diced celery                                0.60        0.35      \n",
      "Banana slices                                        0.67        0.50      \n",
      "Apple chunks                                         1.00        1.00      \n",
      "Loofah                                               0.91        0.62      \n",
      "Fish slices                                          0.97        0.66      \n",
      "fish chunks                                          0.80        0.18      \n",
      "Fish                                                 0.91        0.77      \n",
      "zucchini slices                                      0.67        0.06      \n",
      "Boiled chicken slices                                0.86        0.83      \n",
      "Whole boiled chicken                                 1.00        0.29      \n",
      "Tenderloin slices                                    0.93        0.64      \n",
      "Tenderloin chunks                                    0.41        0.25      \n",
      "Batonnet tenderloin                                  0.67        0.74      \n",
      "White congee                                         0.97        0.96      \n",
      "Spaghetti                                            0.84        0.89      \n",
      "Steak                                                0.81        0.81      \n",
      "Cumin powder                                         0.20        0.13      \n",
      "Beef tripes                                          0.00        0.00      \n",
      "Pine nuts                                            0.94        0.82      \n",
      "Gemelli                                              0.80        0.38      \n",
      "Korean chili sauce                                   0.48        0.50      \n",
      "kidney bean                                          0.00        0.00      \n",
      "Zanthoxylum fagara                                   0.63        0.30      \n",
      "Rice noodle                                          0.72        0.77      \n",
      "Fried yuba skin                                      0.94        0.57      \n",
      "Salad dressing                                       0.65        0.59      \n",
      "Soya bean                                            0.65        0.27      \n",
      "Fern root noodles                                    0.98        0.76      \n",
      "ketchup                                              0.80        0.11      \n",
      "Mint leaf                                            0.56        0.32      \n",
      "Soy sauce                                            0.48        0.29      \n",
      "Baby Chinese Cabbage                                 0.90        0.86      \n",
      "Water                                                0.89        0.87      \n",
      "Lotus seeds                                          0.80        0.56      \n",
      "Azuki bean                                           0.50        0.33      \n",
      "Green soybean                                        0.73        0.28      \n",
      "Parsley                                              0.86        0.61      \n",
      "Duck neck                                            0.77        0.80      \n",
      "Thick broad-bean sauce                               0.00        0.00      \n",
      "Enoki mushroom                                       0.33        0.22      \n",
      "Crystal sugar                                        0.92        0.89      \n",
      "Cashew                                               0.61        0.29      \n",
      "Steamed Bun                                          0.97        0.93      \n",
      "Sour sauce                                           0.66        0.31      \n",
      "Pork leg                                             0.70        0.71      \n",
      "Bayleaf                                              0.00        0.00      \n",
      "shumai                                               0.95        0.84      \n",
      "Crap roe                                             0.83        0.80      \n",
      "Shrimp eggs                                          0.29        0.40      \n",
      "Button mushroom                                      0.72        0.48      \n",
      "Coconut water                                        0.73        0.51      \n",
      "Glutinous rice                                       0.92        0.73      \n",
      "Sweet potato starch noodles                          0.83        0.66      \n",
      "Vermicelli                                           0.91        0.83      \n",
      "Fermented soya beans                                 0.38        0.35      \n",
      "Rice dumpling                                        0.98        0.80      \n",
      "Sweetened bean paste                                 0.07        0.25      \n",
      "Sweet dumplings                                      1.00        0.88      \n",
      "Rice noodle roll                                     0.99        0.88      \n",
      "Pea                                                  0.65        0.71      \n",
      "Pork floss                                           0.70        0.28      \n",
      "Scallion pancake                                     0.62        0.86      \n",
      "Black rice                                           0.75        0.16      \n",
      "Small crispy rice                                    0.50        0.13      \n",
      "Coconut cake                                         0.96        0.83      \n",
      "Shredded coconut stuffing                            0.30        0.33      \n",
      "Mussels                                              0.00        0.00      \n",
      "Pork lungs                                           0.91        0.55      \n",
      "Crispy sausage                                       0.00        0.00      \n",
      "Codonopsis pilosula                                  0.57        0.12      \n",
      "Radix Astragali                                      0.00        0.00      \n",
      "American genseng                                     0.00        0.00      \n",
      "Cordyceps sinensis                                   0.50        1.00      \n",
      "Aniseed                                              0.72        0.38      \n",
      "Raisin                                               0.00        0.00      \n",
      "Suckling pig                                         0.92        0.86      \n",
      "Steamed twisted roll                                 0.98        0.89      \n",
      "Grape                                                1.00        0.25      \n",
      "Pork paste                                           0.81        0.96      \n",
      "Cheese                                               0.37        0.69      \n",
      "Wonton                                               0.96        0.91      \n",
      "Duck head                                            0.91        0.84      \n",
      "Chinese Kale                                         0.92        0.77      \n",
      "Chicken legs                                         0.63        0.55      \n",
      "Whole chicken                                        0.85        0.68      \n",
      "Shredded chicken                                     0.70        0.51      \n",
      "Sweet and sour sauce                                 0.81        0.69      \n",
      "Fish head                                            0.90        0.87      \n",
      "Steamed Rice Powder                                  0.75        0.94      \n",
      "Scallop                                              0.93        0.93      \n",
      "Macaroni                                             0.17        0.40      \n",
      "Ribbonfish                                           0.95        0.33      \n",
      "Tea-leaves                                           0.29        0.93      \n",
      "Millet                                               0.93        0.90      \n",
      "Preserved vegetables                                 0.95        0.74      \n",
      "CoixSeed                                             0.82        0.41      \n",
      "Green beans                                          0.86        0.87      \n",
      "White fungus                                         0.91        0.87      \n",
      "Crucian                                              0.93        0.87      \n",
      "Vinegar                                              0.30        0.37      \n",
      "Pancakes                                             0.72        0.77      \n",
      "Crispbread                                           0.90        0.32      \n",
      "Mango chunks                                         0.86        0.49      \n",
      "Crab                                                 0.91        0.95      \n",
      "Soya-bean milk                                       0.00        0.00      \n",
      "Fermented soybean paste                              0.50        0.06      \n",
      "Oyster sauce                                         0.86        0.84      \n",
      "Spare ribs chunks                                    0.79        0.83      \n",
      "Green soy beans                                      0.96        0.92      \n",
      "Cherry                                               0.28        0.20      \n",
      "Shredded pig ears                                    0.00        0.00      \n"
     ]
    }
   ],
   "source": [
    "precision = dict()\n",
    "recall = dict()\n",
    "dash = '-' * 75\n",
    "print(\"Precision-Recall Statistics for each Ingredient\")\n",
    "print(dash)\n",
    "print('{:<50s}{:^10s}{:^15s}'.format(\"Ingredient\", \"Precision\", \"Recall\"))\n",
    "print(dash)\n",
    "for j in range(num_classes):\n",
    "    if (pr_stats[j][\"TP\"] + pr_stats[j][\"FP\"]) == 0:\n",
    "        precision[j] = 0\n",
    "    else:\n",
    "        precision[j] = pr_stats[j][\"TP\"] / (pr_stats[j][\"TP\"] + pr_stats[j][\"FP\"])\n",
    "        \n",
    "    if (pr_stats[j][\"TP\"] + pr_stats[j][\"FN\"]) == 0:\n",
    "        recall[j] = 0\n",
    "    else:\n",
    "        recall[j] = pr_stats[j][\"TP\"] / (pr_stats[j][\"TP\"] + pr_stats[j][\"FN\"])\n",
    "    print('{:<50s}{:^10.2f}{:^15.2f}'.format(IngreList[j], precision[j], recall[j]))  "
   ]
  },
  {
   "cell_type": "markdown",
   "metadata": {},
   "source": [
    "### Sklearn Classification Report"
   ]
  },
  {
   "cell_type": "code",
   "execution_count": 34,
   "metadata": {},
   "outputs": [
    {
     "name": "stdout",
     "output_type": "stream",
     "text": [
      "\n",
      "Accuracy: 0.33\n",
      "\n",
      "Micro Precision: 0.79\n",
      "Micro Recall: 0.66\n",
      "Micro F1-score: 0.72\n",
      "\n"
     ]
    },
    {
     "name": "stderr",
     "output_type": "stream",
     "text": [
      "/opt/conda/lib/python3.7/site-packages/sklearn/metrics/_classification.py:1245: UndefinedMetricWarning: Precision is ill-defined and being set to 0.0 in labels with no predicted samples. Use `zero_division` parameter to control this behavior.\n",
      "  _warn_prf(average, modifier, msg_start, len(result))\n"
     ]
    },
    {
     "name": "stdout",
     "output_type": "stream",
     "text": [
      "Macro Precision: 0.65\n",
      "Macro Recall: 0.50\n",
      "Macro F1-score: 0.54\n",
      "\n"
     ]
    },
    {
     "name": "stderr",
     "output_type": "stream",
     "text": [
      "/opt/conda/lib/python3.7/site-packages/sklearn/metrics/_classification.py:1245: UndefinedMetricWarning: Precision is ill-defined and being set to 0.0 in labels with no predicted samples. Use `zero_division` parameter to control this behavior.\n",
      "  _warn_prf(average, modifier, msg_start, len(result))\n"
     ]
    },
    {
     "name": "stdout",
     "output_type": "stream",
     "text": [
      "Weighted Precision: 0.79\n",
      "Weighted Recall: 0.66\n",
      "Weighted F1-score: 0.71\n",
      "\n",
      "Classification Report\n",
      "\n"
     ]
    },
    {
     "name": "stderr",
     "output_type": "stream",
     "text": [
      "/opt/conda/lib/python3.7/site-packages/sklearn/metrics/_classification.py:1245: UndefinedMetricWarning: Precision and F-score are ill-defined and being set to 0.0 in labels with no predicted samples. Use `zero_division` parameter to control this behavior.\n",
      "  _warn_prf(average, modifier, msg_start, len(result))\n"
     ]
    },
    {
     "name": "stdout",
     "output_type": "stream",
     "text": [
      "                                            precision    recall  f1-score   support\n",
      "\n",
      "                        Minced green onion       0.81      0.69      0.74      6698\n",
      "                 chiffonade of green onion       0.70      0.67      0.69       666\n",
      "                        Seared green onion       0.63      0.20      0.30       731\n",
      "                               White onion       0.76      0.83      0.79       144\n",
      "                        Brunoise diced ham       0.77      0.72      0.74       435\n",
      "                             Julienned ham       0.36      0.50      0.42        10\n",
      "                                       Ham       0.18      0.25      0.21        24\n",
      "                                Sliced ham       0.09      0.35      0.14        46\n",
      "                     Brunoise diced carrot       0.78      0.61      0.68       868\n",
      "                             Sliced carrot       0.56      0.51      0.53       365\n",
      "                           Batonnet carrot       0.40      0.10      0.16        41\n",
      "                          Julienned carrot       0.82      0.45      0.58       699\n",
      "                      Hob blocks of carrot       0.73      0.52      0.61       387\n",
      "                              Black sesame       0.58      0.66      0.61      1639\n",
      "                              White sesame       0.85      0.58      0.69        76\n",
      "                            Crushed pepper       0.83      0.53      0.64      4353\n",
      "                           Shredded pepper       0.62      0.63      0.62      1138\n",
      "                             Pepper slices       0.63      0.70      0.66      1570\n",
      "                             Seared pepper       0.36      0.10      0.15        41\n",
      "                                    Pepper       0.44      0.15      0.23        99\n",
      "                        Whole green pepper       0.82      0.84      0.83       218\n",
      "                  Chinese Parsleycoriander       0.81      0.73      0.77      3886\n",
      "                              Bean sprouts       0.82      0.46      0.59       187\n",
      "                                     Bacon       0.00      0.00      0.00         7\n",
      "                            Tomato sclices       0.81      0.69      0.74       493\n",
      "                      Cherry tomato slices       0.29      0.15      0.20        78\n",
      "                             Cherry tomato       0.68      0.39      0.50       213\n",
      "                          Green vegetables       0.56      0.48      0.52      1370\n",
      "            chiffonade of green vegetables       0.57      0.08      0.14        49\n",
      "                              Corn kernels       0.90      0.77      0.83       460\n",
      "                               Corn blocks       0.93      0.51      0.66       101\n",
      "                       Bitter gourd slices       0.85      0.85      0.85       267\n",
      "                                  Broccoli       0.76      0.58      0.66       315\n",
      "                               Cauliflower       0.94      0.86      0.90       255\n",
      "                                     Toast       0.50      0.11      0.18        18\n",
      "                                     Bread       0.00      0.00      0.00         9\n",
      "                          Chinese mahogany       0.00      0.00      0.00         6\n",
      "                               Crab sticks       0.33      0.06      0.10        17\n",
      "                        Bamboo shoots tips       0.18      0.17      0.17        18\n",
      "                              Chive pieces       0.92      0.59      0.71       222\n",
      "                            Chopped chives       0.58      0.67      0.62        48\n",
      "                                    Chives       0.97      0.85      0.90       201\n",
      "                            Shredded onion       0.46      0.18      0.26        88\n",
      "                              Onion slices       0.46      0.31      0.37       303\n",
      "                      Brunoise diced onion       0.50      0.12      0.19        17\n",
      "                            Pumpkin blocks       0.75      0.45      0.56        47\n",
      "                         Groundnut kernels       0.81      0.54      0.65       970\n",
      "                 Crushed groundnut kernels       1.00      0.03      0.06        64\n",
      "                                     Lemon       0.37      0.26      0.30        86\n",
      "                     Shelled fresh shrimps       0.84      0.63      0.72       361\n",
      "                          Dried sea shrimp       0.50      0.19      0.27        16\n",
      "                              Fresh Shrimp       0.76      0.77      0.77       635\n",
      "                                  Crayfish       0.99      0.96      0.97       221\n",
      "                        Julienned cucumber       0.85      0.45      0.59       325\n",
      "                         Batonnet cucumber       0.68      0.27      0.39        95\n",
      "                    Hob blocks of cucumber       0.90      0.75      0.82       269\n",
      "                           Cucumber slices       0.72      0.57      0.64       548\n",
      "                   Brunoise diced cucumber       0.77      0.67      0.71       466\n",
      "                 Crushed hot and dry chili       0.63      0.63      0.63      3241\n",
      "                        Hot and dry pepper       0.62      0.44      0.51      1103\n",
      "                 Hot and dry pepper powder       0.71      0.60      0.65       314\n",
      "              Chiffonade of purple cabbage       0.67      0.08      0.15        24\n",
      "                           Chinese cabbage       0.76      0.84      0.80       202\n",
      "                              Black fungus       0.82      0.74      0.78      1003\n",
      "                     Perilla crispa tanaka       0.00      0.00      0.00         5\n",
      "                             Ginger slices       0.35      0.12      0.18       154\n",
      "                          Julienned ginger       0.58      0.25      0.35       171\n",
      "                            Chopped ginger       0.32      0.28      0.30        39\n",
      "                             Scrambled egg       0.89      0.88      0.89      1684\n",
      "                                  Egg cake       0.70      0.68      0.69       125\n",
      "                         Crushed egg crepe       0.59      0.36      0.45        61\n",
      "                         Spiced corned egg       0.78      0.63      0.70       138\n",
      "                                  Egg yolk       0.50      0.60      0.55         5\n",
      "                       Steamed egg custard       0.82      0.77      0.79       249\n",
      "                          Boild egg slices       0.78      0.62      0.69       196\n",
      "                                Boild eggs       0.80      0.99      0.88       221\n",
      "                                  Egg drop       0.98      0.88      0.93       145\n",
      "                        Shredded egg crepe       0.00      0.00      0.00        25\n",
      "                                Quail eggs       0.00      0.00      0.00         9\n",
      "                               Minced pork       0.40      0.12      0.19        16\n",
      "                                 Wolfberry       0.74      0.76      0.75       305\n",
      "                               Minced pork       0.83      0.64      0.72      1415\n",
      "                             Shredded pork       0.93      0.60      0.73      1147\n",
      "                       Streaky pork slices       0.75      0.74      0.75      1669\n",
      "                               Pork slices       0.65      0.44      0.53       795\n",
      "                               Pork chunks       0.80      0.60      0.68       337\n",
      "                       Streaky pork chunks       0.43      0.41      0.42       132\n",
      "                         Cured meat chunks       0.39      0.47      0.42        36\n",
      "                             kale borecole       0.71      0.23      0.34        22\n",
      "                           Pork intestines       0.70      0.87      0.78       179\n",
      "                                   Lettuce       0.65      0.64      0.64       680\n",
      "                             Steamed bread       0.74      0.57      0.65        40\n",
      "                                 Red dates       0.76      0.86      0.81       317\n",
      "                                      Kiwi       0.00      0.00      0.00         5\n",
      "                              Garlic clove       0.56      0.32      0.40       554\n",
      "                            Crushed garlic       0.75      0.43      0.55      1936\n",
      "                               Garlic bulb       0.85      0.74      0.80        47\n",
      "                           Lentinus edodes       0.70      0.57      0.63       326\n",
      "                    Lentinus edodes slices       0.76      0.44      0.56       209\n",
      "            Brunoise diced lentinus edodes       0.24      0.18      0.21        33\n",
      "                       Pleurotus ostreatus       0.50      0.22      0.31         9\n",
      "                           Poplar Mushroom       0.86      0.77      0.81       197\n",
      "                            Dried mushroom       0.82      0.66      0.73       210\n",
      "                      White beech mushroom       0.00      0.00      0.00         3\n",
      "                               Yam chunks        0.94      0.75      0.83       120\n",
      "                                 White yam       0.94      0.95      0.94        93\n",
      "                                Yam slices       1.00      0.50      0.67         2\n",
      "                                Strawberry       0.00      0.00      0.00        17\n",
      "                              Sea cucumber       0.89      0.78      0.83       171\n",
      "                          Shanghai cabbage       0.90      0.67      0.77       342\n",
      "                                 Asparagus       1.00      0.15      0.27        13\n",
      "                      Bamboo shoots chunks       0.00      0.00      0.00         9\n",
      "                    Shredded bamboo shoots       0.77      0.33      0.46       138\n",
      "                                      Rice       0.95      0.83      0.89      1817\n",
      "                                Meat balls       0.85      0.79      0.82       135\n",
      "                                Beaf balls       0.00      0.00      0.00         4\n",
      "                              Shrimp balls       0.00      0.00      0.00         4\n",
      "                                Fish balls       0.48      0.26      0.33        43\n",
      "                             blueberry jam       0.95      0.95      0.95        93\n",
      "                             Orange slices       0.00      0.00      0.00        14\n",
      "                                     Mango       0.59      0.50      0.54        66\n",
      "                                   Noodles       0.89      0.85      0.87      1051\n",
      "                               Beef chunks       0.69      0.78      0.73      1130\n",
      "                               Beef slices       0.74      0.59      0.65       309\n",
      "                         Sliced Fatty Beef       0.87      0.83      0.85       174\n",
      "                               Tofu chunks       0.85      0.70      0.77      1113\n",
      "                            Chiba beancurd       0.00      0.00      0.00        16\n",
      "                            Fish bean curd       1.00      0.09      0.17        11\n",
      "                               Stinky tofu       0.74      0.68      0.71       241\n",
      "                  Shredded dried bean curd       0.88      0.48      0.62       156\n",
      "                      Hob blocks of potato       0.87      0.70      0.78      1009\n",
      "                             Potato slices       0.22      0.05      0.08        43\n",
      "                           Shredded potato       0.96      0.93      0.95       281\n",
      "                           Mashed potatoes       0.84      0.55      0.66       257\n",
      "                           Batonnet potato       1.00      0.07      0.12        46\n",
      "                                 Chili oil       0.83      0.64      0.72      2134\n",
      "                              Chili saurce       0.62      0.49      0.54       443\n",
      "                              Chili powder       0.33      0.03      0.06        33\n",
      "                      Garlic sprout pieces       0.90      0.72      0.80       343\n",
      "              Brunoise diced garlic sprout       0.00      0.00      0.00        23\n",
      "                             Garlic leaves       0.63      0.36      0.46       289\n",
      "                       Pickled red peppers       0.90      0.58      0.70       206\n",
      "       Pickled capsicum annum fasciculatum       0.84      0.68      0.75       218\n",
      "Minced pickled capsicum annum fasciculatum       0.72      0.31      0.43        85\n",
      "                             Shredded kelp       0.87      0.86      0.87       173\n",
      "                                      kelp       0.41      0.34      0.37        38\n",
      "                                  Bullfrog       0.87      0.63      0.73       419\n",
      "                                    Caviar       0.00      0.00      0.00         5\n",
      "                         Lotus root slices       0.83      0.72      0.77       217\n",
      "                         Lotus root chunks       0.93      0.89      0.91       193\n",
      "                            Lotus root box       0.76      0.88      0.82       106\n",
      "                           Celtuce sclices       0.83      0.64      0.72       143\n",
      "                          Batonnet celtuce       0.33      0.03      0.05        39\n",
      "                          Shredded celtuce       0.00      0.00      0.00         2\n",
      "                       Sweet potato chunks       0.71      0.21      0.32        24\n",
      "                            Sausage slices       0.93      0.87      0.90       163\n",
      "                                   Cabbage       0.82      0.75      0.79       330\n",
      "                     chiffonade of cabbage       0.95      0.23      0.38        90\n",
      "                                 Spareribs       0.91      0.64      0.75       848\n",
      "                                     Clams       0.91      0.84      0.87       176\n",
      "                            Lilium brownii       0.54      0.35      0.42        40\n",
      "                      Fermented vegetables       0.94      0.54      0.68       300\n",
      "                     Double-side fried egg       0.91      0.77      0.83       454\n",
      "              Sliced double-side fried egg       0.38      0.21      0.27        14\n",
      "                             Radish slices       0.67      0.06      0.12        31\n",
      "                          Batonnet radish        0.00      0.00      0.00         3\n",
      "                      Hob blocks of radish       0.47      0.54      0.50        13\n",
      "                          Julienned radish       0.00      0.00      0.00         2\n",
      "                     Mashed pickled radish       0.04      0.06      0.05        17\n",
      "                     Pickled radish slices       0.40      0.25      0.31         8\n",
      "                                 flatbread       0.48      0.53      0.50        57\n",
      "                              Spring rolls       0.99      0.55      0.70       172\n",
      "                            Chicken chunks       0.81      0.71      0.76       966\n",
      "                    Brunoise diced chicken       0.78      0.78      0.78       503\n",
      "                       Tentacles of Squid        0.91      0.61      0.73       243\n",
      "                              Squid pieces       0.50      0.08      0.14        25\n",
      "                               Squid rings       0.25      0.14      0.18        14\n",
      "                        White gourd chunks       0.87      0.85      0.86       205\n",
      "                 Dried pieces of bean curd       0.86      0.51      0.64       237\n",
      "                            Yellow peaches       0.40      0.76      0.53        25\n",
      "                                 Pineapple       0.96      0.83      0.89       230\n",
      "                                  Eggplant       0.97      0.72      0.83       194\n",
      "                            Eggplant slice       0.47      0.27      0.34        26\n",
      "                         Batonnet eggplant       0.62      0.26      0.37        19\n",
      "                    Hob blocks of eggplant       0.90      0.64      0.75       454\n",
      "                           Eggplant sticks       0.96      0.39      0.56       109\n",
      "                              Water mellon       0.00      0.00      0.00         2\n",
      "                                    Gluten       0.93      0.84      0.88       119\n",
      "                             Gluten chunks       0.50      0.35      0.41        74\n",
      "                                 Dumplings       0.94      0.76      0.84       233\n",
      "                         Fried bread stick       0.78      0.95      0.86       209\n",
      "                 Chopped fried bread stick       0.00      0.00      0.00         3\n",
      "                       Hot pickled mustard       0.59      0.47      0.52       138\n",
      "                             Sesame sauce        0.15      0.06      0.09        33\n",
      "                          Soya-bean sprout       0.58      0.18      0.28        38\n",
      "                       Shredded beef tripe       0.60      0.57      0.58       157\n",
      "                             Water spinach       0.90      0.67      0.77       253\n",
      "            Shredded pickled Bamboo Shoots       0.82      0.41      0.55        99\n",
      "                     barbecued pork slices       0.89      0.85      0.87       164\n",
      "                     barbecued pork chunks       0.00      0.00      0.00         4\n",
      "                              Chicken Feet       0.99      0.76      0.86       304\n",
      "                 Cold steamed rice noodles       0.99      0.64      0.78       185\n",
      "                             Mutton slices       0.61      0.54      0.58       250\n",
      "                             Mutton chunks       0.46      0.36      0.41       110\n",
      "       Crushed Small loaf of steamed bread       0.96      0.71      0.81       102\n",
      "               Small loaf of steamed bread       0.97      0.95      0.96       258\n",
      "                              Starch sheet       0.60      0.22      0.32        27\n",
      "                                      Yuba       0.79      0.76      0.77       211\n",
      "                               Okra slices       0.92      0.66      0.77       108\n",
      "                                  Chestnut       0.50      0.28      0.36        25\n",
      "                     Preserved egg chunks        0.93      0.79      0.86       397\n",
      "                     Crushed preserved egg       0.95      0.91      0.93       248\n",
      "                       Whole preserved egg       0.75      0.38      0.50        16\n",
      "                                     Laver       0.98      0.85      0.91       149\n",
      "                         Fried dough twist       0.00      0.00      0.00         5\n",
      "                                    Longan       0.50      0.08      0.14        12\n",
      "                               Stewed Pork       0.87      0.72      0.79       111\n",
      "                                     Beans       0.88      0.83      0.86       423\n",
      "                              Minced beans       0.00      0.00      0.00         4\n",
      "                      Minced pickled beans       0.94      0.60      0.73       218\n",
      "               Sweet fermented flour paste       0.45      0.67      0.54        57\n",
      "                               River snail       0.96      0.89      0.92       199\n",
      "                                   Spinach       0.55      0.62      0.58        80\n",
      "                                 Sea sedge       0.96      0.87      0.91       285\n",
      "                                   Bracken       0.90      0.18      0.30        51\n",
      "                          Coprinus comatus       1.00      0.25      0.40         4\n",
      "                               Lime leaves       0.39      0.38      0.38        32\n",
      "                                lemongrass       0.33      0.08      0.12        13\n",
      "                                      Lime       0.00      0.00      0.00         2\n",
      "                             Chicken Wings       0.75      0.62      0.67       461\n",
      "                                 Snow peas       0.90      0.83      0.87       169\n",
      "                         Pickled vegetable       0.26      0.48      0.34        31\n",
      "                                Salted egg       0.00      0.00      0.00         9\n",
      "                                     Curry       0.83      0.42      0.56       243\n",
      "                       Black pepper powder       0.00      0.00      0.00         6\n",
      "                               Fried flour       0.84      0.75      0.79       986\n",
      "                       Whole black chicken       0.71      0.14      0.23        36\n",
      "                      Black chicken chunks       0.85      0.82      0.84       199\n",
      "                       Celery stalk slices       0.90      0.73      0.80       187\n",
      "                              Celery stalk       0.33      0.25      0.29        20\n",
      "                             Celery leaves       0.14      0.16      0.15        19\n",
      "                                    Celery       0.77      0.38      0.51       370\n",
      "                     Brunoise diced celery       0.60      0.35      0.44        17\n",
      "                             Banana slices       0.67      0.50      0.57         4\n",
      "                              Apple chunks       1.00      1.00      1.00         1\n",
      "                                    Loofah       0.91      0.62      0.74       138\n",
      "                               Fish slices       0.97      0.66      0.78       574\n",
      "                               fish chunks       0.80      0.18      0.29        68\n",
      "                                      Fish       0.91      0.77      0.84       751\n",
      "                           zucchini slices       0.67      0.06      0.11        65\n",
      "                     Boiled chicken slices       0.86      0.83      0.85       525\n",
      "                      Whole boiled chicken       1.00      0.29      0.44         7\n",
      "                         Tenderloin slices       0.93      0.64      0.76       300\n",
      "                         Tenderloin chunks       0.41      0.25      0.31        60\n",
      "                       Batonnet tenderloin       0.67      0.74      0.70       354\n",
      "                              White congee       0.97      0.96      0.96       243\n",
      "                                 Spaghetti       0.84      0.89      0.86       184\n",
      "                                     Steak       0.81      0.81      0.81       283\n",
      "                              Cumin powder       0.20      0.13      0.16       102\n",
      "                               Beef tripes       0.00      0.00      0.00         4\n",
      "                                 Pine nuts       0.94      0.82      0.88       205\n",
      "                                   Gemelli       0.80      0.38      0.51        32\n",
      "                        Korean chili sauce       0.48      0.50      0.49        40\n",
      "                               kidney bean       0.00      0.00      0.00         7\n",
      "                        Zanthoxylum fagara       0.63      0.30      0.41       429\n",
      "                               Rice noodle       0.72      0.77      0.75       109\n",
      "                           Fried yuba skin       0.94      0.57      0.71       107\n",
      "                            Salad dressing       0.65      0.59      0.62       146\n",
      "                                 Soya bean       0.65      0.27      0.38        56\n",
      "                         Fern root noodles       0.98      0.76      0.86       156\n",
      "                                   ketchup       0.80      0.11      0.19        73\n",
      "                                 Mint leaf       0.56      0.32      0.41       147\n",
      "                                 Soy sauce       0.48      0.29      0.36        34\n",
      "                      Baby Chinese Cabbage       0.90      0.86      0.88       130\n",
      "                                     Water       0.89      0.87      0.88      2078\n",
      "                               Lotus seeds       0.80      0.56      0.66        73\n",
      "                               Azuki bean        0.50      0.33      0.40        12\n",
      "                             Green soybean       0.73      0.28      0.40        68\n",
      "                                   Parsley       0.86      0.61      0.71      1230\n",
      "                                 Duck neck       0.77      0.80      0.79       124\n",
      "                    Thick broad-bean sauce       0.00      0.00      0.00         2\n",
      "                            Enoki mushroom       0.33      0.22      0.27        99\n",
      "                             Crystal sugar       0.92      0.89      0.91       103\n",
      "                                    Cashew       0.61      0.29      0.39        77\n",
      "                               Steamed Bun       0.97      0.93      0.95       287\n",
      "                                Sour sauce       0.66      0.31      0.42        67\n",
      "                                  Pork leg       0.70      0.71      0.71       298\n",
      "                                   Bayleaf       0.00      0.00      0.00         7\n",
      "                                    shumai       0.95      0.84      0.89       256\n",
      "                                  Crap roe       0.83      0.80      0.82        56\n",
      "                               Shrimp eggs       0.29      0.40      0.33         5\n",
      "                           Button mushroom       0.72      0.48      0.58        54\n",
      "                             Coconut water       0.73      0.51      0.60        91\n",
      "                            Glutinous rice       0.92      0.73      0.82        94\n",
      "               Sweet potato starch noodles       0.83      0.66      0.73       427\n",
      "                                Vermicelli       0.91      0.83      0.87       685\n",
      "                      Fermented soya beans       0.38      0.35      0.37       115\n",
      "                             Rice dumpling       0.98      0.80      0.88       152\n",
      "                      Sweetened bean paste       0.07      0.25      0.11         4\n",
      "                           Sweet dumplings       1.00      0.88      0.94       148\n",
      "                          Rice noodle roll       0.99      0.88      0.93       137\n",
      "                                       Pea       0.65      0.71      0.68       350\n",
      "                                Pork floss       0.70      0.28      0.40        94\n",
      "                          Scallion pancake       0.62      0.86      0.72       187\n",
      "                                Black rice       0.75      0.16      0.26        19\n",
      "                         Small crispy rice       0.50      0.13      0.21        23\n",
      "                              Coconut cake       0.96      0.83      0.89        60\n",
      "                 Shredded coconut stuffing       0.30      0.33      0.32         9\n",
      "                                   Mussels       0.00      0.00      0.00         2\n",
      "                                Pork lungs       0.91      0.55      0.68       176\n",
      "                            Crispy sausage       0.00      0.00      0.00         9\n",
      "                       Codonopsis pilosula       0.57      0.12      0.20        33\n",
      "                           Radix Astragali       0.00      0.00      0.00         9\n",
      "                          American genseng       0.00      0.00      0.00         8\n",
      "                        Cordyceps sinensis       0.50      1.00      0.67         2\n",
      "                                   Aniseed       0.72      0.38      0.50        76\n",
      "                                    Raisin       0.00      0.00      0.00         8\n",
      "                              Suckling pig       0.92      0.86      0.89       114\n",
      "                      Steamed twisted roll       0.98      0.89      0.93       159\n",
      "                                     Grape       1.00      0.25      0.40         4\n",
      "                                Pork paste       0.81      0.96      0.88       140\n",
      "                                    Cheese       0.37      0.69      0.48        29\n",
      "                                    Wonton       0.96      0.91      0.93       168\n",
      "                                 Duck head       0.91      0.84      0.88       147\n",
      "                              Chinese Kale       0.92      0.77      0.84       286\n",
      "                              Chicken legs       0.63      0.55      0.59       228\n",
      "                             Whole chicken       0.85      0.68      0.75       157\n",
      "                          Shredded chicken       0.70      0.51      0.59       267\n",
      "                      Sweet and sour sauce       0.81      0.69      0.74       707\n",
      "                                 Fish head       0.90      0.87      0.88       305\n",
      "                       Steamed Rice Powder       0.75      0.94      0.84       238\n",
      "                                   Scallop       0.93      0.93      0.93       256\n",
      "                                  Macaroni       0.17      0.40      0.24         5\n",
      "                                Ribbonfish       0.95      0.33      0.49       262\n",
      "                                Tea-leaves       0.29      0.93      0.44        15\n",
      "                                    Millet       0.93      0.90      0.91       162\n",
      "                      Preserved vegetables       0.95      0.74      0.83       300\n",
      "                                  CoixSeed       0.82      0.41      0.55        34\n",
      "                               Green beans       0.86      0.87      0.87       224\n",
      "                              White fungus       0.91      0.87      0.89       175\n",
      "                                   Crucian       0.93      0.87      0.90       175\n",
      "                                   Vinegar       0.30      0.37      0.33        19\n",
      "                                  Pancakes       0.72      0.77      0.74        92\n",
      "                                Crispbread       0.90      0.32      0.47        28\n",
      "                              Mango chunks       0.86      0.49      0.63        97\n",
      "                                      Crab       0.91      0.95      0.93       219\n",
      "                            Soya-bean milk       0.00      0.00      0.00        13\n",
      "                   Fermented soybean paste       0.50      0.06      0.11        48\n",
      "                              Oyster sauce       0.86      0.84      0.85       191\n",
      "                         Spare ribs chunks       0.79      0.83      0.81       214\n",
      "                           Green soy beans       0.96      0.92      0.94       143\n",
      "                                    Cherry       0.28      0.20      0.23        25\n",
      "                         Shredded pig ears       0.00      0.00      0.00         2\n",
      "\n",
      "                                 micro avg       0.79      0.66      0.72     99692\n",
      "                                 macro avg       0.65      0.50      0.54     99692\n",
      "                              weighted avg       0.79      0.66      0.71     99692\n",
      "                               samples avg       0.76      0.68      0.70     99692\n",
      "\n"
     ]
    },
    {
     "name": "stderr",
     "output_type": "stream",
     "text": [
      "/opt/conda/lib/python3.7/site-packages/sklearn/metrics/_classification.py:1245: UndefinedMetricWarning: Precision and F-score are ill-defined and being set to 0.0 in samples with no predicted labels. Use `zero_division` parameter to control this behavior.\n",
      "  _warn_prf(average, modifier, msg_start, len(result))\n"
     ]
    }
   ],
   "source": [
    "# Evaluation: Compute several statistics such as accuracy, precision, F1-score, and produce a classification report\n",
    "    \n",
    "print('\\nAccuracy: {:.2f}\\n'.format(accuracy_score(y_test, y_pred)))\n",
    "\n",
    "print('Micro Precision: {:.2f}'.format(precision_score(y_test, y_pred, average='micro')))\n",
    "print('Micro Recall: {:.2f}'.format(recall_score(y_test, y_pred, average='micro')))\n",
    "print('Micro F1-score: {:.2f}\\n'.format(f1_score(y_test, y_pred, average='micro')))\n",
    "\n",
    "print('Macro Precision: {:.2f}'.format(precision_score(y_test, y_pred, average='macro')))\n",
    "print('Macro Recall: {:.2f}'.format(recall_score(y_test, y_pred, average='macro')))\n",
    "print('Macro F1-score: {:.2f}\\n'.format(f1_score(y_test, y_pred, average='macro')))\n",
    "\n",
    "print('Weighted Precision: {:.2f}'.format(precision_score(y_test, y_pred, average='weighted')))\n",
    "print('Weighted Recall: {:.2f}'.format(recall_score(y_test, y_pred, average='weighted')))\n",
    "print('Weighted F1-score: {:.2f}'.format(f1_score(y_test, y_pred, average='weighted')))\n",
    "\n",
    "from sklearn.metrics import classification_report\n",
    "print('\\nClassification Report\\n')\n",
    "print(classification_report(y_test, y_pred, target_names=IngreList))"
   ]
  },
  {
   "cell_type": "markdown",
   "metadata": {},
   "source": [
    "## Precision-Recall Curves (to investigate the effect of different thresholds)"
   ]
  },
  {
   "cell_type": "markdown",
   "metadata": {},
   "source": [
    "Note: this code was modified from https://scikit-learn.org/stable/auto_examples/model_selection/plot_precision_recall.html"
   ]
  },
  {
   "cell_type": "code",
   "execution_count": 35,
   "metadata": {},
   "outputs": [
    {
     "name": "stdout",
     "output_type": "stream",
     "text": [
      "Average precision score, micro-averaged over all classes: 0.76\n"
     ]
    }
   ],
   "source": [
    "from sklearn.metrics import precision_recall_curve\n",
    "from sklearn.metrics import average_precision_score\n",
    "\n",
    "# For each class\n",
    "precision = dict()\n",
    "recall = dict()\n",
    "average_precision = dict()\n",
    "n_classes = 353\n",
    "thresholds = dict()\n",
    "for i in range(n_classes):\n",
    "    precision[i], recall[i], thresholds[i] = precision_recall_curve(y_test[:, i],\n",
    "                                                        y_score[:, i])\n",
    "    average_precision[i] = average_precision_score(y_test[:, i], y_score[:, i])\n",
    "\n",
    "# A \"micro-average\": quantifying score on all classes jointly\n",
    "precision[\"micro\"], recall[\"micro\"], _ = precision_recall_curve(y_test.ravel(),\n",
    "    y_score.ravel())\n",
    "average_precision[\"micro\"] = average_precision_score(y_test, y_score,\n",
    "                                                     average=\"micro\")\n",
    "print('Average precision score, micro-averaged over all classes: {0:0.2f}'\n",
    "      .format(average_precision[\"micro\"]))"
   ]
  },
  {
   "cell_type": "code",
   "execution_count": 36,
   "metadata": {},
   "outputs": [
    {
     "data": {
      "text/plain": [
       "Text(0.5, 1.0, 'Average precision score, micro-averaged over all classes: AP=0.76')"
      ]
     },
     "execution_count": 36,
     "metadata": {},
     "output_type": "execute_result"
    },
    {
     "data": {
      "image/png": "[encoded data removed]",
      "text/plain": [
       "<Figure size 432x288 with 1 Axes>"
      ]
     },
     "metadata": {
      "needs_background": "light"
     },
     "output_type": "display_data"
    }
   ],
   "source": [
    "plt.figure()\n",
    "plt.step(recall['micro'], precision['micro'], where='post')\n",
    "\n",
    "plt.xlabel('Recall')\n",
    "plt.ylabel('Precision')\n",
    "plt.ylim([0.0, 1.05])\n",
    "plt.xlim([0.0, 1.0])\n",
    "plt.title(\n",
    "    'Average precision score, micro-averaged over all classes: AP={0:0.2f}'\n",
    "    .format(average_precision[\"micro\"]))"
   ]
  },
  {
   "cell_type": "code",
   "execution_count": 37,
   "metadata": {},
   "outputs": [
    {
     "data": {
      "image/png": "[encoded data removed]",
      "text/plain": [
       "<Figure size 720x792 with 1 Axes>"
      ]
     },
     "metadata": {
      "needs_background": "light"
     },
     "output_type": "display_data"
    }
   ],
   "source": [
    "from itertools import cycle\n",
    "# setup plot details\n",
    "num_classes = 5\n",
    "colors = cycle(['navy', 'turquoise', 'darkorange', 'cornflowerblue', 'teal'])\n",
    "\n",
    "plt.figure(figsize=(10, 11))\n",
    "f_scores = np.linspace(0.2, 0.8, num=4)\n",
    "lines = []\n",
    "labels = []\n",
    "for f_score in f_scores:\n",
    "    x = np.linspace(0.01, 1)\n",
    "    y = f_score * x / (2 * x - f_score)\n",
    "    l, = plt.plot(x[y >= 0], y[y >= 0], color='gray', alpha=0.2)\n",
    "    plt.annotate('f1={0:0.1f}'.format(f_score), xy=(0.9, y[45] + 0.02))\n",
    "\n",
    "lines.append(l)\n",
    "labels.append('iso-f1 curves')\n",
    "l, = plt.plot(recall[\"micro\"], precision[\"micro\"], color='gold', lw=2)\n",
    "lines.append(l)\n",
    "labels.append('micro-average Precision-recall (area = {0:0.2f})'\n",
    "              ''.format(average_precision[\"micro\"]))\n",
    "\n",
    "for i, color in zip(range(num_classes), colors):\n",
    "    l, = plt.plot(recall[i], precision[i], color=color, lw=2)\n",
    "    lines.append(l)\n",
    "    labels.append('Precision-recall for class: {0} (area = {1:0.2f})'\n",
    "                  ''.format(IngreList[i], average_precision[i]))\n",
    "\n",
    "fig = plt.gcf()\n",
    "fig.subplots_adjust(bottom=0.25)\n",
    "plt.xlim([0.0, 1.0])\n",
    "plt.ylim([0.0, 1.05])\n",
    "plt.xlabel('Recall')\n",
    "plt.ylabel('Precision')\n",
    "plt.title('Precision-Recall curves for Individual Ingredients')\n",
    "plt.legend(lines, labels, loc=(0, -.38), prop=dict(size=14))\n",
    "\n",
    "\n",
    "plt.show()"
   ]
  },
  {
   "cell_type": "markdown",
   "metadata": {},
   "source": [
    "## Investigate one of the ingredients with 0 Precision and Recall (e.g.: bacon)"
   ]
  },
  {
   "cell_type": "code",
   "execution_count": 39,
   "metadata": {},
   "outputs": [
    {
     "name": "stdout",
     "output_type": "stream",
     "text": [
      "Number of testing examples with bacon as an ingredient: 7\n",
      "Number of testing examples where the model predicted bacon as an ingredient: 4\n"
     ]
    }
   ],
   "source": [
    "bacon_index = 23\n",
    "bacon_pred, bacon_test = 0, 0\n",
    "for (y_test_i, y_pred_i) in zip(y_test, y_pred):\n",
    "    if y_test_i[bacon_index] == 1:\n",
    "        bacon_test += 1\n",
    "    if y_pred_i[bacon_index] == 1:\n",
    "        bacon_pred += 1\n",
    "print(\"Number of testing examples with bacon as an ingredient: {}\".format(bacon_test))\n",
    "print(\"Number of testing examples where the model predicted bacon as an ingredient: {}\".format(bacon_pred))"
   ]
  },
  {
   "cell_type": "code",
   "execution_count": null,
   "metadata": {},
   "outputs": [],
   "source": []
  }
 ],
 "metadata": {
  "kernelspec": {
   "display_name": "Python 3",
   "language": "python",
   "name": "python3"
  },
  "language_info": {
   "codemirror_mode": {
    "name": "ipython",
    "version": 3
   },
   "file_extension": ".py",
   "mimetype": "text/x-python",
   "name": "python",
   "nbconvert_exporter": "python",
   "pygments_lexer": "ipython3",
   "version": "3.7.10"
  }
 },
 "nbformat": 4,
 "nbformat_minor": 2
}
