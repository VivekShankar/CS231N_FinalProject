{
 "cells": [
  {
   "cell_type": "markdown",
   "metadata": {},
   "source": [
    "## Imports"
   ]
  },
  {
   "cell_type": "code",
   "execution_count": 1,
   "metadata": {},
   "outputs": [],
   "source": [
    "# Add parent directory to path for local imports\n",
    "import os,sys,inspect\n",
    "currentdir = os.path.dirname(os.path.abspath(inspect.getfile(inspect.currentframe())))\n",
    "parentdir = os.path.dirname(currentdir)\n",
    "sys.path.insert(0,parentdir) \n",
    "\n",
    "from PIL import Image\n",
    "import numpy as np\n",
    "import matplotlib.pyplot as plt\n",
    "import os\n",
    "from torch.autograd import Variable\n",
    "import torch\n",
    "import torch.nn as nn\n",
    "import torch.nn.functional as F\n",
    "import torch.optim as optim\n",
    "import torchvision\n",
    "import torchvision.datasets as dset\n",
    "import torchvision.models as models\n",
    "import torchvision.transforms as T\n",
    "import bcolz\n",
    "import time\n",
    "from torch.utils.data import Dataset, DataLoader, sampler\n",
    "from sklearn.metrics import *\n",
    "%matplotlib inline"
   ]
  },
  {
   "cell_type": "code",
   "execution_count": 2,
   "metadata": {},
   "outputs": [
    {
     "name": "stdout",
     "output_type": "stream",
     "text": [
      "Using gpu: True \n"
     ]
    }
   ],
   "source": [
    "use_gpu = torch.cuda.is_available()\n",
    "print('Using gpu: %s ' % use_gpu)\n",
    "\n",
    "def gpu(x,use_gpu=use_gpu):\n",
    "    if use_gpu:\n",
    "        return x.cuda()\n",
    "    else:\n",
    "        return x"
   ]
  },
  {
   "cell_type": "markdown",
   "metadata": {},
   "source": [
    "## Data processing"
   ]
  },
  {
   "cell_type": "code",
   "execution_count": 3,
   "metadata": {},
   "outputs": [],
   "source": [
    "transform = T.Compose([\n",
    "    T.CenterCrop(224),\n",
    "    T.ToTensor(),\n",
    "    T.Normalize(mean=[0.485, 0.456, 0.406], std=[0.229, 0.224, 0.225]),\n",
    "])\n",
    "\n",
    "class ImageFolderWithPaths(dset.ImageFolder):\n",
    "    \"\"\"Custom dataset that includes image file paths. Extends\n",
    "    torchvision.datasets.ImageFolder\n",
    "    \"\"\"\n",
    "    # override the __getitem__ method. this is the method dataloader calls\n",
    "    def __getitem__(self, index):\n",
    "        # this is what ImageFolder normally returns \n",
    "        original_tuple = super(ImageFolderWithPaths, self).__getitem__(index)\n",
    "        # the image file path\n",
    "        path = self.imgs[index][0]\n",
    "        # make a new tuple that includes original and the path\n",
    "        tuple_with_path = (original_tuple + (path,))\n",
    "        return tuple_with_path\n",
    "\n",
    "train_dataset = ImageFolderWithPaths('../Dataset/train', transform=transform)\n",
    "val_dataset = ImageFolderWithPaths('../Dataset/val', transform=transform)\n",
    "test_dataset = ImageFolderWithPaths('../Dataset/test', transform=transform)"
   ]
  },
  {
   "cell_type": "code",
   "execution_count": 4,
   "metadata": {},
   "outputs": [
    {
     "name": "stdout",
     "output_type": "stream",
     "text": [
      "Number of training examples 66071, validation examples 11016, testing examples 33154\n"
     ]
    }
   ],
   "source": [
    "train_size = len(train_dataset)\n",
    "val_size = len(val_dataset)\n",
    "test_size = len(test_dataset)\n",
    "print(\"Number of training examples {}, validation examples {}, testing examples {}\".format(train_size, val_size, test_size))"
   ]
  },
  {
   "cell_type": "code",
   "execution_count": 5,
   "metadata": {},
   "outputs": [
    {
     "name": "stderr",
     "output_type": "stream",
     "text": [
      "/opt/conda/lib/python3.7/site-packages/torch/utils/data/dataloader.py:477: UserWarning: This DataLoader will create 6 worker processes in total. Our suggested max number of worker in current system is 2, which is smaller than what this DataLoader is going to create. Please be aware that excessive worker creation might get DataLoader running slow or even freeze, lower the worker number to avoid potential slowness/freeze if necessary.\n",
      "  cpuset_checked))\n"
     ]
    }
   ],
   "source": [
    "train_dataloader = DataLoader(train_dataset, batch_size=64, shuffle=True, num_workers=6)\n",
    "val_dataloader = DataLoader(val_dataset, batch_size=64, shuffle=False, num_workers=6)\n",
    "test_dataloader = DataLoader(test_dataset, batch_size=64, shuffle=False, num_workers=6)"
   ]
  },
  {
   "cell_type": "code",
   "execution_count": 6,
   "metadata": {},
   "outputs": [],
   "source": [
    "IngreLabel = open('../VireoFood172/SplitAndIngreLabel/IngreLabel.txt', 'r').read().split('\\n')[:-1]  # list of str\n",
    "path_to_ingredients = dict()\n",
    "for i in range(len(IngreLabel)):\n",
    "    path_and_ingredients = IngreLabel[i].split()\n",
    "    path, ingredients = path_and_ingredients[0], [0 if int(label) == -1 else int(label) for label in path_and_ingredients[1:]]\n",
    "    path_to_ingredients[path] = np.array(ingredients)"
   ]
  },
  {
   "cell_type": "code",
   "execution_count": 7,
   "metadata": {},
   "outputs": [],
   "source": [
    "def get_ingredients(path):\n",
    "    split_path = path.split(\"/\")\n",
    "    key = '/' + '/'.join(split_path[3:])\n",
    "    ingredients = path_to_ingredients[key]\n",
    "    return ingredients"
   ]
  },
  {
   "cell_type": "code",
   "execution_count": 8,
   "metadata": {},
   "outputs": [
    {
     "name": "stdout",
     "output_type": "stream",
     "text": [
      "353\n"
     ]
    }
   ],
   "source": [
    "IngreList = open('../VireoFood172/SplitAndIngreLabel/IngredientList.txt', 'r').read().split('\\n')[:-1]  # list of str\n",
    "print(len(IngreList))"
   ]
  },
  {
   "cell_type": "markdown",
   "metadata": {},
   "source": [
    "## Creating ResNet model"
   ]
  },
  {
   "cell_type": "code",
   "execution_count": 11,
   "metadata": {},
   "outputs": [
    {
     "name": "stdout",
     "output_type": "stream",
     "text": [
      "MultiModal(\n",
      "  (resnet): ResNet(\n",
      "    (conv1): Conv2d(3, 64, kernel_size=(7, 7), stride=(2, 2), padding=(3, 3), bias=False)\n",
      "    (bn1): BatchNorm2d(64, eps=1e-05, momentum=0.1, affine=True, track_running_stats=True)\n",
      "    (relu): ReLU(inplace=True)\n",
      "    (maxpool): MaxPool2d(kernel_size=3, stride=2, padding=1, dilation=1, ceil_mode=False)\n",
      "    (layer1): Sequential(\n",
      "      (0): BasicBlock(\n",
      "        (conv1): Conv2d(64, 64, kernel_size=(3, 3), stride=(1, 1), padding=(1, 1), bias=False)\n",
      "        (bn1): BatchNorm2d(64, eps=1e-05, momentum=0.1, affine=True, track_running_stats=True)\n",
      "        (relu): ReLU(inplace=True)\n",
      "        (conv2): Conv2d(64, 64, kernel_size=(3, 3), stride=(1, 1), padding=(1, 1), bias=False)\n",
      "        (bn2): BatchNorm2d(64, eps=1e-05, momentum=0.1, affine=True, track_running_stats=True)\n",
      "      )\n",
      "      (1): BasicBlock(\n",
      "        (conv1): Conv2d(64, 64, kernel_size=(3, 3), stride=(1, 1), padding=(1, 1), bias=False)\n",
      "        (bn1): BatchNorm2d(64, eps=1e-05, momentum=0.1, affine=True, track_running_stats=True)\n",
      "        (relu): ReLU(inplace=True)\n",
      "        (conv2): Conv2d(64, 64, kernel_size=(3, 3), stride=(1, 1), padding=(1, 1), bias=False)\n",
      "        (bn2): BatchNorm2d(64, eps=1e-05, momentum=0.1, affine=True, track_running_stats=True)\n",
      "      )\n",
      "    )\n",
      "    (layer2): Sequential(\n",
      "      (0): BasicBlock(\n",
      "        (conv1): Conv2d(64, 128, kernel_size=(3, 3), stride=(2, 2), padding=(1, 1), bias=False)\n",
      "        (bn1): BatchNorm2d(128, eps=1e-05, momentum=0.1, affine=True, track_running_stats=True)\n",
      "        (relu): ReLU(inplace=True)\n",
      "        (conv2): Conv2d(128, 128, kernel_size=(3, 3), stride=(1, 1), padding=(1, 1), bias=False)\n",
      "        (bn2): BatchNorm2d(128, eps=1e-05, momentum=0.1, affine=True, track_running_stats=True)\n",
      "        (downsample): Sequential(\n",
      "          (0): Conv2d(64, 128, kernel_size=(1, 1), stride=(2, 2), bias=False)\n",
      "          (1): BatchNorm2d(128, eps=1e-05, momentum=0.1, affine=True, track_running_stats=True)\n",
      "        )\n",
      "      )\n",
      "      (1): BasicBlock(\n",
      "        (conv1): Conv2d(128, 128, kernel_size=(3, 3), stride=(1, 1), padding=(1, 1), bias=False)\n",
      "        (bn1): BatchNorm2d(128, eps=1e-05, momentum=0.1, affine=True, track_running_stats=True)\n",
      "        (relu): ReLU(inplace=True)\n",
      "        (conv2): Conv2d(128, 128, kernel_size=(3, 3), stride=(1, 1), padding=(1, 1), bias=False)\n",
      "        (bn2): BatchNorm2d(128, eps=1e-05, momentum=0.1, affine=True, track_running_stats=True)\n",
      "      )\n",
      "    )\n",
      "    (layer3): Sequential(\n",
      "      (0): BasicBlock(\n",
      "        (conv1): Conv2d(128, 256, kernel_size=(3, 3), stride=(2, 2), padding=(1, 1), bias=False)\n",
      "        (bn1): BatchNorm2d(256, eps=1e-05, momentum=0.1, affine=True, track_running_stats=True)\n",
      "        (relu): ReLU(inplace=True)\n",
      "        (conv2): Conv2d(256, 256, kernel_size=(3, 3), stride=(1, 1), padding=(1, 1), bias=False)\n",
      "        (bn2): BatchNorm2d(256, eps=1e-05, momentum=0.1, affine=True, track_running_stats=True)\n",
      "        (downsample): Sequential(\n",
      "          (0): Conv2d(128, 256, kernel_size=(1, 1), stride=(2, 2), bias=False)\n",
      "          (1): BatchNorm2d(256, eps=1e-05, momentum=0.1, affine=True, track_running_stats=True)\n",
      "        )\n",
      "      )\n",
      "      (1): BasicBlock(\n",
      "        (conv1): Conv2d(256, 256, kernel_size=(3, 3), stride=(1, 1), padding=(1, 1), bias=False)\n",
      "        (bn1): BatchNorm2d(256, eps=1e-05, momentum=0.1, affine=True, track_running_stats=True)\n",
      "        (relu): ReLU(inplace=True)\n",
      "        (conv2): Conv2d(256, 256, kernel_size=(3, 3), stride=(1, 1), padding=(1, 1), bias=False)\n",
      "        (bn2): BatchNorm2d(256, eps=1e-05, momentum=0.1, affine=True, track_running_stats=True)\n",
      "      )\n",
      "    )\n",
      "    (layer4): Sequential(\n",
      "      (0): BasicBlock(\n",
      "        (conv1): Conv2d(256, 512, kernel_size=(3, 3), stride=(2, 2), padding=(1, 1), bias=False)\n",
      "        (bn1): BatchNorm2d(512, eps=1e-05, momentum=0.1, affine=True, track_running_stats=True)\n",
      "        (relu): ReLU(inplace=True)\n",
      "        (conv2): Conv2d(512, 512, kernel_size=(3, 3), stride=(1, 1), padding=(1, 1), bias=False)\n",
      "        (bn2): BatchNorm2d(512, eps=1e-05, momentum=0.1, affine=True, track_running_stats=True)\n",
      "        (downsample): Sequential(\n",
      "          (0): Conv2d(256, 512, kernel_size=(1, 1), stride=(2, 2), bias=False)\n",
      "          (1): BatchNorm2d(512, eps=1e-05, momentum=0.1, affine=True, track_running_stats=True)\n",
      "        )\n",
      "      )\n",
      "      (1): BasicBlock(\n",
      "        (conv1): Conv2d(512, 512, kernel_size=(3, 3), stride=(1, 1), padding=(1, 1), bias=False)\n",
      "        (bn1): BatchNorm2d(512, eps=1e-05, momentum=0.1, affine=True, track_running_stats=True)\n",
      "        (relu): ReLU(inplace=True)\n",
      "        (conv2): Conv2d(512, 512, kernel_size=(3, 3), stride=(1, 1), padding=(1, 1), bias=False)\n",
      "        (bn2): BatchNorm2d(512, eps=1e-05, momentum=0.1, affine=True, track_running_stats=True)\n",
      "      )\n",
      "    )\n",
      "    (avgpool): AdaptiveAvgPool2d(output_size=(1, 1))\n",
      "    (fc): Linear(in_features=512, out_features=1000, bias=True)\n",
      "  )\n",
      "  (relu): ReLU()\n",
      "  (food): Linear(in_features=1000, out_features=172, bias=True)\n",
      "  (ingredients): Sequential(\n",
      "    (0): Linear(in_features=1000, out_features=353, bias=True)\n",
      "    (1): Sigmoid()\n",
      "  )\n",
      ")\n"
     ]
    }
   ],
   "source": [
    "# Use the pre-trained Res18 model on ImageNet\n",
    "res18 = models.resnet18(pretrained=True) # models.resnet50(pretrained=True)\n",
    "for param in res18.parameters():\n",
    "    param.requires_grad = False\n",
    "for param in res18.layer4.parameters(): # Update this from layer4 for resnet50\n",
    "    param.requires_grad = True\n",
    "res18.fc = nn.Linear(512, 1000)\n",
    "\n",
    "# Use the pre-trained Res18 model on VireoFood172\n",
    "# res18 = torch.load(\"../saved_models/food/res18/res18-unfreeze.dat\")\n",
    "# for param in res18.parameters():\n",
    "#     param.requires_grad = False\n",
    "# res18.fc = nn.Linear(512, 1000)\n",
    "\n",
    "class MultiModal(nn.Module):\n",
    "    def __init__(self, resnet):\n",
    "        super(MultiModal, self).__init__()\n",
    "        self.resnet = resnet\n",
    "        self.relu = nn.ReLU()\n",
    "        self.food = nn.Linear(1000, 172) # nn.Sequential(nn.Linear(1000, 4096), nn.ReLU(), nn.Dropout(), nn.Linear(4096, 172))\n",
    "        self.ingredients = nn.Sequential(nn.Linear(1000, 353), nn.Sigmoid()) # nn.Sequential(nn.Linear(1000, 1024), nn.ReLU(), nn.Dropout(), nn.Linear(1024, 353), nn.Sigmoid())\n",
    "\n",
    "    def forward(self, x):\n",
    "        a = self.resnet(x)\n",
    "        b = self.relu(a)\n",
    "        food_output = self.food(b)\n",
    "        ingredient_output = self.ingredients(b)\n",
    "        return (food_output, ingredient_output)\n",
    "\n",
    "model = MultiModal(res18)\n",
    "optimizer = optim.Adam(model.parameters())\n",
    "print(model)\n",
    "model = gpu(model)"
   ]
  },
  {
   "cell_type": "code",
   "execution_count": 104,
   "metadata": {},
   "outputs": [
    {
     "name": "stdout",
     "output_type": "stream",
     "text": [
      "ResNet(\n",
      "  (conv1): Conv2d(3, 64, kernel_size=(7, 7), stride=(2, 2), padding=(3, 3), bias=False)\n",
      "  (bn1): BatchNorm2d(64, eps=1e-05, momentum=0.1, affine=True, track_running_stats=True)\n",
      "  (relu): ReLU(inplace=True)\n",
      "  (maxpool): MaxPool2d(kernel_size=3, stride=2, padding=1, dilation=1, ceil_mode=False)\n",
      "  (layer1): Sequential(\n",
      "    (0): Bottleneck(\n",
      "      (conv1): Conv2d(64, 64, kernel_size=(1, 1), stride=(1, 1), bias=False)\n",
      "      (bn1): BatchNorm2d(64, eps=1e-05, momentum=0.1, affine=True, track_running_stats=True)\n",
      "      (conv2): Conv2d(64, 64, kernel_size=(3, 3), stride=(1, 1), padding=(1, 1), bias=False)\n",
      "      (bn2): BatchNorm2d(64, eps=1e-05, momentum=0.1, affine=True, track_running_stats=True)\n",
      "      (conv3): Conv2d(64, 256, kernel_size=(1, 1), stride=(1, 1), bias=False)\n",
      "      (bn3): BatchNorm2d(256, eps=1e-05, momentum=0.1, affine=True, track_running_stats=True)\n",
      "      (relu): ReLU(inplace=True)\n",
      "      (downsample): Sequential(\n",
      "        (0): Conv2d(64, 256, kernel_size=(1, 1), stride=(1, 1), bias=False)\n",
      "        (1): BatchNorm2d(256, eps=1e-05, momentum=0.1, affine=True, track_running_stats=True)\n",
      "      )\n",
      "    )\n",
      "    (1): Bottleneck(\n",
      "      (conv1): Conv2d(256, 64, kernel_size=(1, 1), stride=(1, 1), bias=False)\n",
      "      (bn1): BatchNorm2d(64, eps=1e-05, momentum=0.1, affine=True, track_running_stats=True)\n",
      "      (conv2): Conv2d(64, 64, kernel_size=(3, 3), stride=(1, 1), padding=(1, 1), bias=False)\n",
      "      (bn2): BatchNorm2d(64, eps=1e-05, momentum=0.1, affine=True, track_running_stats=True)\n",
      "      (conv3): Conv2d(64, 256, kernel_size=(1, 1), stride=(1, 1), bias=False)\n",
      "      (bn3): BatchNorm2d(256, eps=1e-05, momentum=0.1, affine=True, track_running_stats=True)\n",
      "      (relu): ReLU(inplace=True)\n",
      "    )\n",
      "    (2): Bottleneck(\n",
      "      (conv1): Conv2d(256, 64, kernel_size=(1, 1), stride=(1, 1), bias=False)\n",
      "      (bn1): BatchNorm2d(64, eps=1e-05, momentum=0.1, affine=True, track_running_stats=True)\n",
      "      (conv2): Conv2d(64, 64, kernel_size=(3, 3), stride=(1, 1), padding=(1, 1), bias=False)\n",
      "      (bn2): BatchNorm2d(64, eps=1e-05, momentum=0.1, affine=True, track_running_stats=True)\n",
      "      (conv3): Conv2d(64, 256, kernel_size=(1, 1), stride=(1, 1), bias=False)\n",
      "      (bn3): BatchNorm2d(256, eps=1e-05, momentum=0.1, affine=True, track_running_stats=True)\n",
      "      (relu): ReLU(inplace=True)\n",
      "    )\n",
      "  )\n",
      "  (layer2): Sequential(\n",
      "    (0): Bottleneck(\n",
      "      (conv1): Conv2d(256, 128, kernel_size=(1, 1), stride=(1, 1), bias=False)\n",
      "      (bn1): BatchNorm2d(128, eps=1e-05, momentum=0.1, affine=True, track_running_stats=True)\n",
      "      (conv2): Conv2d(128, 128, kernel_size=(3, 3), stride=(2, 2), padding=(1, 1), bias=False)\n",
      "      (bn2): BatchNorm2d(128, eps=1e-05, momentum=0.1, affine=True, track_running_stats=True)\n",
      "      (conv3): Conv2d(128, 512, kernel_size=(1, 1), stride=(1, 1), bias=False)\n",
      "      (bn3): BatchNorm2d(512, eps=1e-05, momentum=0.1, affine=True, track_running_stats=True)\n",
      "      (relu): ReLU(inplace=True)\n",
      "      (downsample): Sequential(\n",
      "        (0): Conv2d(256, 512, kernel_size=(1, 1), stride=(2, 2), bias=False)\n",
      "        (1): BatchNorm2d(512, eps=1e-05, momentum=0.1, affine=True, track_running_stats=True)\n",
      "      )\n",
      "    )\n",
      "    (1): Bottleneck(\n",
      "      (conv1): Conv2d(512, 128, kernel_size=(1, 1), stride=(1, 1), bias=False)\n",
      "      (bn1): BatchNorm2d(128, eps=1e-05, momentum=0.1, affine=True, track_running_stats=True)\n",
      "      (conv2): Conv2d(128, 128, kernel_size=(3, 3), stride=(1, 1), padding=(1, 1), bias=False)\n",
      "      (bn2): BatchNorm2d(128, eps=1e-05, momentum=0.1, affine=True, track_running_stats=True)\n",
      "      (conv3): Conv2d(128, 512, kernel_size=(1, 1), stride=(1, 1), bias=False)\n",
      "      (bn3): BatchNorm2d(512, eps=1e-05, momentum=0.1, affine=True, track_running_stats=True)\n",
      "      (relu): ReLU(inplace=True)\n",
      "    )\n",
      "    (2): Bottleneck(\n",
      "      (conv1): Conv2d(512, 128, kernel_size=(1, 1), stride=(1, 1), bias=False)\n",
      "      (bn1): BatchNorm2d(128, eps=1e-05, momentum=0.1, affine=True, track_running_stats=True)\n",
      "      (conv2): Conv2d(128, 128, kernel_size=(3, 3), stride=(1, 1), padding=(1, 1), bias=False)\n",
      "      (bn2): BatchNorm2d(128, eps=1e-05, momentum=0.1, affine=True, track_running_stats=True)\n",
      "      (conv3): Conv2d(128, 512, kernel_size=(1, 1), stride=(1, 1), bias=False)\n",
      "      (bn3): BatchNorm2d(512, eps=1e-05, momentum=0.1, affine=True, track_running_stats=True)\n",
      "      (relu): ReLU(inplace=True)\n",
      "    )\n",
      "    (3): Bottleneck(\n",
      "      (conv1): Conv2d(512, 128, kernel_size=(1, 1), stride=(1, 1), bias=False)\n",
      "      (bn1): BatchNorm2d(128, eps=1e-05, momentum=0.1, affine=True, track_running_stats=True)\n",
      "      (conv2): Conv2d(128, 128, kernel_size=(3, 3), stride=(1, 1), padding=(1, 1), bias=False)\n",
      "      (bn2): BatchNorm2d(128, eps=1e-05, momentum=0.1, affine=True, track_running_stats=True)\n",
      "      (conv3): Conv2d(128, 512, kernel_size=(1, 1), stride=(1, 1), bias=False)\n",
      "      (bn3): BatchNorm2d(512, eps=1e-05, momentum=0.1, affine=True, track_running_stats=True)\n",
      "      (relu): ReLU(inplace=True)\n",
      "    )\n",
      "  )\n",
      "  (layer3): Sequential(\n",
      "    (0): Bottleneck(\n",
      "      (conv1): Conv2d(512, 256, kernel_size=(1, 1), stride=(1, 1), bias=False)\n",
      "      (bn1): BatchNorm2d(256, eps=1e-05, momentum=0.1, affine=True, track_running_stats=True)\n",
      "      (conv2): Conv2d(256, 256, kernel_size=(3, 3), stride=(2, 2), padding=(1, 1), bias=False)\n",
      "      (bn2): BatchNorm2d(256, eps=1e-05, momentum=0.1, affine=True, track_running_stats=True)\n",
      "      (conv3): Conv2d(256, 1024, kernel_size=(1, 1), stride=(1, 1), bias=False)\n",
      "      (bn3): BatchNorm2d(1024, eps=1e-05, momentum=0.1, affine=True, track_running_stats=True)\n",
      "      (relu): ReLU(inplace=True)\n",
      "      (downsample): Sequential(\n",
      "        (0): Conv2d(512, 1024, kernel_size=(1, 1), stride=(2, 2), bias=False)\n",
      "        (1): BatchNorm2d(1024, eps=1e-05, momentum=0.1, affine=True, track_running_stats=True)\n",
      "      )\n",
      "    )\n",
      "    (1): Bottleneck(\n",
      "      (conv1): Conv2d(1024, 256, kernel_size=(1, 1), stride=(1, 1), bias=False)\n",
      "      (bn1): BatchNorm2d(256, eps=1e-05, momentum=0.1, affine=True, track_running_stats=True)\n",
      "      (conv2): Conv2d(256, 256, kernel_size=(3, 3), stride=(1, 1), padding=(1, 1), bias=False)\n",
      "      (bn2): BatchNorm2d(256, eps=1e-05, momentum=0.1, affine=True, track_running_stats=True)\n",
      "      (conv3): Conv2d(256, 1024, kernel_size=(1, 1), stride=(1, 1), bias=False)\n",
      "      (bn3): BatchNorm2d(1024, eps=1e-05, momentum=0.1, affine=True, track_running_stats=True)\n",
      "      (relu): ReLU(inplace=True)\n",
      "    )\n",
      "    (2): Bottleneck(\n",
      "      (conv1): Conv2d(1024, 256, kernel_size=(1, 1), stride=(1, 1), bias=False)\n",
      "      (bn1): BatchNorm2d(256, eps=1e-05, momentum=0.1, affine=True, track_running_stats=True)\n",
      "      (conv2): Conv2d(256, 256, kernel_size=(3, 3), stride=(1, 1), padding=(1, 1), bias=False)\n",
      "      (bn2): BatchNorm2d(256, eps=1e-05, momentum=0.1, affine=True, track_running_stats=True)\n",
      "      (conv3): Conv2d(256, 1024, kernel_size=(1, 1), stride=(1, 1), bias=False)\n",
      "      (bn3): BatchNorm2d(1024, eps=1e-05, momentum=0.1, affine=True, track_running_stats=True)\n",
      "      (relu): ReLU(inplace=True)\n",
      "    )\n",
      "    (3): Bottleneck(\n",
      "      (conv1): Conv2d(1024, 256, kernel_size=(1, 1), stride=(1, 1), bias=False)\n",
      "      (bn1): BatchNorm2d(256, eps=1e-05, momentum=0.1, affine=True, track_running_stats=True)\n",
      "      (conv2): Conv2d(256, 256, kernel_size=(3, 3), stride=(1, 1), padding=(1, 1), bias=False)\n",
      "      (bn2): BatchNorm2d(256, eps=1e-05, momentum=0.1, affine=True, track_running_stats=True)\n",
      "      (conv3): Conv2d(256, 1024, kernel_size=(1, 1), stride=(1, 1), bias=False)\n",
      "      (bn3): BatchNorm2d(1024, eps=1e-05, momentum=0.1, affine=True, track_running_stats=True)\n",
      "      (relu): ReLU(inplace=True)\n",
      "    )\n",
      "    (4): Bottleneck(\n",
      "      (conv1): Conv2d(1024, 256, kernel_size=(1, 1), stride=(1, 1), bias=False)\n",
      "      (bn1): BatchNorm2d(256, eps=1e-05, momentum=0.1, affine=True, track_running_stats=True)\n",
      "      (conv2): Conv2d(256, 256, kernel_size=(3, 3), stride=(1, 1), padding=(1, 1), bias=False)\n",
      "      (bn2): BatchNorm2d(256, eps=1e-05, momentum=0.1, affine=True, track_running_stats=True)\n",
      "      (conv3): Conv2d(256, 1024, kernel_size=(1, 1), stride=(1, 1), bias=False)\n",
      "      (bn3): BatchNorm2d(1024, eps=1e-05, momentum=0.1, affine=True, track_running_stats=True)\n",
      "      (relu): ReLU(inplace=True)\n",
      "    )\n",
      "    (5): Bottleneck(\n",
      "      (conv1): Conv2d(1024, 256, kernel_size=(1, 1), stride=(1, 1), bias=False)\n",
      "      (bn1): BatchNorm2d(256, eps=1e-05, momentum=0.1, affine=True, track_running_stats=True)\n",
      "      (conv2): Conv2d(256, 256, kernel_size=(3, 3), stride=(1, 1), padding=(1, 1), bias=False)\n",
      "      (bn2): BatchNorm2d(256, eps=1e-05, momentum=0.1, affine=True, track_running_stats=True)\n",
      "      (conv3): Conv2d(256, 1024, kernel_size=(1, 1), stride=(1, 1), bias=False)\n",
      "      (bn3): BatchNorm2d(1024, eps=1e-05, momentum=0.1, affine=True, track_running_stats=True)\n",
      "      (relu): ReLU(inplace=True)\n",
      "    )\n",
      "  )\n",
      "  (layer4): Sequential(\n",
      "    (0): Bottleneck(\n",
      "      (conv1): Conv2d(1024, 512, kernel_size=(1, 1), stride=(1, 1), bias=False)\n",
      "      (bn1): BatchNorm2d(512, eps=1e-05, momentum=0.1, affine=True, track_running_stats=True)\n",
      "      (conv2): Conv2d(512, 512, kernel_size=(3, 3), stride=(2, 2), padding=(1, 1), bias=False)\n",
      "      (bn2): BatchNorm2d(512, eps=1e-05, momentum=0.1, affine=True, track_running_stats=True)\n",
      "      (conv3): Conv2d(512, 2048, kernel_size=(1, 1), stride=(1, 1), bias=False)\n",
      "      (bn3): BatchNorm2d(2048, eps=1e-05, momentum=0.1, affine=True, track_running_stats=True)\n",
      "      (relu): ReLU(inplace=True)\n",
      "      (downsample): Sequential(\n",
      "        (0): Conv2d(1024, 2048, kernel_size=(1, 1), stride=(2, 2), bias=False)\n",
      "        (1): BatchNorm2d(2048, eps=1e-05, momentum=0.1, affine=True, track_running_stats=True)\n",
      "      )\n",
      "    )\n",
      "    (1): Bottleneck(\n",
      "      (conv1): Conv2d(2048, 512, kernel_size=(1, 1), stride=(1, 1), bias=False)\n",
      "      (bn1): BatchNorm2d(512, eps=1e-05, momentum=0.1, affine=True, track_running_stats=True)\n",
      "      (conv2): Conv2d(512, 512, kernel_size=(3, 3), stride=(1, 1), padding=(1, 1), bias=False)\n",
      "      (bn2): BatchNorm2d(512, eps=1e-05, momentum=0.1, affine=True, track_running_stats=True)\n",
      "      (conv3): Conv2d(512, 2048, kernel_size=(1, 1), stride=(1, 1), bias=False)\n",
      "      (bn3): BatchNorm2d(2048, eps=1e-05, momentum=0.1, affine=True, track_running_stats=True)\n",
      "      (relu): ReLU(inplace=True)\n",
      "    )\n",
      "    (2): Bottleneck(\n",
      "      (conv1): Conv2d(2048, 512, kernel_size=(1, 1), stride=(1, 1), bias=False)\n",
      "      (bn1): BatchNorm2d(512, eps=1e-05, momentum=0.1, affine=True, track_running_stats=True)\n",
      "      (conv2): Conv2d(512, 512, kernel_size=(3, 3), stride=(1, 1), padding=(1, 1), bias=False)\n",
      "      (bn2): BatchNorm2d(512, eps=1e-05, momentum=0.1, affine=True, track_running_stats=True)\n",
      "      (conv3): Conv2d(512, 2048, kernel_size=(1, 1), stride=(1, 1), bias=False)\n",
      "      (bn3): BatchNorm2d(2048, eps=1e-05, momentum=0.1, affine=True, track_running_stats=True)\n",
      "      (relu): ReLU(inplace=True)\n",
      "    )\n",
      "  )\n",
      "  (avgpool): AdaptiveAvgPool2d(output_size=(1, 1))\n",
      "  (fc): Linear(in_features=2048, out_features=1000, bias=True)\n",
      ")\n",
      "MultiModal(\n",
      "  (resnet): ResNet(\n",
      "    (conv1): Conv2d(3, 64, kernel_size=(7, 7), stride=(2, 2), padding=(3, 3), bias=False)\n",
      "    (bn1): BatchNorm2d(64, eps=1e-05, momentum=0.1, affine=True, track_running_stats=True)\n",
      "    (relu): ReLU(inplace=True)\n",
      "    (maxpool): MaxPool2d(kernel_size=3, stride=2, padding=1, dilation=1, ceil_mode=False)\n",
      "    (layer1): Sequential(\n",
      "      (0): BasicBlock(\n",
      "        (conv1): Conv2d(64, 64, kernel_size=(3, 3), stride=(1, 1), padding=(1, 1), bias=False)\n",
      "        (bn1): BatchNorm2d(64, eps=1e-05, momentum=0.1, affine=True, track_running_stats=True)\n",
      "        (relu): ReLU(inplace=True)\n",
      "        (conv2): Conv2d(64, 64, kernel_size=(3, 3), stride=(1, 1), padding=(1, 1), bias=False)\n",
      "        (bn2): BatchNorm2d(64, eps=1e-05, momentum=0.1, affine=True, track_running_stats=True)\n",
      "      )\n",
      "      (1): BasicBlock(\n",
      "        (conv1): Conv2d(64, 64, kernel_size=(3, 3), stride=(1, 1), padding=(1, 1), bias=False)\n",
      "        (bn1): BatchNorm2d(64, eps=1e-05, momentum=0.1, affine=True, track_running_stats=True)\n",
      "        (relu): ReLU(inplace=True)\n",
      "        (conv2): Conv2d(64, 64, kernel_size=(3, 3), stride=(1, 1), padding=(1, 1), bias=False)\n",
      "        (bn2): BatchNorm2d(64, eps=1e-05, momentum=0.1, affine=True, track_running_stats=True)\n",
      "      )\n",
      "    )\n",
      "    (layer2): Sequential(\n",
      "      (0): BasicBlock(\n",
      "        (conv1): Conv2d(64, 128, kernel_size=(3, 3), stride=(2, 2), padding=(1, 1), bias=False)\n",
      "        (bn1): BatchNorm2d(128, eps=1e-05, momentum=0.1, affine=True, track_running_stats=True)\n",
      "        (relu): ReLU(inplace=True)\n",
      "        (conv2): Conv2d(128, 128, kernel_size=(3, 3), stride=(1, 1), padding=(1, 1), bias=False)\n",
      "        (bn2): BatchNorm2d(128, eps=1e-05, momentum=0.1, affine=True, track_running_stats=True)\n",
      "        (downsample): Sequential(\n",
      "          (0): Conv2d(64, 128, kernel_size=(1, 1), stride=(2, 2), bias=False)\n",
      "          (1): BatchNorm2d(128, eps=1e-05, momentum=0.1, affine=True, track_running_stats=True)\n",
      "        )\n",
      "      )\n",
      "      (1): BasicBlock(\n",
      "        (conv1): Conv2d(128, 128, kernel_size=(3, 3), stride=(1, 1), padding=(1, 1), bias=False)\n",
      "        (bn1): BatchNorm2d(128, eps=1e-05, momentum=0.1, affine=True, track_running_stats=True)\n",
      "        (relu): ReLU(inplace=True)\n",
      "        (conv2): Conv2d(128, 128, kernel_size=(3, 3), stride=(1, 1), padding=(1, 1), bias=False)\n",
      "        (bn2): BatchNorm2d(128, eps=1e-05, momentum=0.1, affine=True, track_running_stats=True)\n",
      "      )\n",
      "    )\n",
      "    (layer3): Sequential(\n",
      "      (0): BasicBlock(\n",
      "        (conv1): Conv2d(128, 256, kernel_size=(3, 3), stride=(2, 2), padding=(1, 1), bias=False)\n",
      "        (bn1): BatchNorm2d(256, eps=1e-05, momentum=0.1, affine=True, track_running_stats=True)\n",
      "        (relu): ReLU(inplace=True)\n",
      "        (conv2): Conv2d(256, 256, kernel_size=(3, 3), stride=(1, 1), padding=(1, 1), bias=False)\n",
      "        (bn2): BatchNorm2d(256, eps=1e-05, momentum=0.1, affine=True, track_running_stats=True)\n",
      "        (downsample): Sequential(\n",
      "          (0): Conv2d(128, 256, kernel_size=(1, 1), stride=(2, 2), bias=False)\n",
      "          (1): BatchNorm2d(256, eps=1e-05, momentum=0.1, affine=True, track_running_stats=True)\n",
      "        )\n",
      "      )\n",
      "      (1): BasicBlock(\n",
      "        (conv1): Conv2d(256, 256, kernel_size=(3, 3), stride=(1, 1), padding=(1, 1), bias=False)\n",
      "        (bn1): BatchNorm2d(256, eps=1e-05, momentum=0.1, affine=True, track_running_stats=True)\n",
      "        (relu): ReLU(inplace=True)\n",
      "        (conv2): Conv2d(256, 256, kernel_size=(3, 3), stride=(1, 1), padding=(1, 1), bias=False)\n",
      "        (bn2): BatchNorm2d(256, eps=1e-05, momentum=0.1, affine=True, track_running_stats=True)\n",
      "      )\n",
      "    )\n",
      "    (layer4): Sequential(\n",
      "      (0): BasicBlock(\n",
      "        (conv1): Conv2d(256, 512, kernel_size=(3, 3), stride=(2, 2), padding=(1, 1), bias=False)\n",
      "        (bn1): BatchNorm2d(512, eps=1e-05, momentum=0.1, affine=True, track_running_stats=True)\n",
      "        (relu): ReLU(inplace=True)\n",
      "        (conv2): Conv2d(512, 512, kernel_size=(3, 3), stride=(1, 1), padding=(1, 1), bias=False)\n",
      "        (bn2): BatchNorm2d(512, eps=1e-05, momentum=0.1, affine=True, track_running_stats=True)\n",
      "        (downsample): Sequential(\n",
      "          (0): Conv2d(256, 512, kernel_size=(1, 1), stride=(2, 2), bias=False)\n",
      "          (1): BatchNorm2d(512, eps=1e-05, momentum=0.1, affine=True, track_running_stats=True)\n",
      "        )\n",
      "      )\n",
      "      (1): BasicBlock(\n",
      "        (conv1): Conv2d(512, 512, kernel_size=(3, 3), stride=(1, 1), padding=(1, 1), bias=False)\n",
      "        (bn1): BatchNorm2d(512, eps=1e-05, momentum=0.1, affine=True, track_running_stats=True)\n",
      "        (relu): ReLU(inplace=True)\n",
      "        (conv2): Conv2d(512, 512, kernel_size=(3, 3), stride=(1, 1), padding=(1, 1), bias=False)\n",
      "        (bn2): BatchNorm2d(512, eps=1e-05, momentum=0.1, affine=True, track_running_stats=True)\n",
      "      )\n",
      "    )\n",
      "    (avgpool): AdaptiveAvgPool2d(output_size=(1, 1))\n",
      "    (fc): Linear(in_features=512, out_features=1000, bias=True)\n",
      "  )\n",
      "  (relu): ReLU()\n",
      "  (food): Sequential(\n",
      "    (0): Linear(in_features=1000, out_features=4096, bias=True)\n",
      "    (1): ReLU()\n",
      "    (2): Dropout(p=0.5, inplace=False)\n",
      "    (3): Linear(in_features=4096, out_features=172, bias=True)\n",
      "  )\n",
      "  (ingredients): Sequential(\n",
      "    (0): Linear(in_features=1000, out_features=1024, bias=True)\n",
      "    (1): ReLU()\n",
      "    (2): Dropout(p=0.5, inplace=False)\n",
      "    (3): Linear(in_features=1024, out_features=353, bias=True)\n",
      "    (4): Sigmoid()\n",
      "  )\n",
      ")\n"
     ]
    }
   ],
   "source": [
    "# Use the pre-trained Res50 model on ImageNet\n",
    "res50 = models.resnet50(pretrained=True)\n",
    "for param in res50.parameters():\n",
    "    param.requires_grad = False\n",
    "print(res50)\n",
    "\n",
    "for param in res50.layer4.parameters():\n",
    "    param.requires_grad = True\n",
    "\n",
    "class MultiModal(nn.Module):\n",
    "    def __init__(self, resnet):\n",
    "        super(MultiModal, self).__init__()\n",
    "        self.resnet = resnet\n",
    "        self.relu = nn.ReLU()\n",
    "        self.food = nn.Sequential(nn.Linear(1000, 4096), nn.ReLU(), nn.Dropout(), nn.Linear(4096, 172))\n",
    "        self.ingredients = nn.Sequential(nn.Linear(1000, 1024), nn.ReLU(), nn.Dropout(), nn.Linear(1024, 353), nn.Sigmoid())\n",
    "\n",
    "    def forward(self, x):\n",
    "        a = self.resnet(x)\n",
    "        b = self.relu(a)\n",
    "        food_output = self.food(b)\n",
    "        ingredient_output = self.ingredients(b)\n",
    "        return (food_output, ingredient_output)\n",
    "\n",
    "model = MultiModal(res50)\n",
    "optimizer = optim.Adam(model.parameters())\n",
    "print(model)\n",
    "model = gpu(model)"
   ]
  },
  {
   "cell_type": "markdown",
   "metadata": {},
   "source": [
    "## Training fully connected module"
   ]
  },
  {
   "cell_type": "code",
   "execution_count": 105,
   "metadata": {},
   "outputs": [],
   "source": [
    "ingredient_criterion = nn.BCELoss()"
   ]
  },
  {
   "cell_type": "markdown",
   "metadata": {},
   "source": [
    "### Training the model"
   ]
  },
  {
   "cell_type": "code",
   "execution_count": 106,
   "metadata": {},
   "outputs": [],
   "source": [
    "# Use threshold to define predicted labels and invoke sklearn's metrics with different averaging strategies.\n",
    "def calculate_metrics(pred, target, threshold=0.5):\n",
    "    pred = np.array(pred > threshold, dtype=float)\n",
    "    return {'micro/precision': precision_score(y_true=target, y_pred=pred, average='micro'),\n",
    "            'micro/recall': recall_score(y_true=target, y_pred=pred, average='micro'),\n",
    "            'micro/f1': f1_score(y_true=target, y_pred=pred, average='micro'),\n",
    "            'macro/precision': precision_score(y_true=target, y_pred=pred, average='macro'),\n",
    "            'macro/recall': recall_score(y_true=target, y_pred=pred, average='macro'),\n",
    "            'macro/f1': f1_score(y_true=target, y_pred=pred, average='macro'),\n",
    "            'samples/precision': precision_score(y_true=target, y_pred=pred, average='samples'),\n",
    "            'samples/recall': recall_score(y_true=target, y_pred=pred, average='samples'),\n",
    "            'samples/f1': f1_score(y_true=target, y_pred=pred, average='samples'),\n",
    "            }"
   ]
  },
  {
   "cell_type": "code",
   "execution_count": 107,
   "metadata": {},
   "outputs": [],
   "source": [
    "def build_results(loss_history, food_accuracy_history, ingre_accuracy_history, \n",
    "                  micro_f1_history, macro_f1_history, samples_f1_history):\n",
    "    results = dict()\n",
    "    results['loss_history'] = loss_history\n",
    "    results['food_accuracy_history'] = food_accuracy_history\n",
    "    results['ingre_accuracy_history'] = ingre_accuracy_history\n",
    "    results['micro_f1_history'] = micro_f1_history\n",
    "    results['macro_f1_history'] = macro_f1_history\n",
    "    results['samples_f1_history'] = samples_f1_history\n",
    "    return results"
   ]
  },
  {
   "cell_type": "code",
   "execution_count": 108,
   "metadata": {},
   "outputs": [],
   "source": [
    "def train_model(model, optimizer, epochs=1):\n",
    "    train_loss_history, food_train_acc_history, ingre_train_acc_history = [], [], []\n",
    "    train_micro_f1_history, train_macro_f1_history, train_samples_f1_history = [], [], []\n",
    "    val_loss_history, food_val_acc_history, ingre_val_acc_history = [], [], []\n",
    "    val_micro_f1_history, val_macro_f1_history, val_samples_f1_history = [], [], []\n",
    "    for epoch in range(epochs):\n",
    "        model.train()\n",
    "        batches = train_dataloader\n",
    "        food_num_correct, ingre_num_correct, num_samples, total_loss = 0, 0, 0, 0\n",
    "        i = 0\n",
    "        model_result = []\n",
    "        targets = []\n",
    "        for x, food_labels, paths in batches:\n",
    "            if i % 100 == 0:\n",
    "                print(\"Iteration: {}\".format(i))\n",
    "            x, food_labels = gpu(x), gpu(food_labels)\n",
    "            ingre_labels = np.array([get_ingredients(path) for path in paths])\n",
    "            x, ingre_labels = gpu(x), gpu(torch.from_numpy(ingre_labels)).to(torch.float32)\n",
    "            (food_scores, ingre_scores) = model(x)\n",
    "            _, food_preds = torch.max(food_scores.data, 1)\n",
    "            \n",
    "            loss_food = F.cross_entropy(food_scores, food_labels)\n",
    "            loss_ingre = criterion(ingre_scores, ingre_labels)   \n",
    "            loss = loss_food + loss_ingre\n",
    "            loss = loss\n",
    "            \n",
    "            optimizer.zero_grad()\n",
    "            loss.backward()\n",
    "            optimizer.step()\n",
    "            \n",
    "            total_loss += loss.data.item()\n",
    "            food_num_correct += torch.sum(food_preds == food_labels.data)\n",
    "            ingre_num_correct += get_ingre_num_correct(ingre_scores, ingre_labels)\n",
    "            num_samples += x.size(0)\n",
    "            i += 1\n",
    "            \n",
    "            model_result.extend(ingre_scores.detach().cpu().numpy())\n",
    "            targets.extend(ingre_labels.detach().cpu().numpy())\n",
    "        result = calculate_metrics(np.array(model_result), np.array(targets))\n",
    "        micro_f1, macro_f1, samples_f1 = result['micro/f1'], result['macro/f1'], result['samples/f1']\n",
    "        print(\"Epoch:{:2d} Training: \"\n",
    "              \"Micro F1: {:.3f} \"\n",
    "              \"Macro F1: {:.3f} \"\n",
    "              \"Samples F1: {:.3f}\".format(epoch + 1, micro_f1, macro_f1, samples_f1))\n",
    "        average_loss = total_loss / num_samples\n",
    "        \n",
    "        food_acc = food_num_correct / num_samples\n",
    "        ingre_acc = ingre_num_correct / num_samples\n",
    "        \n",
    "        train_loss_history.append(average_loss)\n",
    "        food_train_acc_history.append(food_acc)\n",
    "        ingre_train_acc_history.append(ingre_acc)\n",
    "        train_micro_f1_history.append(micro_f1)\n",
    "        train_macro_f1_history.append(macro_f1)\n",
    "        train_samples_f1_history.append(samples_f1)\n",
    "        print('Epoch: {} Training Loss: {:.8f} Got {} / {} correct. Food Acc: {:.2f}%'.format(\n",
    "                     epoch + 1, average_loss, food_num_correct, num_samples, 100 * food_acc))\n",
    "        print('Epoch: {} Training Loss: {:.8f} Got {} / {} correct. Ingredient Acc: {:.2f}%'.format(\n",
    "                     epoch + 1, average_loss, ingre_num_correct, num_samples, 100 * ingre_acc))\n",
    "        \n",
    "        check_accuracy(model, val_loss_history, food_val_acc_history, ingre_val_acc_history,\n",
    "                       val_micro_f1_history, val_macro_f1_history, val_samples_f1_history,\n",
    "                       epoch)\n",
    "    train_results = build_results(train_loss_history, food_train_acc_history, ingre_train_acc_history,\n",
    "                                  train_micro_f1_history, train_macro_f1_history, train_samples_f1_history)\n",
    "    val_results = build_results(val_loss_history, food_val_acc_history, ingre_val_acc_history,\n",
    "                                val_micro_f1_history, val_macro_f1_history, val_samples_f1_history)\n",
    "    results = dict()\n",
    "    results['train'] = train_results\n",
    "    results['val'] = val_results\n",
    "    return results\n",
    "\n",
    "def check_accuracy(model, val_loss_history, food_val_acc_history, ingre_val_acc_history,\n",
    "                   val_micro_f1_history, val_macro_f1_history, val_samples_f1_history,\n",
    "                   epoch):\n",
    "    food_num_correct, ingre_num_correct, num_samples, total_loss = 0, 0, 0, 0\n",
    "    model.eval()\n",
    "    batches = val_dataloader\n",
    "    with torch.no_grad():\n",
    "        model_result = []\n",
    "        targets = []\n",
    "        for x, food_labels, paths in batches:\n",
    "            x, food_labels = gpu(x), gpu(food_labels)\n",
    "            ingre_labels = np.array([get_ingredients(path) for path in paths])\n",
    "            ingre_labels = gpu(torch.from_numpy(ingre_labels)).to(torch.float32)\n",
    "            (food_scores, ingre_scores) = model(x)\n",
    "            _, food_preds = torch.max(food_scores.data, 1)\n",
    "            \n",
    "            loss_food = F.cross_entropy(food_scores, food_labels)\n",
    "            loss_ingre = criterion(ingre_scores, ingre_labels)   \n",
    "            loss = loss_food + loss_ingre\n",
    "            \n",
    "            total_loss += loss.data.item()\n",
    "            food_num_correct += torch.sum(food_preds == food_labels.data)\n",
    "            ingre_num_correct += get_ingre_num_correct(ingre_scores, ingre_labels)\n",
    "            num_samples += x.size(0)\n",
    "            \n",
    "            model_result.extend(ingre_scores.detach().cpu().numpy())\n",
    "            targets.extend(ingre_labels.detach().cpu().numpy())\n",
    "        result = calculate_metrics(np.array(model_result), np.array(targets))\n",
    "        micro_f1, macro_f1, samples_f1 = result['micro/f1'], result['macro/f1'], result['samples/f1']\n",
    "        print(\"Epoch:{:2d} Validation: \"\n",
    "              \"Micro F1: {:.3f} \"\n",
    "              \"Macro F1: {:.3f} \"\n",
    "              \"Samples F1: {:.3f}\".format(epoch + 1,\n",
    "                                          micro_f1,\n",
    "                                          macro_f1,\n",
    "                                          samples_f1))\n",
    "        average_loss = total_loss / num_samples\n",
    "        \n",
    "        food_acc = food_num_correct / num_samples\n",
    "        ingre_acc = ingre_num_correct / num_samples\n",
    "        \n",
    "    val_loss_history.append(average_loss)\n",
    "    food_val_acc_history.append(food_acc)\n",
    "    ingre_val_acc_history.append(ingre_acc)\n",
    "    val_micro_f1_history.append(micro_f1)\n",
    "    val_macro_f1_history.append(macro_f1)\n",
    "    val_samples_f1_history.append(samples_f1)\n",
    "    print('Epoch: {} Validation Loss: {:.8f} Got {} / {} correct. Food Acc: {:.2f}%'.format(\n",
    "        epoch + 1, average_loss, food_num_correct, num_samples, 100 * food_acc))\n",
    "    print('Epoch: {} Validation Loss: {:.8f} Got {} / {} correct. Ingredient Acc: {:.2f}%'.format(\n",
    "        epoch + 1, average_loss, ingre_num_correct, num_samples, 100 * ingre_acc))\n",
    "\n",
    "def get_ingre_num_correct(ingre_scores, ingre_labels):\n",
    "    ingre_scores[ingre_scores >= 0.5] = 1\n",
    "    ingre_scores[ingre_scores < 0.5] = 0\n",
    "    ingre_num_correct = (ingre_scores == ingre_labels).all(dim=1).sum().item()\n",
    "    return ingre_num_correct"
   ]
  },
  {
   "cell_type": "code",
   "execution_count": 109,
   "metadata": {},
   "outputs": [
    {
     "name": "stderr",
     "output_type": "stream",
     "text": [
      "/opt/conda/lib/python3.7/site-packages/torch/utils/data/dataloader.py:477: UserWarning: This DataLoader will create 6 worker processes in total. Our suggested max number of worker in current system is 2, which is smaller than what this DataLoader is going to create. Please be aware that excessive worker creation might get DataLoader running slow or even freeze, lower the worker number to avoid potential slowness/freeze if necessary.\n",
      "  cpuset_checked))\n"
     ]
    },
    {
     "name": "stdout",
     "output_type": "stream",
     "text": [
      "Iteration: 0\n",
      "Iteration: 100\n",
      "Iteration: 200\n",
      "Iteration: 300\n",
      "Iteration: 400\n",
      "Iteration: 500\n",
      "Iteration: 600\n",
      "Iteration: 700\n",
      "Iteration: 800\n",
      "Iteration: 900\n",
      "Iteration: 1000\n"
     ]
    },
    {
     "name": "stderr",
     "output_type": "stream",
     "text": [
      "/opt/conda/lib/python3.7/site-packages/sklearn/metrics/_classification.py:1245: UndefinedMetricWarning: Precision is ill-defined and being set to 0.0 in samples with no predicted labels. Use `zero_division` parameter to control this behavior.\n",
      "  _warn_prf(average, modifier, msg_start, len(result))\n"
     ]
    },
    {
     "name": "stdout",
     "output_type": "stream",
     "text": [
      "Epoch: 1 Training: Micro F1: 0.578 Macro F1: 0.371 Samples F1: 0.567\n",
      "Epoch: 1 Training Loss: 0.00739839 Got 58685 / 66071 correct. Food Acc: 88.82%\n",
      "Epoch: 1 Training Loss: 0.00739839 Got 12666 / 66071 correct. Ingredient Acc: 19.17%\n"
     ]
    },
    {
     "name": "stderr",
     "output_type": "stream",
     "text": [
      "/opt/conda/lib/python3.7/site-packages/torch/utils/data/dataloader.py:477: UserWarning: This DataLoader will create 6 worker processes in total. Our suggested max number of worker in current system is 2, which is smaller than what this DataLoader is going to create. Please be aware that excessive worker creation might get DataLoader running slow or even freeze, lower the worker number to avoid potential slowness/freeze if necessary.\n",
      "  cpuset_checked))\n",
      "/opt/conda/lib/python3.7/site-packages/sklearn/metrics/_classification.py:1245: UndefinedMetricWarning: Precision is ill-defined and being set to 0.0 in labels with no predicted samples. Use `zero_division` parameter to control this behavior.\n",
      "  _warn_prf(average, modifier, msg_start, len(result))\n",
      "/opt/conda/lib/python3.7/site-packages/sklearn/metrics/_classification.py:1245: UndefinedMetricWarning: Recall is ill-defined and being set to 0.0 in labels with no true samples. Use `zero_division` parameter to control this behavior.\n",
      "  _warn_prf(average, modifier, msg_start, len(result))\n",
      "/opt/conda/lib/python3.7/site-packages/sklearn/metrics/_classification.py:1493: UndefinedMetricWarning: F-score is ill-defined and being set to 0.0 in labels with no true nor predicted samples. Use `zero_division` parameter to control this behavior.\n",
      "  average, \"true nor predicted\", 'F-score is', len(true_sum)\n",
      "/opt/conda/lib/python3.7/site-packages/sklearn/metrics/_classification.py:1245: UndefinedMetricWarning: Precision is ill-defined and being set to 0.0 in samples with no predicted labels. Use `zero_division` parameter to control this behavior.\n",
      "  _warn_prf(average, modifier, msg_start, len(result))\n"
     ]
    },
    {
     "name": "stdout",
     "output_type": "stream",
     "text": [
      "Epoch: 1 Validation: Micro F1: 0.568 Macro F1: 0.362 Samples F1: 0.526\n",
      "Epoch: 1 Validation Loss: 0.02832870 Got 7695 / 11016 correct. Food Acc: 69.85%\n",
      "Epoch: 1 Validation Loss: 0.02832870 Got 2121 / 11016 correct. Ingredient Acc: 19.25%\n"
     ]
    },
    {
     "name": "stderr",
     "output_type": "stream",
     "text": [
      "/opt/conda/lib/python3.7/site-packages/torch/utils/data/dataloader.py:477: UserWarning: This DataLoader will create 6 worker processes in total. Our suggested max number of worker in current system is 2, which is smaller than what this DataLoader is going to create. Please be aware that excessive worker creation might get DataLoader running slow or even freeze, lower the worker number to avoid potential slowness/freeze if necessary.\n",
      "  cpuset_checked))\n"
     ]
    },
    {
     "name": "stdout",
     "output_type": "stream",
     "text": [
      "Iteration: 0\n",
      "Iteration: 100\n",
      "Iteration: 200\n",
      "Iteration: 300\n",
      "Iteration: 400\n",
      "Iteration: 500\n",
      "Iteration: 600\n",
      "Iteration: 700\n",
      "Iteration: 800\n",
      "Iteration: 900\n",
      "Iteration: 1000\n"
     ]
    },
    {
     "name": "stderr",
     "output_type": "stream",
     "text": [
      "/opt/conda/lib/python3.7/site-packages/sklearn/metrics/_classification.py:1245: UndefinedMetricWarning: Precision is ill-defined and being set to 0.0 in labels with no predicted samples. Use `zero_division` parameter to control this behavior.\n",
      "  _warn_prf(average, modifier, msg_start, len(result))\n",
      "/opt/conda/lib/python3.7/site-packages/sklearn/metrics/_classification.py:1245: UndefinedMetricWarning: Precision is ill-defined and being set to 0.0 in samples with no predicted labels. Use `zero_division` parameter to control this behavior.\n",
      "  _warn_prf(average, modifier, msg_start, len(result))\n"
     ]
    },
    {
     "name": "stdout",
     "output_type": "stream",
     "text": [
      "Epoch: 2 Training: Micro F1: 0.677 Macro F1: 0.456 Samples F1: 0.667\n",
      "Epoch: 2 Training Loss: 0.00511408 Got 60977 / 66071 correct. Food Acc: 92.29%\n",
      "Epoch: 2 Training Loss: 0.00511408 Got 16080 / 66071 correct. Ingredient Acc: 24.34%\n"
     ]
    },
    {
     "name": "stderr",
     "output_type": "stream",
     "text": [
      "/opt/conda/lib/python3.7/site-packages/torch/utils/data/dataloader.py:477: UserWarning: This DataLoader will create 6 worker processes in total. Our suggested max number of worker in current system is 2, which is smaller than what this DataLoader is going to create. Please be aware that excessive worker creation might get DataLoader running slow or even freeze, lower the worker number to avoid potential slowness/freeze if necessary.\n",
      "  cpuset_checked))\n",
      "/opt/conda/lib/python3.7/site-packages/sklearn/metrics/_classification.py:1245: UndefinedMetricWarning: Precision is ill-defined and being set to 0.0 in labels with no predicted samples. Use `zero_division` parameter to control this behavior.\n",
      "  _warn_prf(average, modifier, msg_start, len(result))\n",
      "/opt/conda/lib/python3.7/site-packages/sklearn/metrics/_classification.py:1245: UndefinedMetricWarning: Recall is ill-defined and being set to 0.0 in labels with no true samples. Use `zero_division` parameter to control this behavior.\n",
      "  _warn_prf(average, modifier, msg_start, len(result))\n",
      "/opt/conda/lib/python3.7/site-packages/sklearn/metrics/_classification.py:1493: UndefinedMetricWarning: F-score is ill-defined and being set to 0.0 in labels with no true nor predicted samples. Use `zero_division` parameter to control this behavior.\n",
      "  average, \"true nor predicted\", 'F-score is', len(true_sum)\n",
      "/opt/conda/lib/python3.7/site-packages/sklearn/metrics/_classification.py:1245: UndefinedMetricWarning: Precision is ill-defined and being set to 0.0 in samples with no predicted labels. Use `zero_division` parameter to control this behavior.\n",
      "  _warn_prf(average, modifier, msg_start, len(result))\n"
     ]
    },
    {
     "name": "stdout",
     "output_type": "stream",
     "text": [
      "Epoch: 2 Validation: Micro F1: 0.578 Macro F1: 0.372 Samples F1: 0.536\n",
      "Epoch: 2 Validation Loss: 0.03081393 Got 7705 / 11016 correct. Food Acc: 69.94%\n",
      "Epoch: 2 Validation Loss: 0.03081393 Got 2169 / 11016 correct. Ingredient Acc: 19.69%\n"
     ]
    },
    {
     "name": "stderr",
     "output_type": "stream",
     "text": [
      "/opt/conda/lib/python3.7/site-packages/torch/utils/data/dataloader.py:477: UserWarning: This DataLoader will create 6 worker processes in total. Our suggested max number of worker in current system is 2, which is smaller than what this DataLoader is going to create. Please be aware that excessive worker creation might get DataLoader running slow or even freeze, lower the worker number to avoid potential slowness/freeze if necessary.\n",
      "  cpuset_checked))\n"
     ]
    },
    {
     "name": "stdout",
     "output_type": "stream",
     "text": [
      "Iteration: 0\n",
      "Iteration: 100\n",
      "Iteration: 200\n",
      "Iteration: 300\n",
      "Iteration: 400\n",
      "Iteration: 500\n",
      "Iteration: 600\n",
      "Iteration: 700\n",
      "Iteration: 800\n",
      "Iteration: 900\n",
      "Iteration: 1000\n"
     ]
    },
    {
     "name": "stderr",
     "output_type": "stream",
     "text": [
      "/opt/conda/lib/python3.7/site-packages/sklearn/metrics/_classification.py:1245: UndefinedMetricWarning: Precision is ill-defined and being set to 0.0 in labels with no predicted samples. Use `zero_division` parameter to control this behavior.\n",
      "  _warn_prf(average, modifier, msg_start, len(result))\n",
      "/opt/conda/lib/python3.7/site-packages/sklearn/metrics/_classification.py:1245: UndefinedMetricWarning: Precision is ill-defined and being set to 0.0 in samples with no predicted labels. Use `zero_division` parameter to control this behavior.\n",
      "  _warn_prf(average, modifier, msg_start, len(result))\n"
     ]
    },
    {
     "name": "stdout",
     "output_type": "stream",
     "text": [
      "Epoch: 3 Training: Micro F1: 0.689 Macro F1: 0.468 Samples F1: 0.683\n",
      "Epoch: 3 Training Loss: 0.00448974 Got 61695 / 66071 correct. Food Acc: 93.38%\n",
      "Epoch: 3 Training Loss: 0.00448974 Got 16826 / 66071 correct. Ingredient Acc: 25.47%\n"
     ]
    },
    {
     "name": "stderr",
     "output_type": "stream",
     "text": [
      "/opt/conda/lib/python3.7/site-packages/torch/utils/data/dataloader.py:477: UserWarning: This DataLoader will create 6 worker processes in total. Our suggested max number of worker in current system is 2, which is smaller than what this DataLoader is going to create. Please be aware that excessive worker creation might get DataLoader running slow or even freeze, lower the worker number to avoid potential slowness/freeze if necessary.\n",
      "  cpuset_checked))\n",
      "/opt/conda/lib/python3.7/site-packages/sklearn/metrics/_classification.py:1245: UndefinedMetricWarning: Precision is ill-defined and being set to 0.0 in labels with no predicted samples. Use `zero_division` parameter to control this behavior.\n",
      "  _warn_prf(average, modifier, msg_start, len(result))\n",
      "/opt/conda/lib/python3.7/site-packages/sklearn/metrics/_classification.py:1245: UndefinedMetricWarning: Recall is ill-defined and being set to 0.0 in labels with no true samples. Use `zero_division` parameter to control this behavior.\n",
      "  _warn_prf(average, modifier, msg_start, len(result))\n",
      "/opt/conda/lib/python3.7/site-packages/sklearn/metrics/_classification.py:1493: UndefinedMetricWarning: F-score is ill-defined and being set to 0.0 in labels with no true nor predicted samples. Use `zero_division` parameter to control this behavior.\n",
      "  average, \"true nor predicted\", 'F-score is', len(true_sum)\n",
      "/opt/conda/lib/python3.7/site-packages/sklearn/metrics/_classification.py:1245: UndefinedMetricWarning: Precision is ill-defined and being set to 0.0 in samples with no predicted labels. Use `zero_division` parameter to control this behavior.\n",
      "  _warn_prf(average, modifier, msg_start, len(result))\n"
     ]
    },
    {
     "name": "stdout",
     "output_type": "stream",
     "text": [
      "Epoch: 3 Validation: Micro F1: 0.578 Macro F1: 0.372 Samples F1: 0.542\n",
      "Epoch: 3 Validation Loss: 0.02960059 Got 7784 / 11016 correct. Food Acc: 70.66%\n",
      "Epoch: 3 Validation Loss: 0.02960059 Got 2224 / 11016 correct. Ingredient Acc: 20.19%\n"
     ]
    },
    {
     "name": "stderr",
     "output_type": "stream",
     "text": [
      "/opt/conda/lib/python3.7/site-packages/torch/utils/data/dataloader.py:477: UserWarning: This DataLoader will create 6 worker processes in total. Our suggested max number of worker in current system is 2, which is smaller than what this DataLoader is going to create. Please be aware that excessive worker creation might get DataLoader running slow or even freeze, lower the worker number to avoid potential slowness/freeze if necessary.\n",
      "  cpuset_checked))\n"
     ]
    },
    {
     "name": "stdout",
     "output_type": "stream",
     "text": [
      "Iteration: 0\n",
      "Iteration: 100\n",
      "Iteration: 200\n",
      "Iteration: 300\n",
      "Iteration: 400\n",
      "Iteration: 500\n",
      "Iteration: 600\n",
      "Iteration: 700\n",
      "Iteration: 800\n",
      "Iteration: 900\n",
      "Iteration: 1000\n"
     ]
    },
    {
     "name": "stderr",
     "output_type": "stream",
     "text": [
      "/opt/conda/lib/python3.7/site-packages/sklearn/metrics/_classification.py:1245: UndefinedMetricWarning: Precision is ill-defined and being set to 0.0 in labels with no predicted samples. Use `zero_division` parameter to control this behavior.\n",
      "  _warn_prf(average, modifier, msg_start, len(result))\n",
      "/opt/conda/lib/python3.7/site-packages/sklearn/metrics/_classification.py:1245: UndefinedMetricWarning: Precision is ill-defined and being set to 0.0 in samples with no predicted labels. Use `zero_division` parameter to control this behavior.\n",
      "  _warn_prf(average, modifier, msg_start, len(result))\n"
     ]
    },
    {
     "name": "stdout",
     "output_type": "stream",
     "text": [
      "Epoch: 4 Training: Micro F1: 0.693 Macro F1: 0.475 Samples F1: 0.689\n",
      "Epoch: 4 Training Loss: 0.00418668 Got 62039 / 66071 correct. Food Acc: 93.90%\n",
      "Epoch: 4 Training Loss: 0.00418668 Got 16972 / 66071 correct. Ingredient Acc: 25.69%\n"
     ]
    },
    {
     "name": "stderr",
     "output_type": "stream",
     "text": [
      "/opt/conda/lib/python3.7/site-packages/torch/utils/data/dataloader.py:477: UserWarning: This DataLoader will create 6 worker processes in total. Our suggested max number of worker in current system is 2, which is smaller than what this DataLoader is going to create. Please be aware that excessive worker creation might get DataLoader running slow or even freeze, lower the worker number to avoid potential slowness/freeze if necessary.\n",
      "  cpuset_checked))\n",
      "/opt/conda/lib/python3.7/site-packages/sklearn/metrics/_classification.py:1245: UndefinedMetricWarning: Precision is ill-defined and being set to 0.0 in labels with no predicted samples. Use `zero_division` parameter to control this behavior.\n",
      "  _warn_prf(average, modifier, msg_start, len(result))\n",
      "/opt/conda/lib/python3.7/site-packages/sklearn/metrics/_classification.py:1245: UndefinedMetricWarning: Recall is ill-defined and being set to 0.0 in labels with no true samples. Use `zero_division` parameter to control this behavior.\n",
      "  _warn_prf(average, modifier, msg_start, len(result))\n",
      "/opt/conda/lib/python3.7/site-packages/sklearn/metrics/_classification.py:1493: UndefinedMetricWarning: F-score is ill-defined and being set to 0.0 in labels with no true nor predicted samples. Use `zero_division` parameter to control this behavior.\n",
      "  average, \"true nor predicted\", 'F-score is', len(true_sum)\n",
      "/opt/conda/lib/python3.7/site-packages/sklearn/metrics/_classification.py:1245: UndefinedMetricWarning: Precision is ill-defined and being set to 0.0 in samples with no predicted labels. Use `zero_division` parameter to control this behavior.\n",
      "  _warn_prf(average, modifier, msg_start, len(result))\n"
     ]
    },
    {
     "name": "stdout",
     "output_type": "stream",
     "text": [
      "Epoch: 4 Validation: Micro F1: 0.597 Macro F1: 0.383 Samples F1: 0.560\n",
      "Epoch: 4 Validation Loss: 0.03086461 Got 7842 / 11016 correct. Food Acc: 71.19%\n",
      "Epoch: 4 Validation Loss: 0.03086461 Got 2392 / 11016 correct. Ingredient Acc: 21.71%\n"
     ]
    },
    {
     "name": "stderr",
     "output_type": "stream",
     "text": [
      "/opt/conda/lib/python3.7/site-packages/torch/utils/data/dataloader.py:477: UserWarning: This DataLoader will create 6 worker processes in total. Our suggested max number of worker in current system is 2, which is smaller than what this DataLoader is going to create. Please be aware that excessive worker creation might get DataLoader running slow or even freeze, lower the worker number to avoid potential slowness/freeze if necessary.\n",
      "  cpuset_checked))\n"
     ]
    },
    {
     "name": "stdout",
     "output_type": "stream",
     "text": [
      "Iteration: 0\n",
      "Iteration: 100\n",
      "Iteration: 200\n",
      "Iteration: 300\n",
      "Iteration: 400\n",
      "Iteration: 500\n",
      "Iteration: 600\n",
      "Iteration: 700\n",
      "Iteration: 800\n",
      "Iteration: 900\n",
      "Iteration: 1000\n"
     ]
    },
    {
     "name": "stderr",
     "output_type": "stream",
     "text": [
      "/opt/conda/lib/python3.7/site-packages/sklearn/metrics/_classification.py:1245: UndefinedMetricWarning: Precision is ill-defined and being set to 0.0 in labels with no predicted samples. Use `zero_division` parameter to control this behavior.\n",
      "  _warn_prf(average, modifier, msg_start, len(result))\n",
      "/opt/conda/lib/python3.7/site-packages/sklearn/metrics/_classification.py:1245: UndefinedMetricWarning: Precision is ill-defined and being set to 0.0 in samples with no predicted labels. Use `zero_division` parameter to control this behavior.\n",
      "  _warn_prf(average, modifier, msg_start, len(result))\n"
     ]
    },
    {
     "name": "stdout",
     "output_type": "stream",
     "text": [
      "Epoch: 5 Training: Micro F1: 0.699 Macro F1: 0.480 Samples F1: 0.696\n",
      "Epoch: 5 Training Loss: 0.00390765 Got 62398 / 66071 correct. Food Acc: 94.44%\n",
      "Epoch: 5 Training Loss: 0.00390765 Got 17497 / 66071 correct. Ingredient Acc: 26.48%\n"
     ]
    },
    {
     "name": "stderr",
     "output_type": "stream",
     "text": [
      "/opt/conda/lib/python3.7/site-packages/torch/utils/data/dataloader.py:477: UserWarning: This DataLoader will create 6 worker processes in total. Our suggested max number of worker in current system is 2, which is smaller than what this DataLoader is going to create. Please be aware that excessive worker creation might get DataLoader running slow or even freeze, lower the worker number to avoid potential slowness/freeze if necessary.\n",
      "  cpuset_checked))\n",
      "/opt/conda/lib/python3.7/site-packages/sklearn/metrics/_classification.py:1245: UndefinedMetricWarning: Precision is ill-defined and being set to 0.0 in labels with no predicted samples. Use `zero_division` parameter to control this behavior.\n",
      "  _warn_prf(average, modifier, msg_start, len(result))\n",
      "/opt/conda/lib/python3.7/site-packages/sklearn/metrics/_classification.py:1245: UndefinedMetricWarning: Recall is ill-defined and being set to 0.0 in labels with no true samples. Use `zero_division` parameter to control this behavior.\n",
      "  _warn_prf(average, modifier, msg_start, len(result))\n",
      "/opt/conda/lib/python3.7/site-packages/sklearn/metrics/_classification.py:1493: UndefinedMetricWarning: F-score is ill-defined and being set to 0.0 in labels with no true nor predicted samples. Use `zero_division` parameter to control this behavior.\n",
      "  average, \"true nor predicted\", 'F-score is', len(true_sum)\n",
      "/opt/conda/lib/python3.7/site-packages/sklearn/metrics/_classification.py:1245: UndefinedMetricWarning: Precision is ill-defined and being set to 0.0 in samples with no predicted labels. Use `zero_division` parameter to control this behavior.\n",
      "  _warn_prf(average, modifier, msg_start, len(result))\n"
     ]
    },
    {
     "name": "stdout",
     "output_type": "stream",
     "text": [
      "Epoch: 5 Validation: Micro F1: 0.588 Macro F1: 0.377 Samples F1: 0.550\n",
      "Epoch: 5 Validation Loss: 0.03199543 Got 7676 / 11016 correct. Food Acc: 69.68%\n",
      "Epoch: 5 Validation Loss: 0.03199543 Got 2260 / 11016 correct. Ingredient Acc: 20.52%\n"
     ]
    },
    {
     "name": "stderr",
     "output_type": "stream",
     "text": [
      "/opt/conda/lib/python3.7/site-packages/torch/utils/data/dataloader.py:477: UserWarning: This DataLoader will create 6 worker processes in total. Our suggested max number of worker in current system is 2, which is smaller than what this DataLoader is going to create. Please be aware that excessive worker creation might get DataLoader running slow or even freeze, lower the worker number to avoid potential slowness/freeze if necessary.\n",
      "  cpuset_checked))\n"
     ]
    },
    {
     "name": "stdout",
     "output_type": "stream",
     "text": [
      "Iteration: 0\n",
      "Iteration: 100\n",
      "Iteration: 200\n",
      "Iteration: 300\n",
      "Iteration: 400\n",
      "Iteration: 500\n",
      "Iteration: 600\n",
      "Iteration: 700\n",
      "Iteration: 800\n",
      "Iteration: 900\n",
      "Iteration: 1000\n"
     ]
    },
    {
     "name": "stderr",
     "output_type": "stream",
     "text": [
      "/opt/conda/lib/python3.7/site-packages/sklearn/metrics/_classification.py:1245: UndefinedMetricWarning: Precision is ill-defined and being set to 0.0 in labels with no predicted samples. Use `zero_division` parameter to control this behavior.\n",
      "  _warn_prf(average, modifier, msg_start, len(result))\n",
      "/opt/conda/lib/python3.7/site-packages/sklearn/metrics/_classification.py:1245: UndefinedMetricWarning: Precision is ill-defined and being set to 0.0 in samples with no predicted labels. Use `zero_division` parameter to control this behavior.\n",
      "  _warn_prf(average, modifier, msg_start, len(result))\n"
     ]
    },
    {
     "name": "stdout",
     "output_type": "stream",
     "text": [
      "Epoch: 6 Training: Micro F1: 0.704 Macro F1: 0.487 Samples F1: 0.702\n",
      "Epoch: 6 Training Loss: 0.00354196 Got 62773 / 66071 correct. Food Acc: 95.01%\n",
      "Epoch: 6 Training Loss: 0.00354196 Got 17576 / 66071 correct. Ingredient Acc: 26.60%\n"
     ]
    },
    {
     "name": "stderr",
     "output_type": "stream",
     "text": [
      "/opt/conda/lib/python3.7/site-packages/torch/utils/data/dataloader.py:477: UserWarning: This DataLoader will create 6 worker processes in total. Our suggested max number of worker in current system is 2, which is smaller than what this DataLoader is going to create. Please be aware that excessive worker creation might get DataLoader running slow or even freeze, lower the worker number to avoid potential slowness/freeze if necessary.\n",
      "  cpuset_checked))\n",
      "/opt/conda/lib/python3.7/site-packages/sklearn/metrics/_classification.py:1245: UndefinedMetricWarning: Precision is ill-defined and being set to 0.0 in labels with no predicted samples. Use `zero_division` parameter to control this behavior.\n",
      "  _warn_prf(average, modifier, msg_start, len(result))\n",
      "/opt/conda/lib/python3.7/site-packages/sklearn/metrics/_classification.py:1245: UndefinedMetricWarning: Recall is ill-defined and being set to 0.0 in labels with no true samples. Use `zero_division` parameter to control this behavior.\n",
      "  _warn_prf(average, modifier, msg_start, len(result))\n",
      "/opt/conda/lib/python3.7/site-packages/sklearn/metrics/_classification.py:1493: UndefinedMetricWarning: F-score is ill-defined and being set to 0.0 in labels with no true nor predicted samples. Use `zero_division` parameter to control this behavior.\n",
      "  average, \"true nor predicted\", 'F-score is', len(true_sum)\n",
      "/opt/conda/lib/python3.7/site-packages/sklearn/metrics/_classification.py:1245: UndefinedMetricWarning: Precision is ill-defined and being set to 0.0 in samples with no predicted labels. Use `zero_division` parameter to control this behavior.\n",
      "  _warn_prf(average, modifier, msg_start, len(result))\n"
     ]
    },
    {
     "name": "stdout",
     "output_type": "stream",
     "text": [
      "Epoch: 6 Validation: Micro F1: 0.586 Macro F1: 0.383 Samples F1: 0.553\n",
      "Epoch: 6 Validation Loss: 0.03339667 Got 7822 / 11016 correct. Food Acc: 71.01%\n",
      "Epoch: 6 Validation Loss: 0.03339667 Got 2304 / 11016 correct. Ingredient Acc: 20.92%\n"
     ]
    },
    {
     "name": "stderr",
     "output_type": "stream",
     "text": [
      "/opt/conda/lib/python3.7/site-packages/torch/utils/data/dataloader.py:477: UserWarning: This DataLoader will create 6 worker processes in total. Our suggested max number of worker in current system is 2, which is smaller than what this DataLoader is going to create. Please be aware that excessive worker creation might get DataLoader running slow or even freeze, lower the worker number to avoid potential slowness/freeze if necessary.\n",
      "  cpuset_checked))\n"
     ]
    },
    {
     "name": "stdout",
     "output_type": "stream",
     "text": [
      "Iteration: 0\n",
      "Iteration: 100\n",
      "Iteration: 200\n",
      "Iteration: 300\n",
      "Iteration: 400\n",
      "Iteration: 500\n",
      "Iteration: 600\n",
      "Iteration: 700\n",
      "Iteration: 800\n",
      "Iteration: 900\n",
      "Iteration: 1000\n"
     ]
    },
    {
     "name": "stderr",
     "output_type": "stream",
     "text": [
      "/opt/conda/lib/python3.7/site-packages/sklearn/metrics/_classification.py:1245: UndefinedMetricWarning: Precision is ill-defined and being set to 0.0 in labels with no predicted samples. Use `zero_division` parameter to control this behavior.\n",
      "  _warn_prf(average, modifier, msg_start, len(result))\n",
      "/opt/conda/lib/python3.7/site-packages/sklearn/metrics/_classification.py:1245: UndefinedMetricWarning: Precision is ill-defined and being set to 0.0 in samples with no predicted labels. Use `zero_division` parameter to control this behavior.\n",
      "  _warn_prf(average, modifier, msg_start, len(result))\n"
     ]
    },
    {
     "name": "stdout",
     "output_type": "stream",
     "text": [
      "Epoch: 7 Training: Micro F1: 0.706 Macro F1: 0.488 Samples F1: 0.704\n",
      "Epoch: 7 Training Loss: 0.00359706 Got 62760 / 66071 correct. Food Acc: 94.99%\n",
      "Epoch: 7 Training Loss: 0.00359706 Got 17641 / 66071 correct. Ingredient Acc: 26.70%\n"
     ]
    },
    {
     "name": "stderr",
     "output_type": "stream",
     "text": [
      "/opt/conda/lib/python3.7/site-packages/torch/utils/data/dataloader.py:477: UserWarning: This DataLoader will create 6 worker processes in total. Our suggested max number of worker in current system is 2, which is smaller than what this DataLoader is going to create. Please be aware that excessive worker creation might get DataLoader running slow or even freeze, lower the worker number to avoid potential slowness/freeze if necessary.\n",
      "  cpuset_checked))\n",
      "/opt/conda/lib/python3.7/site-packages/sklearn/metrics/_classification.py:1245: UndefinedMetricWarning: Precision is ill-defined and being set to 0.0 in labels with no predicted samples. Use `zero_division` parameter to control this behavior.\n",
      "  _warn_prf(average, modifier, msg_start, len(result))\n",
      "/opt/conda/lib/python3.7/site-packages/sklearn/metrics/_classification.py:1245: UndefinedMetricWarning: Recall is ill-defined and being set to 0.0 in labels with no true samples. Use `zero_division` parameter to control this behavior.\n",
      "  _warn_prf(average, modifier, msg_start, len(result))\n",
      "/opt/conda/lib/python3.7/site-packages/sklearn/metrics/_classification.py:1493: UndefinedMetricWarning: F-score is ill-defined and being set to 0.0 in labels with no true nor predicted samples. Use `zero_division` parameter to control this behavior.\n",
      "  average, \"true nor predicted\", 'F-score is', len(true_sum)\n",
      "/opt/conda/lib/python3.7/site-packages/sklearn/metrics/_classification.py:1245: UndefinedMetricWarning: Precision is ill-defined and being set to 0.0 in samples with no predicted labels. Use `zero_division` parameter to control this behavior.\n",
      "  _warn_prf(average, modifier, msg_start, len(result))\n"
     ]
    },
    {
     "name": "stdout",
     "output_type": "stream",
     "text": [
      "Epoch: 7 Validation: Micro F1: 0.585 Macro F1: 0.381 Samples F1: 0.547\n",
      "Epoch: 7 Validation Loss: 0.03077454 Got 7799 / 11016 correct. Food Acc: 70.80%\n",
      "Epoch: 7 Validation Loss: 0.03077454 Got 2282 / 11016 correct. Ingredient Acc: 20.72%\n"
     ]
    },
    {
     "name": "stderr",
     "output_type": "stream",
     "text": [
      "/opt/conda/lib/python3.7/site-packages/torch/utils/data/dataloader.py:477: UserWarning: This DataLoader will create 6 worker processes in total. Our suggested max number of worker in current system is 2, which is smaller than what this DataLoader is going to create. Please be aware that excessive worker creation might get DataLoader running slow or even freeze, lower the worker number to avoid potential slowness/freeze if necessary.\n",
      "  cpuset_checked))\n"
     ]
    },
    {
     "name": "stdout",
     "output_type": "stream",
     "text": [
      "Iteration: 0\n",
      "Iteration: 100\n",
      "Iteration: 200\n",
      "Iteration: 300\n",
      "Iteration: 400\n",
      "Iteration: 500\n",
      "Iteration: 600\n",
      "Iteration: 700\n",
      "Iteration: 800\n",
      "Iteration: 900\n",
      "Iteration: 1000\n"
     ]
    },
    {
     "name": "stderr",
     "output_type": "stream",
     "text": [
      "/opt/conda/lib/python3.7/site-packages/sklearn/metrics/_classification.py:1245: UndefinedMetricWarning: Precision is ill-defined and being set to 0.0 in labels with no predicted samples. Use `zero_division` parameter to control this behavior.\n",
      "  _warn_prf(average, modifier, msg_start, len(result))\n",
      "/opt/conda/lib/python3.7/site-packages/sklearn/metrics/_classification.py:1245: UndefinedMetricWarning: Precision is ill-defined and being set to 0.0 in samples with no predicted labels. Use `zero_division` parameter to control this behavior.\n",
      "  _warn_prf(average, modifier, msg_start, len(result))\n"
     ]
    },
    {
     "name": "stdout",
     "output_type": "stream",
     "text": [
      "Epoch: 8 Training: Micro F1: 0.708 Macro F1: 0.494 Samples F1: 0.708\n",
      "Epoch: 8 Training Loss: 0.00328848 Got 63007 / 66071 correct. Food Acc: 95.36%\n",
      "Epoch: 8 Training Loss: 0.00328848 Got 17962 / 66071 correct. Ingredient Acc: 27.19%\n"
     ]
    },
    {
     "name": "stderr",
     "output_type": "stream",
     "text": [
      "/opt/conda/lib/python3.7/site-packages/torch/utils/data/dataloader.py:477: UserWarning: This DataLoader will create 6 worker processes in total. Our suggested max number of worker in current system is 2, which is smaller than what this DataLoader is going to create. Please be aware that excessive worker creation might get DataLoader running slow or even freeze, lower the worker number to avoid potential slowness/freeze if necessary.\n",
      "  cpuset_checked))\n",
      "/opt/conda/lib/python3.7/site-packages/sklearn/metrics/_classification.py:1245: UndefinedMetricWarning: Precision is ill-defined and being set to 0.0 in labels with no predicted samples. Use `zero_division` parameter to control this behavior.\n",
      "  _warn_prf(average, modifier, msg_start, len(result))\n",
      "/opt/conda/lib/python3.7/site-packages/sklearn/metrics/_classification.py:1245: UndefinedMetricWarning: Recall is ill-defined and being set to 0.0 in labels with no true samples. Use `zero_division` parameter to control this behavior.\n",
      "  _warn_prf(average, modifier, msg_start, len(result))\n",
      "/opt/conda/lib/python3.7/site-packages/sklearn/metrics/_classification.py:1493: UndefinedMetricWarning: F-score is ill-defined and being set to 0.0 in labels with no true nor predicted samples. Use `zero_division` parameter to control this behavior.\n",
      "  average, \"true nor predicted\", 'F-score is', len(true_sum)\n",
      "/opt/conda/lib/python3.7/site-packages/sklearn/metrics/_classification.py:1245: UndefinedMetricWarning: Precision is ill-defined and being set to 0.0 in samples with no predicted labels. Use `zero_division` parameter to control this behavior.\n",
      "  _warn_prf(average, modifier, msg_start, len(result))\n"
     ]
    },
    {
     "name": "stdout",
     "output_type": "stream",
     "text": [
      "Epoch: 8 Validation: Micro F1: 0.585 Macro F1: 0.382 Samples F1: 0.552\n",
      "Epoch: 8 Validation Loss: 0.03204806 Got 7813 / 11016 correct. Food Acc: 70.92%\n",
      "Epoch: 8 Validation Loss: 0.03204806 Got 2348 / 11016 correct. Ingredient Acc: 21.31%\n"
     ]
    },
    {
     "name": "stderr",
     "output_type": "stream",
     "text": [
      "/opt/conda/lib/python3.7/site-packages/torch/utils/data/dataloader.py:477: UserWarning: This DataLoader will create 6 worker processes in total. Our suggested max number of worker in current system is 2, which is smaller than what this DataLoader is going to create. Please be aware that excessive worker creation might get DataLoader running slow or even freeze, lower the worker number to avoid potential slowness/freeze if necessary.\n",
      "  cpuset_checked))\n"
     ]
    },
    {
     "name": "stdout",
     "output_type": "stream",
     "text": [
      "Iteration: 0\n",
      "Iteration: 100\n",
      "Iteration: 200\n",
      "Iteration: 300\n",
      "Iteration: 400\n",
      "Iteration: 500\n",
      "Iteration: 600\n",
      "Iteration: 700\n",
      "Iteration: 800\n",
      "Iteration: 900\n",
      "Iteration: 1000\n"
     ]
    },
    {
     "name": "stderr",
     "output_type": "stream",
     "text": [
      "/opt/conda/lib/python3.7/site-packages/sklearn/metrics/_classification.py:1245: UndefinedMetricWarning: Precision is ill-defined and being set to 0.0 in labels with no predicted samples. Use `zero_division` parameter to control this behavior.\n",
      "  _warn_prf(average, modifier, msg_start, len(result))\n",
      "/opt/conda/lib/python3.7/site-packages/sklearn/metrics/_classification.py:1245: UndefinedMetricWarning: Precision is ill-defined and being set to 0.0 in samples with no predicted labels. Use `zero_division` parameter to control this behavior.\n",
      "  _warn_prf(average, modifier, msg_start, len(result))\n"
     ]
    },
    {
     "name": "stdout",
     "output_type": "stream",
     "text": [
      "Epoch: 9 Training: Micro F1: 0.712 Macro F1: 0.499 Samples F1: 0.713\n",
      "Epoch: 9 Training Loss: 0.00295923 Got 63324 / 66071 correct. Food Acc: 95.84%\n",
      "Epoch: 9 Training Loss: 0.00295923 Got 18170 / 66071 correct. Ingredient Acc: 27.50%\n"
     ]
    },
    {
     "name": "stderr",
     "output_type": "stream",
     "text": [
      "/opt/conda/lib/python3.7/site-packages/torch/utils/data/dataloader.py:477: UserWarning: This DataLoader will create 6 worker processes in total. Our suggested max number of worker in current system is 2, which is smaller than what this DataLoader is going to create. Please be aware that excessive worker creation might get DataLoader running slow or even freeze, lower the worker number to avoid potential slowness/freeze if necessary.\n",
      "  cpuset_checked))\n",
      "/opt/conda/lib/python3.7/site-packages/sklearn/metrics/_classification.py:1245: UndefinedMetricWarning: Precision is ill-defined and being set to 0.0 in labels with no predicted samples. Use `zero_division` parameter to control this behavior.\n",
      "  _warn_prf(average, modifier, msg_start, len(result))\n",
      "/opt/conda/lib/python3.7/site-packages/sklearn/metrics/_classification.py:1245: UndefinedMetricWarning: Recall is ill-defined and being set to 0.0 in labels with no true samples. Use `zero_division` parameter to control this behavior.\n",
      "  _warn_prf(average, modifier, msg_start, len(result))\n",
      "/opt/conda/lib/python3.7/site-packages/sklearn/metrics/_classification.py:1493: UndefinedMetricWarning: F-score is ill-defined and being set to 0.0 in labels with no true nor predicted samples. Use `zero_division` parameter to control this behavior.\n",
      "  average, \"true nor predicted\", 'F-score is', len(true_sum)\n",
      "/opt/conda/lib/python3.7/site-packages/sklearn/metrics/_classification.py:1245: UndefinedMetricWarning: Precision is ill-defined and being set to 0.0 in samples with no predicted labels. Use `zero_division` parameter to control this behavior.\n",
      "  _warn_prf(average, modifier, msg_start, len(result))\n"
     ]
    },
    {
     "name": "stdout",
     "output_type": "stream",
     "text": [
      "Epoch: 9 Validation: Micro F1: 0.579 Macro F1: 0.377 Samples F1: 0.542\n",
      "Epoch: 9 Validation Loss: 0.03516824 Got 7687 / 11016 correct. Food Acc: 69.78%\n",
      "Epoch: 9 Validation Loss: 0.03516824 Got 2303 / 11016 correct. Ingredient Acc: 20.91%\n"
     ]
    },
    {
     "name": "stderr",
     "output_type": "stream",
     "text": [
      "/opt/conda/lib/python3.7/site-packages/torch/utils/data/dataloader.py:477: UserWarning: This DataLoader will create 6 worker processes in total. Our suggested max number of worker in current system is 2, which is smaller than what this DataLoader is going to create. Please be aware that excessive worker creation might get DataLoader running slow or even freeze, lower the worker number to avoid potential slowness/freeze if necessary.\n",
      "  cpuset_checked))\n"
     ]
    },
    {
     "name": "stdout",
     "output_type": "stream",
     "text": [
      "Iteration: 0\n",
      "Iteration: 100\n",
      "Iteration: 200\n",
      "Iteration: 300\n",
      "Iteration: 400\n",
      "Iteration: 500\n",
      "Iteration: 600\n",
      "Iteration: 700\n",
      "Iteration: 800\n",
      "Iteration: 900\n",
      "Iteration: 1000\n"
     ]
    },
    {
     "name": "stderr",
     "output_type": "stream",
     "text": [
      "/opt/conda/lib/python3.7/site-packages/sklearn/metrics/_classification.py:1245: UndefinedMetricWarning: Precision is ill-defined and being set to 0.0 in labels with no predicted samples. Use `zero_division` parameter to control this behavior.\n",
      "  _warn_prf(average, modifier, msg_start, len(result))\n",
      "/opt/conda/lib/python3.7/site-packages/sklearn/metrics/_classification.py:1245: UndefinedMetricWarning: Precision is ill-defined and being set to 0.0 in samples with no predicted labels. Use `zero_division` parameter to control this behavior.\n",
      "  _warn_prf(average, modifier, msg_start, len(result))\n"
     ]
    },
    {
     "name": "stdout",
     "output_type": "stream",
     "text": [
      "Epoch:10 Training: Micro F1: 0.713 Macro F1: 0.497 Samples F1: 0.714\n",
      "Epoch: 10 Training Loss: 0.00295782 Got 63393 / 66071 correct. Food Acc: 95.95%\n",
      "Epoch: 10 Training Loss: 0.00295782 Got 18206 / 66071 correct. Ingredient Acc: 27.56%\n"
     ]
    },
    {
     "name": "stderr",
     "output_type": "stream",
     "text": [
      "/opt/conda/lib/python3.7/site-packages/torch/utils/data/dataloader.py:477: UserWarning: This DataLoader will create 6 worker processes in total. Our suggested max number of worker in current system is 2, which is smaller than what this DataLoader is going to create. Please be aware that excessive worker creation might get DataLoader running slow or even freeze, lower the worker number to avoid potential slowness/freeze if necessary.\n",
      "  cpuset_checked))\n",
      "/opt/conda/lib/python3.7/site-packages/sklearn/metrics/_classification.py:1245: UndefinedMetricWarning: Precision is ill-defined and being set to 0.0 in labels with no predicted samples. Use `zero_division` parameter to control this behavior.\n",
      "  _warn_prf(average, modifier, msg_start, len(result))\n",
      "/opt/conda/lib/python3.7/site-packages/sklearn/metrics/_classification.py:1245: UndefinedMetricWarning: Recall is ill-defined and being set to 0.0 in labels with no true samples. Use `zero_division` parameter to control this behavior.\n",
      "  _warn_prf(average, modifier, msg_start, len(result))\n",
      "/opt/conda/lib/python3.7/site-packages/sklearn/metrics/_classification.py:1493: UndefinedMetricWarning: F-score is ill-defined and being set to 0.0 in labels with no true nor predicted samples. Use `zero_division` parameter to control this behavior.\n",
      "  average, \"true nor predicted\", 'F-score is', len(true_sum)\n",
      "/opt/conda/lib/python3.7/site-packages/sklearn/metrics/_classification.py:1245: UndefinedMetricWarning: Precision is ill-defined and being set to 0.0 in samples with no predicted labels. Use `zero_division` parameter to control this behavior.\n",
      "  _warn_prf(average, modifier, msg_start, len(result))\n"
     ]
    },
    {
     "name": "stdout",
     "output_type": "stream",
     "text": [
      "Epoch:10 Validation: Micro F1: 0.589 Macro F1: 0.383 Samples F1: 0.556\n",
      "Epoch: 10 Validation Loss: 0.03074288 Got 7925 / 11016 correct. Food Acc: 71.94%\n",
      "Epoch: 10 Validation Loss: 0.03074288 Got 2414 / 11016 correct. Ingredient Acc: 21.91%\n",
      "CPU times: user 25min 38s, sys: 6min 18s, total: 31min 56s\n",
      "Wall time: 45min 47s\n"
     ]
    }
   ],
   "source": [
    "%%time\n",
    "num_epochs = 10\n",
    "results = train_model(gpu(model), optimizer, epochs=num_epochs)"
   ]
  },
  {
   "cell_type": "code",
   "execution_count": 103,
   "metadata": {},
   "outputs": [],
   "source": [
    "saved_results = results"
   ]
  },
  {
   "cell_type": "code",
   "execution_count": 110,
   "metadata": {},
   "outputs": [],
   "source": [
    "# Save the model.\n",
    "PATH = '../saved_models/ingredients/multi_modal/multi_modal_2.dat' # Uses a Res50 backbone CNN\n",
    "torch.save(model, PATH)\n",
    "torch.save(results, '../saved_models/ingredients/multi_modal/multi_modal_2-results.pt')"
   ]
  },
  {
   "cell_type": "markdown",
   "metadata": {},
   "source": [
    "## Evaluation"
   ]
  },
  {
   "cell_type": "code",
   "execution_count": 12,
   "metadata": {},
   "outputs": [],
   "source": [
    "# Load the model.\n",
    "PATH = '../saved_models/ingredients/multi_modal/multi_modal.dat' # Uses a Res18 backbone CNN\n",
    "loaded_model = torch.load(PATH)\n",
    "loaded_model = gpu(loaded_model)\n",
    "model = loaded_model\n",
    "results = torch.load('../saved_models/ingredients/multi_modal/multi_modal-results.pt')"
   ]
  },
  {
   "cell_type": "code",
   "execution_count": 16,
   "metadata": {},
   "outputs": [],
   "source": [
    "train_results, val_results = results['train'], results['val']\n",
    "LOSS, FOOD_ACC, LOSS_V, FOOD_ACC_V = (train_results['loss_history'], train_results['food_accuracy_history'], \n",
    "                                      val_results['loss_history'], val_results['food_accuracy_history'])\n",
    "INGRE_ACC, INGRE_ACC_V = (train_results['ingre_accuracy_history'], val_results['ingre_accuracy_history'])"
   ]
  },
  {
   "cell_type": "code",
   "execution_count": 18,
   "metadata": {},
   "outputs": [
    {
     "data": {
      "image/png": "[encoded data removed]",
      "text/plain": [
       "<Figure size 432x288 with 1 Axes>"
      ]
     },
     "metadata": {
      "needs_background": "light"
     },
     "output_type": "display_data"
    },
    {
     "data": {
      "image/png": "[encoded data removed]",
      "text/plain": [
       "<Figure size 432x288 with 1 Axes>"
      ]
     },
     "metadata": {
      "needs_background": "light"
     },
     "output_type": "display_data"
    },
    {
     "data": {
      "image/png": "[encoded data removed]",
      "text/plain": [
       "<Figure size 432x288 with 1 Axes>"
      ]
     },
     "metadata": {
      "needs_background": "light"
     },
     "output_type": "display_data"
    },
    {
     "data": {
      "image/png": "[encoded data removed]",
      "text/plain": [
       "<Figure size 432x288 with 1 Axes>"
      ]
     },
     "metadata": {
      "needs_background": "light"
     },
     "output_type": "display_data"
    }
   ],
   "source": [
    "# Loss and Accuracy Curves\n",
    "from utils.plots import plot_loss_and_accuracy_curves\n",
    "plot_loss_and_accuracy_curves('Multi Modal Model', LOSS, FOOD_ACC, LOSS_V, FOOD_ACC_V)\n",
    "plot_loss_and_accuracy_curves('Multi Modal Model', LOSS, INGRE_ACC, LOSS_V, INGRE_ACC_V)"
   ]
  },
  {
   "cell_type": "code",
   "execution_count": 19,
   "metadata": {},
   "outputs": [
    {
     "name": "stderr",
     "output_type": "stream",
     "text": [
      "/opt/conda/lib/python3.7/site-packages/torch/utils/data/dataloader.py:477: UserWarning: This DataLoader will create 6 worker processes in total. Our suggested max number of worker in current system is 2, which is smaller than what this DataLoader is going to create. Please be aware that excessive worker creation might get DataLoader running slow or even freeze, lower the worker number to avoid potential slowness/freeze if necessary.\n",
      "  cpuset_checked))\n"
     ]
    },
    {
     "name": "stdout",
     "output_type": "stream",
     "text": [
      "Top 1 Accuracy of the network on the all test images: 71.53 %\n"
     ]
    }
   ],
   "source": [
    "# Evaluation: Top-1 Accuracy\n",
    "\n",
    "def compute_top_1_accuracy(model):\n",
    "    correct = 0\n",
    "    total = 0\n",
    "    with torch.no_grad():\n",
    "        model.eval()\n",
    "        for data in test_dataloader:\n",
    "            images, labels, paths = data\n",
    "            images = gpu(images)\n",
    "            labels = gpu(labels)\n",
    "            (food_scores, ingredient_scores) = model(images)\n",
    "            _, predicted = torch.max(food_scores.data, 1)\n",
    "            total += labels.size(0)\n",
    "            correct += (predicted == labels).sum().item()\n",
    "\n",
    "    print('Top 1 Accuracy of the network on the all test images: %.2f %%' % (\n",
    "        100 * correct / total))\n",
    "\n",
    "compute_top_1_accuracy(model)"
   ]
  },
  {
   "cell_type": "code",
   "execution_count": 20,
   "metadata": {},
   "outputs": [
    {
     "name": "stdout",
     "output_type": "stream",
     "text": [
      "Top 5 Accuracy of the network on the all test images: 90.97 %\n"
     ]
    }
   ],
   "source": [
    "# Evaluation: Top-5 Accuracy\n",
    "\n",
    "def compute_top_5_accuracy(model):\n",
    "    correct = 0\n",
    "    total = 0\n",
    "    with torch.no_grad():\n",
    "        model.eval()\n",
    "        for data in test_dataloader:\n",
    "            images, labels, paths = data\n",
    "            images = gpu(images)\n",
    "            labels = gpu(labels)\n",
    "            (food_scores, ingredient_scores) = model(images)\n",
    "            _, predicted = torch.topk(food_scores.data, 5, dim=1)\n",
    "            total += labels.size(0)\n",
    "            for i in range(predicted.shape[0]):\n",
    "                top_5_predictions = predicted[i]\n",
    "                label = labels[i]\n",
    "                if label in top_5_predictions:\n",
    "                    correct += 1\n",
    "    print('Top 5 Accuracy of the network on the all test images: %.2f %%' % (\n",
    "        100 * correct / total))\n",
    "    \n",
    "compute_top_5_accuracy(model)"
   ]
  },
  {
   "cell_type": "code",
   "execution_count": 120,
   "metadata": {},
   "outputs": [
    {
     "name": "stderr",
     "output_type": "stream",
     "text": [
      "/opt/conda/lib/python3.7/site-packages/sklearn/metrics/_classification.py:1245: UndefinedMetricWarning: Precision is ill-defined and being set to 0.0 in labels with no predicted samples. Use `zero_division` parameter to control this behavior.\n",
      "  _warn_prf(average, modifier, msg_start, len(result))\n",
      "/opt/conda/lib/python3.7/site-packages/sklearn/metrics/_classification.py:1245: UndefinedMetricWarning: Precision is ill-defined and being set to 0.0 in samples with no predicted labels. Use `zero_division` parameter to control this behavior.\n",
      "  _warn_prf(average, modifier, msg_start, len(result))\n"
     ]
    },
    {
     "name": "stdout",
     "output_type": "stream",
     "text": [
      "Testing: Micro F1: 0.586 Macro F1: 0.380 Samples F1: 0.550\n",
      "Accuracy of the network on the all test images: 21.80%\n"
     ]
    }
   ],
   "source": [
    "# Evaluation: Compute Accuracy and Micro F1, Macro F1, Samples F1 scores\n",
    "\n",
    "def compute_accuracy(model):\n",
    "    num_correct, num_samples, total_loss = 0, 0, 0\n",
    "    with torch.no_grad():\n",
    "        model.eval()\n",
    "        model_result = []\n",
    "        targets = []\n",
    "        for x, food_labels, paths in test_dataloader:\n",
    "            y = np.array([get_ingredients(path) for path in paths])\n",
    "            x, y = gpu(x), gpu(torch.from_numpy(y)).to(torch.float32)\n",
    "            (food_scores, ingredient_scores) = model(x)\n",
    "            loss = criterion(ingredient_scores, y) \n",
    "            total_loss += loss.data.item()\n",
    "            num_correct += get_ingre_num_correct(ingredient_scores, y)\n",
    "            num_samples += x.size(0)\n",
    "            \n",
    "            model_result.extend(ingredient_scores.cpu().numpy())\n",
    "            targets.extend(y.cpu().numpy())\n",
    "        result = calculate_metrics(np.array(model_result), np.array(targets))\n",
    "        micro_f1, macro_f1, samples_f1 = result['micro/f1'], result['macro/f1'], result['samples/f1']\n",
    "        print(\"Testing: \"\n",
    "              \"Micro F1: {:.3f} \"\n",
    "              \"Macro F1: {:.3f} \"\n",
    "              \"Samples F1: {:.3f}\".format(result['micro/f1'],\n",
    "                                          result['macro/f1'],\n",
    "                                          result['samples/f1']))\n",
    "        average_loss = total_loss / num_samples\n",
    "        acc = num_correct / num_samples\n",
    "\n",
    "    print('Accuracy of the network on the all test images: %.2f%%' % (\n",
    "        100 * num_correct / num_samples))\n",
    "\n",
    "compute_accuracy(model)"
   ]
  },
  {
   "cell_type": "markdown",
   "metadata": {},
   "source": [
    "## Precision + Recall Statistics"
   ]
  },
  {
   "cell_type": "markdown",
   "metadata": {},
   "source": [
    "We compute aggregate precision-recall stats as well as precision-recall stats on a per-ingredient basis.\n",
    "Store the predictions made by the model in y_score and the correct labels in y_test for all the testing examples."
   ]
  },
  {
   "cell_type": "code",
   "execution_count": 21,
   "metadata": {},
   "outputs": [],
   "source": [
    "y_score = []\n",
    "y_test = []\n",
    "criterion = nn.BCELoss()\n",
    "with torch.no_grad():\n",
    "    model.eval()\n",
    "    for x, food_labels, paths in test_dataloader:\n",
    "        y = np.array([get_ingredients(path) for path in paths])\n",
    "        x, y = gpu(x), gpu(torch.from_numpy(y)).to(torch.float32)\n",
    "        (food_scores, ingre_scores) = model(x)\n",
    "        y_score.extend(ingre_scores.cpu().numpy())\n",
    "        y_test.extend(y.cpu().numpy())"
   ]
  },
  {
   "cell_type": "code",
   "execution_count": 22,
   "metadata": {},
   "outputs": [],
   "source": [
    "y_score = np.array(y_score)\n",
    "y_test = np.array(y_test)"
   ]
  },
  {
   "cell_type": "markdown",
   "metadata": {},
   "source": [
    "Store the thresholded predictions made by the model in y_pred (using a default threshold of 0.5 for each ingredient category)"
   ]
  },
  {
   "cell_type": "code",
   "execution_count": 23,
   "metadata": {},
   "outputs": [],
   "source": [
    "y_pred = np.array(y_score > 0.5, dtype=float)"
   ]
  },
  {
   "cell_type": "markdown",
   "metadata": {},
   "source": [
    "### Compute Precision/Recall for each Ingredient Manually"
   ]
  },
  {
   "cell_type": "code",
   "execution_count": 24,
   "metadata": {},
   "outputs": [],
   "source": [
    "# Manual Precision/Recall Calculations:\n",
    "from collections import defaultdict\n",
    "\n",
    "num_classes = 353\n",
    "pr_stats = dict()\n",
    "for j in range(num_classes):\n",
    "    pr_stats[j] = defaultdict(int)\n",
    "for (y_test_i, y_pred_i) in zip(y_test, y_pred):\n",
    "    for j in range(num_classes):\n",
    "        if y_test_i[j] == 0 and y_pred_i[j] == 0:\n",
    "            pr_stats[j][\"TN\"] += 1\n",
    "        elif y_test_i[j] == 1 and y_pred_i[j] == 1:\n",
    "            pr_stats[j][\"TP\"] += 1\n",
    "        elif y_test_i[j] == 1 and y_pred_i[j] == 0:\n",
    "            pr_stats[j][\"FN\"] += 1\n",
    "        elif y_test_i[j] == 0 and y_pred_i[j] == 1:\n",
    "            pr_stats[j][\"FP\"] += 1"
   ]
  },
  {
   "cell_type": "code",
   "execution_count": 25,
   "metadata": {},
   "outputs": [
    {
     "name": "stdout",
     "output_type": "stream",
     "text": [
      "Precision-Recall Statistics for each Ingredient\n",
      "---------------------------------------------------------------------------\n",
      "Ingredient                                        Precision     Recall     \n",
      "---------------------------------------------------------------------------\n",
      "Minced green onion                                   0.72        0.40      \n",
      "chiffonade of green onion                            0.76        0.31      \n",
      "Seared green onion                                   0.31        0.04      \n",
      "White onion                                          0.71        0.69      \n",
      "Brunoise diced ham                                   0.70        0.69      \n",
      "Julienned ham                                        0.00        0.00      \n",
      "Ham                                                  0.67        0.08      \n",
      "Sliced ham                                           0.00        0.00      \n",
      "Brunoise diced carrot                                0.69        0.50      \n",
      "Sliced carrot                                        0.45        0.06      \n",
      "Batonnet carrot                                      1.00        0.05      \n",
      "Julienned carrot                                     0.65        0.34      \n",
      "Hob blocks of carrot                                 0.67        0.22      \n",
      "Black sesame                                         0.76        0.22      \n",
      "White sesame                                         1.00        0.07      \n",
      "Crushed pepper                                       0.79        0.25      \n",
      "Shredded pepper                                      0.48        0.18      \n",
      "Pepper slices                                        0.70        0.35      \n",
      "Seared pepper                                        0.67        0.05      \n",
      "Pepper                                               0.22        0.08      \n",
      "Whole green pepper                                   0.82        0.75      \n",
      "Chinese Parsleycoriander                             0.69        0.19      \n",
      "Bean sprouts                                         0.84        0.42      \n",
      "Bacon                                                0.00        0.00      \n",
      "Tomato sclices                                       0.73        0.62      \n",
      "Cherry tomato slices                                 0.00        0.00      \n",
      "Cherry tomato                                        0.00        0.00      \n",
      "Green vegetables                                     0.59        0.13      \n",
      "chiffonade of green vegetables                       0.50        0.02      \n",
      "Corn kernels                                         0.90        0.65      \n",
      "Corn blocks                                          1.00        0.15      \n",
      "Bitter gourd slices                                  0.79        0.73      \n",
      "Broccoli                                             0.54        0.17      \n",
      "Cauliflower                                          0.86        0.82      \n",
      "Toast                                                0.00        0.00      \n",
      "Bread                                                0.00        0.00      \n",
      "Chinese mahogany                                     0.00        0.00      \n",
      "Crab sticks                                          0.00        0.00      \n",
      "Bamboo shoots tips                                   0.00        0.00      \n",
      "Chive pieces                                         0.74        0.59      \n",
      "Chopped chives                                       0.77        0.35      \n",
      "Chives                                               0.94        0.81      \n",
      "Shredded onion                                       0.00        0.00      \n",
      "Onion slices                                         0.36        0.03      \n",
      "Brunoise diced onion                                 1.00        0.06      \n",
      "Pumpkin blocks                                       0.60        0.06      \n",
      "Groundnut kernels                                    0.74        0.49      \n",
      "Crushed groundnut kernels                            0.58        0.11      \n",
      "Lemon                                                0.00        0.00      \n",
      "Shelled fresh shrimps                                0.79        0.48      \n",
      "Dried sea shrimp                                     0.00        0.00      \n",
      "Fresh Shrimp                                         0.74        0.54      \n",
      "Crayfish                                             0.87        0.94      \n",
      "Julienned cucumber                                   0.58        0.27      \n",
      "Batonnet cucumber                                    0.38        0.03      \n",
      "Hob blocks of cucumber                               0.74        0.64      \n",
      "Cucumber slices                                      0.69        0.25      \n",
      "Brunoise diced cucumber                              0.70        0.52      \n",
      "Crushed hot and dry chili                            0.65        0.37      \n",
      "Hot and dry pepper                                   0.66        0.26      \n",
      "Hot and dry pepper powder                            0.79        0.35      \n",
      "Chiffonade of purple cabbage                         0.00        0.00      \n",
      "Chinese cabbage                                      0.89        0.51      \n",
      "Black fungus                                         0.75        0.60      \n",
      "Perilla crispa tanaka                                0.00        0.00      \n",
      "Ginger slices                                        0.10        0.05      \n",
      "Julienned ginger                                     0.44        0.07      \n",
      "Chopped ginger                                       0.50        0.03      \n",
      "Scrambled egg                                        0.78        0.85      \n",
      "Egg cake                                             0.71        0.40      \n",
      "Crushed egg crepe                                    0.48        0.20      \n",
      "Spiced corned egg                                    0.79        0.36      \n",
      "Egg yolk                                             0.00        0.00      \n",
      "Steamed egg custard                                  0.85        0.52      \n",
      "Boild egg slices                                     0.94        0.31      \n",
      "Boild eggs                                           0.94        0.88      \n",
      "Egg drop                                             0.87        0.88      \n",
      "Shredded egg crepe                                   0.00        0.00      \n",
      "Quail eggs                                           0.00        0.00      \n",
      "Minced pork                                          0.20        0.19      \n",
      "Wolfberry                                            0.61        0.36      \n",
      "Minced pork                                          0.84        0.44      \n",
      "Shredded pork                                        0.74        0.67      \n",
      "Streaky pork slices                                  0.75        0.56      \n",
      "Pork slices                                          0.57        0.49      \n",
      "Pork chunks                                          0.80        0.40      \n",
      "Streaky pork chunks                                  0.64        0.17      \n",
      "Cured meat chunks                                    0.00        0.00      \n",
      "kale borecole                                        0.00        0.00      \n",
      "Pork intestines                                      0.85        0.77      \n",
      "Lettuce                                              0.58        0.30      \n",
      "Steamed bread                                        0.53        0.23      \n",
      "Red dates                                            0.65        0.71      \n",
      "Kiwi                                                 0.00        0.00      \n",
      "Garlic clove                                         0.43        0.09      \n",
      "Crushed garlic                                       0.70        0.24      \n",
      "Garlic bulb                                          0.78        0.45      \n",
      "Lentinus edodes                                      0.69        0.30      \n",
      "Lentinus edodes slices                               0.91        0.36      \n",
      "Brunoise diced lentinus edodes                       0.33        0.03      \n",
      "Pleurotus ostreatus                                  0.33        0.11      \n",
      "Poplar Mushroom                                      0.81        0.61      \n",
      "Dried mushroom                                       0.52        0.76      \n",
      "White beech mushroom                                 0.00        0.00      \n",
      "Yam chunks                                           0.83        0.64      \n",
      "White yam                                            0.93        0.86      \n",
      "Yam slices                                           1.00        0.50      \n",
      "Strawberry                                           0.00        0.00      \n",
      "Sea cucumber                                         0.83        0.67      \n",
      "Shanghai cabbage                                     0.76        0.47      \n",
      "Asparagus                                            0.00        0.00      \n",
      "Bamboo shoots chunks                                 0.00        0.00      \n",
      "Shredded bamboo shoots                               0.51        0.24      \n",
      "Rice                                                 0.88        0.78      \n",
      "Meat balls                                           0.91        0.64      \n",
      "Beaf balls                                           0.00        0.00      \n",
      "Shrimp balls                                         0.00        0.00      \n",
      "Fish balls                                           0.00        0.00      \n",
      "blueberry jam                                        0.94        0.86      \n",
      "Orange slices                                        0.00        0.00      \n",
      "Mango                                                0.71        0.08      \n",
      "Noodles                                              0.92        0.55      \n",
      "Beef chunks                                          0.75        0.49      \n",
      "Beef slices                                          0.74        0.41      \n",
      "Sliced Fatty Beef                                    0.92        0.76      \n",
      "Tofu chunks                                          0.88        0.54      \n",
      "Chiba beancurd                                       0.00        0.00      \n",
      "Fish bean curd                                       0.00        0.00      \n",
      "Stinky tofu                                          0.43        0.75      \n",
      "Shredded dried bean curd                             0.54        0.51      \n",
      "Hob blocks of potato                                 0.69        0.65      \n",
      "Potato slices                                        0.00        0.00      \n",
      "Shredded potato                                      0.95        0.79      \n",
      "Mashed potatoes                                      0.71        0.49      \n",
      "Batonnet potato                                      1.00        0.02      \n",
      "Chili oil                                            0.76        0.65      \n",
      "Chili saurce                                         0.67        0.30      \n",
      "Chili powder                                         0.00        0.00      \n",
      "Garlic sprout pieces                                 0.82        0.56      \n",
      "Brunoise diced garlic sprout                         1.00        0.04      \n",
      "Garlic leaves                                        0.50        0.27      \n",
      "Pickled red peppers                                  0.82        0.34      \n",
      "Pickled capsicum annum fasciculatum                  0.82        0.65      \n",
      "Minced pickled capsicum annum fasciculatum           0.86        0.07      \n",
      "Shredded kelp                                        0.88        0.77      \n",
      "kelp                                                 0.42        0.29      \n",
      "Bullfrog                                             0.80        0.50      \n",
      "Caviar                                               0.00        0.00      \n",
      "Lotus root slices                                    0.87        0.40      \n",
      "Lotus root chunks                                    0.87        0.82      \n",
      "Lotus root box                                       0.83        0.72      \n",
      "Celtuce sclices                                      0.68        0.48      \n",
      "Batonnet celtuce                                     1.00        0.03      \n",
      "Shredded celtuce                                     0.00        0.00      \n",
      "Sweet potato chunks                                  0.00        0.00      \n",
      "Sausage slices                                       0.77        0.79      \n",
      "Cabbage                                              0.79        0.74      \n",
      "chiffonade of cabbage                                0.70        0.26      \n",
      "Spareribs                                            0.81        0.55      \n",
      "Clams                                                0.97        0.65      \n",
      "Lilium brownii                                       0.33        0.05      \n",
      "Fermented vegetables                                 0.78        0.64      \n",
      "Double-side fried egg                                0.90        0.65      \n",
      "Sliced double-side fried egg                         0.56        0.36      \n",
      "Radish slices                                        1.00        0.03      \n",
      "Batonnet radish                                      0.00        0.00      \n",
      "Hob blocks of radish                                 0.00        0.00      \n",
      "Julienned radish                                     0.00        0.00      \n",
      "Mashed pickled radish                                0.00        0.00      \n",
      "Pickled radish slices                                0.00        0.00      \n",
      "flatbread                                            0.00        0.00      \n",
      "Spring rolls                                         0.85        0.79      \n",
      "Chicken chunks                                       0.66        0.61      \n",
      "Brunoise diced chicken                               0.72        0.69      \n",
      "Tentacles of Squid                                   0.67        0.60      \n",
      "Squid pieces                                         1.00        0.04      \n",
      "Squid rings                                          0.00        0.00      \n",
      "White gourd chunks                                   0.74        0.76      \n",
      "Dried pieces of bean curd                            0.56        0.35      \n",
      "Yellow peaches                                       0.86        0.24      \n",
      "Pineapple                                            0.95        0.73      \n",
      "Eggplant                                             0.94        0.52      \n",
      "Eggplant slice                                       0.00        0.00      \n",
      "Batonnet eggplant                                    0.00        0.00      \n",
      "Hob blocks of eggplant                               0.72        0.65      \n",
      "Eggplant sticks                                      0.78        0.32      \n",
      "Water mellon                                         0.00        0.00      \n",
      "Gluten                                               0.96        0.71      \n",
      "Gluten chunks                                        0.41        0.09      \n",
      "Dumplings                                            0.92        0.61      \n",
      "Fried bread stick                                    0.96        0.78      \n",
      "Chopped fried bread stick                            0.00        0.00      \n",
      "Hot pickled mustard                                  0.59        0.40      \n",
      "Sesame sauce                                         0.25        0.03      \n",
      "Soya-bean sprout                                     0.27        0.08      \n",
      "Shredded beef tripe                                  0.60        0.27      \n",
      "Water spinach                                        0.90        0.56      \n",
      "Shredded pickled Bamboo Shoots                       0.41        0.34      \n",
      "barbecued pork slices                                0.67        0.80      \n",
      "barbecued pork chunks                                0.00        0.00      \n",
      "Chicken Feet                                         0.82        0.75      \n",
      "Cold steamed rice noodles                            0.78        0.70      \n",
      "Mutton slices                                        0.68        0.36      \n",
      "Mutton chunks                                        0.48        0.18      \n",
      "Crushed Small loaf of steamed bread                  0.72        0.55      \n",
      "Small loaf of steamed bread                          0.96        0.85      \n",
      "Starch sheet                                         0.60        0.11      \n",
      "Yuba                                                 0.70        0.67      \n",
      "Okra slices                                          0.59        0.52      \n",
      "Chestnut                                             0.19        0.28      \n",
      "Preserved egg chunks                                 0.86        0.66      \n",
      "Crushed preserved egg                                0.97        0.75      \n",
      "Whole preserved egg                                  0.75        0.19      \n",
      "Laver                                                0.85        0.86      \n",
      "Fried dough twist                                    0.00        0.00      \n",
      "Longan                                               0.00        0.00      \n",
      "Stewed Pork                                          0.91        0.65      \n",
      "Beans                                                0.74        0.75      \n",
      "Minced beans                                         0.00        0.00      \n",
      "Minced pickled beans                                 0.85        0.55      \n",
      "Sweet fermented flour paste                          0.50        0.16      \n",
      "River snail                                          0.93        0.76      \n",
      "Spinach                                              0.61        0.21      \n",
      "Sea sedge                                            0.96        0.83      \n",
      "Bracken                                              0.40        0.12      \n",
      "Coprinus comatus                                     0.00        0.00      \n",
      "Lime leaves                                          0.00        0.00      \n",
      "lemongrass                                           0.33        0.08      \n",
      "Lime                                                 0.00        0.00      \n",
      "Chicken Wings                                        0.79        0.47      \n",
      "Snow peas                                            0.79        0.75      \n",
      "Pickled vegetable                                    0.50        0.06      \n",
      "Salted egg                                           0.00        0.00      \n",
      "Curry                                                0.65        0.44      \n",
      "Black pepper powder                                  0.22        0.33      \n",
      "Fried flour                                          0.79        0.60      \n",
      "Whole black chicken                                  0.19        0.08      \n",
      "Black chicken chunks                                 0.78        0.80      \n",
      "Celery stalk slices                                  0.84        0.74      \n",
      "Celery stalk                                         0.00        0.00      \n",
      "Celery leaves                                        0.50        0.11      \n",
      "Celery                                               0.50        0.22      \n",
      "Brunoise diced celery                                0.62        0.29      \n",
      "Banana slices                                        0.33        0.50      \n",
      "Apple chunks                                         0.00        0.00      \n",
      "Loofah                                               0.85        0.51      \n",
      "Fish slices                                          0.77        0.76      \n",
      "fish chunks                                          0.62        0.22      \n",
      "Fish                                                 0.91        0.65      \n",
      "zucchini slices                                      0.47        0.22      \n",
      "Boiled chicken slices                                0.71        0.82      \n",
      "Whole boiled chicken                                 0.57        0.57      \n",
      "Tenderloin slices                                    0.77        0.67      \n",
      "Tenderloin chunks                                    0.33        0.18      \n",
      "Batonnet tenderloin                                  0.74        0.49      \n",
      "White congee                                         0.97        0.80      \n",
      "Spaghetti                                            0.88        0.67      \n",
      "Steak                                                0.83        0.65      \n",
      "Cumin powder                                         0.25        0.31      \n",
      "Beef tripes                                          0.00        0.00      \n",
      "Pine nuts                                            0.84        0.97      \n",
      "Gemelli                                              0.57        0.25      \n",
      "Korean chili sauce                                   0.56        0.23      \n",
      "kidney bean                                          0.00        0.00      \n",
      "Zanthoxylum fagara                                   0.54        0.28      \n",
      "Rice noodle                                          0.52        0.50      \n",
      "Fried yuba skin                                      0.57        0.56      \n",
      "Salad dressing                                       0.89        0.44      \n",
      "Soya bean                                            0.00        0.00      \n",
      "Fern root noodles                                    0.95        0.67      \n",
      "ketchup                                              0.20        0.03      \n",
      "Mint leaf                                            0.55        0.04      \n",
      "Soy sauce                                            0.00        0.00      \n",
      "Baby Chinese Cabbage                                 0.89        0.74      \n",
      "Water                                                0.88        0.73      \n",
      "Lotus seeds                                          0.70        0.29      \n",
      "Azuki bean                                           0.00        0.00      \n",
      "Green soybean                                        0.50        0.03      \n",
      "Parsley                                              0.49        0.12      \n",
      "Duck neck                                            0.76        0.68      \n",
      "Thick broad-bean sauce                               0.00        0.00      \n",
      "Enoki mushroom                                       0.24        0.04      \n",
      "Crystal sugar                                        0.84        0.76      \n",
      "Cashew                                               0.32        0.18      \n",
      "Steamed Bun                                          0.98        0.86      \n",
      "Sour sauce                                           0.00        0.00      \n",
      "Pork leg                                             0.66        0.62      \n",
      "Bayleaf                                              0.00        0.00      \n",
      "shumai                                               0.65        0.92      \n",
      "Crap roe                                             0.78        0.50      \n",
      "Shrimp eggs                                          0.00        0.00      \n",
      "Button mushroom                                      0.52        0.26      \n",
      "Coconut water                                        0.54        0.21      \n",
      "Glutinous rice                                       0.68        0.64      \n",
      "Sweet potato starch noodles                          0.75        0.53      \n",
      "Vermicelli                                           0.91        0.63      \n",
      "Fermented soya beans                                 0.57        0.03      \n",
      "Rice dumpling                                        0.73        0.93      \n",
      "Sweetened bean paste                                 0.00        0.00      \n",
      "Sweet dumplings                                      0.98        0.89      \n",
      "Rice noodle roll                                     0.99        0.70      \n",
      "Pea                                                  0.56        0.48      \n",
      "Pork floss                                           0.59        0.11      \n",
      "Scallion pancake                                     0.76        0.62      \n",
      "Black rice                                           0.71        0.26      \n",
      "Small crispy rice                                    0.31        0.39      \n",
      "Coconut cake                                         0.92        0.77      \n",
      "Shredded coconut stuffing                            0.00        0.00      \n",
      "Mussels                                              0.00        0.00      \n",
      "Pork lungs                                           0.90        0.51      \n",
      "Crispy sausage                                       0.00        0.00      \n",
      "Codonopsis pilosula                                  0.00        0.00      \n",
      "Radix Astragali                                      0.00        0.00      \n",
      "American genseng                                     0.00        0.00      \n",
      "Cordyceps sinensis                                   1.00        0.50      \n",
      "Aniseed                                              0.32        0.11      \n",
      "Raisin                                               0.50        0.12      \n",
      "Suckling pig                                         0.87        0.82      \n",
      "Steamed twisted roll                                 0.93        0.86      \n",
      "Grape                                                0.00        0.00      \n",
      "Pork paste                                           0.92        0.73      \n",
      "Cheese                                               0.38        0.10      \n",
      "Wonton                                               0.82        0.84      \n",
      "Duck head                                            1.00        0.65      \n",
      "Chinese Kale                                         0.92        0.58      \n",
      "Chicken legs                                         0.42        0.56      \n",
      "Whole chicken                                        0.75        0.43      \n",
      "Shredded chicken                                     0.58        0.40      \n",
      "Sweet and sour sauce                                 0.86        0.42      \n",
      "Fish head                                            0.90        0.79      \n",
      "Steamed Rice Powder                                  0.83        0.72      \n",
      "Scallop                                              0.91        0.88      \n",
      "Macaroni                                             0.00        0.00      \n",
      "Ribbonfish                                           0.83        0.42      \n",
      "Tea-leaves                                           1.00        0.07      \n",
      "Millet                                               0.92        0.83      \n",
      "Preserved vegetables                                 0.91        0.73      \n",
      "CoixSeed                                             0.86        0.18      \n",
      "Green beans                                          0.93        0.67      \n",
      "White fungus                                         0.84        0.79      \n",
      "Crucian                                              0.92        0.74      \n",
      "Vinegar                                              0.00        0.00      \n",
      "Pancakes                                             0.68        0.65      \n",
      "Crispbread                                           0.75        0.11      \n",
      "Mango chunks                                         0.51        0.91      \n",
      "Crab                                                 0.97        0.83      \n",
      "Soya-bean milk                                       0.00        0.00      \n",
      "Fermented soybean paste                              0.17        0.02      \n",
      "Oyster sauce                                         0.87        0.57      \n",
      "Spare ribs chunks                                    0.79        0.75      \n",
      "Green soy beans                                      0.97        0.80      \n",
      "Cherry                                               0.00        0.00      \n",
      "Shredded pig ears                                    1.00        0.50      \n"
     ]
    }
   ],
   "source": [
    "precision = dict()\n",
    "recall = dict()\n",
    "dash = '-' * 75\n",
    "print(\"Precision-Recall Statistics for each Ingredient\")\n",
    "print(dash)\n",
    "print('{:<50s}{:^10s}{:^15s}'.format(\"Ingredient\", \"Precision\", \"Recall\"))\n",
    "print(dash)\n",
    "for j in range(num_classes):\n",
    "    if (pr_stats[j][\"TP\"] + pr_stats[j][\"FP\"]) == 0:\n",
    "        precision[j] = 0\n",
    "    else:\n",
    "        precision[j] = pr_stats[j][\"TP\"] / (pr_stats[j][\"TP\"] + pr_stats[j][\"FP\"])\n",
    "        \n",
    "    if (pr_stats[j][\"TP\"] + pr_stats[j][\"FN\"]) == 0:\n",
    "        recall[j] = 0\n",
    "    else:\n",
    "        recall[j] = pr_stats[j][\"TP\"] / (pr_stats[j][\"TP\"] + pr_stats[j][\"FN\"])\n",
    "    print('{:<50s}{:^10.2f}{:^15.2f}'.format(IngreList[j], precision[j], recall[j]))  "
   ]
  },
  {
   "cell_type": "markdown",
   "metadata": {},
   "source": [
    "### Sklearn Classification Report"
   ]
  },
  {
   "cell_type": "code",
   "execution_count": 26,
   "metadata": {},
   "outputs": [
    {
     "name": "stdout",
     "output_type": "stream",
     "text": [
      "\n",
      "Accuracy: 0.20\n",
      "\n",
      "Micro Precision: 0.75\n",
      "Micro Recall: 0.47\n",
      "Micro F1-score: 0.58\n",
      "\n"
     ]
    },
    {
     "name": "stderr",
     "output_type": "stream",
     "text": [
      "/opt/conda/lib/python3.7/site-packages/sklearn/metrics/_classification.py:1245: UndefinedMetricWarning: Precision is ill-defined and being set to 0.0 in labels with no predicted samples. Use `zero_division` parameter to control this behavior.\n",
      "  _warn_prf(average, modifier, msg_start, len(result))\n"
     ]
    },
    {
     "name": "stdout",
     "output_type": "stream",
     "text": [
      "Macro Precision: 0.55\n",
      "Macro Recall: 0.36\n",
      "Macro F1-score: 0.41\n",
      "\n"
     ]
    },
    {
     "name": "stderr",
     "output_type": "stream",
     "text": [
      "/opt/conda/lib/python3.7/site-packages/sklearn/metrics/_classification.py:1245: UndefinedMetricWarning: Precision is ill-defined and being set to 0.0 in labels with no predicted samples. Use `zero_division` parameter to control this behavior.\n",
      "  _warn_prf(average, modifier, msg_start, len(result))\n"
     ]
    },
    {
     "name": "stdout",
     "output_type": "stream",
     "text": [
      "Weighted Precision: 0.72\n",
      "Weighted Recall: 0.47\n",
      "Weighted F1-score: 0.55\n",
      "\n",
      "Classification Report\n",
      "\n",
      "                                            precision    recall  f1-score   support\n",
      "\n",
      "                        Minced green onion       0.72      0.40      0.52      6698\n",
      "                 chiffonade of green onion       0.76      0.31      0.44       666\n",
      "                        Seared green onion       0.31      0.04      0.07       731\n",
      "                               White onion       0.71      0.69      0.70       144\n",
      "                        Brunoise diced ham       0.70      0.69      0.69       435\n",
      "                             Julienned ham       0.00      0.00      0.00        10\n",
      "                                       Ham       0.67      0.08      0.15        24\n",
      "                                Sliced ham       0.00      0.00      0.00        46\n",
      "                     Brunoise diced carrot       0.69      0.50      0.58       868\n",
      "                             Sliced carrot       0.45      0.06      0.11       365\n",
      "                           Batonnet carrot       1.00      0.05      0.09        41\n",
      "                          Julienned carrot       0.65      0.34      0.44       699\n",
      "                      Hob blocks of carrot       0.67      0.22      0.33       387\n",
      "                              Black sesame       0.76      0.22      0.34      1639\n",
      "                              White sesame       1.00      0.07      0.12        76\n",
      "                            Crushed pepper       0.79      0.25      0.38      4353\n",
      "                           Shredded pepper       0.48      0.18      0.27      1138\n",
      "                             Pepper slices       0.70      0.35      0.46      1570\n",
      "                             Seared pepper       0.67      0.05      0.09        41\n",
      "                                    Pepper       0.22      0.08      0.12        99\n",
      "                        Whole green pepper       0.82      0.75      0.78       218\n",
      "                  Chinese Parsleycoriander       0.69      0.19      0.29      3886\n",
      "                              Bean sprouts       0.84      0.42      0.56       187\n",
      "                                     Bacon       0.00      0.00      0.00         7\n",
      "                            Tomato sclices       0.73      0.62      0.67       493\n",
      "                      Cherry tomato slices       0.00      0.00      0.00        78\n",
      "                             Cherry tomato       0.00      0.00      0.00       213\n",
      "                          Green vegetables       0.59      0.13      0.21      1370\n",
      "            chiffonade of green vegetables       0.50      0.02      0.04        49\n",
      "                              Corn kernels       0.90      0.65      0.75       460\n",
      "                               Corn blocks       1.00      0.15      0.26       101\n",
      "                       Bitter gourd slices       0.79      0.73      0.76       267\n",
      "                                  Broccoli       0.54      0.17      0.26       315\n",
      "                               Cauliflower       0.86      0.82      0.84       255\n",
      "                                     Toast       0.00      0.00      0.00        18\n",
      "                                     Bread       0.00      0.00      0.00         9\n",
      "                          Chinese mahogany       0.00      0.00      0.00         6\n",
      "                               Crab sticks       0.00      0.00      0.00        17\n",
      "                        Bamboo shoots tips       0.00      0.00      0.00        18\n",
      "                              Chive pieces       0.74      0.59      0.65       222\n",
      "                            Chopped chives       0.77      0.35      0.49        48\n",
      "                                    Chives       0.94      0.81      0.87       201\n",
      "                            Shredded onion       0.00      0.00      0.00        88\n",
      "                              Onion slices       0.36      0.03      0.05       303\n",
      "                      Brunoise diced onion       1.00      0.06      0.11        17\n",
      "                            Pumpkin blocks       0.60      0.06      0.12        47\n",
      "                         Groundnut kernels       0.74      0.49      0.59       970\n",
      "                 Crushed groundnut kernels       0.58      0.11      0.18        64\n",
      "                                     Lemon       0.00      0.00      0.00        86\n",
      "                     Shelled fresh shrimps       0.79      0.48      0.60       361\n",
      "                          Dried sea shrimp       0.00      0.00      0.00        16\n",
      "                              Fresh Shrimp       0.74      0.54      0.63       635\n",
      "                                  Crayfish       0.87      0.94      0.90       221\n",
      "                        Julienned cucumber       0.58      0.27      0.37       325\n",
      "                         Batonnet cucumber       0.38      0.03      0.06        95\n",
      "                    Hob blocks of cucumber       0.74      0.64      0.68       269\n",
      "                           Cucumber slices       0.69      0.25      0.37       548\n",
      "                   Brunoise diced cucumber       0.70      0.52      0.59       466\n",
      "                 Crushed hot and dry chili       0.65      0.37      0.47      3241\n",
      "                        Hot and dry pepper       0.66      0.26      0.38      1103\n",
      "                 Hot and dry pepper powder       0.79      0.35      0.48       314\n",
      "              Chiffonade of purple cabbage       0.00      0.00      0.00        24\n",
      "                           Chinese cabbage       0.89      0.51      0.65       202\n",
      "                              Black fungus       0.75      0.60      0.67      1003\n",
      "                     Perilla crispa tanaka       0.00      0.00      0.00         5\n",
      "                             Ginger slices       0.10      0.05      0.06       154\n",
      "                          Julienned ginger       0.44      0.07      0.12       171\n",
      "                            Chopped ginger       0.50      0.03      0.05        39\n",
      "                             Scrambled egg       0.78      0.85      0.81      1684\n",
      "                                  Egg cake       0.71      0.40      0.51       125\n",
      "                         Crushed egg crepe       0.48      0.20      0.28        61\n",
      "                         Spiced corned egg       0.79      0.36      0.50       138\n",
      "                                  Egg yolk       0.00      0.00      0.00         5\n",
      "                       Steamed egg custard       0.85      0.52      0.65       249\n",
      "                          Boild egg slices       0.94      0.31      0.47       196\n",
      "                                Boild eggs       0.94      0.88      0.91       221\n",
      "                                  Egg drop       0.87      0.88      0.87       145\n",
      "                        Shredded egg crepe       0.00      0.00      0.00        25\n",
      "                                Quail eggs       0.00      0.00      0.00         9\n",
      "                               Minced pork       0.20      0.19      0.19        16\n",
      "                                 Wolfberry       0.61      0.36      0.45       305\n",
      "                               Minced pork       0.84      0.44      0.58      1415\n",
      "                             Shredded pork       0.74      0.67      0.71      1147\n",
      "                       Streaky pork slices       0.75      0.56      0.64      1669\n",
      "                               Pork slices       0.57      0.49      0.53       795\n",
      "                               Pork chunks       0.80      0.40      0.54       337\n",
      "                       Streaky pork chunks       0.64      0.17      0.27       132\n",
      "                         Cured meat chunks       0.00      0.00      0.00        36\n",
      "                             kale borecole       0.00      0.00      0.00        22\n",
      "                           Pork intestines       0.85      0.77      0.81       179\n",
      "                                   Lettuce       0.58      0.30      0.39       680\n",
      "                             Steamed bread       0.53      0.23      0.32        40\n",
      "                                 Red dates       0.65      0.71      0.68       317\n",
      "                                      Kiwi       0.00      0.00      0.00         5\n",
      "                              Garlic clove       0.43      0.09      0.15       554\n",
      "                            Crushed garlic       0.70      0.24      0.35      1936\n",
      "                               Garlic bulb       0.78      0.45      0.57        47\n",
      "                           Lentinus edodes       0.69      0.30      0.42       326\n",
      "                    Lentinus edodes slices       0.91      0.36      0.52       209\n",
      "            Brunoise diced lentinus edodes       0.33      0.03      0.06        33\n",
      "                       Pleurotus ostreatus       0.33      0.11      0.17         9\n",
      "                           Poplar Mushroom       0.81      0.61      0.70       197\n",
      "                            Dried mushroom       0.52      0.76      0.62       210\n",
      "                      White beech mushroom       0.00      0.00      0.00         3\n",
      "                               Yam chunks        0.83      0.64      0.72       120\n",
      "                                 White yam       0.93      0.86      0.89        93\n",
      "                                Yam slices       1.00      0.50      0.67         2\n",
      "                                Strawberry       0.00      0.00      0.00        17\n",
      "                              Sea cucumber       0.83      0.67      0.74       171\n",
      "                          Shanghai cabbage       0.76      0.47      0.58       342\n",
      "                                 Asparagus       0.00      0.00      0.00        13\n",
      "                      Bamboo shoots chunks       0.00      0.00      0.00         9\n",
      "                    Shredded bamboo shoots       0.51      0.24      0.33       138\n",
      "                                      Rice       0.88      0.78      0.83      1817\n",
      "                                Meat balls       0.91      0.64      0.75       135\n",
      "                                Beaf balls       0.00      0.00      0.00         4\n",
      "                              Shrimp balls       0.00      0.00      0.00         4\n",
      "                                Fish balls       0.00      0.00      0.00        43\n",
      "                             blueberry jam       0.94      0.86      0.90        93\n",
      "                             Orange slices       0.00      0.00      0.00        14\n",
      "                                     Mango       0.71      0.08      0.14        66\n",
      "                                   Noodles       0.92      0.55      0.69      1051\n",
      "                               Beef chunks       0.75      0.49      0.59      1130\n",
      "                               Beef slices       0.74      0.41      0.53       309\n",
      "                         Sliced Fatty Beef       0.92      0.76      0.83       174\n",
      "                               Tofu chunks       0.88      0.54      0.67      1113\n",
      "                            Chiba beancurd       0.00      0.00      0.00        16\n",
      "                            Fish bean curd       0.00      0.00      0.00        11\n",
      "                               Stinky tofu       0.43      0.75      0.55       241\n",
      "                  Shredded dried bean curd       0.54      0.51      0.52       156\n",
      "                      Hob blocks of potato       0.69      0.65      0.67      1009\n",
      "                             Potato slices       0.00      0.00      0.00        43\n",
      "                           Shredded potato       0.95      0.79      0.86       281\n",
      "                           Mashed potatoes       0.71      0.49      0.58       257\n",
      "                           Batonnet potato       1.00      0.02      0.04        46\n",
      "                                 Chili oil       0.76      0.65      0.70      2134\n",
      "                              Chili saurce       0.67      0.30      0.41       443\n",
      "                              Chili powder       0.00      0.00      0.00        33\n",
      "                      Garlic sprout pieces       0.82      0.56      0.67       343\n",
      "              Brunoise diced garlic sprout       1.00      0.04      0.08        23\n",
      "                             Garlic leaves       0.50      0.27      0.35       289\n",
      "                       Pickled red peppers       0.82      0.34      0.48       206\n",
      "       Pickled capsicum annum fasciculatum       0.82      0.65      0.72       218\n",
      "Minced pickled capsicum annum fasciculatum       0.86      0.07      0.13        85\n",
      "                             Shredded kelp       0.88      0.77      0.82       173\n",
      "                                      kelp       0.42      0.29      0.34        38\n",
      "                                  Bullfrog       0.80      0.50      0.61       419\n",
      "                                    Caviar       0.00      0.00      0.00         5\n",
      "                         Lotus root slices       0.87      0.40      0.55       217\n",
      "                         Lotus root chunks       0.87      0.82      0.85       193\n",
      "                            Lotus root box       0.83      0.72      0.77       106\n",
      "                           Celtuce sclices       0.68      0.48      0.56       143\n",
      "                          Batonnet celtuce       1.00      0.03      0.05        39\n",
      "                          Shredded celtuce       0.00      0.00      0.00         2\n",
      "                       Sweet potato chunks       0.00      0.00      0.00        24\n",
      "                            Sausage slices       0.77      0.79      0.78       163\n",
      "                                   Cabbage       0.79      0.74      0.77       330\n",
      "                     chiffonade of cabbage       0.70      0.26      0.37        90\n",
      "                                 Spareribs       0.81      0.55      0.65       848\n",
      "                                     Clams       0.97      0.65      0.78       176\n",
      "                            Lilium brownii       0.33      0.05      0.09        40\n",
      "                      Fermented vegetables       0.78      0.64      0.70       300\n",
      "                     Double-side fried egg       0.90      0.65      0.75       454\n",
      "              Sliced double-side fried egg       0.56      0.36      0.43        14\n",
      "                             Radish slices       1.00      0.03      0.06        31\n",
      "                          Batonnet radish        0.00      0.00      0.00         3\n",
      "                      Hob blocks of radish       0.00      0.00      0.00        13\n",
      "                          Julienned radish       0.00      0.00      0.00         2\n",
      "                     Mashed pickled radish       0.00      0.00      0.00        17\n",
      "                     Pickled radish slices       0.00      0.00      0.00         8\n",
      "                                 flatbread       0.00      0.00      0.00        57\n",
      "                              Spring rolls       0.85      0.79      0.82       172\n",
      "                            Chicken chunks       0.66      0.61      0.63       966\n",
      "                    Brunoise diced chicken       0.72      0.69      0.70       503\n",
      "                       Tentacles of Squid        0.67      0.60      0.63       243\n",
      "                              Squid pieces       1.00      0.04      0.08        25\n",
      "                               Squid rings       0.00      0.00      0.00        14\n",
      "                        White gourd chunks       0.74      0.76      0.75       205\n",
      "                 Dried pieces of bean curd       0.56      0.35      0.43       237\n",
      "                            Yellow peaches       0.86      0.24      0.38        25\n",
      "                                 Pineapple       0.95      0.73      0.83       230\n",
      "                                  Eggplant       0.94      0.52      0.67       194\n",
      "                            Eggplant slice       0.00      0.00      0.00        26\n",
      "                         Batonnet eggplant       0.00      0.00      0.00        19\n",
      "                    Hob blocks of eggplant       0.72      0.65      0.69       454\n",
      "                           Eggplant sticks       0.78      0.32      0.45       109\n",
      "                              Water mellon       0.00      0.00      0.00         2\n",
      "                                    Gluten       0.96      0.71      0.82       119\n",
      "                             Gluten chunks       0.41      0.09      0.15        74\n",
      "                                 Dumplings       0.92      0.61      0.73       233\n",
      "                         Fried bread stick       0.96      0.78      0.86       209\n",
      "                 Chopped fried bread stick       0.00      0.00      0.00         3\n",
      "                       Hot pickled mustard       0.59      0.40      0.48       138\n",
      "                             Sesame sauce        0.25      0.03      0.05        33\n",
      "                          Soya-bean sprout       0.27      0.08      0.12        38\n",
      "                       Shredded beef tripe       0.60      0.27      0.37       157\n",
      "                             Water spinach       0.90      0.56      0.69       253\n",
      "            Shredded pickled Bamboo Shoots       0.41      0.34      0.38        99\n",
      "                     barbecued pork slices       0.67      0.80      0.73       164\n",
      "                     barbecued pork chunks       0.00      0.00      0.00         4\n",
      "                              Chicken Feet       0.82      0.75      0.78       304\n",
      "                 Cold steamed rice noodles       0.78      0.70      0.74       185\n",
      "                             Mutton slices       0.68      0.36      0.48       250\n",
      "                             Mutton chunks       0.48      0.18      0.26       110\n",
      "       Crushed Small loaf of steamed bread       0.72      0.55      0.62       102\n",
      "               Small loaf of steamed bread       0.96      0.85      0.90       258\n",
      "                              Starch sheet       0.60      0.11      0.19        27\n",
      "                                      Yuba       0.70      0.67      0.68       211\n",
      "                               Okra slices       0.59      0.52      0.55       108\n",
      "                                  Chestnut       0.19      0.28      0.23        25\n",
      "                     Preserved egg chunks        0.86      0.66      0.74       397\n",
      "                     Crushed preserved egg       0.97      0.75      0.85       248\n",
      "                       Whole preserved egg       0.75      0.19      0.30        16\n",
      "                                     Laver       0.85      0.86      0.85       149\n",
      "                         Fried dough twist       0.00      0.00      0.00         5\n",
      "                                    Longan       0.00      0.00      0.00        12\n",
      "                               Stewed Pork       0.91      0.65      0.76       111\n",
      "                                     Beans       0.74      0.75      0.75       423\n",
      "                              Minced beans       0.00      0.00      0.00         4\n",
      "                      Minced pickled beans       0.85      0.55      0.66       218\n",
      "               Sweet fermented flour paste       0.50      0.16      0.24        57\n",
      "                               River snail       0.93      0.76      0.84       199\n",
      "                                   Spinach       0.61      0.21      0.31        80\n",
      "                                 Sea sedge       0.96      0.83      0.89       285\n",
      "                                   Bracken       0.40      0.12      0.18        51\n",
      "                          Coprinus comatus       0.00      0.00      0.00         4\n",
      "                               Lime leaves       0.00      0.00      0.00        32\n",
      "                                lemongrass       0.33      0.08      0.12        13\n",
      "                                      Lime       0.00      0.00      0.00         2\n",
      "                             Chicken Wings       0.79      0.47      0.59       461\n",
      "                                 Snow peas       0.79      0.75      0.77       169\n",
      "                         Pickled vegetable       0.50      0.06      0.11        31\n",
      "                                Salted egg       0.00      0.00      0.00         9\n",
      "                                     Curry       0.65      0.44      0.52       243\n",
      "                       Black pepper powder       0.22      0.33      0.27         6\n",
      "                               Fried flour       0.79      0.60      0.68       986\n",
      "                       Whole black chicken       0.19      0.08      0.12        36\n",
      "                      Black chicken chunks       0.78      0.80      0.79       199\n",
      "                       Celery stalk slices       0.84      0.74      0.78       187\n",
      "                              Celery stalk       0.00      0.00      0.00        20\n",
      "                             Celery leaves       0.50      0.11      0.17        19\n",
      "                                    Celery       0.50      0.22      0.31       370\n",
      "                     Brunoise diced celery       0.62      0.29      0.40        17\n",
      "                             Banana slices       0.33      0.50      0.40         4\n",
      "                              Apple chunks       0.00      0.00      0.00         1\n",
      "                                    Loofah       0.85      0.51      0.64       138\n",
      "                               Fish slices       0.77      0.76      0.77       574\n",
      "                               fish chunks       0.62      0.22      0.33        68\n",
      "                                      Fish       0.91      0.65      0.76       751\n",
      "                           zucchini slices       0.47      0.22      0.29        65\n",
      "                     Boiled chicken slices       0.71      0.82      0.76       525\n",
      "                      Whole boiled chicken       0.57      0.57      0.57         7\n",
      "                         Tenderloin slices       0.77      0.67      0.71       300\n",
      "                         Tenderloin chunks       0.33      0.18      0.24        60\n",
      "                       Batonnet tenderloin       0.74      0.49      0.59       354\n",
      "                              White congee       0.97      0.80      0.87       243\n",
      "                                 Spaghetti       0.88      0.67      0.76       184\n",
      "                                     Steak       0.83      0.65      0.73       283\n",
      "                              Cumin powder       0.25      0.31      0.28       102\n",
      "                               Beef tripes       0.00      0.00      0.00         4\n",
      "                                 Pine nuts       0.84      0.97      0.90       205\n",
      "                                   Gemelli       0.57      0.25      0.35        32\n",
      "                        Korean chili sauce       0.56      0.23      0.32        40\n",
      "                               kidney bean       0.00      0.00      0.00         7\n",
      "                        Zanthoxylum fagara       0.54      0.28      0.37       429\n",
      "                               Rice noodle       0.52      0.50      0.51       109\n",
      "                           Fried yuba skin       0.57      0.56      0.57       107\n",
      "                            Salad dressing       0.89      0.44      0.59       146\n",
      "                                 Soya bean       0.00      0.00      0.00        56\n",
      "                         Fern root noodles       0.95      0.67      0.78       156\n",
      "                                   ketchup       0.20      0.03      0.05        73\n",
      "                                 Mint leaf       0.55      0.04      0.08       147\n",
      "                                 Soy sauce       0.00      0.00      0.00        34\n",
      "                      Baby Chinese Cabbage       0.89      0.74      0.81       130\n",
      "                                     Water       0.88      0.73      0.80      2078\n",
      "                               Lotus seeds       0.70      0.29      0.41        73\n",
      "                               Azuki bean        0.00      0.00      0.00        12\n",
      "                             Green soybean       0.50      0.03      0.06        68\n",
      "                                   Parsley       0.49      0.12      0.19      1230\n",
      "                                 Duck neck       0.76      0.68      0.71       124\n",
      "                    Thick broad-bean sauce       0.00      0.00      0.00         2\n",
      "                            Enoki mushroom       0.24      0.04      0.07        99\n",
      "                             Crystal sugar       0.84      0.76      0.80       103\n",
      "                                    Cashew       0.32      0.18      0.23        77\n",
      "                               Steamed Bun       0.98      0.86      0.92       287\n",
      "                                Sour sauce       0.00      0.00      0.00        67\n",
      "                                  Pork leg       0.66      0.62      0.64       298\n",
      "                                   Bayleaf       0.00      0.00      0.00         7\n",
      "                                    shumai       0.65      0.92      0.76       256\n",
      "                                  Crap roe       0.78      0.50      0.61        56\n",
      "                               Shrimp eggs       0.00      0.00      0.00         5\n",
      "                           Button mushroom       0.52      0.26      0.35        54\n",
      "                             Coconut water       0.54      0.21      0.30        91\n",
      "                            Glutinous rice       0.68      0.64      0.66        94\n",
      "               Sweet potato starch noodles       0.75      0.53      0.63       427\n",
      "                                Vermicelli       0.91      0.63      0.74       685\n",
      "                      Fermented soya beans       0.57      0.03      0.07       115\n",
      "                             Rice dumpling       0.73      0.93      0.82       152\n",
      "                      Sweetened bean paste       0.00      0.00      0.00         4\n",
      "                           Sweet dumplings       0.98      0.89      0.93       148\n",
      "                          Rice noodle roll       0.99      0.70      0.82       137\n",
      "                                       Pea       0.56      0.48      0.52       350\n",
      "                                Pork floss       0.59      0.11      0.18        94\n",
      "                          Scallion pancake       0.76      0.62      0.68       187\n",
      "                                Black rice       0.71      0.26      0.38        19\n",
      "                         Small crispy rice       0.31      0.39      0.35        23\n",
      "                              Coconut cake       0.92      0.77      0.84        60\n",
      "                 Shredded coconut stuffing       0.00      0.00      0.00         9\n",
      "                                   Mussels       0.00      0.00      0.00         2\n",
      "                                Pork lungs       0.90      0.51      0.65       176\n",
      "                            Crispy sausage       0.00      0.00      0.00         9\n",
      "                       Codonopsis pilosula       0.00      0.00      0.00        33\n",
      "                           Radix Astragali       0.00      0.00      0.00         9\n",
      "                          American genseng       0.00      0.00      0.00         8\n",
      "                        Cordyceps sinensis       1.00      0.50      0.67         2\n",
      "                                   Aniseed       0.32      0.11      0.16        76\n",
      "                                    Raisin       0.50      0.12      0.20         8\n",
      "                              Suckling pig       0.87      0.82      0.85       114\n",
      "                      Steamed twisted roll       0.93      0.86      0.89       159\n",
      "                                     Grape       0.00      0.00      0.00         4\n",
      "                                Pork paste       0.92      0.73      0.81       140\n",
      "                                    Cheese       0.38      0.10      0.16        29\n",
      "                                    Wonton       0.82      0.84      0.83       168\n",
      "                                 Duck head       1.00      0.65      0.79       147\n",
      "                              Chinese Kale       0.92      0.58      0.71       286\n",
      "                              Chicken legs       0.42      0.56      0.48       228\n",
      "                             Whole chicken       0.75      0.43      0.55       157\n",
      "                          Shredded chicken       0.58      0.40      0.47       267\n",
      "                      Sweet and sour sauce       0.86      0.42      0.57       707\n",
      "                                 Fish head       0.90      0.79      0.84       305\n",
      "                       Steamed Rice Powder       0.83      0.72      0.77       238\n",
      "                                   Scallop       0.91      0.88      0.89       256\n",
      "                                  Macaroni       0.00      0.00      0.00         5\n",
      "                                Ribbonfish       0.83      0.42      0.55       262\n",
      "                                Tea-leaves       1.00      0.07      0.12        15\n",
      "                                    Millet       0.92      0.83      0.87       162\n",
      "                      Preserved vegetables       0.91      0.73      0.81       300\n",
      "                                  CoixSeed       0.86      0.18      0.29        34\n",
      "                               Green beans       0.93      0.67      0.77       224\n",
      "                              White fungus       0.84      0.79      0.81       175\n",
      "                                   Crucian       0.92      0.74      0.82       175\n",
      "                                   Vinegar       0.00      0.00      0.00        19\n",
      "                                  Pancakes       0.68      0.65      0.67        92\n",
      "                                Crispbread       0.75      0.11      0.19        28\n",
      "                              Mango chunks       0.51      0.91      0.66        97\n",
      "                                      Crab       0.97      0.83      0.89       219\n",
      "                            Soya-bean milk       0.00      0.00      0.00        13\n",
      "                   Fermented soybean paste       0.17      0.02      0.04        48\n",
      "                              Oyster sauce       0.87      0.57      0.69       191\n",
      "                         Spare ribs chunks       0.79      0.75      0.77       214\n",
      "                           Green soy beans       0.97      0.80      0.88       143\n",
      "                                    Cherry       0.00      0.00      0.00        25\n",
      "                         Shredded pig ears       1.00      0.50      0.67         2\n",
      "\n",
      "                                 micro avg       0.75      0.47      0.58     99692\n",
      "                                 macro avg       0.55      0.36      0.41     99692\n",
      "                              weighted avg       0.72      0.47      0.55     99692\n",
      "                               samples avg       0.66      0.50      0.54     99692\n",
      "\n"
     ]
    },
    {
     "name": "stderr",
     "output_type": "stream",
     "text": [
      "/opt/conda/lib/python3.7/site-packages/sklearn/metrics/_classification.py:1245: UndefinedMetricWarning: Precision and F-score are ill-defined and being set to 0.0 in labels with no predicted samples. Use `zero_division` parameter to control this behavior.\n",
      "  _warn_prf(average, modifier, msg_start, len(result))\n",
      "/opt/conda/lib/python3.7/site-packages/sklearn/metrics/_classification.py:1245: UndefinedMetricWarning: Precision and F-score are ill-defined and being set to 0.0 in samples with no predicted labels. Use `zero_division` parameter to control this behavior.\n",
      "  _warn_prf(average, modifier, msg_start, len(result))\n"
     ]
    }
   ],
   "source": [
    "# Evaluation: Compute several statistics such as accuracy, precision, F1-score, and produce a classification report\n",
    "    \n",
    "print('\\nAccuracy: {:.2f}\\n'.format(accuracy_score(y_test, y_pred)))\n",
    "\n",
    "print('Micro Precision: {:.2f}'.format(precision_score(y_test, y_pred, average='micro')))\n",
    "print('Micro Recall: {:.2f}'.format(recall_score(y_test, y_pred, average='micro')))\n",
    "print('Micro F1-score: {:.2f}\\n'.format(f1_score(y_test, y_pred, average='micro')))\n",
    "\n",
    "print('Macro Precision: {:.2f}'.format(precision_score(y_test, y_pred, average='macro')))\n",
    "print('Macro Recall: {:.2f}'.format(recall_score(y_test, y_pred, average='macro')))\n",
    "print('Macro F1-score: {:.2f}\\n'.format(f1_score(y_test, y_pred, average='macro')))\n",
    "\n",
    "print('Weighted Precision: {:.2f}'.format(precision_score(y_test, y_pred, average='weighted')))\n",
    "print('Weighted Recall: {:.2f}'.format(recall_score(y_test, y_pred, average='weighted')))\n",
    "print('Weighted F1-score: {:.2f}'.format(f1_score(y_test, y_pred, average='weighted')))\n",
    "\n",
    "from sklearn.metrics import classification_report\n",
    "print('\\nClassification Report\\n')\n",
    "print(classification_report(y_test, y_pred, target_names=IngreList))"
   ]
  },
  {
   "cell_type": "markdown",
   "metadata": {},
   "source": [
    "## Precision-Recall Curves (to investigate the effect of different thresholds)"
   ]
  },
  {
   "cell_type": "markdown",
   "metadata": {},
   "source": [
    "Note: this code was modified from https://scikit-learn.org/stable/auto_examples/model_selection/plot_precision_recall.html"
   ]
  },
  {
   "cell_type": "code",
   "execution_count": 27,
   "metadata": {},
   "outputs": [
    {
     "name": "stdout",
     "output_type": "stream",
     "text": [
      "Average precision score, micro-averaged over all classes: 0.64\n"
     ]
    }
   ],
   "source": [
    "from sklearn.metrics import precision_recall_curve\n",
    "from sklearn.metrics import average_precision_score\n",
    "\n",
    "# For each class\n",
    "precision = dict()\n",
    "recall = dict()\n",
    "average_precision = dict()\n",
    "n_classes = 353\n",
    "thresholds = dict()\n",
    "for i in range(n_classes):\n",
    "    precision[i], recall[i], thresholds[i] = precision_recall_curve(y_test[:, i],\n",
    "                                                        y_score[:, i])\n",
    "    average_precision[i] = average_precision_score(y_test[:, i], y_score[:, i])\n",
    "\n",
    "# A \"micro-average\": quantifying score on all classes jointly\n",
    "precision[\"micro\"], recall[\"micro\"], _ = precision_recall_curve(y_test.ravel(),\n",
    "    y_score.ravel())\n",
    "average_precision[\"micro\"] = average_precision_score(y_test, y_score,\n",
    "                                                     average=\"micro\")\n",
    "print('Average precision score, micro-averaged over all classes: {0:0.2f}'\n",
    "      .format(average_precision[\"micro\"]))"
   ]
  },
  {
   "cell_type": "code",
   "execution_count": 28,
   "metadata": {},
   "outputs": [
    {
     "data": {
      "text/plain": [
       "Text(0.5, 1.0, 'Average precision score, micro-averaged over all classes: AP=0.64')"
      ]
     },
     "execution_count": 28,
     "metadata": {},
     "output_type": "execute_result"
    },
    {
     "data": {
      "image/png": "[encoded data removed]",
      "text/plain": [
       "<Figure size 432x288 with 1 Axes>"
      ]
     },
     "metadata": {
      "needs_background": "light"
     },
     "output_type": "display_data"
    }
   ],
   "source": [
    "plt.figure()\n",
    "plt.step(recall['micro'], precision['micro'], where='post')\n",
    "\n",
    "plt.xlabel('Recall')\n",
    "plt.ylabel('Precision')\n",
    "plt.ylim([0.0, 1.05])\n",
    "plt.xlim([0.0, 1.0])\n",
    "plt.title(\n",
    "    'Average precision score, micro-averaged over all classes: AP={0:0.2f}'\n",
    "    .format(average_precision[\"micro\"]))"
   ]
  },
  {
   "cell_type": "code",
   "execution_count": 29,
   "metadata": {},
   "outputs": [
    {
     "data": {
      "image/png": "[encoded data removed]",
      "text/plain": [
       "<Figure size 720x792 with 1 Axes>"
      ]
     },
     "metadata": {
      "needs_background": "light"
     },
     "output_type": "display_data"
    }
   ],
   "source": [
    "from itertools import cycle\n",
    "# setup plot details\n",
    "num_classes = 5\n",
    "colors = cycle(['navy', 'turquoise', 'darkorange', 'cornflowerblue', 'teal'])\n",
    "\n",
    "plt.figure(figsize=(10, 11))\n",
    "f_scores = np.linspace(0.2, 0.8, num=4)\n",
    "lines = []\n",
    "labels = []\n",
    "for f_score in f_scores:\n",
    "    x = np.linspace(0.01, 1)\n",
    "    y = f_score * x / (2 * x - f_score)\n",
    "    l, = plt.plot(x[y >= 0], y[y >= 0], color='gray', alpha=0.2)\n",
    "    plt.annotate('f1={0:0.1f}'.format(f_score), xy=(0.9, y[45] + 0.02))\n",
    "\n",
    "lines.append(l)\n",
    "labels.append('iso-f1 curves')\n",
    "l, = plt.plot(recall[\"micro\"], precision[\"micro\"], color='gold', lw=2)\n",
    "lines.append(l)\n",
    "labels.append('micro-average Precision-recall (area = {0:0.2f})'\n",
    "              ''.format(average_precision[\"micro\"]))\n",
    "\n",
    "for i, color in zip(range(num_classes), colors):\n",
    "    l, = plt.plot(recall[i], precision[i], color=color, lw=2)\n",
    "    lines.append(l)\n",
    "    labels.append('Precision-recall for class: {0} (area = {1:0.2f})'\n",
    "                  ''.format(IngreList[i], average_precision[i]))\n",
    "\n",
    "fig = plt.gcf()\n",
    "fig.subplots_adjust(bottom=0.25)\n",
    "plt.xlim([0.0, 1.0])\n",
    "plt.ylim([0.0, 1.05])\n",
    "plt.xlabel('Recall')\n",
    "plt.ylabel('Precision')\n",
    "plt.title('Precision-Recall curves for Individual Ingredients')\n",
    "plt.legend(lines, labels, loc=(0, -.38), prop=dict(size=14))\n",
    "\n",
    "\n",
    "plt.show()"
   ]
  },
  {
   "cell_type": "markdown",
   "metadata": {},
   "source": [
    "## Investigate one of the ingredients with 0 Precision and Recall (e.g.:julienned ham)"
   ]
  },
  {
   "cell_type": "code",
   "execution_count": 32,
   "metadata": {},
   "outputs": [
    {
     "name": "stdout",
     "output_type": "stream",
     "text": [
      "Number of testing examples with julienned ham as an ingredient: 10\n",
      "Number of testing examples where the model predicted julienned ham as an ingredient: 0\n"
     ]
    }
   ],
   "source": [
    "ham_index = 5\n",
    "ham_pred, ham_test = 0, 0\n",
    "for (y_test_i, y_pred_i) in zip(y_test, y_pred):\n",
    "    if y_test_i[ham_index] == 1:\n",
    "        ham_test += 1\n",
    "    if y_pred_i[ham_index] == 1:\n",
    "        ham_pred += 1\n",
    "print(\"Number of testing examples with julienned ham as an ingredient: {}\".format(ham_test))\n",
    "print(\"Number of testing examples where the model predicted julienned ham as an ingredient: {}\".format(ham_pred))"
   ]
  },
  {
   "cell_type": "code",
   "execution_count": null,
   "metadata": {},
   "outputs": [],
   "source": []
  }
 ],
 "metadata": {
  "kernelspec": {
   "display_name": "Python 3",
   "language": "python",
   "name": "python3"
  },
  "language_info": {
   "codemirror_mode": {
    "name": "ipython",
    "version": 3
   },
   "file_extension": ".py",
   "mimetype": "text/x-python",
   "name": "python",
   "nbconvert_exporter": "python",
   "pygments_lexer": "ipython3",
   "version": "3.7.10"
  }
 },
 "nbformat": 4,
 "nbformat_minor": 2
}
